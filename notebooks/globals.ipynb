{
 "cells": [
  {
   "cell_type": "code",
   "execution_count": 1,
   "metadata": {},
   "outputs": [
    {
     "data": {
      "text/html": [
       "        <script type=\"text/javascript\">\n",
       "        window.PlotlyConfig = {MathJaxConfig: 'local'};\n",
       "        if (window.MathJax) {MathJax.Hub.Config({SVG: {font: \"STIX-Web\"}});}\n",
       "        if (typeof require !== 'undefined') {\n",
       "        require.undef(\"plotly\");\n",
       "        requirejs.config({\n",
       "            paths: {\n",
       "                'plotly': ['https://cdn.plot.ly/plotly-latest.min']\n",
       "            }\n",
       "        });\n",
       "        require(['plotly'], function(Plotly) {\n",
       "            window._Plotly = Plotly;\n",
       "        });\n",
       "        }\n",
       "        </script>\n",
       "        "
      ]
     },
     "metadata": {},
     "output_type": "display_data"
    }
   ],
   "source": [
    "import requests\n",
    "from pandas.io.json import json_normalize\n",
    "import dash\n",
    "import dash_table\n",
    "import dash_core_components as dcc\n",
    "import dash_html_components as html\n",
    "import pandas as pd\n",
    "import numpy as np\n",
    "import seaborn as sns\n",
    "import matplotlib.pyplot as plt\n",
    "import plotly.graph_objects as go\n",
    "from dash.dependencies import Input, Output\n",
    "from plotly.subplots import make_subplots\n",
    "from plotly.offline import download_plotlyjs, init_notebook_mode, plot, iplot\n",
    "import plotly as py\n",
    "import plotly.graph_objs as go\n",
    "init_notebook_mode(connected=True)"
   ]
  },
  {
   "cell_type": "code",
   "execution_count": 2,
   "metadata": {},
   "outputs": [],
   "source": [
    "#----------- Table styling ------------------\n",
    "style_cell = {\n",
    "    'fontFamily': 'Open Sans',\n",
    "    'textAlign': 'center',\n",
    "    'height': '30px',\n",
    "    'padding': '10px 22px',\n",
    "    'whiteSpace': 'inherit',\n",
    "    'overflow': 'hidden',\n",
    "                'textOverflow': 'ellipsis',\n",
    "}\n",
    "style_cell_conditional = [\n",
    "    {\n",
    "        'if': {'column_id': 'State'},\n",
    "        'textAlign': 'left'\n",
    "    },\n",
    "]\n",
    "style_header = {\n",
    "    'fontWeight': 'bold',\n",
    "    'backgroundColor': \"#3D9970\",\n",
    "    'fontSize': '16px'\n",
    "}\n",
    "style_data_conditional = [\n",
    "    {\n",
    "        'if': {'row_index': 'odd'},\n",
    "        'backgroundColor': 'rgb(248, 248, 248)'\n",
    "    }]\n",
    "style_table = {\n",
    "    'maxHeight': '70ex',\n",
    "    'overflowY': 'scroll',\n",
    "    'width': '100%',\n",
    "    'minWidth': '100%',\n",
    "}"
   ]
  },
  {
   "cell_type": "code",
   "execution_count": 3,
   "metadata": {},
   "outputs": [],
   "source": [
    "#---------------- Load datasets -----------\n",
    "df = pd.read_csv('./../data/external/global_data.csv')\n",
    "df1 = pd.read_csv('./../data/external/SA_last20days.csv')\n",
    "df2 = pd.read_csv('./../data/external/SA_from_day1.csv')\n",
    "df4 = pd.read_csv('./../data/external/SA_3_daily_update.csv')\n",
    "df5 = pd.read_csv('./../data/external/Covid_data.csv')\n",
    "df6 = pd.read_csv('./../data/external/covid.csv',delimiter=',')\n",
    "df3 = pd.read_csv('./../data/external/Sa_live.csv')\n",
    "df_day =pd.read_csv('./../data/external/provincial_cumulative.csv')\n",
    "# Commulative death per province \n",
    "df_death = pd.read_csv('./../data/external/provincial_death.csv')"
   ]
  },
  {
   "cell_type": "code",
   "execution_count": 4,
   "metadata": {
    "scrolled": true
   },
   "outputs": [
    {
     "data": {
      "text/html": [
       "<div>\n",
       "<style scoped>\n",
       "    .dataframe tbody tr th:only-of-type {\n",
       "        vertical-align: middle;\n",
       "    }\n",
       "\n",
       "    .dataframe tbody tr th {\n",
       "        vertical-align: top;\n",
       "    }\n",
       "\n",
       "    .dataframe thead th {\n",
       "        text-align: right;\n",
       "    }\n",
       "</style>\n",
       "<table border=\"1\" class=\"dataframe\">\n",
       "  <thead>\n",
       "    <tr style=\"text-align: right;\">\n",
       "      <th></th>\n",
       "      <th>Unnamed: 0</th>\n",
       "      <th>Country</th>\n",
       "      <th>CountryCode</th>\n",
       "      <th>Slug</th>\n",
       "      <th>NewConfirmed</th>\n",
       "      <th>TotalConfirmed</th>\n",
       "      <th>NewDeaths</th>\n",
       "      <th>TotalDeaths</th>\n",
       "      <th>NewRecovered</th>\n",
       "      <th>TotalRecovered</th>\n",
       "      <th>Date</th>\n",
       "    </tr>\n",
       "  </thead>\n",
       "  <tbody>\n",
       "    <tr>\n",
       "      <th>0</th>\n",
       "      <td>0</td>\n",
       "      <td>Afghanistan</td>\n",
       "      <td>AF</td>\n",
       "      <td>afghanistan</td>\n",
       "      <td>581</td>\n",
       "      <td>7653</td>\n",
       "      <td>5</td>\n",
       "      <td>178</td>\n",
       "      <td>49</td>\n",
       "      <td>850</td>\n",
       "      <td>2020-05-20T11:05:03Z</td>\n",
       "    </tr>\n",
       "    <tr>\n",
       "      <th>1</th>\n",
       "      <td>1</td>\n",
       "      <td>Albania</td>\n",
       "      <td>AL</td>\n",
       "      <td>albania</td>\n",
       "      <td>1</td>\n",
       "      <td>949</td>\n",
       "      <td>0</td>\n",
       "      <td>31</td>\n",
       "      <td>15</td>\n",
       "      <td>742</td>\n",
       "      <td>2020-05-20T11:05:03Z</td>\n",
       "    </tr>\n",
       "    <tr>\n",
       "      <th>2</th>\n",
       "      <td>2</td>\n",
       "      <td>Algeria</td>\n",
       "      <td>DZ</td>\n",
       "      <td>algeria</td>\n",
       "      <td>176</td>\n",
       "      <td>7377</td>\n",
       "      <td>6</td>\n",
       "      <td>561</td>\n",
       "      <td>121</td>\n",
       "      <td>3746</td>\n",
       "      <td>2020-05-20T11:05:03Z</td>\n",
       "    </tr>\n",
       "    <tr>\n",
       "      <th>3</th>\n",
       "      <td>3</td>\n",
       "      <td>Andorra</td>\n",
       "      <td>AD</td>\n",
       "      <td>andorra</td>\n",
       "      <td>0</td>\n",
       "      <td>761</td>\n",
       "      <td>0</td>\n",
       "      <td>51</td>\n",
       "      <td>4</td>\n",
       "      <td>628</td>\n",
       "      <td>2020-05-20T11:05:03Z</td>\n",
       "    </tr>\n",
       "    <tr>\n",
       "      <th>4</th>\n",
       "      <td>4</td>\n",
       "      <td>Angola</td>\n",
       "      <td>AO</td>\n",
       "      <td>angola</td>\n",
       "      <td>2</td>\n",
       "      <td>52</td>\n",
       "      <td>0</td>\n",
       "      <td>3</td>\n",
       "      <td>0</td>\n",
       "      <td>17</td>\n",
       "      <td>2020-05-20T11:05:03Z</td>\n",
       "    </tr>\n",
       "  </tbody>\n",
       "</table>\n",
       "</div>"
      ],
      "text/plain": [
       "   Unnamed: 0      Country CountryCode         Slug  NewConfirmed  \\\n",
       "0           0  Afghanistan          AF  afghanistan           581   \n",
       "1           1      Albania          AL      albania             1   \n",
       "2           2      Algeria          DZ      algeria           176   \n",
       "3           3      Andorra          AD      andorra             0   \n",
       "4           4       Angola          AO       angola             2   \n",
       "\n",
       "   TotalConfirmed  NewDeaths  TotalDeaths  NewRecovered  TotalRecovered  \\\n",
       "0            7653          5          178            49             850   \n",
       "1             949          0           31            15             742   \n",
       "2            7377          6          561           121            3746   \n",
       "3             761          0           51             4             628   \n",
       "4              52          0            3             0              17   \n",
       "\n",
       "                   Date  \n",
       "0  2020-05-20T11:05:03Z  \n",
       "1  2020-05-20T11:05:03Z  \n",
       "2  2020-05-20T11:05:03Z  \n",
       "3  2020-05-20T11:05:03Z  \n",
       "4  2020-05-20T11:05:03Z  "
      ]
     },
     "execution_count": 4,
     "metadata": {},
     "output_type": "execute_result"
    }
   ],
   "source": [
    "df.head()"
   ]
  },
  {
   "cell_type": "code",
   "execution_count": 5,
   "metadata": {},
   "outputs": [],
   "source": [
    "#Summing per column\n",
    "tot_cases = df.TotalConfirmed.sum()\n",
    "nw_cases = df.NewConfirmed.sum()\n",
    "tot_deaths = df.TotalDeaths.sum()\n",
    "new_deaths = df.NewDeaths.sum()\n",
    "tot_recover = df.TotalRecovered.sum()\n",
    "new_recover = df.NewRecovered.sum()\n",
    "diff = tot_cases - nw_cases\n",
    "diff2 = tot_recover - new_recover\n",
    "diff3 = tot_deaths - new_deaths \n",
    "\n",
    "#Separating columns\n",
    "\n",
    "#Corona  cases: Total and New\n",
    "df_tot_cases = df.loc[:,['Country','TotalConfirmed']].sort_values(by='TotalConfirmed', ascending=False)\n",
    "df_new_cases = df.loc[:,['Country','NewConfirmed']]\n",
    "\n",
    "#Death Cases: Total and New \n",
    "df_tot_death = df.loc[:,['Country','TotalDeaths']]\n",
    "df_new_death = df.loc[:,['Country','NewDeaths']]\n",
    "\n",
    "#Recovery cases: Total and new\n",
    "df_tot_recover = df.loc[:,['Country','TotalRecovered']]\n",
    "df_new_recover = df.loc[:,['Country','NewRecovered']]\n",
    "                      \n",
    "#Sorting cases by total                     \n",
    "df_cases = df_tot_cases.merge(df_new_cases, on='Country').sort_values(by=['TotalConfirmed'],\n",
    "                                                                      ascending=False)\n",
    "df_death = df_tot_death.merge(df_new_death, on='Country').sort_values(by=['TotalDeaths'],\n",
    "                                                                      ascending=False)\n",
    "df_recover = df_tot_recover.merge(df_new_recover, on='Country').sort_values(by=['TotalRecovered'], \n",
    "                                                                            ascending=False)\n"
   ]
  },
  {
   "cell_type": "code",
   "execution_count": 6,
   "metadata": {},
   "outputs": [],
   "source": [
    "# a = df.TotalConfirmed.sum()-df.NewConfirmed.sum()"
   ]
  },
  {
   "cell_type": "code",
   "execution_count": 7,
   "metadata": {},
   "outputs": [
    {
     "data": {
      "application/vnd.plotly.v1+json": {
       "config": {
        "plotlyServerURL": "https://plot.ly"
       },
       "data": [
        {
         "delta": {
          "reference": 4880631
         },
         "domain": {
          "column": 0,
          "row": 0
         },
         "gauge": {
          "axis": {
           "visible": false
          }
         },
         "type": "indicator",
         "value": 4977471
        }
       ],
       "layout": {
        "template": {
         "data": {
          "bar": [
           {
            "error_x": {
             "color": "#2a3f5f"
            },
            "error_y": {
             "color": "#2a3f5f"
            },
            "marker": {
             "line": {
              "color": "#E5ECF6",
              "width": 0.5
             }
            },
            "type": "bar"
           }
          ],
          "barpolar": [
           {
            "marker": {
             "line": {
              "color": "#E5ECF6",
              "width": 0.5
             }
            },
            "type": "barpolar"
           }
          ],
          "carpet": [
           {
            "aaxis": {
             "endlinecolor": "#2a3f5f",
             "gridcolor": "white",
             "linecolor": "white",
             "minorgridcolor": "white",
             "startlinecolor": "#2a3f5f"
            },
            "baxis": {
             "endlinecolor": "#2a3f5f",
             "gridcolor": "white",
             "linecolor": "white",
             "minorgridcolor": "white",
             "startlinecolor": "#2a3f5f"
            },
            "type": "carpet"
           }
          ],
          "choropleth": [
           {
            "colorbar": {
             "outlinewidth": 0,
             "ticks": ""
            },
            "type": "choropleth"
           }
          ],
          "contour": [
           {
            "colorbar": {
             "outlinewidth": 0,
             "ticks": ""
            },
            "colorscale": [
             [
              0,
              "#0d0887"
             ],
             [
              0.1111111111111111,
              "#46039f"
             ],
             [
              0.2222222222222222,
              "#7201a8"
             ],
             [
              0.3333333333333333,
              "#9c179e"
             ],
             [
              0.4444444444444444,
              "#bd3786"
             ],
             [
              0.5555555555555556,
              "#d8576b"
             ],
             [
              0.6666666666666666,
              "#ed7953"
             ],
             [
              0.7777777777777778,
              "#fb9f3a"
             ],
             [
              0.8888888888888888,
              "#fdca26"
             ],
             [
              1,
              "#f0f921"
             ]
            ],
            "type": "contour"
           }
          ],
          "contourcarpet": [
           {
            "colorbar": {
             "outlinewidth": 0,
             "ticks": ""
            },
            "type": "contourcarpet"
           }
          ],
          "heatmap": [
           {
            "colorbar": {
             "outlinewidth": 0,
             "ticks": ""
            },
            "colorscale": [
             [
              0,
              "#0d0887"
             ],
             [
              0.1111111111111111,
              "#46039f"
             ],
             [
              0.2222222222222222,
              "#7201a8"
             ],
             [
              0.3333333333333333,
              "#9c179e"
             ],
             [
              0.4444444444444444,
              "#bd3786"
             ],
             [
              0.5555555555555556,
              "#d8576b"
             ],
             [
              0.6666666666666666,
              "#ed7953"
             ],
             [
              0.7777777777777778,
              "#fb9f3a"
             ],
             [
              0.8888888888888888,
              "#fdca26"
             ],
             [
              1,
              "#f0f921"
             ]
            ],
            "type": "heatmap"
           }
          ],
          "heatmapgl": [
           {
            "colorbar": {
             "outlinewidth": 0,
             "ticks": ""
            },
            "colorscale": [
             [
              0,
              "#0d0887"
             ],
             [
              0.1111111111111111,
              "#46039f"
             ],
             [
              0.2222222222222222,
              "#7201a8"
             ],
             [
              0.3333333333333333,
              "#9c179e"
             ],
             [
              0.4444444444444444,
              "#bd3786"
             ],
             [
              0.5555555555555556,
              "#d8576b"
             ],
             [
              0.6666666666666666,
              "#ed7953"
             ],
             [
              0.7777777777777778,
              "#fb9f3a"
             ],
             [
              0.8888888888888888,
              "#fdca26"
             ],
             [
              1,
              "#f0f921"
             ]
            ],
            "type": "heatmapgl"
           }
          ],
          "histogram": [
           {
            "marker": {
             "colorbar": {
              "outlinewidth": 0,
              "ticks": ""
             }
            },
            "type": "histogram"
           }
          ],
          "histogram2d": [
           {
            "colorbar": {
             "outlinewidth": 0,
             "ticks": ""
            },
            "colorscale": [
             [
              0,
              "#0d0887"
             ],
             [
              0.1111111111111111,
              "#46039f"
             ],
             [
              0.2222222222222222,
              "#7201a8"
             ],
             [
              0.3333333333333333,
              "#9c179e"
             ],
             [
              0.4444444444444444,
              "#bd3786"
             ],
             [
              0.5555555555555556,
              "#d8576b"
             ],
             [
              0.6666666666666666,
              "#ed7953"
             ],
             [
              0.7777777777777778,
              "#fb9f3a"
             ],
             [
              0.8888888888888888,
              "#fdca26"
             ],
             [
              1,
              "#f0f921"
             ]
            ],
            "type": "histogram2d"
           }
          ],
          "histogram2dcontour": [
           {
            "colorbar": {
             "outlinewidth": 0,
             "ticks": ""
            },
            "colorscale": [
             [
              0,
              "#0d0887"
             ],
             [
              0.1111111111111111,
              "#46039f"
             ],
             [
              0.2222222222222222,
              "#7201a8"
             ],
             [
              0.3333333333333333,
              "#9c179e"
             ],
             [
              0.4444444444444444,
              "#bd3786"
             ],
             [
              0.5555555555555556,
              "#d8576b"
             ],
             [
              0.6666666666666666,
              "#ed7953"
             ],
             [
              0.7777777777777778,
              "#fb9f3a"
             ],
             [
              0.8888888888888888,
              "#fdca26"
             ],
             [
              1,
              "#f0f921"
             ]
            ],
            "type": "histogram2dcontour"
           }
          ],
          "indicator": [
           {
            "mode": "number+delta+gauge",
            "title": {
             "text": "Total Cases"
            },
            "type": "indicator"
           }
          ],
          "mesh3d": [
           {
            "colorbar": {
             "outlinewidth": 0,
             "ticks": ""
            },
            "type": "mesh3d"
           }
          ],
          "parcoords": [
           {
            "line": {
             "colorbar": {
              "outlinewidth": 0,
              "ticks": ""
             }
            },
            "type": "parcoords"
           }
          ],
          "pie": [
           {
            "automargin": true,
            "type": "pie"
           }
          ],
          "scatter": [
           {
            "marker": {
             "colorbar": {
              "outlinewidth": 0,
              "ticks": ""
             }
            },
            "type": "scatter"
           }
          ],
          "scatter3d": [
           {
            "line": {
             "colorbar": {
              "outlinewidth": 0,
              "ticks": ""
             }
            },
            "marker": {
             "colorbar": {
              "outlinewidth": 0,
              "ticks": ""
             }
            },
            "type": "scatter3d"
           }
          ],
          "scattercarpet": [
           {
            "marker": {
             "colorbar": {
              "outlinewidth": 0,
              "ticks": ""
             }
            },
            "type": "scattercarpet"
           }
          ],
          "scattergeo": [
           {
            "marker": {
             "colorbar": {
              "outlinewidth": 0,
              "ticks": ""
             }
            },
            "type": "scattergeo"
           }
          ],
          "scattergl": [
           {
            "marker": {
             "colorbar": {
              "outlinewidth": 0,
              "ticks": ""
             }
            },
            "type": "scattergl"
           }
          ],
          "scattermapbox": [
           {
            "marker": {
             "colorbar": {
              "outlinewidth": 0,
              "ticks": ""
             }
            },
            "type": "scattermapbox"
           }
          ],
          "scatterpolar": [
           {
            "marker": {
             "colorbar": {
              "outlinewidth": 0,
              "ticks": ""
             }
            },
            "type": "scatterpolar"
           }
          ],
          "scatterpolargl": [
           {
            "marker": {
             "colorbar": {
              "outlinewidth": 0,
              "ticks": ""
             }
            },
            "type": "scatterpolargl"
           }
          ],
          "scatterternary": [
           {
            "marker": {
             "colorbar": {
              "outlinewidth": 0,
              "ticks": ""
             }
            },
            "type": "scatterternary"
           }
          ],
          "surface": [
           {
            "colorbar": {
             "outlinewidth": 0,
             "ticks": ""
            },
            "colorscale": [
             [
              0,
              "#0d0887"
             ],
             [
              0.1111111111111111,
              "#46039f"
             ],
             [
              0.2222222222222222,
              "#7201a8"
             ],
             [
              0.3333333333333333,
              "#9c179e"
             ],
             [
              0.4444444444444444,
              "#bd3786"
             ],
             [
              0.5555555555555556,
              "#d8576b"
             ],
             [
              0.6666666666666666,
              "#ed7953"
             ],
             [
              0.7777777777777778,
              "#fb9f3a"
             ],
             [
              0.8888888888888888,
              "#fdca26"
             ],
             [
              1,
              "#f0f921"
             ]
            ],
            "type": "surface"
           }
          ],
          "table": [
           {
            "cells": {
             "fill": {
              "color": "#EBF0F8"
             },
             "line": {
              "color": "white"
             }
            },
            "header": {
             "fill": {
              "color": "#C8D4E3"
             },
             "line": {
              "color": "white"
             }
            },
            "type": "table"
           }
          ]
         },
         "layout": {
          "annotationdefaults": {
           "arrowcolor": "#2a3f5f",
           "arrowhead": 0,
           "arrowwidth": 1
          },
          "coloraxis": {
           "colorbar": {
            "outlinewidth": 0,
            "ticks": ""
           }
          },
          "colorscale": {
           "diverging": [
            [
             0,
             "#8e0152"
            ],
            [
             0.1,
             "#c51b7d"
            ],
            [
             0.2,
             "#de77ae"
            ],
            [
             0.3,
             "#f1b6da"
            ],
            [
             0.4,
             "#fde0ef"
            ],
            [
             0.5,
             "#f7f7f7"
            ],
            [
             0.6,
             "#e6f5d0"
            ],
            [
             0.7,
             "#b8e186"
            ],
            [
             0.8,
             "#7fbc41"
            ],
            [
             0.9,
             "#4d9221"
            ],
            [
             1,
             "#276419"
            ]
           ],
           "sequential": [
            [
             0,
             "#0d0887"
            ],
            [
             0.1111111111111111,
             "#46039f"
            ],
            [
             0.2222222222222222,
             "#7201a8"
            ],
            [
             0.3333333333333333,
             "#9c179e"
            ],
            [
             0.4444444444444444,
             "#bd3786"
            ],
            [
             0.5555555555555556,
             "#d8576b"
            ],
            [
             0.6666666666666666,
             "#ed7953"
            ],
            [
             0.7777777777777778,
             "#fb9f3a"
            ],
            [
             0.8888888888888888,
             "#fdca26"
            ],
            [
             1,
             "#f0f921"
            ]
           ],
           "sequentialminus": [
            [
             0,
             "#0d0887"
            ],
            [
             0.1111111111111111,
             "#46039f"
            ],
            [
             0.2222222222222222,
             "#7201a8"
            ],
            [
             0.3333333333333333,
             "#9c179e"
            ],
            [
             0.4444444444444444,
             "#bd3786"
            ],
            [
             0.5555555555555556,
             "#d8576b"
            ],
            [
             0.6666666666666666,
             "#ed7953"
            ],
            [
             0.7777777777777778,
             "#fb9f3a"
            ],
            [
             0.8888888888888888,
             "#fdca26"
            ],
            [
             1,
             "#f0f921"
            ]
           ]
          },
          "colorway": [
           "#636efa",
           "#EF553B",
           "#00cc96",
           "#ab63fa",
           "#FFA15A",
           "#19d3f3",
           "#FF6692",
           "#B6E880",
           "#FF97FF",
           "#FECB52"
          ],
          "font": {
           "color": "#2a3f5f"
          },
          "geo": {
           "bgcolor": "white",
           "lakecolor": "white",
           "landcolor": "#E5ECF6",
           "showlakes": true,
           "showland": true,
           "subunitcolor": "white"
          },
          "hoverlabel": {
           "align": "left"
          },
          "hovermode": "closest",
          "mapbox": {
           "style": "light"
          },
          "paper_bgcolor": "white",
          "plot_bgcolor": "#E5ECF6",
          "polar": {
           "angularaxis": {
            "gridcolor": "white",
            "linecolor": "white",
            "ticks": ""
           },
           "bgcolor": "#E5ECF6",
           "radialaxis": {
            "gridcolor": "white",
            "linecolor": "white",
            "ticks": ""
           }
          },
          "scene": {
           "xaxis": {
            "backgroundcolor": "#E5ECF6",
            "gridcolor": "white",
            "gridwidth": 2,
            "linecolor": "white",
            "showbackground": true,
            "ticks": "",
            "zerolinecolor": "white"
           },
           "yaxis": {
            "backgroundcolor": "#E5ECF6",
            "gridcolor": "white",
            "gridwidth": 2,
            "linecolor": "white",
            "showbackground": true,
            "ticks": "",
            "zerolinecolor": "white"
           },
           "zaxis": {
            "backgroundcolor": "#E5ECF6",
            "gridcolor": "white",
            "gridwidth": 2,
            "linecolor": "white",
            "showbackground": true,
            "ticks": "",
            "zerolinecolor": "white"
           }
          },
          "shapedefaults": {
           "line": {
            "color": "#2a3f5f"
           }
          },
          "ternary": {
           "aaxis": {
            "gridcolor": "white",
            "linecolor": "white",
            "ticks": ""
           },
           "baxis": {
            "gridcolor": "white",
            "linecolor": "white",
            "ticks": ""
           },
           "bgcolor": "#E5ECF6",
           "caxis": {
            "gridcolor": "white",
            "linecolor": "white",
            "ticks": ""
           }
          },
          "title": {
           "x": 0.05
          },
          "xaxis": {
           "automargin": true,
           "gridcolor": "white",
           "linecolor": "white",
           "ticks": "",
           "title": {
            "standoff": 15
           },
           "zerolinecolor": "white",
           "zerolinewidth": 2
          },
          "yaxis": {
           "automargin": true,
           "gridcolor": "white",
           "linecolor": "white",
           "ticks": "",
           "title": {
            "standoff": 15
           },
           "zerolinecolor": "white",
           "zerolinewidth": 2
          }
         }
        }
       }
      },
      "text/html": [
       "<div>\n",
       "        \n",
       "        \n",
       "            <div id=\"ee489740-0058-45ef-8c33-07419ec13b9f\" class=\"plotly-graph-div\" style=\"height:525px; width:100%;\"></div>\n",
       "            <script type=\"text/javascript\">\n",
       "                require([\"plotly\"], function(Plotly) {\n",
       "                    window.PLOTLYENV=window.PLOTLYENV || {};\n",
       "                    \n",
       "                if (document.getElementById(\"ee489740-0058-45ef-8c33-07419ec13b9f\")) {\n",
       "                    Plotly.newPlot(\n",
       "                        'ee489740-0058-45ef-8c33-07419ec13b9f',\n",
       "                        [{\"delta\": {\"reference\": 4880631}, \"domain\": {\"column\": 0, \"row\": 0}, \"gauge\": {\"axis\": {\"visible\": false}}, \"type\": \"indicator\", \"value\": 4977471}],\n",
       "                        {\"template\": {\"data\": {\"bar\": [{\"error_x\": {\"color\": \"#2a3f5f\"}, \"error_y\": {\"color\": \"#2a3f5f\"}, \"marker\": {\"line\": {\"color\": \"#E5ECF6\", \"width\": 0.5}}, \"type\": \"bar\"}], \"barpolar\": [{\"marker\": {\"line\": {\"color\": \"#E5ECF6\", \"width\": 0.5}}, \"type\": \"barpolar\"}], \"carpet\": [{\"aaxis\": {\"endlinecolor\": \"#2a3f5f\", \"gridcolor\": \"white\", \"linecolor\": \"white\", \"minorgridcolor\": \"white\", \"startlinecolor\": \"#2a3f5f\"}, \"baxis\": {\"endlinecolor\": \"#2a3f5f\", \"gridcolor\": \"white\", \"linecolor\": \"white\", \"minorgridcolor\": \"white\", \"startlinecolor\": \"#2a3f5f\"}, \"type\": \"carpet\"}], \"choropleth\": [{\"colorbar\": {\"outlinewidth\": 0, \"ticks\": \"\"}, \"type\": \"choropleth\"}], \"contour\": [{\"colorbar\": {\"outlinewidth\": 0, \"ticks\": \"\"}, \"colorscale\": [[0.0, \"#0d0887\"], [0.1111111111111111, \"#46039f\"], [0.2222222222222222, \"#7201a8\"], [0.3333333333333333, \"#9c179e\"], [0.4444444444444444, \"#bd3786\"], [0.5555555555555556, \"#d8576b\"], [0.6666666666666666, \"#ed7953\"], [0.7777777777777778, \"#fb9f3a\"], [0.8888888888888888, \"#fdca26\"], [1.0, \"#f0f921\"]], \"type\": \"contour\"}], \"contourcarpet\": [{\"colorbar\": {\"outlinewidth\": 0, \"ticks\": \"\"}, \"type\": \"contourcarpet\"}], \"heatmap\": [{\"colorbar\": {\"outlinewidth\": 0, \"ticks\": \"\"}, \"colorscale\": [[0.0, \"#0d0887\"], [0.1111111111111111, \"#46039f\"], [0.2222222222222222, \"#7201a8\"], [0.3333333333333333, \"#9c179e\"], [0.4444444444444444, \"#bd3786\"], [0.5555555555555556, \"#d8576b\"], [0.6666666666666666, \"#ed7953\"], [0.7777777777777778, \"#fb9f3a\"], [0.8888888888888888, \"#fdca26\"], [1.0, \"#f0f921\"]], \"type\": \"heatmap\"}], \"heatmapgl\": [{\"colorbar\": {\"outlinewidth\": 0, \"ticks\": \"\"}, \"colorscale\": [[0.0, \"#0d0887\"], [0.1111111111111111, \"#46039f\"], [0.2222222222222222, \"#7201a8\"], [0.3333333333333333, \"#9c179e\"], [0.4444444444444444, \"#bd3786\"], [0.5555555555555556, \"#d8576b\"], [0.6666666666666666, \"#ed7953\"], [0.7777777777777778, \"#fb9f3a\"], [0.8888888888888888, \"#fdca26\"], [1.0, \"#f0f921\"]], \"type\": \"heatmapgl\"}], \"histogram\": [{\"marker\": {\"colorbar\": {\"outlinewidth\": 0, \"ticks\": \"\"}}, \"type\": \"histogram\"}], \"histogram2d\": [{\"colorbar\": {\"outlinewidth\": 0, \"ticks\": \"\"}, \"colorscale\": [[0.0, \"#0d0887\"], [0.1111111111111111, \"#46039f\"], [0.2222222222222222, \"#7201a8\"], [0.3333333333333333, \"#9c179e\"], [0.4444444444444444, \"#bd3786\"], [0.5555555555555556, \"#d8576b\"], [0.6666666666666666, \"#ed7953\"], [0.7777777777777778, \"#fb9f3a\"], [0.8888888888888888, \"#fdca26\"], [1.0, \"#f0f921\"]], \"type\": \"histogram2d\"}], \"histogram2dcontour\": [{\"colorbar\": {\"outlinewidth\": 0, \"ticks\": \"\"}, \"colorscale\": [[0.0, \"#0d0887\"], [0.1111111111111111, \"#46039f\"], [0.2222222222222222, \"#7201a8\"], [0.3333333333333333, \"#9c179e\"], [0.4444444444444444, \"#bd3786\"], [0.5555555555555556, \"#d8576b\"], [0.6666666666666666, \"#ed7953\"], [0.7777777777777778, \"#fb9f3a\"], [0.8888888888888888, \"#fdca26\"], [1.0, \"#f0f921\"]], \"type\": \"histogram2dcontour\"}], \"indicator\": [{\"mode\": \"number+delta+gauge\", \"title\": {\"text\": \"Total Cases\"}, \"type\": \"indicator\"}], \"mesh3d\": [{\"colorbar\": {\"outlinewidth\": 0, \"ticks\": \"\"}, \"type\": \"mesh3d\"}], \"parcoords\": [{\"line\": {\"colorbar\": {\"outlinewidth\": 0, \"ticks\": \"\"}}, \"type\": \"parcoords\"}], \"pie\": [{\"automargin\": true, \"type\": \"pie\"}], \"scatter\": [{\"marker\": {\"colorbar\": {\"outlinewidth\": 0, \"ticks\": \"\"}}, \"type\": \"scatter\"}], \"scatter3d\": [{\"line\": {\"colorbar\": {\"outlinewidth\": 0, \"ticks\": \"\"}}, \"marker\": {\"colorbar\": {\"outlinewidth\": 0, \"ticks\": \"\"}}, \"type\": \"scatter3d\"}], \"scattercarpet\": [{\"marker\": {\"colorbar\": {\"outlinewidth\": 0, \"ticks\": \"\"}}, \"type\": \"scattercarpet\"}], \"scattergeo\": [{\"marker\": {\"colorbar\": {\"outlinewidth\": 0, \"ticks\": \"\"}}, \"type\": \"scattergeo\"}], \"scattergl\": [{\"marker\": {\"colorbar\": {\"outlinewidth\": 0, \"ticks\": \"\"}}, \"type\": \"scattergl\"}], \"scattermapbox\": [{\"marker\": {\"colorbar\": {\"outlinewidth\": 0, \"ticks\": \"\"}}, \"type\": \"scattermapbox\"}], \"scatterpolar\": [{\"marker\": {\"colorbar\": {\"outlinewidth\": 0, \"ticks\": \"\"}}, \"type\": \"scatterpolar\"}], \"scatterpolargl\": [{\"marker\": {\"colorbar\": {\"outlinewidth\": 0, \"ticks\": \"\"}}, \"type\": \"scatterpolargl\"}], \"scatterternary\": [{\"marker\": {\"colorbar\": {\"outlinewidth\": 0, \"ticks\": \"\"}}, \"type\": \"scatterternary\"}], \"surface\": [{\"colorbar\": {\"outlinewidth\": 0, \"ticks\": \"\"}, \"colorscale\": [[0.0, \"#0d0887\"], [0.1111111111111111, \"#46039f\"], [0.2222222222222222, \"#7201a8\"], [0.3333333333333333, \"#9c179e\"], [0.4444444444444444, \"#bd3786\"], [0.5555555555555556, \"#d8576b\"], [0.6666666666666666, \"#ed7953\"], [0.7777777777777778, \"#fb9f3a\"], [0.8888888888888888, \"#fdca26\"], [1.0, \"#f0f921\"]], \"type\": \"surface\"}], \"table\": [{\"cells\": {\"fill\": {\"color\": \"#EBF0F8\"}, \"line\": {\"color\": \"white\"}}, \"header\": {\"fill\": {\"color\": \"#C8D4E3\"}, \"line\": {\"color\": \"white\"}}, \"type\": \"table\"}]}, \"layout\": {\"annotationdefaults\": {\"arrowcolor\": \"#2a3f5f\", \"arrowhead\": 0, \"arrowwidth\": 1}, \"coloraxis\": {\"colorbar\": {\"outlinewidth\": 0, \"ticks\": \"\"}}, \"colorscale\": {\"diverging\": [[0, \"#8e0152\"], [0.1, \"#c51b7d\"], [0.2, \"#de77ae\"], [0.3, \"#f1b6da\"], [0.4, \"#fde0ef\"], [0.5, \"#f7f7f7\"], [0.6, \"#e6f5d0\"], [0.7, \"#b8e186\"], [0.8, \"#7fbc41\"], [0.9, \"#4d9221\"], [1, \"#276419\"]], \"sequential\": [[0.0, \"#0d0887\"], [0.1111111111111111, \"#46039f\"], [0.2222222222222222, \"#7201a8\"], [0.3333333333333333, \"#9c179e\"], [0.4444444444444444, \"#bd3786\"], [0.5555555555555556, \"#d8576b\"], [0.6666666666666666, \"#ed7953\"], [0.7777777777777778, \"#fb9f3a\"], [0.8888888888888888, \"#fdca26\"], [1.0, \"#f0f921\"]], \"sequentialminus\": [[0.0, \"#0d0887\"], [0.1111111111111111, \"#46039f\"], [0.2222222222222222, \"#7201a8\"], [0.3333333333333333, \"#9c179e\"], [0.4444444444444444, \"#bd3786\"], [0.5555555555555556, \"#d8576b\"], [0.6666666666666666, \"#ed7953\"], [0.7777777777777778, \"#fb9f3a\"], [0.8888888888888888, \"#fdca26\"], [1.0, \"#f0f921\"]]}, \"colorway\": [\"#636efa\", \"#EF553B\", \"#00cc96\", \"#ab63fa\", \"#FFA15A\", \"#19d3f3\", \"#FF6692\", \"#B6E880\", \"#FF97FF\", \"#FECB52\"], \"font\": {\"color\": \"#2a3f5f\"}, \"geo\": {\"bgcolor\": \"white\", \"lakecolor\": \"white\", \"landcolor\": \"#E5ECF6\", \"showlakes\": true, \"showland\": true, \"subunitcolor\": \"white\"}, \"hoverlabel\": {\"align\": \"left\"}, \"hovermode\": \"closest\", \"mapbox\": {\"style\": \"light\"}, \"paper_bgcolor\": \"white\", \"plot_bgcolor\": \"#E5ECF6\", \"polar\": {\"angularaxis\": {\"gridcolor\": \"white\", \"linecolor\": \"white\", \"ticks\": \"\"}, \"bgcolor\": \"#E5ECF6\", \"radialaxis\": {\"gridcolor\": \"white\", \"linecolor\": \"white\", \"ticks\": \"\"}}, \"scene\": {\"xaxis\": {\"backgroundcolor\": \"#E5ECF6\", \"gridcolor\": \"white\", \"gridwidth\": 2, \"linecolor\": \"white\", \"showbackground\": true, \"ticks\": \"\", \"zerolinecolor\": \"white\"}, \"yaxis\": {\"backgroundcolor\": \"#E5ECF6\", \"gridcolor\": \"white\", \"gridwidth\": 2, \"linecolor\": \"white\", \"showbackground\": true, \"ticks\": \"\", \"zerolinecolor\": \"white\"}, \"zaxis\": {\"backgroundcolor\": \"#E5ECF6\", \"gridcolor\": \"white\", \"gridwidth\": 2, \"linecolor\": \"white\", \"showbackground\": true, \"ticks\": \"\", \"zerolinecolor\": \"white\"}}, \"shapedefaults\": {\"line\": {\"color\": \"#2a3f5f\"}}, \"ternary\": {\"aaxis\": {\"gridcolor\": \"white\", \"linecolor\": \"white\", \"ticks\": \"\"}, \"baxis\": {\"gridcolor\": \"white\", \"linecolor\": \"white\", \"ticks\": \"\"}, \"bgcolor\": \"#E5ECF6\", \"caxis\": {\"gridcolor\": \"white\", \"linecolor\": \"white\", \"ticks\": \"\"}}, \"title\": {\"x\": 0.05}, \"xaxis\": {\"automargin\": true, \"gridcolor\": \"white\", \"linecolor\": \"white\", \"ticks\": \"\", \"title\": {\"standoff\": 15}, \"zerolinecolor\": \"white\", \"zerolinewidth\": 2}, \"yaxis\": {\"automargin\": true, \"gridcolor\": \"white\", \"linecolor\": \"white\", \"ticks\": \"\", \"title\": {\"standoff\": 15}, \"zerolinecolor\": \"white\", \"zerolinewidth\": 2}}}},\n",
       "                        {\"responsive\": true}\n",
       "                    ).then(function(){\n",
       "                            \n",
       "var gd = document.getElementById('ee489740-0058-45ef-8c33-07419ec13b9f');\n",
       "var x = new MutationObserver(function (mutations, observer) {{\n",
       "        var display = window.getComputedStyle(gd).display;\n",
       "        if (!display || display === 'none') {{\n",
       "            console.log([gd, 'removed!']);\n",
       "            Plotly.purge(gd);\n",
       "            observer.disconnect();\n",
       "        }}\n",
       "}});\n",
       "\n",
       "// Listen for the removal of the full notebook cells\n",
       "var notebookContainer = gd.closest('#notebook-container');\n",
       "if (notebookContainer) {{\n",
       "    x.observe(notebookContainer, {childList: true});\n",
       "}}\n",
       "\n",
       "// Listen for the clearing of the current output cell\n",
       "var outputEl = gd.closest('.output');\n",
       "if (outputEl) {{\n",
       "    x.observe(outputEl, {childList: true});\n",
       "}}\n",
       "\n",
       "                        })\n",
       "                };\n",
       "                });\n",
       "            </script>\n",
       "        </div>"
      ]
     },
     "metadata": {},
     "output_type": "display_data"
    }
   ],
   "source": [
    "# total cases indicator\n",
    "fig1 = go.Figure(go.Indicator(\n",
    "    \n",
    "    value = tot_cases,\n",
    "    delta = {'reference': diff},\n",
    "    gauge = {\n",
    "        'axis': {'visible': False}},\n",
    "    domain = {'row': 0, 'column': 0}))\n",
    "\n",
    "fig1 = fig1.update_layout(\n",
    "    template = {'data' : {'indicator': [{\n",
    "        'title': {'text': \"Total Cases\"},\n",
    "        'mode' : \"number+delta+gauge\",\n",
    "        }]\n",
    "                         }})\n",
    "fig1.show()"
   ]
  },
  {
   "cell_type": "code",
   "execution_count": 8,
   "metadata": {},
   "outputs": [],
   "source": [
    "#Summing per column\n",
    "tot_cases = df.TotalConfirmed.sum()\n",
    "nw_cases = df.NewConfirmed.sum()\n",
    "tot_deaths = df.TotalDeaths.sum()\n",
    "new_deaths = df.NewDeaths.sum()\n",
    "tot_recover = df.TotalRecovered.sum()\n",
    "new_recover = df.NewRecovered.sum()\n",
    "diff = tot_cases - nw_cases\n",
    "\n",
    "#Recoveries indicator\n",
    "fig2 = go.Figure(go.Indicator(\n",
    "    mode = \"number+delta\",\n",
    "    value = tot_recover,\n",
    "    delta = {'reference': diff2},\n",
    "    domain = {'row': 0, 'column': 1}))\n",
    "fig2 = fig2.update_layout(\n",
    "    template = {'data' : {'indicator': [{\n",
    "        'title': {'text': \"Recoveries\"}\n",
    "        }]\n",
    "                         }})\n",
    "# fig2.show()"
   ]
  },
  {
   "cell_type": "code",
   "execution_count": 9,
   "metadata": {},
   "outputs": [],
   "source": [
    "# total deaths indicator\n",
    "fig3 = go.Figure(go.Indicator(\n",
    "    \n",
    "    value = tot_deaths,\n",
    "    delta = {'reference': diff3},\n",
    "    gauge = {\n",
    "        'axis': {'visible': False}},\n",
    "    domain = {'row': 0, 'column': 0}))\n",
    "\n",
    "fig3 = fig3.update_layout(\n",
    "    template = {'data' : {'indicator': [{\n",
    "        'title': {'text': \"Total Deaths\"},\n",
    "        'mode' : \"number+delta+gauge\",\n",
    "        }]\n",
    "                         }})\n",
    "# fig3.show()"
   ]
  },
  {
   "cell_type": "code",
   "execution_count": 10,
   "metadata": {},
   "outputs": [
    {
     "data": {
      "text/html": [
       "<div>\n",
       "<style scoped>\n",
       "    .dataframe tbody tr th:only-of-type {\n",
       "        vertical-align: middle;\n",
       "    }\n",
       "\n",
       "    .dataframe tbody tr th {\n",
       "        vertical-align: top;\n",
       "    }\n",
       "\n",
       "    .dataframe thead th {\n",
       "        text-align: right;\n",
       "    }\n",
       "</style>\n",
       "<table border=\"1\" class=\"dataframe\">\n",
       "  <thead>\n",
       "    <tr style=\"text-align: right;\">\n",
       "      <th></th>\n",
       "      <th>Unnamed: 0</th>\n",
       "      <th>Country</th>\n",
       "      <th>CountryCode</th>\n",
       "      <th>Slug</th>\n",
       "      <th>NewConfirmed</th>\n",
       "      <th>TotalConfirmed</th>\n",
       "      <th>NewDeaths</th>\n",
       "      <th>TotalDeaths</th>\n",
       "      <th>NewRecovered</th>\n",
       "      <th>TotalRecovered</th>\n",
       "      <th>Date</th>\n",
       "      <th>Active Cases</th>\n",
       "      <th>Closed Cases</th>\n",
       "      <th>Recovery Rate</th>\n",
       "      <th>Case Fatality Rate</th>\n",
       "    </tr>\n",
       "  </thead>\n",
       "  <tbody>\n",
       "    <tr>\n",
       "      <th>0</th>\n",
       "      <td>0</td>\n",
       "      <td>Afghanistan</td>\n",
       "      <td>AF</td>\n",
       "      <td>afghanistan</td>\n",
       "      <td>581</td>\n",
       "      <td>7653</td>\n",
       "      <td>5</td>\n",
       "      <td>178</td>\n",
       "      <td>49</td>\n",
       "      <td>850</td>\n",
       "      <td>2020-05-20T11:05:03Z</td>\n",
       "      <td>6625</td>\n",
       "      <td>1028</td>\n",
       "      <td>11.106756</td>\n",
       "      <td>2.325885</td>\n",
       "    </tr>\n",
       "    <tr>\n",
       "      <th>1</th>\n",
       "      <td>1</td>\n",
       "      <td>Albania</td>\n",
       "      <td>AL</td>\n",
       "      <td>albania</td>\n",
       "      <td>1</td>\n",
       "      <td>949</td>\n",
       "      <td>0</td>\n",
       "      <td>31</td>\n",
       "      <td>15</td>\n",
       "      <td>742</td>\n",
       "      <td>2020-05-20T11:05:03Z</td>\n",
       "      <td>176</td>\n",
       "      <td>773</td>\n",
       "      <td>78.187566</td>\n",
       "      <td>3.266596</td>\n",
       "    </tr>\n",
       "    <tr>\n",
       "      <th>2</th>\n",
       "      <td>2</td>\n",
       "      <td>Algeria</td>\n",
       "      <td>DZ</td>\n",
       "      <td>algeria</td>\n",
       "      <td>176</td>\n",
       "      <td>7377</td>\n",
       "      <td>6</td>\n",
       "      <td>561</td>\n",
       "      <td>121</td>\n",
       "      <td>3746</td>\n",
       "      <td>2020-05-20T11:05:03Z</td>\n",
       "      <td>3070</td>\n",
       "      <td>4307</td>\n",
       "      <td>50.779450</td>\n",
       "      <td>7.604717</td>\n",
       "    </tr>\n",
       "    <tr>\n",
       "      <th>3</th>\n",
       "      <td>3</td>\n",
       "      <td>Andorra</td>\n",
       "      <td>AD</td>\n",
       "      <td>andorra</td>\n",
       "      <td>0</td>\n",
       "      <td>761</td>\n",
       "      <td>0</td>\n",
       "      <td>51</td>\n",
       "      <td>4</td>\n",
       "      <td>628</td>\n",
       "      <td>2020-05-20T11:05:03Z</td>\n",
       "      <td>82</td>\n",
       "      <td>679</td>\n",
       "      <td>82.522996</td>\n",
       "      <td>6.701708</td>\n",
       "    </tr>\n",
       "    <tr>\n",
       "      <th>4</th>\n",
       "      <td>4</td>\n",
       "      <td>Angola</td>\n",
       "      <td>AO</td>\n",
       "      <td>angola</td>\n",
       "      <td>2</td>\n",
       "      <td>52</td>\n",
       "      <td>0</td>\n",
       "      <td>3</td>\n",
       "      <td>0</td>\n",
       "      <td>17</td>\n",
       "      <td>2020-05-20T11:05:03Z</td>\n",
       "      <td>32</td>\n",
       "      <td>20</td>\n",
       "      <td>32.692308</td>\n",
       "      <td>5.769231</td>\n",
       "    </tr>\n",
       "  </tbody>\n",
       "</table>\n",
       "</div>"
      ],
      "text/plain": [
       "   Unnamed: 0      Country CountryCode         Slug  NewConfirmed  \\\n",
       "0           0  Afghanistan          AF  afghanistan           581   \n",
       "1           1      Albania          AL      albania             1   \n",
       "2           2      Algeria          DZ      algeria           176   \n",
       "3           3      Andorra          AD      andorra             0   \n",
       "4           4       Angola          AO       angola             2   \n",
       "\n",
       "   TotalConfirmed  NewDeaths  TotalDeaths  NewRecovered  TotalRecovered  \\\n",
       "0            7653          5          178            49             850   \n",
       "1             949          0           31            15             742   \n",
       "2            7377          6          561           121            3746   \n",
       "3             761          0           51             4             628   \n",
       "4              52          0            3             0              17   \n",
       "\n",
       "                   Date  Active Cases  Closed Cases  Recovery Rate  \\\n",
       "0  2020-05-20T11:05:03Z          6625          1028      11.106756   \n",
       "1  2020-05-20T11:05:03Z           176           773      78.187566   \n",
       "2  2020-05-20T11:05:03Z          3070          4307      50.779450   \n",
       "3  2020-05-20T11:05:03Z            82           679      82.522996   \n",
       "4  2020-05-20T11:05:03Z            32            20      32.692308   \n",
       "\n",
       "   Case Fatality Rate  \n",
       "0            2.325885  \n",
       "1            3.266596  \n",
       "2            7.604717  \n",
       "3            6.701708  \n",
       "4            5.769231  "
      ]
     },
     "execution_count": 10,
     "metadata": {},
     "output_type": "execute_result"
    }
   ],
   "source": [
    "#----- Feature Creation from existing data ----\n",
    "df['Active Cases'] = df['TotalConfirmed'] - df['TotalRecovered'] - df['TotalDeaths']\n",
    "df['Closed Cases'] = df['TotalRecovered'] + df['TotalDeaths']\n",
    "df['Recovery Rate'] = (df['TotalRecovered'] / df['TotalConfirmed'])*100\n",
    "df['Case Fatality Rate'] = (df['TotalDeaths'] / df['TotalConfirmed']) * 100\n",
    "df.head()"
   ]
  },
  {
   "cell_type": "code",
   "execution_count": null,
   "metadata": {},
   "outputs": [],
   "source": []
  },
  {
   "cell_type": "code",
   "execution_count": 11,
   "metadata": {},
   "outputs": [
    {
     "data": {
      "text/html": [
       "<div>\n",
       "<style scoped>\n",
       "    .dataframe tbody tr th:only-of-type {\n",
       "        vertical-align: middle;\n",
       "    }\n",
       "\n",
       "    .dataframe tbody tr th {\n",
       "        vertical-align: top;\n",
       "    }\n",
       "\n",
       "    .dataframe thead th {\n",
       "        text-align: right;\n",
       "    }\n",
       "</style>\n",
       "<table border=\"1\" class=\"dataframe\">\n",
       "  <thead>\n",
       "    <tr style=\"text-align: right;\">\n",
       "      <th></th>\n",
       "      <th>dateRep</th>\n",
       "      <th>day</th>\n",
       "      <th>month</th>\n",
       "      <th>year</th>\n",
       "      <th>cases</th>\n",
       "      <th>deaths</th>\n",
       "      <th>countriesAndTerritories</th>\n",
       "      <th>geoId</th>\n",
       "      <th>countryterritoryCode</th>\n",
       "      <th>popData2018</th>\n",
       "    </tr>\n",
       "  </thead>\n",
       "  <tbody>\n",
       "    <tr>\n",
       "      <th>0</th>\n",
       "      <td>16/04/2020</td>\n",
       "      <td>16</td>\n",
       "      <td>4</td>\n",
       "      <td>2020</td>\n",
       "      <td>70</td>\n",
       "      <td>2</td>\n",
       "      <td>Afghanistan</td>\n",
       "      <td>AF</td>\n",
       "      <td>AFG</td>\n",
       "      <td>37172386.0</td>\n",
       "    </tr>\n",
       "    <tr>\n",
       "      <th>1</th>\n",
       "      <td>15/04/2020</td>\n",
       "      <td>15</td>\n",
       "      <td>4</td>\n",
       "      <td>2020</td>\n",
       "      <td>49</td>\n",
       "      <td>2</td>\n",
       "      <td>Afghanistan</td>\n",
       "      <td>AF</td>\n",
       "      <td>AFG</td>\n",
       "      <td>37172386.0</td>\n",
       "    </tr>\n",
       "    <tr>\n",
       "      <th>2</th>\n",
       "      <td>14/04/2020</td>\n",
       "      <td>14</td>\n",
       "      <td>4</td>\n",
       "      <td>2020</td>\n",
       "      <td>58</td>\n",
       "      <td>3</td>\n",
       "      <td>Afghanistan</td>\n",
       "      <td>AF</td>\n",
       "      <td>AFG</td>\n",
       "      <td>37172386.0</td>\n",
       "    </tr>\n",
       "    <tr>\n",
       "      <th>3</th>\n",
       "      <td>13/04/2020</td>\n",
       "      <td>13</td>\n",
       "      <td>4</td>\n",
       "      <td>2020</td>\n",
       "      <td>52</td>\n",
       "      <td>0</td>\n",
       "      <td>Afghanistan</td>\n",
       "      <td>AF</td>\n",
       "      <td>AFG</td>\n",
       "      <td>37172386.0</td>\n",
       "    </tr>\n",
       "    <tr>\n",
       "      <th>4</th>\n",
       "      <td>12/04/2020</td>\n",
       "      <td>12</td>\n",
       "      <td>4</td>\n",
       "      <td>2020</td>\n",
       "      <td>34</td>\n",
       "      <td>3</td>\n",
       "      <td>Afghanistan</td>\n",
       "      <td>AF</td>\n",
       "      <td>AFG</td>\n",
       "      <td>37172386.0</td>\n",
       "    </tr>\n",
       "  </tbody>\n",
       "</table>\n",
       "</div>"
      ],
      "text/plain": [
       "      dateRep  day  month  year  cases  deaths countriesAndTerritories geoId  \\\n",
       "0  16/04/2020   16      4  2020     70       2             Afghanistan    AF   \n",
       "1  15/04/2020   15      4  2020     49       2             Afghanistan    AF   \n",
       "2  14/04/2020   14      4  2020     58       3             Afghanistan    AF   \n",
       "3  13/04/2020   13      4  2020     52       0             Afghanistan    AF   \n",
       "4  12/04/2020   12      4  2020     34       3             Afghanistan    AF   \n",
       "\n",
       "  countryterritoryCode  popData2018  \n",
       "0                  AFG   37172386.0  \n",
       "1                  AFG   37172386.0  \n",
       "2                  AFG   37172386.0  \n",
       "3                  AFG   37172386.0  \n",
       "4                  AFG   37172386.0  "
      ]
     },
     "execution_count": 11,
     "metadata": {},
     "output_type": "execute_result"
    }
   ],
   "source": [
    "\n",
    "df6.head()\n"
   ]
  },
  {
   "cell_type": "code",
   "execution_count": null,
   "metadata": {},
   "outputs": [],
   "source": []
  },
  {
   "cell_type": "code",
   "execution_count": 12,
   "metadata": {},
   "outputs": [
    {
     "data": {
      "application/vnd.plotly.v1+json": {
       "config": {
        "plotlyServerURL": "https://plot.ly"
       },
       "data": [
        {
         "name": "Active Cases in SA",
         "type": "scatter",
         "x": [
          "2020-03-17T21:00:00.200Z",
          "2020-03-17T22:00:00.182Z",
          "2020-03-17T23:00:00.171Z",
          "2020-03-18T00:00:00.193Z",
          "2020-03-18T01:00:00.205Z",
          "2020-03-18T02:00:00.195Z",
          "2020-03-18T03:00:00.182Z",
          "2020-03-18T04:00:00.190Z",
          "2020-03-18T05:00:00.147Z",
          "2020-03-18T06:00:00.205Z",
          "2020-03-18T07:00:00.215Z",
          "2020-03-18T08:00:00.192Z",
          "2020-03-18T09:00:00.167Z",
          "2020-03-18T10:00:00.221Z",
          "2020-03-18T11:00:00.223Z",
          "2020-03-18T12:00:00.202Z",
          "2020-03-18T13:00:00.296Z",
          "2020-03-18T14:00:00.178Z",
          "2020-03-18T15:00:00.169Z",
          "2020-03-18T16:00:00.171Z",
          "2020-03-18T18:00:00.155Z",
          "2020-03-18T19:00:00.206Z",
          "2020-03-18T20:00:00.199Z",
          "2020-03-18T21:00:00.171Z",
          "2020-03-18T22:00:00.161Z",
          "2020-03-18T23:00:00.188Z",
          "2020-03-19T00:00:00.179Z",
          "2020-03-19T02:00:00.181Z",
          "2020-03-19T03:00:00.192Z",
          "2020-03-19T04:00:00.162Z",
          "2020-03-19T05:00:00.163Z",
          "2020-03-19T06:00:00.187Z",
          "2020-03-19T07:00:00.203Z",
          "2020-03-19T08:00:00.151Z",
          "2020-03-19T09:00:00.176Z",
          "2020-03-19T10:00:00.153Z",
          "2020-03-19T11:00:00.150Z",
          "2020-03-19T12:00:00.164Z",
          "2020-03-19T13:00:00.237Z",
          "2020-03-19T14:00:00.221Z",
          "2020-03-19T15:00:00.230Z",
          "2020-03-19T16:00:00.167Z",
          "2020-03-19T17:00:00.204Z",
          "2020-03-19T18:00:00.211Z",
          "2020-03-19T19:00:00.159Z",
          "2020-03-19T20:00:00.204Z",
          "2020-03-19T21:00:00.186Z",
          "2020-03-19T22:00:00.164Z",
          "2020-03-19T23:00:00.156Z",
          "2020-03-20T00:00:00.158Z",
          "2020-03-20T01:00:00.190Z",
          "2020-03-20T02:00:00.192Z",
          "2020-03-20T03:00:00.182Z",
          "2020-03-20T04:00:00.171Z",
          "2020-03-20T05:00:00.194Z",
          "2020-03-20T06:00:00.205Z",
          "2020-03-20T07:00:00.169Z",
          "2020-03-20T08:00:00.196Z",
          "2020-03-20T09:00:00.198Z",
          "2020-03-20T10:00:00.190Z",
          "2020-03-20T11:00:00.232Z",
          "2020-03-20T12:00:00.201Z",
          "2020-03-20T13:00:00.163Z",
          "2020-03-20T14:00:00.198Z",
          "2020-03-20T15:00:00.179Z",
          "2020-03-20T16:00:00.199Z",
          "2020-03-20T17:00:00.206Z",
          "2020-03-20T18:00:00.200Z",
          "2020-03-20T19:00:00.161Z",
          "2020-03-20T20:00:00.238Z",
          "2020-03-20T21:00:00.224Z",
          "2020-03-20T22:00:00.195Z",
          "2020-03-20T23:00:00.214Z",
          "2020-03-21T00:00:00.178Z",
          "2020-03-21T01:00:00.219Z",
          "2020-03-21T02:00:00.174Z",
          "2020-03-21T03:00:00.168Z",
          "2020-03-21T04:00:00.250Z",
          "2020-03-21T05:00:00.211Z",
          "2020-03-21T06:00:00.188Z",
          "2020-03-21T07:00:00.162Z",
          "2020-03-21T08:00:00.162Z",
          "2020-03-21T09:00:00.202Z",
          "2020-03-21T10:00:00.183Z",
          "2020-03-21T11:00:00.229Z",
          "2020-03-21T12:00:00.227Z",
          "2020-03-21T13:00:00.182Z",
          "2020-03-21T14:00:00.179Z",
          "2020-03-21T15:00:00.205Z",
          "2020-03-21T16:00:00.171Z",
          "2020-03-21T17:00:00.230Z",
          "2020-03-21T18:00:00.232Z",
          "2020-03-21T19:00:00.189Z",
          "2020-03-21T20:00:00.207Z",
          "2020-03-21T21:00:00.185Z",
          "2020-03-21T22:00:00.201Z",
          "2020-03-21T23:00:00.163Z",
          "2020-03-22T00:00:00.178Z",
          "2020-03-22T01:00:00.171Z",
          "2020-03-22T02:00:00.155Z",
          "2020-03-22T03:00:00.209Z",
          "2020-03-22T04:00:00.179Z",
          "2020-03-22T05:00:00.186Z",
          "2020-03-22T06:00:00.205Z",
          "2020-03-22T07:00:00.207Z",
          "2020-03-22T08:00:00.189Z",
          "2020-03-22T09:00:00.190Z",
          "2020-03-22T10:00:00.231Z",
          "2020-03-22T11:00:00.202Z",
          "2020-03-22T12:00:00.191Z",
          "2020-03-22T13:00:00.168Z",
          "2020-03-22T14:00:00.211Z",
          "2020-03-22T15:00:00.223Z",
          "2020-03-22T16:00:00.200Z",
          "2020-03-22T17:00:00.225Z",
          "2020-03-22T18:00:00.197Z",
          "2020-03-22T19:00:00.200Z",
          "2020-03-22T20:00:00.155Z",
          "2020-03-22T21:00:00.157Z",
          "2020-03-22T22:00:00.183Z",
          "2020-03-22T23:00:00.192Z",
          "2020-03-23T00:00:00.227Z",
          "2020-03-23T01:00:00.150Z",
          "2020-03-23T02:00:00.278Z",
          "2020-03-23T03:00:00.195Z",
          "2020-03-23T20:00:00.171Z",
          "2020-03-23T21:00:00.241Z",
          "2020-03-23T22:00:00.191Z",
          "2020-03-23T23:00:00.193Z",
          "2020-03-24T00:00:00.225Z",
          "2020-03-24T01:00:00.213Z",
          "2020-03-24T02:00:00.233Z",
          "2020-03-24T03:00:00.172Z",
          "2020-03-24T04:00:00.243Z",
          "2020-03-24T05:00:00.217Z",
          "2020-03-24T06:00:00.208Z",
          "2020-03-24T07:00:00.168Z",
          "2020-03-24T08:00:00.226Z",
          "2020-03-24T09:00:00.223Z",
          "2020-03-24T10:00:00.276Z",
          "2020-03-24T11:00:00.202Z",
          "2020-03-24T12:00:00.194Z",
          "2020-03-24T13:00:00.235Z",
          "2020-03-24T14:00:00.228Z",
          "2020-03-24T15:00:00.223Z",
          "2020-03-24T16:00:00.180Z",
          "2020-03-24T17:00:00.204Z",
          "2020-03-24T18:00:00.207Z",
          "2020-03-24T19:00:00.195Z",
          "2020-03-24T20:00:00.195Z",
          "2020-03-24T21:00:00.225Z",
          "2020-03-24T22:00:00.228Z",
          "2020-03-24T23:00:00.194Z",
          "2020-03-25T00:00:00.196Z",
          "2020-03-25T01:00:00.156Z",
          "2020-03-25T02:00:00.242Z",
          "2020-03-25T03:00:00.160Z",
          "2020-03-25T04:00:00.238Z",
          "2020-03-25T05:00:00.189Z",
          "2020-03-25T06:00:00.200Z",
          "2020-03-25T07:00:00.170Z",
          "2020-03-25T08:00:00.212Z",
          "2020-03-25T09:00:00.232Z",
          "2020-03-25T10:00:00.218Z",
          "2020-03-25T11:00:00.273Z",
          "2020-03-25T12:00:00.220Z",
          "2020-03-25T13:00:00.164Z",
          "2020-03-25T14:00:00.245Z",
          "2020-03-25T15:00:00.222Z",
          "2020-03-25T16:00:00.201Z",
          "2020-03-25T17:00:00.205Z",
          "2020-03-25T18:00:00.228Z",
          "2020-03-25T19:00:00.188Z",
          "2020-03-25T20:00:00.192Z",
          "2020-03-25T21:00:00.194Z",
          "2020-03-25T22:00:00.242Z",
          "2020-03-25T23:00:00.162Z",
          "2020-03-26T00:00:00.190Z",
          "2020-03-26T01:00:00.220Z",
          "2020-03-26T02:00:00.198Z",
          "2020-03-26T03:00:00.216Z",
          "2020-03-26T04:00:00.161Z",
          "2020-03-26T05:00:00.183Z",
          "2020-03-26T06:00:00.223Z",
          "2020-03-26T07:00:00.220Z",
          "2020-03-26T08:00:00.230Z",
          "2020-03-26T09:00:00.210Z",
          "2020-03-26T10:00:00.222Z",
          "2020-03-26T11:00:00.437Z",
          "2020-03-26T12:00:00.221Z",
          "2020-03-26T13:00:00.374Z",
          "2020-03-26T14:00:00.333Z",
          "2020-03-26T15:00:00.188Z",
          "2020-03-26T16:00:00.314Z",
          "2020-03-26T17:00:00.260Z",
          "2020-03-26T18:00:00.506Z",
          "2020-03-26T19:00:01.083Z",
          "2020-03-26T20:00:01.124Z",
          "2020-03-26T21:00:00.185Z",
          "2020-03-26T22:00:00.170Z",
          "2020-03-26T23:00:00.995Z",
          "2020-03-27T00:00:00.195Z",
          "2020-03-27T01:00:00.216Z",
          "2020-03-27T02:00:00.218Z",
          "2020-03-27T03:00:00.192Z",
          "2020-03-27T04:00:00.209Z",
          "2020-03-27T05:00:00.182Z",
          "2020-03-27T06:00:00.188Z",
          "2020-03-27T07:00:00.218Z",
          "2020-03-27T08:00:00.204Z",
          "2020-03-27T09:00:00.220Z",
          "2020-03-27T10:00:00.200Z",
          "2020-03-27T11:00:00.163Z",
          "2020-03-27T12:00:00.246Z",
          "2020-03-27T13:00:00.205Z",
          "2020-03-27T14:00:00.256Z",
          "2020-03-27T15:00:00.173Z",
          "2020-03-27T16:00:00.168Z",
          "2020-03-27T17:00:00.223Z",
          "2020-03-27T18:00:00.236Z",
          "2020-03-27T19:00:00.194Z",
          "2020-03-27T21:00:00.202Z",
          "2020-03-27T22:00:00.191Z",
          "2020-03-27T23:00:00.159Z",
          "2020-03-28T01:00:00.213Z",
          "2020-03-28T02:00:00.191Z",
          "2020-03-28T03:00:00.225Z",
          "2020-03-28T04:00:00.185Z",
          "2020-03-28T05:00:00.200Z",
          "2020-03-28T06:00:00.211Z",
          "2020-03-28T07:00:00.169Z",
          "2020-03-28T08:00:00.299Z",
          "2020-03-28T09:00:00.204Z",
          "2020-03-28T10:00:00.214Z",
          "2020-03-28T11:00:00.224Z",
          "2020-03-28T12:00:00.174Z",
          "2020-03-28T13:00:00.241Z",
          "2020-03-28T14:00:00.191Z",
          "2020-03-28T15:00:00.156Z",
          "2020-03-28T16:00:00.197Z",
          "2020-03-28T17:00:00.219Z",
          "2020-03-28T18:00:00.163Z",
          "2020-03-28T19:00:00.196Z",
          "2020-03-28T20:00:00.230Z",
          "2020-03-28T21:00:00.235Z",
          "2020-03-28T22:00:00.193Z",
          "2020-03-28T23:00:00.268Z",
          "2020-03-29T00:00:00.161Z",
          "2020-03-29T01:00:00.168Z",
          "2020-03-29T02:00:00.246Z",
          "2020-03-29T03:00:00.185Z",
          "2020-03-29T04:00:00.185Z",
          "2020-03-29T05:00:00.152Z",
          "2020-03-29T06:00:00.228Z",
          "2020-03-29T07:00:00.225Z",
          "2020-03-29T08:00:00.239Z",
          "2020-03-29T09:00:00.221Z",
          "2020-03-29T10:00:00.238Z",
          "2020-03-29T11:00:00.207Z",
          "2020-03-29T12:00:00.163Z",
          "2020-03-29T13:00:00.186Z",
          "2020-03-29T14:00:00.169Z",
          "2020-03-29T15:00:00.184Z",
          "2020-03-29T16:00:00.175Z",
          "2020-03-29T17:00:00.218Z",
          "2020-03-29T18:00:00.177Z",
          "2020-03-29T19:00:00.225Z",
          "2020-03-29T20:00:00.161Z",
          "2020-03-29T21:00:00.186Z",
          "2020-03-29T22:00:00.218Z",
          "2020-03-29T23:00:00.168Z",
          "2020-03-30T00:00:00.188Z",
          "2020-03-30T01:00:00.159Z",
          "2020-03-30T02:00:00.190Z",
          "2020-03-30T03:00:00.179Z",
          "2020-03-30T04:00:00.226Z",
          "2020-03-30T05:00:00.232Z",
          "2020-03-30T06:00:00.188Z",
          "2020-03-30T07:00:00.253Z",
          "2020-03-30T08:00:00.231Z",
          "2020-03-30T09:00:00.194Z",
          "2020-03-30T10:00:00.222Z",
          "2020-03-30T11:00:00.183Z",
          "2020-03-30T12:00:00.225Z",
          "2020-03-30T13:00:00.236Z",
          "2020-03-30T14:00:00.235Z",
          "2020-03-30T15:00:00.231Z",
          "2020-03-30T16:00:00.186Z",
          "2020-03-30T17:00:00.191Z",
          "2020-03-30T18:00:00.193Z",
          "2020-03-30T19:00:00.196Z",
          "2020-03-30T20:00:00.199Z",
          "2020-03-30T21:00:00.226Z",
          "2020-03-30T22:00:00.200Z",
          "2020-03-30T23:00:00.222Z",
          "2020-03-31T00:00:00.174Z",
          "2020-03-31T01:00:00.247Z",
          "2020-03-31T02:00:00.214Z",
          "2020-03-31T03:00:00.161Z",
          "2020-03-31T04:00:00.164Z",
          "2020-03-31T05:00:00.141Z",
          "2020-03-31T06:00:00.194Z",
          "2020-03-31T07:00:00.200Z",
          "2020-03-31T08:00:00.158Z",
          "2020-03-31T09:00:00.195Z",
          "2020-03-31T10:00:00.225Z",
          "2020-03-31T11:00:00.192Z",
          "2020-03-31T12:00:00.232Z",
          "2020-03-31T13:00:00.222Z",
          "2020-03-31T14:00:00.160Z",
          "2020-03-31T15:00:00.218Z",
          "2020-03-31T16:00:00.201Z",
          "2020-03-31T17:00:00.198Z",
          "2020-03-31T18:00:00.191Z",
          "2020-03-31T19:00:00.184Z",
          "2020-03-31T20:00:00.192Z",
          "2020-03-31T21:00:00.194Z",
          "2020-03-31T22:00:00.214Z",
          "2020-03-31T23:00:00.182Z",
          "2020-04-01T00:00:00.195Z",
          "2020-04-01T01:00:00.169Z",
          "2020-04-01T02:00:00.229Z",
          "2020-04-01T03:00:00.293Z",
          "2020-04-01T04:00:00.207Z",
          "2020-04-01T05:00:00.193Z",
          "2020-04-01T06:00:00.238Z",
          "2020-04-01T07:00:00.168Z",
          "2020-04-01T08:00:00.229Z",
          "2020-04-01T09:00:00.180Z",
          "2020-04-01T10:00:00.218Z",
          "2020-04-01T11:00:00.205Z",
          "2020-04-01T12:00:00.241Z",
          "2020-04-01T13:00:00.160Z",
          "2020-04-01T14:00:00.203Z",
          "2020-04-01T15:00:00.213Z",
          "2020-04-01T16:00:00.193Z",
          "2020-04-01T17:00:00.260Z",
          "2020-04-01T18:00:00.201Z",
          "2020-04-01T19:00:00.271Z",
          "2020-04-01T20:00:00.209Z",
          "2020-04-01T21:00:00.225Z",
          "2020-04-01T22:00:00.168Z",
          "2020-04-01T23:00:00.206Z",
          "2020-04-02T00:00:00.182Z",
          "2020-04-02T01:00:00.198Z",
          "2020-04-02T02:00:00.212Z",
          "2020-04-02T03:00:00.220Z",
          "2020-04-02T05:00:00.195Z",
          "2020-04-02T06:00:00.241Z",
          "2020-04-02T07:00:00.229Z",
          "2020-04-02T08:00:00.193Z",
          "2020-04-02T09:00:00.199Z",
          "2020-04-02T10:00:00.230Z",
          "2020-04-02T11:00:00.212Z",
          "2020-04-02T12:00:00.187Z",
          "2020-04-02T13:00:00.259Z",
          "2020-04-02T14:00:00.289Z",
          "2020-04-02T15:00:00.212Z",
          "2020-04-02T16:00:00.157Z",
          "2020-04-02T17:00:00.191Z",
          "2020-04-02T18:00:00.201Z",
          "2020-04-02T19:00:00.210Z",
          "2020-04-02T20:00:00.193Z",
          "2020-04-02T21:00:00.223Z",
          "2020-04-02T22:00:00.197Z",
          "2020-04-02T23:00:00.227Z",
          "2020-04-03T00:00:00.201Z",
          "2020-04-03T01:00:00.159Z",
          "2020-04-03T02:00:00.180Z",
          "2020-04-03T03:00:00.233Z",
          "2020-04-03T04:00:00.210Z",
          "2020-04-03T05:00:00.168Z",
          "2020-04-03T06:00:00.193Z",
          "2020-04-03T07:00:00.261Z",
          "2020-04-03T08:00:00.194Z",
          "2020-04-03T09:00:00.278Z",
          "2020-04-03T10:00:00.232Z",
          "2020-04-03T11:00:00.181Z",
          "2020-04-03T12:00:00.200Z",
          "2020-04-03T13:00:00.170Z",
          "2020-04-03T14:00:00.184Z",
          "2020-04-03T15:00:00.219Z",
          "2020-04-03T16:00:00.164Z",
          "2020-04-03T17:00:00.180Z",
          "2020-04-03T18:00:00.184Z",
          "2020-04-03T19:00:00.196Z",
          "2020-04-03T20:00:00.184Z",
          "2020-04-03T21:00:00.211Z",
          "2020-04-03T22:00:00.194Z",
          "2020-04-03T23:00:00.148Z",
          "2020-04-04T00:00:00.159Z",
          "2020-04-04T01:00:00.181Z",
          "2020-04-04T02:00:00.157Z",
          "2020-04-04T03:00:00.217Z",
          "2020-04-04T04:00:00.192Z",
          "2020-04-04T05:00:00.173Z",
          "2020-04-04T06:00:00.230Z",
          "2020-04-04T07:00:00.159Z",
          "2020-04-04T08:00:00.237Z",
          "2020-04-04T09:00:00.162Z",
          "2020-04-04T10:00:00.188Z",
          "2020-04-04T11:00:00.185Z",
          "2020-04-04T12:00:00.192Z",
          "2020-04-04T13:00:00.162Z",
          "2020-04-04T14:00:00.171Z",
          "2020-04-04T15:00:00.216Z",
          "2020-04-04T17:00:00.185Z",
          "2020-04-04T18:00:00.199Z",
          "2020-04-04T19:00:00.217Z",
          "2020-04-04T20:00:00.225Z",
          "2020-04-04T21:00:00.255Z",
          "2020-04-04T22:00:00.199Z",
          "2020-04-04T23:00:00.282Z",
          "2020-04-05T00:00:00.238Z",
          "2020-04-05T01:00:00.225Z",
          "2020-04-05T02:00:00.235Z",
          "2020-04-05T03:00:00.253Z",
          "2020-04-05T04:00:00.216Z",
          "2020-04-05T05:00:00.205Z",
          "2020-04-05T06:00:00.228Z",
          "2020-04-05T07:00:00.192Z",
          "2020-04-05T08:00:00.185Z",
          "2020-04-05T09:00:00.265Z",
          "2020-04-05T10:00:00.194Z",
          "2020-04-05T11:00:00.217Z",
          "2020-04-05T12:00:00.222Z",
          "2020-04-05T13:00:00.237Z",
          "2020-04-05T14:00:00.188Z",
          "2020-04-05T15:00:00.267Z",
          "2020-04-05T16:00:00.225Z",
          "2020-04-05T17:00:00.184Z",
          "2020-04-05T18:00:00.263Z",
          "2020-04-05T19:00:00.209Z",
          "2020-04-05T20:00:00.205Z",
          "2020-04-05T21:00:00.182Z",
          "2020-04-05T22:00:00.224Z",
          "2020-04-05T23:00:00.242Z",
          "2020-04-06T00:00:00.264Z",
          "2020-04-06T01:00:00.248Z",
          "2020-04-06T02:00:00.174Z",
          "2020-04-06T03:00:00.224Z",
          "2020-04-06T04:00:00.232Z",
          "2020-04-06T05:00:00.211Z",
          "2020-04-06T06:00:00.185Z",
          "2020-04-06T07:00:00.195Z",
          "2020-04-06T08:00:00.215Z",
          "2020-04-06T09:00:00.185Z",
          "2020-04-06T10:00:00.208Z",
          "2020-04-06T11:00:00.200Z",
          "2020-04-06T12:00:00.177Z",
          "2020-04-06T13:00:00.254Z",
          "2020-04-06T14:00:00.186Z",
          "2020-04-06T15:00:00.244Z",
          "2020-04-06T16:00:00.242Z",
          "2020-04-06T17:00:00.214Z",
          "2020-04-06T18:00:00.238Z",
          "2020-04-06T19:00:00.234Z",
          "2020-04-06T20:00:00.193Z",
          "2020-04-06T21:00:00.255Z",
          "2020-04-06T22:00:00.261Z",
          "2020-04-06T23:00:00.179Z",
          "2020-04-07T00:00:00.256Z",
          "2020-04-07T01:00:00.223Z",
          "2020-04-07T02:00:00.207Z",
          "2020-04-07T03:00:00.186Z",
          "2020-04-07T04:00:00.182Z",
          "2020-04-07T05:00:00.186Z",
          "2020-04-07T06:00:00.160Z",
          "2020-04-07T07:00:00.183Z",
          "2020-04-07T08:00:00.216Z",
          "2020-04-07T09:00:00.206Z",
          "2020-04-07T10:00:00.254Z",
          "2020-04-07T11:00:00.190Z",
          "2020-04-07T12:00:00.271Z",
          "2020-04-07T13:00:00.170Z",
          "2020-04-07T14:00:00.457Z",
          "2020-04-07T15:00:00.225Z",
          "2020-04-07T16:00:00.212Z",
          "2020-04-07T17:00:00.212Z",
          "2020-04-07T18:00:00.170Z",
          "2020-04-07T19:00:00.272Z",
          "2020-04-07T20:00:00.213Z",
          "2020-04-07T21:00:00.229Z",
          "2020-04-07T22:00:00.235Z",
          "2020-04-07T23:00:00.261Z",
          "2020-04-08T00:00:00.336Z",
          "2020-04-08T01:00:00.252Z",
          "2020-04-08T02:00:00.184Z",
          "2020-04-08T03:00:00.207Z",
          "2020-04-08T04:00:00.266Z",
          "2020-04-08T05:00:00.218Z",
          "2020-04-08T06:00:00.257Z",
          "2020-04-08T07:00:00.197Z",
          "2020-04-08T08:00:00.244Z",
          "2020-04-08T09:00:00.191Z",
          "2020-04-08T10:00:00.225Z",
          "2020-04-08T11:00:00.237Z",
          "2020-04-08T12:00:00.194Z",
          "2020-04-08T13:00:00.304Z",
          "2020-04-08T14:00:00.209Z",
          "2020-04-08T15:00:00.284Z",
          "2020-04-08T16:00:00.210Z",
          "2020-04-08T17:00:00.202Z",
          "2020-04-08T18:00:00.356Z",
          "2020-04-08T19:00:00.260Z",
          "2020-04-08T20:00:00.212Z",
          "2020-04-08T21:00:00.181Z",
          "2020-04-08T22:00:00.244Z",
          "2020-04-08T23:00:00.261Z",
          "2020-04-09T00:00:00.188Z",
          "2020-04-09T01:00:00.206Z",
          "2020-04-09T02:00:00.208Z",
          "2020-04-09T03:00:00.217Z",
          "2020-04-09T04:00:00.196Z",
          "2020-04-09T05:00:00.235Z",
          "2020-04-09T06:00:00.213Z",
          "2020-04-09T07:00:00.236Z",
          "2020-04-09T08:00:00.226Z",
          "2020-04-09T09:00:00.169Z",
          "2020-04-09T10:00:00.223Z",
          "2020-04-09T11:00:00.251Z",
          "2020-04-09T12:00:00.217Z",
          "2020-04-09T13:00:00.235Z",
          "2020-04-09T14:00:00.258Z",
          "2020-04-09T15:00:00.233Z",
          "2020-04-09T16:00:00.189Z",
          "2020-04-09T17:00:00.220Z",
          "2020-04-09T18:00:00.233Z",
          "2020-04-09T19:00:00.222Z",
          "2020-04-09T20:00:00.280Z",
          "2020-04-09T21:00:00.285Z",
          "2020-04-09T22:00:00.225Z",
          "2020-04-09T23:00:00.181Z",
          "2020-04-10T00:00:00.213Z",
          "2020-04-10T01:00:00.222Z",
          "2020-04-10T02:00:00.253Z",
          "2020-04-10T03:00:00.163Z",
          "2020-04-10T04:00:00.193Z",
          "2020-04-10T05:00:00.208Z",
          "2020-04-10T06:00:00.206Z",
          "2020-04-10T07:00:00.200Z",
          "2020-04-10T08:00:00.251Z",
          "2020-04-10T09:00:00.227Z",
          "2020-04-10T10:00:00.231Z",
          "2020-04-10T11:00:00.181Z",
          "2020-04-10T12:00:00.271Z",
          "2020-04-10T13:00:00.218Z",
          "2020-04-10T14:00:00.185Z",
          "2020-04-10T15:00:00.223Z",
          "2020-04-10T16:00:00.189Z",
          "2020-04-10T17:00:00.211Z",
          "2020-04-10T18:00:00.236Z",
          "2020-04-10T19:00:00.213Z",
          "2020-04-10T20:00:00.190Z",
          "2020-04-10T21:00:00.182Z",
          "2020-04-10T22:00:00.212Z",
          "2020-04-10T23:00:00.185Z",
          "2020-04-11T00:00:00.202Z",
          "2020-04-11T01:00:00.229Z",
          "2020-04-11T02:00:00.265Z",
          "2020-04-11T03:00:00.193Z",
          "2020-04-11T04:00:00.199Z",
          "2020-04-11T05:00:00.176Z",
          "2020-04-11T06:00:00.230Z",
          "2020-04-11T07:00:00.226Z",
          "2020-04-11T08:00:00.196Z",
          "2020-04-11T09:00:00.281Z",
          "2020-04-11T10:00:00.226Z",
          "2020-04-11T11:00:00.259Z",
          "2020-04-11T12:00:00.277Z",
          "2020-04-11T13:00:00.253Z",
          "2020-04-11T14:00:00.189Z",
          "2020-04-11T15:00:00.222Z",
          "2020-04-11T16:00:00.193Z",
          "2020-04-11T17:00:00.213Z",
          "2020-04-11T18:00:00.264Z",
          "2020-04-11T19:00:00.178Z",
          "2020-04-11T20:00:00.235Z",
          "2020-04-11T21:00:00.257Z",
          "2020-04-11T22:00:00.247Z",
          "2020-04-11T23:00:00.217Z",
          "2020-04-12T00:00:00.224Z",
          "2020-04-12T01:00:00.262Z",
          "2020-04-12T02:00:00.185Z",
          "2020-04-12T03:00:00.219Z",
          "2020-04-12T04:00:00.192Z",
          "2020-04-12T05:00:00.173Z",
          "2020-04-12T06:00:00.256Z",
          "2020-04-12T07:00:00.237Z",
          "2020-04-12T08:00:00.177Z",
          "2020-04-12T09:00:00.225Z",
          "2020-04-12T10:00:00.258Z",
          "2020-04-12T11:00:00.252Z",
          "2020-04-12T12:00:00.187Z",
          "2020-04-12T13:00:00.211Z",
          "2020-04-12T14:00:00.230Z",
          "2020-04-12T15:00:00.182Z",
          "2020-04-12T16:00:00.273Z",
          "2020-04-12T17:00:00.246Z",
          "2020-04-12T18:00:00.193Z",
          "2020-04-12T19:00:00.187Z",
          "2020-04-12T20:00:00.207Z",
          "2020-04-12T21:00:00.213Z",
          "2020-04-12T22:00:00.205Z",
          "2020-04-12T23:00:00.251Z",
          "2020-04-13T00:00:00.241Z",
          "2020-04-13T01:00:00.214Z",
          "2020-04-13T02:00:00.244Z",
          "2020-04-13T03:00:00.244Z",
          "2020-04-13T04:00:00.245Z",
          "2020-04-13T05:00:00.228Z",
          "2020-04-13T06:00:00.261Z",
          "2020-04-13T07:00:00.231Z",
          "2020-04-13T08:00:00.250Z",
          "2020-04-13T09:00:00.223Z",
          "2020-04-13T10:00:00.226Z",
          "2020-04-13T11:00:00.202Z",
          "2020-04-13T12:00:00.180Z",
          "2020-04-13T13:00:00.170Z",
          "2020-04-13T14:00:00.209Z",
          "2020-04-13T15:00:00.230Z",
          "2020-04-13T16:00:00.212Z",
          "2020-04-13T17:00:00.233Z",
          "2020-04-13T18:00:00.261Z",
          "2020-04-13T19:00:00.275Z",
          "2020-04-13T20:00:00.177Z",
          "2020-04-13T21:00:00.223Z",
          "2020-04-13T22:00:00.224Z",
          "2020-04-13T23:00:00.242Z",
          "2020-04-14T00:00:00.214Z",
          "2020-04-14T01:00:00.220Z",
          "2020-04-14T02:00:00.242Z",
          "2020-04-14T03:00:00.257Z",
          "2020-04-14T04:00:00.207Z",
          "2020-04-14T05:00:00.209Z",
          "2020-04-14T06:00:00.215Z",
          "2020-04-14T07:00:00.227Z",
          "2020-04-14T08:00:00.215Z",
          "2020-04-14T09:00:00.254Z",
          "2020-04-14T10:00:00.226Z",
          "2020-04-14T11:00:00.177Z",
          "2020-04-14T12:00:00.381Z",
          "2020-04-14T13:00:00.180Z",
          "2020-04-14T14:00:00.244Z",
          "2020-04-14T15:00:00.227Z",
          "2020-04-14T16:00:00.295Z",
          "2020-04-14T17:00:00.224Z",
          "2020-04-14T18:00:00.223Z",
          "2020-04-14T19:00:00.220Z",
          "2020-04-14T20:00:00.218Z",
          "2020-04-14T21:00:00.233Z",
          "2020-04-14T22:00:00.219Z",
          "2020-04-14T23:00:00.245Z",
          "2020-04-15T00:00:00.254Z",
          "2020-04-15T01:00:00.189Z",
          "2020-04-15T02:00:00.206Z",
          "2020-04-15T03:00:00.179Z",
          "2020-04-15T04:00:00.227Z",
          "2020-04-15T05:00:00.261Z",
          "2020-04-15T06:00:00.188Z",
          "2020-04-15T07:00:00.229Z",
          "2020-04-15T08:00:00.204Z",
          "2020-04-15T09:00:00.190Z",
          "2020-04-15T10:00:00.212Z",
          "2020-04-15T11:00:00.238Z",
          "2020-04-15T12:00:00.249Z",
          "2020-04-15T13:00:00.239Z",
          "2020-04-15T14:00:00.212Z",
          "2020-04-15T15:00:00.258Z",
          "2020-04-15T16:00:00.219Z",
          "2020-04-15T17:00:00.184Z",
          "2020-04-15T18:00:00.197Z",
          "2020-04-15T19:00:00.303Z",
          "2020-04-15T20:00:00.243Z",
          "2020-04-15T21:00:00.221Z",
          "2020-04-15T22:00:00.246Z",
          "2020-04-15T23:00:00.246Z",
          "2020-04-16T00:00:00.185Z",
          "2020-04-16T01:00:00.265Z",
          "2020-04-16T02:00:00.175Z",
          "2020-04-16T03:00:00.201Z",
          "2020-04-16T04:00:00.216Z",
          "2020-04-16T05:00:00.225Z",
          "2020-04-16T06:00:00.237Z",
          "2020-04-16T07:00:00.263Z",
          "2020-04-16T08:00:00.240Z",
          "2020-04-16T09:00:00.214Z",
          "2020-04-16T10:00:00.193Z",
          "2020-04-16T11:00:00.213Z",
          "2020-04-16T12:00:00.229Z",
          "2020-04-16T13:00:00.229Z",
          "2020-04-16T14:00:00.265Z",
          "2020-04-16T15:00:00.264Z",
          "2020-04-16T16:00:00.237Z",
          "2020-04-16T17:00:00.201Z",
          "2020-04-16T18:00:00.226Z",
          "2020-04-16T19:00:00.217Z",
          "2020-04-16T20:00:00.257Z",
          "2020-04-16T21:00:00.180Z",
          "2020-04-16T22:00:00.178Z",
          "2020-04-16T23:00:00.222Z",
          "2020-04-17T00:00:00.247Z",
          "2020-04-17T01:00:00.210Z",
          "2020-04-17T02:00:00.211Z",
          "2020-04-17T03:00:00.261Z",
          "2020-04-17T04:00:00.265Z",
          "2020-04-17T05:00:00.222Z",
          "2020-04-17T06:00:00.224Z",
          "2020-04-17T07:00:00.285Z",
          "2020-04-17T08:00:00.235Z",
          "2020-04-17T09:00:00.230Z",
          "2020-04-17T10:00:00.257Z",
          "2020-04-17T11:00:00.261Z",
          "2020-04-17T12:00:00.309Z",
          "2020-04-17T13:00:00.191Z",
          "2020-04-17T14:00:00.225Z",
          "2020-04-17T15:00:00.263Z",
          "2020-04-17T16:00:00.221Z",
          "2020-04-17T17:00:00.283Z",
          "2020-04-17T18:00:00.224Z",
          "2020-04-17T19:00:00.256Z",
          "2020-04-17T20:00:00.265Z",
          "2020-04-17T21:00:00.253Z",
          "2020-04-17T22:00:00.218Z",
          "2020-04-17T23:00:00.251Z",
          "2020-04-18T00:00:00.230Z",
          "2020-04-18T01:00:00.219Z",
          "2020-04-18T02:00:00.173Z",
          "2020-04-18T03:00:00.190Z",
          "2020-04-18T04:00:00.172Z",
          "2020-04-18T05:00:00.214Z",
          "2020-04-18T06:00:00.190Z",
          "2020-04-18T07:00:00.255Z",
          "2020-04-18T08:00:00.201Z",
          "2020-04-18T09:00:00.229Z",
          "2020-04-18T10:00:00.223Z",
          "2020-04-18T11:00:00.195Z",
          "2020-04-18T12:00:00.227Z",
          "2020-04-18T13:00:00.218Z",
          "2020-04-18T14:00:00.228Z",
          "2020-04-18T15:00:00.281Z",
          "2020-04-18T16:00:00.225Z",
          "2020-04-18T17:00:00.226Z",
          "2020-04-18T18:00:00.224Z",
          "2020-04-18T19:00:00.161Z",
          "2020-04-18T20:00:00.187Z",
          "2020-04-18T21:00:00.226Z",
          "2020-04-18T22:00:00.239Z",
          "2020-04-18T23:00:00.225Z",
          "2020-04-19T00:00:00.158Z",
          "2020-04-19T01:00:00.215Z",
          "2020-04-19T02:00:00.237Z",
          "2020-04-19T03:00:00.182Z",
          "2020-04-19T04:00:00.206Z",
          "2020-04-19T05:00:00.226Z",
          "2020-04-19T06:00:00.177Z",
          "2020-04-19T07:00:00.263Z",
          "2020-04-19T08:00:00.213Z",
          "2020-04-19T09:00:00.186Z",
          "2020-04-19T10:00:00.193Z",
          "2020-04-19T11:00:00.217Z",
          "2020-04-19T12:00:00.176Z",
          "2020-04-19T13:00:00.240Z",
          "2020-04-19T14:00:00.267Z",
          "2020-04-19T15:00:00.187Z",
          "2020-04-19T16:00:00.177Z",
          "2020-04-19T17:00:00.248Z",
          "2020-04-19T18:00:00.269Z",
          "2020-04-19T19:00:00.216Z",
          "2020-04-19T20:00:00.189Z",
          "2020-04-19T21:00:00.272Z",
          "2020-04-19T22:00:00.274Z",
          "2020-04-19T23:00:00.222Z",
          "2020-04-20T00:00:00.251Z",
          "2020-04-20T01:00:00.244Z",
          "2020-04-20T02:00:00.181Z",
          "2020-04-20T03:00:00.238Z",
          "2020-04-20T04:00:00.213Z",
          "2020-04-20T05:00:00.205Z",
          "2020-04-20T06:00:00.223Z",
          "2020-04-20T07:00:00.182Z",
          "2020-04-20T08:00:00.211Z",
          "2020-04-20T09:00:00.231Z",
          "2020-04-20T10:00:00.234Z",
          "2020-04-20T11:00:00.214Z",
          "2020-04-20T12:00:00.354Z",
          "2020-04-20T13:00:00.238Z",
          "2020-04-20T14:00:00.187Z",
          "2020-04-20T15:00:00.222Z",
          "2020-04-20T16:00:00.263Z",
          "2020-04-20T17:00:00.191Z",
          "2020-04-20T18:00:00.225Z",
          "2020-04-20T19:00:00.257Z",
          "2020-04-20T20:00:00.269Z",
          "2020-04-20T21:00:00.179Z",
          "2020-04-20T22:00:00.167Z",
          "2020-04-20T23:00:00.186Z",
          "2020-04-21T00:00:00.227Z",
          "2020-04-21T01:00:00.239Z",
          "2020-04-21T02:00:00.224Z",
          "2020-04-21T03:00:00.237Z",
          "2020-04-21T04:00:00.276Z",
          "2020-04-21T05:00:00.212Z",
          "2020-04-21T06:00:00.215Z",
          "2020-04-21T07:00:00.237Z",
          "2020-04-21T08:00:00.299Z",
          "2020-04-21T09:00:00.262Z",
          "2020-04-21T10:00:00.234Z",
          "2020-04-21T11:00:00.219Z",
          "2020-04-21T12:00:00.199Z",
          "2020-04-21T13:00:00.260Z",
          "2020-04-21T14:00:00.265Z",
          "2020-04-21T15:00:00.208Z",
          "2020-04-21T16:00:00.278Z",
          "2020-04-21T17:00:00.208Z",
          "2020-04-21T18:00:00.190Z",
          "2020-04-21T19:00:00.264Z",
          "2020-04-21T20:00:00.222Z",
          "2020-04-21T21:00:00.215Z",
          "2020-04-21T22:00:00.219Z",
          "2020-04-21T23:00:00.206Z",
          "2020-04-22T00:00:00.207Z",
          "2020-04-22T01:00:00.220Z",
          "2020-04-22T02:00:00.203Z",
          "2020-04-22T03:00:00.213Z",
          "2020-04-22T04:00:00.201Z",
          "2020-04-22T05:00:00.248Z",
          "2020-04-22T06:00:00.189Z",
          "2020-04-22T07:00:00.223Z",
          "2020-04-22T08:00:00.223Z",
          "2020-04-22T09:00:00.223Z",
          "2020-04-22T10:00:00.245Z",
          "2020-04-22T11:00:00.284Z",
          "2020-04-22T12:00:00.259Z",
          "2020-04-22T13:00:00.263Z",
          "2020-04-22T14:00:00.214Z",
          "2020-04-22T15:00:00.256Z",
          "2020-04-22T16:00:00.214Z",
          "2020-04-22T17:00:00.178Z",
          "2020-04-22T18:00:00.225Z",
          "2020-04-22T19:00:00.246Z",
          "2020-04-22T20:00:00.195Z",
          "2020-04-22T21:00:00.215Z",
          "2020-04-22T22:00:00.243Z",
          "2020-04-22T23:00:00.257Z",
          "2020-04-23T00:00:00.163Z",
          "2020-04-23T01:00:00.201Z",
          "2020-04-23T02:00:00.254Z",
          "2020-04-23T03:00:00.238Z",
          "2020-04-23T04:00:00.218Z",
          "2020-04-23T05:00:00.261Z",
          "2020-04-23T06:00:00.254Z",
          "2020-04-23T07:00:00.227Z",
          "2020-04-23T08:00:00.193Z",
          "2020-04-23T09:00:00.181Z",
          "2020-04-23T10:00:00.190Z",
          "2020-04-23T11:00:00.222Z",
          "2020-04-23T12:00:00.266Z",
          "2020-04-23T13:00:00.307Z",
          "2020-04-23T14:00:00.268Z",
          "2020-04-23T15:00:00.251Z",
          "2020-04-23T16:00:00.268Z",
          "2020-04-23T17:00:00.272Z",
          "2020-04-23T18:00:00.264Z",
          "2020-04-23T19:00:00.259Z",
          "2020-04-23T20:00:00.251Z",
          "2020-04-23T21:00:00.248Z",
          "2020-04-23T22:00:00.248Z",
          "2020-04-23T23:00:00.281Z",
          "2020-04-24T00:00:00.256Z",
          "2020-04-24T01:00:00.254Z",
          "2020-04-24T02:00:00.246Z",
          "2020-04-24T03:00:00.248Z",
          "2020-04-24T04:00:00.257Z",
          "2020-04-24T05:00:00.168Z",
          "2020-04-24T06:00:00.215Z",
          "2020-04-24T07:00:00.248Z",
          "2020-04-24T08:00:00.204Z",
          "2020-04-24T09:00:00.243Z",
          "2020-04-24T10:00:00.269Z",
          "2020-04-24T11:00:00.237Z",
          "2020-04-24T12:00:00.225Z",
          "2020-04-24T13:00:00.218Z",
          "2020-04-24T14:00:00.218Z",
          "2020-04-24T15:00:00.394Z",
          "2020-04-24T16:00:00.186Z",
          "2020-04-24T17:00:00.219Z",
          "2020-04-24T18:00:00.173Z",
          "2020-04-24T19:00:00.233Z",
          "2020-04-24T20:00:00.198Z",
          "2020-04-24T21:00:00.174Z",
          "2020-04-24T22:00:00.184Z",
          "2020-04-24T23:00:00.224Z",
          "2020-04-25T00:00:00.270Z",
          "2020-04-25T01:00:00.212Z",
          "2020-04-25T02:00:00.224Z",
          "2020-04-25T03:00:00.177Z",
          "2020-04-25T04:00:00.223Z",
          "2020-04-25T05:00:00.215Z",
          "2020-04-25T06:00:00.259Z",
          "2020-04-25T07:00:00.189Z",
          "2020-04-25T08:00:00.179Z",
          "2020-04-25T09:00:00.227Z",
          "2020-04-25T10:00:00.195Z",
          "2020-04-25T11:00:00.185Z",
          "2020-04-25T12:00:00.251Z",
          "2020-04-25T13:00:00.257Z",
          "2020-04-25T14:00:01.516Z",
          "2020-04-25T15:00:00.185Z",
          "2020-04-25T16:00:00.190Z",
          "2020-04-25T17:00:00.243Z",
          "2020-04-25T18:00:00.254Z",
          "2020-04-25T19:00:00.229Z",
          "2020-04-25T20:00:00.224Z",
          "2020-04-25T21:00:00.359Z",
          "2020-04-25T22:00:00.175Z",
          "2020-04-25T23:00:00.230Z",
          "2020-04-26T00:00:00.255Z",
          "2020-04-26T01:00:00.252Z",
          "2020-04-26T02:00:00.184Z",
          "2020-04-26T03:00:00.206Z",
          "2020-04-26T04:00:00.168Z",
          "2020-04-26T05:00:00.210Z",
          "2020-04-26T06:00:00.204Z",
          "2020-04-26T07:00:00.259Z",
          "2020-04-26T08:00:00.247Z",
          "2020-04-26T09:00:00.205Z",
          "2020-04-26T10:00:00.220Z",
          "2020-04-26T11:00:00.176Z",
          "2020-04-26T12:00:00.267Z",
          "2020-04-26T13:00:00.268Z",
          "2020-04-26T14:00:00.207Z",
          "2020-04-26T15:00:00.220Z",
          "2020-04-26T16:00:00.268Z",
          "2020-04-26T17:00:00.224Z",
          "2020-04-26T18:00:00.247Z",
          "2020-04-26T19:00:00.207Z",
          "2020-04-26T20:00:00.235Z",
          "2020-04-26T21:00:00.207Z",
          "2020-04-26T22:00:00.263Z",
          "2020-04-26T23:00:00.243Z",
          "2020-04-27T00:00:00.208Z",
          "2020-04-27T01:00:00.171Z",
          "2020-04-27T02:00:00.213Z",
          "2020-04-27T03:00:00.222Z",
          "2020-04-27T04:00:00.202Z",
          "2020-04-27T05:00:00.197Z",
          "2020-04-27T06:00:00.216Z",
          "2020-04-27T07:00:00.273Z",
          "2020-04-27T08:00:01.783Z",
          "2020-04-27T09:00:00.217Z",
          "2020-04-27T10:00:00.222Z",
          "2020-04-27T11:00:00.228Z",
          "2020-04-27T12:00:00.234Z",
          "2020-04-27T13:00:00.184Z",
          "2020-04-27T14:00:00.184Z",
          "2020-04-27T15:00:00.205Z",
          "2020-04-27T16:00:00.270Z",
          "2020-04-27T17:00:00.232Z",
          "2020-04-27T18:00:00.195Z",
          "2020-04-27T19:00:00.267Z",
          "2020-04-27T20:00:00.237Z",
          "2020-04-27T21:00:00.215Z",
          "2020-04-27T22:00:00.214Z",
          "2020-04-27T23:00:00.211Z",
          "2020-04-28T00:00:00.209Z",
          "2020-04-28T01:00:00.213Z",
          "2020-04-28T02:00:00.210Z",
          "2020-04-28T03:00:00.184Z",
          "2020-04-28T04:00:00.216Z",
          "2020-04-28T05:00:00.263Z",
          "2020-04-28T06:00:00.240Z",
          "2020-04-28T07:00:00.236Z",
          "2020-04-28T08:00:00.188Z",
          "2020-04-28T09:00:00.176Z",
          "2020-04-28T10:00:00.234Z",
          "2020-04-28T11:00:00.192Z",
          "2020-04-28T12:00:00.187Z",
          "2020-04-28T13:00:00.226Z",
          "2020-04-28T14:00:00.254Z",
          "2020-04-28T15:00:00.236Z",
          "2020-04-28T16:00:00.194Z",
          "2020-04-28T17:00:00.249Z",
          "2020-04-28T18:00:00.230Z",
          "2020-04-28T19:00:00.252Z",
          "2020-04-28T20:00:00.176Z",
          "2020-04-28T21:00:00.214Z",
          "2020-04-28T22:00:00.202Z",
          "2020-04-28T23:00:00.206Z",
          "2020-04-29T00:00:00.209Z",
          "2020-04-29T01:00:00.214Z",
          "2020-04-29T02:00:00.206Z",
          "2020-04-29T03:00:00.212Z",
          "2020-04-29T04:00:00.213Z",
          "2020-04-29T05:00:00.256Z",
          "2020-04-29T06:00:00.268Z",
          "2020-04-29T07:00:00.209Z",
          "2020-04-29T08:00:00.217Z",
          "2020-04-29T09:00:00.247Z",
          "2020-04-29T10:00:00.253Z",
          "2020-04-29T11:00:00.279Z",
          "2020-04-29T12:00:00.246Z",
          "2020-04-29T13:00:00.214Z",
          "2020-04-29T14:00:00.192Z",
          "2020-04-29T15:00:00.199Z",
          "2020-04-29T17:00:00.182Z",
          "2020-04-29T18:00:00.173Z",
          "2020-04-29T19:00:00.223Z",
          "2020-04-29T20:00:00.237Z",
          "2020-04-29T21:00:00.244Z",
          "2020-04-29T22:00:00.215Z",
          "2020-04-29T23:00:00.245Z",
          "2020-04-30T00:00:00.215Z",
          "2020-04-30T01:00:05.257Z",
          "2020-04-30T02:00:00.214Z",
          "2020-04-30T03:00:00.217Z",
          "2020-04-30T04:00:00.206Z",
          "2020-04-30T05:00:00.260Z",
          "2020-04-30T06:00:00.210Z",
          "2020-04-30T07:00:00.277Z",
          "2020-04-30T08:00:00.262Z",
          "2020-04-30T09:00:00.225Z",
          "2020-04-30T10:00:00.234Z",
          "2020-04-30T11:00:00.192Z",
          "2020-04-30T12:00:00.193Z",
          "2020-04-30T13:00:00.227Z",
          "2020-04-30T14:00:00.229Z",
          "2020-04-30T15:00:00.256Z",
          "2020-04-30T16:00:00.219Z",
          "2020-04-30T17:00:00.221Z",
          "2020-04-30T18:00:00.230Z",
          "2020-04-30T19:00:00.214Z",
          "2020-04-30T20:00:00.220Z",
          "2020-04-30T21:00:00.184Z",
          "2020-04-30T22:00:00.218Z",
          "2020-04-30T23:00:00.202Z",
          "2020-05-01T00:00:00.207Z",
          "2020-05-01T01:00:00.176Z",
          "2020-05-01T02:00:00.213Z",
          "2020-05-01T03:00:00.216Z",
          "2020-05-01T04:00:00.244Z",
          "2020-05-01T05:00:00.207Z",
          "2020-05-01T06:00:00.245Z",
          "2020-05-01T07:00:00.254Z",
          "2020-05-01T08:00:00.221Z",
          "2020-05-01T09:00:00.186Z",
          "2020-05-01T10:00:00.206Z",
          "2020-05-01T11:00:00.197Z",
          "2020-05-01T12:00:00.194Z",
          "2020-05-01T13:00:00.256Z",
          "2020-05-01T14:00:00.250Z",
          "2020-05-01T15:00:00.227Z",
          "2020-05-01T16:00:00.260Z",
          "2020-05-01T17:00:00.194Z",
          "2020-05-01T18:00:00.250Z",
          "2020-05-01T19:00:00.250Z",
          "2020-05-01T20:00:00.220Z",
          "2020-05-01T21:00:00.185Z",
          "2020-05-01T22:00:00.220Z",
          "2020-05-01T23:00:00.175Z",
          "2020-05-02T00:00:00.205Z",
          "2020-05-02T01:00:00.219Z",
          "2020-05-02T02:00:00.247Z",
          "2020-05-02T03:00:00.178Z",
          "2020-05-02T04:00:00.191Z",
          "2020-05-02T05:00:00.249Z",
          "2020-05-02T06:00:00.224Z",
          "2020-05-02T07:00:00.244Z",
          "2020-05-02T08:00:00.222Z",
          "2020-05-02T09:00:00.225Z",
          "2020-05-02T10:00:00.223Z",
          "2020-05-02T11:00:00.213Z",
          "2020-05-02T12:00:00.200Z",
          "2020-05-02T13:00:00.224Z",
          "2020-05-02T14:00:00.195Z",
          "2020-05-02T15:00:00.225Z",
          "2020-05-02T16:00:00.231Z",
          "2020-05-02T17:00:00.190Z",
          "2020-05-02T18:00:00.176Z",
          "2020-05-02T19:00:00.252Z",
          "2020-05-02T20:00:00.184Z",
          "2020-05-02T21:00:00.215Z",
          "2020-05-02T22:00:00.211Z",
          "2020-05-02T23:00:00.165Z",
          "2020-05-03T00:00:00.208Z",
          "2020-05-03T01:00:00.260Z",
          "2020-05-03T02:00:00.197Z",
          "2020-05-03T03:00:00.225Z",
          "2020-05-03T04:00:01.076Z",
          "2020-05-03T05:00:00.215Z",
          "2020-05-03T06:00:00.191Z",
          "2020-05-03T07:00:00.222Z",
          "2020-05-03T08:00:00.188Z",
          "2020-05-03T09:00:00.246Z",
          "2020-05-03T10:00:00.178Z",
          "2020-05-03T11:00:00.218Z",
          "2020-05-03T12:00:00.252Z",
          "2020-05-03T13:00:00.211Z",
          "2020-05-03T14:00:00.213Z",
          "2020-05-03T15:00:00.207Z",
          "2020-05-03T16:00:00.253Z",
          "2020-05-03T17:00:00.217Z",
          "2020-05-03T18:00:00.180Z",
          "2020-05-03T19:00:00.253Z",
          "2020-05-03T20:00:00.173Z",
          "2020-05-03T21:00:00.225Z",
          "2020-05-03T22:00:00.194Z",
          "2020-05-03T23:00:00.232Z",
          "2020-05-04T00:00:00.236Z",
          "2020-05-04T01:00:00.173Z",
          "2020-05-04T02:00:00.200Z",
          "2020-05-04T03:00:01.669Z",
          "2020-05-04T04:00:00.176Z",
          "2020-05-04T05:00:00.191Z",
          "2020-05-04T06:00:00.183Z",
          "2020-05-04T07:00:00.202Z",
          "2020-05-04T08:00:00.231Z",
          "2020-05-04T09:00:00.221Z",
          "2020-05-04T10:00:00.245Z",
          "2020-05-04T11:00:00.191Z",
          "2020-05-04T12:00:00.267Z",
          "2020-05-04T13:00:00.218Z",
          "2020-05-04T14:00:00.172Z",
          "2020-05-04T15:00:00.210Z",
          "2020-05-04T16:00:00.205Z",
          "2020-05-04T17:00:00.258Z",
          "2020-05-04T18:00:00.246Z",
          "2020-05-04T19:00:00.187Z",
          "2020-05-04T20:00:00.211Z",
          "2020-05-04T21:00:00.226Z",
          "2020-05-04T22:00:00.173Z",
          "2020-05-04T23:00:00.198Z",
          "2020-05-05T00:00:00.178Z",
          "2020-05-05T01:00:00.233Z",
          "2020-05-05T02:00:00.179Z",
          "2020-05-05T03:00:00.183Z",
          "2020-05-05T04:00:00.203Z",
          "2020-05-05T05:00:00.208Z",
          "2020-05-05T06:00:00.218Z",
          "2020-05-05T07:00:00.178Z",
          "2020-05-05T08:00:00.244Z",
          "2020-05-05T09:00:00.197Z",
          "2020-05-05T10:00:00.215Z",
          "2020-05-05T11:00:00.205Z",
          "2020-05-05T12:00:00.258Z",
          "2020-05-05T13:00:00.218Z",
          "2020-05-05T14:00:00.234Z",
          "2020-05-05T15:00:00.177Z",
          "2020-05-05T16:00:00.177Z",
          "2020-05-05T17:00:00.227Z",
          "2020-05-05T18:00:00.222Z",
          "2020-05-05T19:00:00.209Z",
          "2020-05-05T20:00:00.359Z",
          "2020-05-05T21:00:00.185Z",
          "2020-05-05T22:00:00.234Z",
          "2020-05-05T23:00:00.218Z",
          "2020-05-06T00:00:00.208Z",
          "2020-05-06T01:00:00.179Z",
          "2020-05-06T02:00:00.211Z",
          "2020-05-06T03:00:00.251Z",
          "2020-05-06T04:00:00.266Z",
          "2020-05-06T05:00:00.213Z",
          "2020-05-06T06:00:00.189Z",
          "2020-05-06T07:00:00.224Z",
          "2020-05-06T08:00:00.216Z",
          "2020-05-06T09:00:00.233Z",
          "2020-05-06T09:00:00.666Z",
          "2020-05-06T10:00:00.235Z",
          "2020-05-06T10:00:09.342Z",
          "2020-05-06T11:00:00.190Z",
          "2020-05-06T11:00:01.632Z",
          "2020-05-06T12:00:00.255Z",
          "2020-05-06T12:00:00.772Z",
          "2020-05-06T13:00:00.252Z",
          "2020-05-06T13:00:00.775Z",
          "2020-05-06T14:00:00.229Z",
          "2020-05-06T14:31:20.818Z",
          "2020-05-06T15:00:00.281Z",
          "2020-05-06T15:12:38.238Z",
          "2020-05-06T16:00:00.223Z",
          "2020-05-06T16:00:00.630Z",
          "2020-05-06T17:00:00.213Z",
          "2020-05-06T17:00:49.384Z",
          "2020-05-06T18:00:00.240Z",
          "2020-05-06T19:00:00.185Z",
          "2020-05-06T20:00:00.184Z",
          "2020-05-06T21:00:01.695Z",
          "2020-05-06T22:00:00.215Z",
          "2020-05-06T23:00:00.210Z",
          "2020-05-07T00:00:00.166Z",
          "2020-05-07T01:00:00.211Z",
          "2020-05-07T02:00:00.201Z",
          "2020-05-07T03:00:00.247Z",
          "2020-05-07T04:00:00.215Z",
          "2020-05-07T05:00:00.213Z",
          "2020-05-07T06:00:00.248Z",
          "2020-05-07T07:00:00.252Z",
          "2020-05-07T08:00:00.229Z",
          "2020-05-07T09:00:00.223Z",
          "2020-05-07T10:00:00.247Z",
          "2020-05-07T11:00:00.225Z",
          "2020-05-07T12:00:00.277Z",
          "2020-05-07T13:00:00.180Z",
          "2020-05-07T14:00:00.171Z",
          "2020-05-07T15:00:00.530Z",
          "2020-05-07T16:00:00.235Z",
          "2020-05-07T17:00:00.210Z",
          "2020-05-07T18:00:00.237Z",
          "2020-05-07T19:00:00.213Z",
          "2020-05-07T20:00:00.177Z",
          "2020-05-07T21:00:00.190Z",
          "2020-05-07T22:00:00.218Z",
          "2020-05-07T23:00:00.177Z",
          "2020-05-08T00:00:00.209Z",
          "2020-05-08T01:00:00.208Z",
          "2020-05-08T02:00:00.227Z",
          "2020-05-08T03:00:00.244Z",
          "2020-05-08T04:00:00.217Z",
          "2020-05-08T05:00:00.269Z",
          "2020-05-08T06:00:00.212Z",
          "2020-05-08T07:00:00.176Z",
          "2020-05-08T08:00:00.169Z",
          "2020-05-08T09:00:00.179Z",
          "2020-05-08T10:00:00.179Z",
          "2020-05-08T11:00:00.190Z",
          "2020-05-08T12:00:00.231Z",
          "2020-05-08T13:00:00.181Z",
          "2020-05-08T14:00:00.160Z",
          "2020-05-08T15:00:00.220Z",
          "2020-05-08T16:00:00.233Z",
          "2020-05-08T17:00:00.180Z",
          "2020-05-08T18:00:00.158Z",
          "2020-05-08T19:00:00.223Z",
          "2020-05-08T20:00:00.200Z",
          "2020-05-08T21:00:00.209Z",
          "2020-05-08T22:00:00.200Z",
          "2020-05-08T23:00:00.249Z",
          "2020-05-09T00:00:00.187Z",
          "2020-05-09T01:00:00.238Z",
          "2020-05-09T02:00:00.168Z",
          "2020-05-09T03:00:00.165Z",
          "2020-05-09T04:00:00.201Z",
          "2020-05-09T05:00:00.249Z",
          "2020-05-09T06:00:00.168Z",
          "2020-05-09T07:00:00.199Z",
          "2020-05-09T08:00:00.206Z",
          "2020-05-09T09:00:00.238Z",
          "2020-05-09T10:00:00.221Z",
          "2020-05-09T11:00:00.179Z",
          "2020-05-09T12:00:00.208Z",
          "2020-05-09T13:00:00.212Z",
          "2020-05-09T14:00:00.172Z",
          "2020-05-09T15:00:00.195Z",
          "2020-05-09T16:00:00.220Z",
          "2020-05-09T17:00:00.235Z",
          "2020-05-09T18:00:00.244Z",
          "2020-05-09T19:00:00.212Z",
          "2020-05-09T20:00:00.166Z",
          "2020-05-09T21:00:00.223Z",
          "2020-05-09T22:00:00.175Z",
          "2020-05-09T23:00:00.255Z",
          "2020-05-10T00:00:00.179Z",
          "2020-05-10T01:00:00.254Z",
          "2020-05-10T02:00:00.173Z",
          "2020-05-10T03:00:00.210Z",
          "2020-05-10T04:00:00.252Z",
          "2020-05-10T05:00:00.217Z",
          "2020-05-10T06:00:00.210Z",
          "2020-05-10T07:00:00.210Z",
          "2020-05-10T08:00:00.257Z",
          "2020-05-10T09:00:00.220Z",
          "2020-05-10T10:00:00.208Z",
          "2020-05-10T11:00:00.228Z",
          "2020-05-10T12:00:00.217Z",
          "2020-05-10T13:00:00.196Z",
          "2020-05-10T14:00:00.252Z",
          "2020-05-10T15:00:00.224Z",
          "2020-05-10T16:00:00.256Z",
          "2020-05-10T17:00:00.239Z",
          "2020-05-10T18:00:00.235Z",
          "2020-05-10T19:00:00.226Z",
          "2020-05-10T20:00:00.175Z",
          "2020-05-10T21:00:00.221Z",
          "2020-05-10T22:00:00.179Z",
          "2020-05-10T23:00:00.247Z",
          "2020-05-11T00:00:00.217Z",
          "2020-05-11T01:00:00.284Z",
          "2020-05-11T02:00:00.227Z",
          "2020-05-11T03:00:00.176Z",
          "2020-05-11T04:00:00.165Z",
          "2020-05-11T05:00:00.176Z",
          "2020-05-11T06:00:00.217Z",
          "2020-05-11T07:00:00.284Z",
          "2020-05-11T08:00:00.235Z",
          "2020-05-11T09:00:00.177Z",
          "2020-05-11T10:00:00.267Z",
          "2020-05-11T11:00:00.220Z",
          "2020-05-11T12:00:00.280Z"
         ],
         "y": [
          62,
          62,
          85,
          85,
          85,
          85,
          85,
          85,
          85,
          85,
          85,
          116,
          116,
          116,
          116,
          116,
          116,
          116,
          116,
          116,
          116,
          116,
          116,
          116,
          116,
          116,
          116,
          116,
          116,
          116,
          116,
          116,
          116,
          116,
          116,
          116,
          116,
          116,
          150,
          150,
          150,
          150,
          150,
          150,
          150,
          150,
          150,
          150,
          150,
          150,
          150,
          150,
          150,
          150,
          150,
          150,
          150,
          150,
          150,
          202,
          202,
          202,
          202,
          202,
          202,
          202,
          202,
          202,
          202,
          202,
          202,
          202,
          202,
          202,
          202,
          202,
          202,
          202,
          202,
          202,
          202,
          202,
          202,
          239,
          239,
          239,
          238,
          238,
          238,
          238,
          238,
          238,
          238,
          238,
          238,
          238,
          238,
          238,
          238,
          238,
          238,
          238,
          238,
          238,
          238,
          238,
          238,
          238,
          238,
          238,
          238,
          238,
          238,
          238,
          238,
          238,
          272,
          272,
          272,
          272,
          272,
          272,
          272,
          272,
          272,
          398,
          398,
          398,
          398,
          398,
          398,
          398,
          398,
          398,
          398,
          398,
          398,
          398,
          550,
          550,
          550,
          550,
          550,
          550,
          550,
          550,
          550,
          550,
          550,
          550,
          550,
          550,
          550,
          550,
          550,
          550,
          550,
          550,
          550,
          550,
          705,
          705,
          705,
          705,
          705,
          697,
          697,
          697,
          697,
          697,
          697,
          697,
          697,
          697,
          697,
          697,
          697,
          697,
          697,
          697,
          697,
          697,
          697,
          697,
          697,
          697,
          697,
          697,
          697,
          697,
          697,
          697,
          697,
          915,
          915,
          915,
          915,
          915,
          915,
          915,
          915,
          915,
          915,
          915,
          915,
          915,
          915,
          915,
          915,
          913,
          913,
          913,
          913,
          913,
          913,
          913,
          913,
          913,
          1156,
          1156,
          1156,
          1157,
          1138,
          1138,
          1138,
          1138,
          1138,
          1138,
          1138,
          1138,
          1138,
          1138,
          1138,
          1138,
          1138,
          1138,
          1138,
          1138,
          1138,
          1138,
          1138,
          1137,
          1154,
          1154,
          1154,
          1155,
          1155,
          1155,
          1155,
          1155,
          1155,
          1155,
          1155,
          1155,
          1155,
          1155,
          1155,
          1155,
          1155,
          1155,
          1155,
          1155,
          1155,
          1155,
          1155,
          1155,
          1155,
          1247,
          1247,
          1247,
          1247,
          1247,
          1247,
          1247,
          1247,
          1247,
          1247,
          1247,
          1247,
          1247,
          1247,
          1247,
          1247,
          1247,
          1247,
          1247,
          1247,
          1247,
          1247,
          1292,
          1292,
          1292,
          1292,
          1292,
          1292,
          1292,
          1292,
          1292,
          1292,
          1292,
          1292,
          1292,
          1292,
          1292,
          1292,
          1292,
          1292,
          1292,
          1292,
          1292,
          1292,
          1319,
          1319,
          1319,
          1319,
          1319,
          1317,
          1317,
          1317,
          1317,
          1317,
          1317,
          1317,
          1317,
          1317,
          1317,
          1317,
          1298,
          1298,
          1298,
          1298,
          1298,
          1298,
          1298,
          1298,
          1298,
          1325,
          1325,
          1325,
          1325,
          1325,
          1325,
          1325,
          1325,
          1325,
          1325,
          1325,
          1325,
          1325,
          1325,
          1325,
          1325,
          1325,
          1325,
          1325,
          1325,
          1325,
          1325,
          1325,
          1325,
          1407,
          1407,
          1407,
          1407,
          1407,
          1407,
          1407,
          1407,
          1407,
          1407,
          1407,
          1407,
          1362,
          1362,
          1362,
          1362,
          1362,
          1362,
          1362,
          1362,
          1362,
          1362,
          1403,
          1403,
          1401,
          1401,
          1401,
          1401,
          1401,
          1401,
          1401,
          1401,
          1401,
          1401,
          1401,
          1401,
          1401,
          1401,
          1401,
          1401,
          1401,
          1401,
          1401,
          1401,
          1401,
          1401,
          1401,
          1401,
          1401,
          1481,
          1481,
          1481,
          1481,
          1481,
          1481,
          1481,
          1481,
          1481,
          1481,
          1481,
          1481,
          1481,
          1481,
          1481,
          1481,
          1481,
          1481,
          1481,
          1481,
          1481,
          1481,
          1481,
          1481,
          1549,
          1549,
          1549,
          1549,
          1549,
          1549,
          1549,
          1549,
          1549,
          1549,
          1549,
          1549,
          1549,
          1549,
          1549,
          1549,
          1549,
          1549,
          1549,
          1549,
          1549,
          1549,
          1549,
          1549,
          1579,
          1579,
          1579,
          1579,
          1579,
          1579,
          1579,
          1579,
          1579,
          1579,
          1579,
          1579,
          1579,
          1579,
          1579,
          1579,
          1579,
          1579,
          1641,
          1641,
          1641,
          1641,
          1641,
          1641,
          1641,
          1641,
          1641,
          1641,
          1641,
          1641,
          1641,
          1641,
          1641,
          1641,
          1641,
          1641,
          1641,
          1641,
          1641,
          1641,
          1641,
          1641,
          1641,
          1641,
          1641,
          1641,
          1641,
          1732,
          1732,
          1732,
          1732,
          1732,
          1732,
          1732,
          1732,
          1732,
          1732,
          1732,
          1732,
          1732,
          1732,
          1732,
          1732,
          1732,
          1732,
          1732,
          1732,
          1732,
          1732,
          1732,
          1732,
          1821,
          1821,
          1821,
          1821,
          1821,
          1821,
          1821,
          1821,
          1821,
          1821,
          1821,
          1821,
          1821,
          1821,
          1821,
          1821,
          1821,
          1821,
          1569,
          1569,
          1569,
          1569,
          1569,
          1569,
          1569,
          1569,
          1569,
          1569,
          1569,
          1569,
          1569,
          1569,
          1569,
          1569,
          1569,
          1569,
          1569,
          1569,
          1569,
          1569,
          1569,
          1569,
          1569,
          1569,
          1569,
          1569,
          1569,
          1593,
          1593,
          1593,
          1593,
          1593,
          1593,
          1593,
          1593,
          1593,
          1593,
          1593,
          1593,
          1593,
          1593,
          1593,
          1593,
          1593,
          1593,
          1593,
          1593,
          1593,
          1593,
          1593,
          1593,
          1738,
          1738,
          1738,
          1738,
          1738,
          1738,
          1738,
          1738,
          1738,
          1738,
          1738,
          1738,
          1738,
          1738,
          1738,
          1738,
          1738,
          1738,
          1738,
          1738,
          1738,
          1738,
          1738,
          1738,
          1835,
          1835,
          1835,
          1835,
          1835,
          1835,
          1835,
          1835,
          1835,
          1835,
          1835,
          1835,
          1835,
          1835,
          1835,
          1835,
          1835,
          1835,
          1835,
          1835,
          1978,
          1978,
          1978,
          1978,
          1978,
          1978,
          1978,
          1978,
          1978,
          1978,
          1978,
          1978,
          1978,
          1978,
          1978,
          1978,
          1978,
          1978,
          1978,
          1978,
          1978,
          1978,
          1978,
          1978,
          1978,
          1978,
          1978,
          2062,
          2062,
          2062,
          2062,
          2062,
          2062,
          2062,
          2062,
          2062,
          2062,
          2062,
          2062,
          2062,
          2062,
          2062,
          2062,
          2062,
          2062,
          2062,
          2062,
          2062,
          2062,
          2062,
          2062,
          2062,
          2062,
          1654,
          1654,
          1654,
          1654,
          1654,
          1654,
          1654,
          1654,
          1654,
          1654,
          1654,
          1654,
          1654,
          1654,
          1654,
          1654,
          1654,
          1654,
          1654,
          1654,
          1654,
          1654,
          1654,
          1654,
          1830,
          1830,
          1830,
          1830,
          1830,
          1830,
          1830,
          1830,
          1830,
          1830,
          1830,
          1830,
          1830,
          1830,
          1830,
          1830,
          1830,
          1830,
          1830,
          1830,
          1830,
          1830,
          1830,
          1830,
          2081,
          2081,
          2079,
          2079,
          2079,
          2079,
          2079,
          2079,
          2079,
          2079,
          2079,
          2079,
          2079,
          2079,
          2079,
          2079,
          2079,
          2079,
          2079,
          2079,
          2079,
          2079,
          2079,
          2201,
          2201,
          2201,
          2201,
          2201,
          2201,
          2201,
          2201,
          2201,
          2201,
          2201,
          2201,
          2201,
          2201,
          2201,
          2201,
          2201,
          2201,
          2201,
          2201,
          2201,
          2201,
          2201,
          2201,
          2201,
          2201,
          2187,
          2187,
          2187,
          2187,
          2187,
          2187,
          2187,
          2187,
          2187,
          2187,
          2187,
          2187,
          2187,
          2187,
          2187,
          2187,
          2187,
          2187,
          2187,
          2187,
          2187,
          2352,
          2352,
          2352,
          2352,
          2352,
          2352,
          2352,
          2352,
          2352,
          2352,
          2352,
          2352,
          2352,
          2352,
          2352,
          2352,
          2352,
          2352,
          2352,
          2352,
          2352,
          2352,
          2352,
          2352,
          2352,
          2352,
          2515,
          2515,
          2515,
          2515,
          2515,
          2515,
          2515,
          2515,
          2515,
          2515,
          2515,
          2515,
          2515,
          2515,
          2515,
          2515,
          2515,
          2515,
          2515,
          2515,
          2515,
          2515,
          2515,
          2405,
          2405,
          2405,
          2405,
          2405,
          2405,
          2405,
          2405,
          2405,
          2405,
          2405,
          2405,
          2405,
          2405,
          2405,
          2405,
          2405,
          2405,
          2405,
          2405,
          2405,
          2405,
          2405,
          2405,
          2405,
          2668,
          2668,
          2668,
          2668,
          2668,
          2668,
          2668,
          2668,
          2668,
          2668,
          2668,
          2668,
          2668,
          2668,
          2668,
          2668,
          2668,
          2668,
          2668,
          2668,
          2668,
          2668,
          2668,
          2668,
          2802,
          2802,
          2802,
          2802,
          2802,
          2802,
          2802,
          2802,
          2802,
          2802,
          2802,
          2802,
          2802,
          2802,
          2802,
          2802,
          2802,
          2802,
          2802,
          2802,
          2802,
          2802,
          2802,
          2802,
          2986,
          2986,
          2986,
          2986,
          2986,
          2986,
          2986,
          2986,
          2986,
          2986,
          2986,
          2986,
          2986,
          2986,
          2986,
          2986,
          2986,
          2986,
          2986,
          2986,
          2986,
          2986,
          2986,
          2986,
          2986,
          3230,
          3230,
          3230,
          3230,
          3230,
          3230,
          3230,
          3230,
          3230,
          3230,
          3230,
          3230,
          3230,
          3230,
          3230,
          3230,
          3230,
          3230,
          3230,
          3230,
          3230,
          3230,
          3230,
          3230,
          2830,
          2830,
          2830,
          2830,
          2830,
          2830,
          2830,
          2830,
          2830,
          2830,
          2830,
          2830,
          2830,
          2830,
          2830,
          2830,
          2830,
          2830,
          2830,
          2830,
          2830,
          2830,
          2830,
          3174,
          3174,
          3174,
          3174,
          3174,
          3174,
          3174,
          3174,
          3174,
          3174,
          3174,
          3174,
          3174,
          3174,
          3174,
          3174,
          3174,
          3174,
          3174,
          3174,
          3174,
          3174,
          3174,
          3471,
          3471,
          3471,
          3471,
          3471,
          3471,
          3471,
          3471,
          3471,
          3471,
          3471,
          3471,
          3471,
          3471,
          3471,
          3471,
          3471,
          3471,
          3471,
          3471,
          3471,
          3471,
          3471,
          3471,
          3471,
          3471,
          3453,
          3453,
          3453,
          3453,
          3453,
          3453,
          3453,
          3453,
          3453,
          3453,
          3453,
          3453,
          3453,
          3453,
          3453,
          3453,
          3453,
          3453,
          3453,
          3453,
          3453,
          3453,
          3664,
          3664,
          3664,
          3664,
          3664,
          3664,
          3664,
          3664,
          3664,
          3664,
          3664,
          3664,
          3664,
          3664,
          3664,
          3664,
          3664,
          3664,
          3664,
          3664,
          3664,
          3664,
          3664,
          3664,
          4103,
          4103,
          4103,
          4103,
          4103,
          4103,
          4103,
          4103,
          4103,
          4103,
          4103,
          4103,
          4103,
          4103,
          4103,
          4103,
          4103,
          4103,
          4103,
          4103,
          4103,
          4103,
          4103,
          4103,
          4336,
          4336,
          4336,
          4336,
          4336,
          4336,
          4336,
          4336,
          4336,
          4336,
          4336,
          4336,
          4336,
          4336,
          4336,
          4336,
          4336,
          4336,
          4336,
          4336,
          4336,
          4336,
          4336,
          4336,
          4336,
          4678,
          4678,
          4678,
          4678,
          4678,
          4678,
          4678,
          4678,
          4678,
          4678,
          4678,
          4678,
          4678,
          4678,
          4678,
          4678,
          4678,
          4678,
          4678,
          4678,
          4678,
          4678,
          4678,
          4678,
          4678,
          4678,
          4678,
          4678,
          4678,
          4678,
          4678,
          4678,
          4678,
          4678,
          4502,
          4502,
          4502,
          4502,
          4502,
          4502,
          4502,
          4502,
          4502,
          4502,
          4502,
          4502,
          4502,
          4502,
          4502,
          4502,
          4502,
          4502,
          4502,
          4502,
          4502,
          4502,
          4918,
          4918,
          4918,
          4918,
          4918,
          4918,
          4918,
          4918,
          4918,
          4918,
          4918,
          4918,
          4918,
          4918,
          4918,
          4918,
          4918,
          4918,
          4918,
          4918,
          4918,
          4918,
          4918,
          4918,
          4918,
          4918,
          5564,
          5564,
          5564,
          5564,
          5564,
          5564,
          5564,
          5564,
          5564,
          5564,
          5564,
          5564,
          5564,
          5564,
          5564,
          5564,
          5564,
          5564,
          5251,
          5251,
          5251,
          5251,
          5251,
          5251,
          5251,
          5251,
          5251,
          5251,
          5251,
          5251,
          5251,
          5251,
          5251,
          5251,
          5251,
          5251,
          5251,
          5251,
          5251,
          5251,
          5251,
          5251,
          5251,
          5251,
          5251,
          5251,
          5648,
          5648,
          5648,
          5648,
          5648,
          5648,
          5648,
          5648,
          5648,
          5648,
          5648,
          5648,
          5648,
          5648,
          5648,
          5648,
          5648,
          5648
         ]
        }
       ],
       "layout": {
        "template": {
         "data": {
          "bar": [
           {
            "error_x": {
             "color": "#2a3f5f"
            },
            "error_y": {
             "color": "#2a3f5f"
            },
            "marker": {
             "line": {
              "color": "#E5ECF6",
              "width": 0.5
             }
            },
            "type": "bar"
           }
          ],
          "barpolar": [
           {
            "marker": {
             "line": {
              "color": "#E5ECF6",
              "width": 0.5
             }
            },
            "type": "barpolar"
           }
          ],
          "carpet": [
           {
            "aaxis": {
             "endlinecolor": "#2a3f5f",
             "gridcolor": "white",
             "linecolor": "white",
             "minorgridcolor": "white",
             "startlinecolor": "#2a3f5f"
            },
            "baxis": {
             "endlinecolor": "#2a3f5f",
             "gridcolor": "white",
             "linecolor": "white",
             "minorgridcolor": "white",
             "startlinecolor": "#2a3f5f"
            },
            "type": "carpet"
           }
          ],
          "choropleth": [
           {
            "colorbar": {
             "outlinewidth": 0,
             "ticks": ""
            },
            "type": "choropleth"
           }
          ],
          "contour": [
           {
            "colorbar": {
             "outlinewidth": 0,
             "ticks": ""
            },
            "colorscale": [
             [
              0,
              "#0d0887"
             ],
             [
              0.1111111111111111,
              "#46039f"
             ],
             [
              0.2222222222222222,
              "#7201a8"
             ],
             [
              0.3333333333333333,
              "#9c179e"
             ],
             [
              0.4444444444444444,
              "#bd3786"
             ],
             [
              0.5555555555555556,
              "#d8576b"
             ],
             [
              0.6666666666666666,
              "#ed7953"
             ],
             [
              0.7777777777777778,
              "#fb9f3a"
             ],
             [
              0.8888888888888888,
              "#fdca26"
             ],
             [
              1,
              "#f0f921"
             ]
            ],
            "type": "contour"
           }
          ],
          "contourcarpet": [
           {
            "colorbar": {
             "outlinewidth": 0,
             "ticks": ""
            },
            "type": "contourcarpet"
           }
          ],
          "heatmap": [
           {
            "colorbar": {
             "outlinewidth": 0,
             "ticks": ""
            },
            "colorscale": [
             [
              0,
              "#0d0887"
             ],
             [
              0.1111111111111111,
              "#46039f"
             ],
             [
              0.2222222222222222,
              "#7201a8"
             ],
             [
              0.3333333333333333,
              "#9c179e"
             ],
             [
              0.4444444444444444,
              "#bd3786"
             ],
             [
              0.5555555555555556,
              "#d8576b"
             ],
             [
              0.6666666666666666,
              "#ed7953"
             ],
             [
              0.7777777777777778,
              "#fb9f3a"
             ],
             [
              0.8888888888888888,
              "#fdca26"
             ],
             [
              1,
              "#f0f921"
             ]
            ],
            "type": "heatmap"
           }
          ],
          "heatmapgl": [
           {
            "colorbar": {
             "outlinewidth": 0,
             "ticks": ""
            },
            "colorscale": [
             [
              0,
              "#0d0887"
             ],
             [
              0.1111111111111111,
              "#46039f"
             ],
             [
              0.2222222222222222,
              "#7201a8"
             ],
             [
              0.3333333333333333,
              "#9c179e"
             ],
             [
              0.4444444444444444,
              "#bd3786"
             ],
             [
              0.5555555555555556,
              "#d8576b"
             ],
             [
              0.6666666666666666,
              "#ed7953"
             ],
             [
              0.7777777777777778,
              "#fb9f3a"
             ],
             [
              0.8888888888888888,
              "#fdca26"
             ],
             [
              1,
              "#f0f921"
             ]
            ],
            "type": "heatmapgl"
           }
          ],
          "histogram": [
           {
            "marker": {
             "colorbar": {
              "outlinewidth": 0,
              "ticks": ""
             }
            },
            "type": "histogram"
           }
          ],
          "histogram2d": [
           {
            "colorbar": {
             "outlinewidth": 0,
             "ticks": ""
            },
            "colorscale": [
             [
              0,
              "#0d0887"
             ],
             [
              0.1111111111111111,
              "#46039f"
             ],
             [
              0.2222222222222222,
              "#7201a8"
             ],
             [
              0.3333333333333333,
              "#9c179e"
             ],
             [
              0.4444444444444444,
              "#bd3786"
             ],
             [
              0.5555555555555556,
              "#d8576b"
             ],
             [
              0.6666666666666666,
              "#ed7953"
             ],
             [
              0.7777777777777778,
              "#fb9f3a"
             ],
             [
              0.8888888888888888,
              "#fdca26"
             ],
             [
              1,
              "#f0f921"
             ]
            ],
            "type": "histogram2d"
           }
          ],
          "histogram2dcontour": [
           {
            "colorbar": {
             "outlinewidth": 0,
             "ticks": ""
            },
            "colorscale": [
             [
              0,
              "#0d0887"
             ],
             [
              0.1111111111111111,
              "#46039f"
             ],
             [
              0.2222222222222222,
              "#7201a8"
             ],
             [
              0.3333333333333333,
              "#9c179e"
             ],
             [
              0.4444444444444444,
              "#bd3786"
             ],
             [
              0.5555555555555556,
              "#d8576b"
             ],
             [
              0.6666666666666666,
              "#ed7953"
             ],
             [
              0.7777777777777778,
              "#fb9f3a"
             ],
             [
              0.8888888888888888,
              "#fdca26"
             ],
             [
              1,
              "#f0f921"
             ]
            ],
            "type": "histogram2dcontour"
           }
          ],
          "mesh3d": [
           {
            "colorbar": {
             "outlinewidth": 0,
             "ticks": ""
            },
            "type": "mesh3d"
           }
          ],
          "parcoords": [
           {
            "line": {
             "colorbar": {
              "outlinewidth": 0,
              "ticks": ""
             }
            },
            "type": "parcoords"
           }
          ],
          "pie": [
           {
            "automargin": true,
            "type": "pie"
           }
          ],
          "scatter": [
           {
            "marker": {
             "colorbar": {
              "outlinewidth": 0,
              "ticks": ""
             }
            },
            "type": "scatter"
           }
          ],
          "scatter3d": [
           {
            "line": {
             "colorbar": {
              "outlinewidth": 0,
              "ticks": ""
             }
            },
            "marker": {
             "colorbar": {
              "outlinewidth": 0,
              "ticks": ""
             }
            },
            "type": "scatter3d"
           }
          ],
          "scattercarpet": [
           {
            "marker": {
             "colorbar": {
              "outlinewidth": 0,
              "ticks": ""
             }
            },
            "type": "scattercarpet"
           }
          ],
          "scattergeo": [
           {
            "marker": {
             "colorbar": {
              "outlinewidth": 0,
              "ticks": ""
             }
            },
            "type": "scattergeo"
           }
          ],
          "scattergl": [
           {
            "marker": {
             "colorbar": {
              "outlinewidth": 0,
              "ticks": ""
             }
            },
            "type": "scattergl"
           }
          ],
          "scattermapbox": [
           {
            "marker": {
             "colorbar": {
              "outlinewidth": 0,
              "ticks": ""
             }
            },
            "type": "scattermapbox"
           }
          ],
          "scatterpolar": [
           {
            "marker": {
             "colorbar": {
              "outlinewidth": 0,
              "ticks": ""
             }
            },
            "type": "scatterpolar"
           }
          ],
          "scatterpolargl": [
           {
            "marker": {
             "colorbar": {
              "outlinewidth": 0,
              "ticks": ""
             }
            },
            "type": "scatterpolargl"
           }
          ],
          "scatterternary": [
           {
            "marker": {
             "colorbar": {
              "outlinewidth": 0,
              "ticks": ""
             }
            },
            "type": "scatterternary"
           }
          ],
          "surface": [
           {
            "colorbar": {
             "outlinewidth": 0,
             "ticks": ""
            },
            "colorscale": [
             [
              0,
              "#0d0887"
             ],
             [
              0.1111111111111111,
              "#46039f"
             ],
             [
              0.2222222222222222,
              "#7201a8"
             ],
             [
              0.3333333333333333,
              "#9c179e"
             ],
             [
              0.4444444444444444,
              "#bd3786"
             ],
             [
              0.5555555555555556,
              "#d8576b"
             ],
             [
              0.6666666666666666,
              "#ed7953"
             ],
             [
              0.7777777777777778,
              "#fb9f3a"
             ],
             [
              0.8888888888888888,
              "#fdca26"
             ],
             [
              1,
              "#f0f921"
             ]
            ],
            "type": "surface"
           }
          ],
          "table": [
           {
            "cells": {
             "fill": {
              "color": "#EBF0F8"
             },
             "line": {
              "color": "white"
             }
            },
            "header": {
             "fill": {
              "color": "#C8D4E3"
             },
             "line": {
              "color": "white"
             }
            },
            "type": "table"
           }
          ]
         },
         "layout": {
          "annotationdefaults": {
           "arrowcolor": "#2a3f5f",
           "arrowhead": 0,
           "arrowwidth": 1
          },
          "coloraxis": {
           "colorbar": {
            "outlinewidth": 0,
            "ticks": ""
           }
          },
          "colorscale": {
           "diverging": [
            [
             0,
             "#8e0152"
            ],
            [
             0.1,
             "#c51b7d"
            ],
            [
             0.2,
             "#de77ae"
            ],
            [
             0.3,
             "#f1b6da"
            ],
            [
             0.4,
             "#fde0ef"
            ],
            [
             0.5,
             "#f7f7f7"
            ],
            [
             0.6,
             "#e6f5d0"
            ],
            [
             0.7,
             "#b8e186"
            ],
            [
             0.8,
             "#7fbc41"
            ],
            [
             0.9,
             "#4d9221"
            ],
            [
             1,
             "#276419"
            ]
           ],
           "sequential": [
            [
             0,
             "#0d0887"
            ],
            [
             0.1111111111111111,
             "#46039f"
            ],
            [
             0.2222222222222222,
             "#7201a8"
            ],
            [
             0.3333333333333333,
             "#9c179e"
            ],
            [
             0.4444444444444444,
             "#bd3786"
            ],
            [
             0.5555555555555556,
             "#d8576b"
            ],
            [
             0.6666666666666666,
             "#ed7953"
            ],
            [
             0.7777777777777778,
             "#fb9f3a"
            ],
            [
             0.8888888888888888,
             "#fdca26"
            ],
            [
             1,
             "#f0f921"
            ]
           ],
           "sequentialminus": [
            [
             0,
             "#0d0887"
            ],
            [
             0.1111111111111111,
             "#46039f"
            ],
            [
             0.2222222222222222,
             "#7201a8"
            ],
            [
             0.3333333333333333,
             "#9c179e"
            ],
            [
             0.4444444444444444,
             "#bd3786"
            ],
            [
             0.5555555555555556,
             "#d8576b"
            ],
            [
             0.6666666666666666,
             "#ed7953"
            ],
            [
             0.7777777777777778,
             "#fb9f3a"
            ],
            [
             0.8888888888888888,
             "#fdca26"
            ],
            [
             1,
             "#f0f921"
            ]
           ]
          },
          "colorway": [
           "#636efa",
           "#EF553B",
           "#00cc96",
           "#ab63fa",
           "#FFA15A",
           "#19d3f3",
           "#FF6692",
           "#B6E880",
           "#FF97FF",
           "#FECB52"
          ],
          "font": {
           "color": "#2a3f5f"
          },
          "geo": {
           "bgcolor": "white",
           "lakecolor": "white",
           "landcolor": "#E5ECF6",
           "showlakes": true,
           "showland": true,
           "subunitcolor": "white"
          },
          "hoverlabel": {
           "align": "left"
          },
          "hovermode": "closest",
          "mapbox": {
           "style": "light"
          },
          "paper_bgcolor": "white",
          "plot_bgcolor": "#E5ECF6",
          "polar": {
           "angularaxis": {
            "gridcolor": "white",
            "linecolor": "white",
            "ticks": ""
           },
           "bgcolor": "#E5ECF6",
           "radialaxis": {
            "gridcolor": "white",
            "linecolor": "white",
            "ticks": ""
           }
          },
          "scene": {
           "xaxis": {
            "backgroundcolor": "#E5ECF6",
            "gridcolor": "white",
            "gridwidth": 2,
            "linecolor": "white",
            "showbackground": true,
            "ticks": "",
            "zerolinecolor": "white"
           },
           "yaxis": {
            "backgroundcolor": "#E5ECF6",
            "gridcolor": "white",
            "gridwidth": 2,
            "linecolor": "white",
            "showbackground": true,
            "ticks": "",
            "zerolinecolor": "white"
           },
           "zaxis": {
            "backgroundcolor": "#E5ECF6",
            "gridcolor": "white",
            "gridwidth": 2,
            "linecolor": "white",
            "showbackground": true,
            "ticks": "",
            "zerolinecolor": "white"
           }
          },
          "shapedefaults": {
           "line": {
            "color": "#2a3f5f"
           }
          },
          "ternary": {
           "aaxis": {
            "gridcolor": "white",
            "linecolor": "white",
            "ticks": ""
           },
           "baxis": {
            "gridcolor": "white",
            "linecolor": "white",
            "ticks": ""
           },
           "bgcolor": "#E5ECF6",
           "caxis": {
            "gridcolor": "white",
            "linecolor": "white",
            "ticks": ""
           }
          },
          "title": {
           "x": 0.05
          },
          "xaxis": {
           "automargin": true,
           "gridcolor": "white",
           "linecolor": "white",
           "ticks": "",
           "title": {
            "standoff": 15
           },
           "zerolinecolor": "white",
           "zerolinewidth": 2
          },
          "yaxis": {
           "automargin": true,
           "gridcolor": "white",
           "linecolor": "white",
           "ticks": "",
           "title": {
            "standoff": 15
           },
           "zerolinecolor": "white",
           "zerolinewidth": 2
          }
         }
        },
        "title": {
         "text": "Commulative confirmed cases in SA as 17/03/2020"
        }
       }
      },
      "text/html": [
       "<div>\n",
       "        \n",
       "        \n",
       "            <div id=\"90641f2b-531d-43d0-91d3-de650c611ec5\" class=\"plotly-graph-div\" style=\"height:525px; width:100%;\"></div>\n",
       "            <script type=\"text/javascript\">\n",
       "                require([\"plotly\"], function(Plotly) {\n",
       "                    window.PLOTLYENV=window.PLOTLYENV || {};\n",
       "                    \n",
       "                if (document.getElementById(\"90641f2b-531d-43d0-91d3-de650c611ec5\")) {\n",
       "                    Plotly.newPlot(\n",
       "                        '90641f2b-531d-43d0-91d3-de650c611ec5',\n",
       "                        [{\"name\": \"Active Cases in SA\", \"type\": \"scatter\", \"x\": [\"2020-03-17T21:00:00.200Z\", \"2020-03-17T22:00:00.182Z\", \"2020-03-17T23:00:00.171Z\", \"2020-03-18T00:00:00.193Z\", \"2020-03-18T01:00:00.205Z\", \"2020-03-18T02:00:00.195Z\", \"2020-03-18T03:00:00.182Z\", \"2020-03-18T04:00:00.190Z\", \"2020-03-18T05:00:00.147Z\", \"2020-03-18T06:00:00.205Z\", \"2020-03-18T07:00:00.215Z\", \"2020-03-18T08:00:00.192Z\", \"2020-03-18T09:00:00.167Z\", \"2020-03-18T10:00:00.221Z\", \"2020-03-18T11:00:00.223Z\", \"2020-03-18T12:00:00.202Z\", \"2020-03-18T13:00:00.296Z\", \"2020-03-18T14:00:00.178Z\", \"2020-03-18T15:00:00.169Z\", \"2020-03-18T16:00:00.171Z\", \"2020-03-18T18:00:00.155Z\", \"2020-03-18T19:00:00.206Z\", \"2020-03-18T20:00:00.199Z\", \"2020-03-18T21:00:00.171Z\", \"2020-03-18T22:00:00.161Z\", \"2020-03-18T23:00:00.188Z\", \"2020-03-19T00:00:00.179Z\", \"2020-03-19T02:00:00.181Z\", \"2020-03-19T03:00:00.192Z\", \"2020-03-19T04:00:00.162Z\", \"2020-03-19T05:00:00.163Z\", \"2020-03-19T06:00:00.187Z\", \"2020-03-19T07:00:00.203Z\", \"2020-03-19T08:00:00.151Z\", \"2020-03-19T09:00:00.176Z\", \"2020-03-19T10:00:00.153Z\", \"2020-03-19T11:00:00.150Z\", \"2020-03-19T12:00:00.164Z\", \"2020-03-19T13:00:00.237Z\", \"2020-03-19T14:00:00.221Z\", \"2020-03-19T15:00:00.230Z\", \"2020-03-19T16:00:00.167Z\", \"2020-03-19T17:00:00.204Z\", \"2020-03-19T18:00:00.211Z\", \"2020-03-19T19:00:00.159Z\", \"2020-03-19T20:00:00.204Z\", \"2020-03-19T21:00:00.186Z\", \"2020-03-19T22:00:00.164Z\", \"2020-03-19T23:00:00.156Z\", \"2020-03-20T00:00:00.158Z\", \"2020-03-20T01:00:00.190Z\", \"2020-03-20T02:00:00.192Z\", \"2020-03-20T03:00:00.182Z\", \"2020-03-20T04:00:00.171Z\", \"2020-03-20T05:00:00.194Z\", \"2020-03-20T06:00:00.205Z\", \"2020-03-20T07:00:00.169Z\", \"2020-03-20T08:00:00.196Z\", \"2020-03-20T09:00:00.198Z\", \"2020-03-20T10:00:00.190Z\", \"2020-03-20T11:00:00.232Z\", \"2020-03-20T12:00:00.201Z\", \"2020-03-20T13:00:00.163Z\", \"2020-03-20T14:00:00.198Z\", \"2020-03-20T15:00:00.179Z\", \"2020-03-20T16:00:00.199Z\", \"2020-03-20T17:00:00.206Z\", \"2020-03-20T18:00:00.200Z\", \"2020-03-20T19:00:00.161Z\", \"2020-03-20T20:00:00.238Z\", \"2020-03-20T21:00:00.224Z\", \"2020-03-20T22:00:00.195Z\", \"2020-03-20T23:00:00.214Z\", \"2020-03-21T00:00:00.178Z\", \"2020-03-21T01:00:00.219Z\", \"2020-03-21T02:00:00.174Z\", \"2020-03-21T03:00:00.168Z\", \"2020-03-21T04:00:00.250Z\", \"2020-03-21T05:00:00.211Z\", \"2020-03-21T06:00:00.188Z\", \"2020-03-21T07:00:00.162Z\", \"2020-03-21T08:00:00.162Z\", \"2020-03-21T09:00:00.202Z\", \"2020-03-21T10:00:00.183Z\", \"2020-03-21T11:00:00.229Z\", \"2020-03-21T12:00:00.227Z\", \"2020-03-21T13:00:00.182Z\", \"2020-03-21T14:00:00.179Z\", \"2020-03-21T15:00:00.205Z\", \"2020-03-21T16:00:00.171Z\", \"2020-03-21T17:00:00.230Z\", \"2020-03-21T18:00:00.232Z\", \"2020-03-21T19:00:00.189Z\", \"2020-03-21T20:00:00.207Z\", \"2020-03-21T21:00:00.185Z\", \"2020-03-21T22:00:00.201Z\", \"2020-03-21T23:00:00.163Z\", \"2020-03-22T00:00:00.178Z\", \"2020-03-22T01:00:00.171Z\", \"2020-03-22T02:00:00.155Z\", \"2020-03-22T03:00:00.209Z\", \"2020-03-22T04:00:00.179Z\", \"2020-03-22T05:00:00.186Z\", \"2020-03-22T06:00:00.205Z\", \"2020-03-22T07:00:00.207Z\", \"2020-03-22T08:00:00.189Z\", \"2020-03-22T09:00:00.190Z\", \"2020-03-22T10:00:00.231Z\", \"2020-03-22T11:00:00.202Z\", \"2020-03-22T12:00:00.191Z\", \"2020-03-22T13:00:00.168Z\", \"2020-03-22T14:00:00.211Z\", \"2020-03-22T15:00:00.223Z\", \"2020-03-22T16:00:00.200Z\", \"2020-03-22T17:00:00.225Z\", \"2020-03-22T18:00:00.197Z\", \"2020-03-22T19:00:00.200Z\", \"2020-03-22T20:00:00.155Z\", \"2020-03-22T21:00:00.157Z\", \"2020-03-22T22:00:00.183Z\", \"2020-03-22T23:00:00.192Z\", \"2020-03-23T00:00:00.227Z\", \"2020-03-23T01:00:00.150Z\", \"2020-03-23T02:00:00.278Z\", \"2020-03-23T03:00:00.195Z\", \"2020-03-23T20:00:00.171Z\", \"2020-03-23T21:00:00.241Z\", \"2020-03-23T22:00:00.191Z\", \"2020-03-23T23:00:00.193Z\", \"2020-03-24T00:00:00.225Z\", \"2020-03-24T01:00:00.213Z\", \"2020-03-24T02:00:00.233Z\", \"2020-03-24T03:00:00.172Z\", \"2020-03-24T04:00:00.243Z\", \"2020-03-24T05:00:00.217Z\", \"2020-03-24T06:00:00.208Z\", \"2020-03-24T07:00:00.168Z\", \"2020-03-24T08:00:00.226Z\", \"2020-03-24T09:00:00.223Z\", \"2020-03-24T10:00:00.276Z\", \"2020-03-24T11:00:00.202Z\", \"2020-03-24T12:00:00.194Z\", \"2020-03-24T13:00:00.235Z\", \"2020-03-24T14:00:00.228Z\", \"2020-03-24T15:00:00.223Z\", \"2020-03-24T16:00:00.180Z\", \"2020-03-24T17:00:00.204Z\", \"2020-03-24T18:00:00.207Z\", \"2020-03-24T19:00:00.195Z\", \"2020-03-24T20:00:00.195Z\", \"2020-03-24T21:00:00.225Z\", \"2020-03-24T22:00:00.228Z\", \"2020-03-24T23:00:00.194Z\", \"2020-03-25T00:00:00.196Z\", \"2020-03-25T01:00:00.156Z\", \"2020-03-25T02:00:00.242Z\", \"2020-03-25T03:00:00.160Z\", \"2020-03-25T04:00:00.238Z\", \"2020-03-25T05:00:00.189Z\", \"2020-03-25T06:00:00.200Z\", \"2020-03-25T07:00:00.170Z\", \"2020-03-25T08:00:00.212Z\", \"2020-03-25T09:00:00.232Z\", \"2020-03-25T10:00:00.218Z\", \"2020-03-25T11:00:00.273Z\", \"2020-03-25T12:00:00.220Z\", \"2020-03-25T13:00:00.164Z\", \"2020-03-25T14:00:00.245Z\", \"2020-03-25T15:00:00.222Z\", \"2020-03-25T16:00:00.201Z\", \"2020-03-25T17:00:00.205Z\", \"2020-03-25T18:00:00.228Z\", \"2020-03-25T19:00:00.188Z\", \"2020-03-25T20:00:00.192Z\", \"2020-03-25T21:00:00.194Z\", \"2020-03-25T22:00:00.242Z\", \"2020-03-25T23:00:00.162Z\", \"2020-03-26T00:00:00.190Z\", \"2020-03-26T01:00:00.220Z\", \"2020-03-26T02:00:00.198Z\", \"2020-03-26T03:00:00.216Z\", \"2020-03-26T04:00:00.161Z\", \"2020-03-26T05:00:00.183Z\", \"2020-03-26T06:00:00.223Z\", \"2020-03-26T07:00:00.220Z\", \"2020-03-26T08:00:00.230Z\", \"2020-03-26T09:00:00.210Z\", \"2020-03-26T10:00:00.222Z\", \"2020-03-26T11:00:00.437Z\", \"2020-03-26T12:00:00.221Z\", \"2020-03-26T13:00:00.374Z\", \"2020-03-26T14:00:00.333Z\", \"2020-03-26T15:00:00.188Z\", \"2020-03-26T16:00:00.314Z\", \"2020-03-26T17:00:00.260Z\", \"2020-03-26T18:00:00.506Z\", \"2020-03-26T19:00:01.083Z\", \"2020-03-26T20:00:01.124Z\", \"2020-03-26T21:00:00.185Z\", \"2020-03-26T22:00:00.170Z\", \"2020-03-26T23:00:00.995Z\", \"2020-03-27T00:00:00.195Z\", \"2020-03-27T01:00:00.216Z\", \"2020-03-27T02:00:00.218Z\", \"2020-03-27T03:00:00.192Z\", \"2020-03-27T04:00:00.209Z\", \"2020-03-27T05:00:00.182Z\", \"2020-03-27T06:00:00.188Z\", \"2020-03-27T07:00:00.218Z\", \"2020-03-27T08:00:00.204Z\", \"2020-03-27T09:00:00.220Z\", \"2020-03-27T10:00:00.200Z\", \"2020-03-27T11:00:00.163Z\", \"2020-03-27T12:00:00.246Z\", \"2020-03-27T13:00:00.205Z\", \"2020-03-27T14:00:00.256Z\", \"2020-03-27T15:00:00.173Z\", \"2020-03-27T16:00:00.168Z\", \"2020-03-27T17:00:00.223Z\", \"2020-03-27T18:00:00.236Z\", \"2020-03-27T19:00:00.194Z\", \"2020-03-27T21:00:00.202Z\", \"2020-03-27T22:00:00.191Z\", \"2020-03-27T23:00:00.159Z\", \"2020-03-28T01:00:00.213Z\", \"2020-03-28T02:00:00.191Z\", \"2020-03-28T03:00:00.225Z\", \"2020-03-28T04:00:00.185Z\", \"2020-03-28T05:00:00.200Z\", \"2020-03-28T06:00:00.211Z\", \"2020-03-28T07:00:00.169Z\", \"2020-03-28T08:00:00.299Z\", \"2020-03-28T09:00:00.204Z\", \"2020-03-28T10:00:00.214Z\", \"2020-03-28T11:00:00.224Z\", \"2020-03-28T12:00:00.174Z\", \"2020-03-28T13:00:00.241Z\", \"2020-03-28T14:00:00.191Z\", \"2020-03-28T15:00:00.156Z\", \"2020-03-28T16:00:00.197Z\", \"2020-03-28T17:00:00.219Z\", \"2020-03-28T18:00:00.163Z\", \"2020-03-28T19:00:00.196Z\", \"2020-03-28T20:00:00.230Z\", \"2020-03-28T21:00:00.235Z\", \"2020-03-28T22:00:00.193Z\", \"2020-03-28T23:00:00.268Z\", \"2020-03-29T00:00:00.161Z\", \"2020-03-29T01:00:00.168Z\", \"2020-03-29T02:00:00.246Z\", \"2020-03-29T03:00:00.185Z\", \"2020-03-29T04:00:00.185Z\", \"2020-03-29T05:00:00.152Z\", \"2020-03-29T06:00:00.228Z\", \"2020-03-29T07:00:00.225Z\", \"2020-03-29T08:00:00.239Z\", \"2020-03-29T09:00:00.221Z\", \"2020-03-29T10:00:00.238Z\", \"2020-03-29T11:00:00.207Z\", \"2020-03-29T12:00:00.163Z\", \"2020-03-29T13:00:00.186Z\", \"2020-03-29T14:00:00.169Z\", \"2020-03-29T15:00:00.184Z\", \"2020-03-29T16:00:00.175Z\", \"2020-03-29T17:00:00.218Z\", \"2020-03-29T18:00:00.177Z\", \"2020-03-29T19:00:00.225Z\", \"2020-03-29T20:00:00.161Z\", \"2020-03-29T21:00:00.186Z\", \"2020-03-29T22:00:00.218Z\", \"2020-03-29T23:00:00.168Z\", \"2020-03-30T00:00:00.188Z\", \"2020-03-30T01:00:00.159Z\", \"2020-03-30T02:00:00.190Z\", \"2020-03-30T03:00:00.179Z\", \"2020-03-30T04:00:00.226Z\", \"2020-03-30T05:00:00.232Z\", \"2020-03-30T06:00:00.188Z\", \"2020-03-30T07:00:00.253Z\", \"2020-03-30T08:00:00.231Z\", \"2020-03-30T09:00:00.194Z\", \"2020-03-30T10:00:00.222Z\", \"2020-03-30T11:00:00.183Z\", \"2020-03-30T12:00:00.225Z\", \"2020-03-30T13:00:00.236Z\", \"2020-03-30T14:00:00.235Z\", \"2020-03-30T15:00:00.231Z\", \"2020-03-30T16:00:00.186Z\", \"2020-03-30T17:00:00.191Z\", \"2020-03-30T18:00:00.193Z\", \"2020-03-30T19:00:00.196Z\", \"2020-03-30T20:00:00.199Z\", \"2020-03-30T21:00:00.226Z\", \"2020-03-30T22:00:00.200Z\", \"2020-03-30T23:00:00.222Z\", \"2020-03-31T00:00:00.174Z\", \"2020-03-31T01:00:00.247Z\", \"2020-03-31T02:00:00.214Z\", \"2020-03-31T03:00:00.161Z\", \"2020-03-31T04:00:00.164Z\", \"2020-03-31T05:00:00.141Z\", \"2020-03-31T06:00:00.194Z\", \"2020-03-31T07:00:00.200Z\", \"2020-03-31T08:00:00.158Z\", \"2020-03-31T09:00:00.195Z\", \"2020-03-31T10:00:00.225Z\", \"2020-03-31T11:00:00.192Z\", \"2020-03-31T12:00:00.232Z\", \"2020-03-31T13:00:00.222Z\", \"2020-03-31T14:00:00.160Z\", \"2020-03-31T15:00:00.218Z\", \"2020-03-31T16:00:00.201Z\", \"2020-03-31T17:00:00.198Z\", \"2020-03-31T18:00:00.191Z\", \"2020-03-31T19:00:00.184Z\", \"2020-03-31T20:00:00.192Z\", \"2020-03-31T21:00:00.194Z\", \"2020-03-31T22:00:00.214Z\", \"2020-03-31T23:00:00.182Z\", \"2020-04-01T00:00:00.195Z\", \"2020-04-01T01:00:00.169Z\", \"2020-04-01T02:00:00.229Z\", \"2020-04-01T03:00:00.293Z\", \"2020-04-01T04:00:00.207Z\", \"2020-04-01T05:00:00.193Z\", \"2020-04-01T06:00:00.238Z\", \"2020-04-01T07:00:00.168Z\", \"2020-04-01T08:00:00.229Z\", \"2020-04-01T09:00:00.180Z\", \"2020-04-01T10:00:00.218Z\", \"2020-04-01T11:00:00.205Z\", \"2020-04-01T12:00:00.241Z\", \"2020-04-01T13:00:00.160Z\", \"2020-04-01T14:00:00.203Z\", \"2020-04-01T15:00:00.213Z\", \"2020-04-01T16:00:00.193Z\", \"2020-04-01T17:00:00.260Z\", \"2020-04-01T18:00:00.201Z\", \"2020-04-01T19:00:00.271Z\", \"2020-04-01T20:00:00.209Z\", \"2020-04-01T21:00:00.225Z\", \"2020-04-01T22:00:00.168Z\", \"2020-04-01T23:00:00.206Z\", \"2020-04-02T00:00:00.182Z\", \"2020-04-02T01:00:00.198Z\", \"2020-04-02T02:00:00.212Z\", \"2020-04-02T03:00:00.220Z\", \"2020-04-02T05:00:00.195Z\", \"2020-04-02T06:00:00.241Z\", \"2020-04-02T07:00:00.229Z\", \"2020-04-02T08:00:00.193Z\", \"2020-04-02T09:00:00.199Z\", \"2020-04-02T10:00:00.230Z\", \"2020-04-02T11:00:00.212Z\", \"2020-04-02T12:00:00.187Z\", \"2020-04-02T13:00:00.259Z\", \"2020-04-02T14:00:00.289Z\", \"2020-04-02T15:00:00.212Z\", \"2020-04-02T16:00:00.157Z\", \"2020-04-02T17:00:00.191Z\", \"2020-04-02T18:00:00.201Z\", \"2020-04-02T19:00:00.210Z\", \"2020-04-02T20:00:00.193Z\", \"2020-04-02T21:00:00.223Z\", \"2020-04-02T22:00:00.197Z\", \"2020-04-02T23:00:00.227Z\", \"2020-04-03T00:00:00.201Z\", \"2020-04-03T01:00:00.159Z\", \"2020-04-03T02:00:00.180Z\", \"2020-04-03T03:00:00.233Z\", \"2020-04-03T04:00:00.210Z\", \"2020-04-03T05:00:00.168Z\", \"2020-04-03T06:00:00.193Z\", \"2020-04-03T07:00:00.261Z\", \"2020-04-03T08:00:00.194Z\", \"2020-04-03T09:00:00.278Z\", \"2020-04-03T10:00:00.232Z\", \"2020-04-03T11:00:00.181Z\", \"2020-04-03T12:00:00.200Z\", \"2020-04-03T13:00:00.170Z\", \"2020-04-03T14:00:00.184Z\", \"2020-04-03T15:00:00.219Z\", \"2020-04-03T16:00:00.164Z\", \"2020-04-03T17:00:00.180Z\", \"2020-04-03T18:00:00.184Z\", \"2020-04-03T19:00:00.196Z\", \"2020-04-03T20:00:00.184Z\", \"2020-04-03T21:00:00.211Z\", \"2020-04-03T22:00:00.194Z\", \"2020-04-03T23:00:00.148Z\", \"2020-04-04T00:00:00.159Z\", \"2020-04-04T01:00:00.181Z\", \"2020-04-04T02:00:00.157Z\", \"2020-04-04T03:00:00.217Z\", \"2020-04-04T04:00:00.192Z\", \"2020-04-04T05:00:00.173Z\", \"2020-04-04T06:00:00.230Z\", \"2020-04-04T07:00:00.159Z\", \"2020-04-04T08:00:00.237Z\", \"2020-04-04T09:00:00.162Z\", \"2020-04-04T10:00:00.188Z\", \"2020-04-04T11:00:00.185Z\", \"2020-04-04T12:00:00.192Z\", \"2020-04-04T13:00:00.162Z\", \"2020-04-04T14:00:00.171Z\", \"2020-04-04T15:00:00.216Z\", \"2020-04-04T17:00:00.185Z\", \"2020-04-04T18:00:00.199Z\", \"2020-04-04T19:00:00.217Z\", \"2020-04-04T20:00:00.225Z\", \"2020-04-04T21:00:00.255Z\", \"2020-04-04T22:00:00.199Z\", \"2020-04-04T23:00:00.282Z\", \"2020-04-05T00:00:00.238Z\", \"2020-04-05T01:00:00.225Z\", \"2020-04-05T02:00:00.235Z\", \"2020-04-05T03:00:00.253Z\", \"2020-04-05T04:00:00.216Z\", \"2020-04-05T05:00:00.205Z\", \"2020-04-05T06:00:00.228Z\", \"2020-04-05T07:00:00.192Z\", \"2020-04-05T08:00:00.185Z\", \"2020-04-05T09:00:00.265Z\", \"2020-04-05T10:00:00.194Z\", \"2020-04-05T11:00:00.217Z\", \"2020-04-05T12:00:00.222Z\", \"2020-04-05T13:00:00.237Z\", \"2020-04-05T14:00:00.188Z\", \"2020-04-05T15:00:00.267Z\", \"2020-04-05T16:00:00.225Z\", \"2020-04-05T17:00:00.184Z\", \"2020-04-05T18:00:00.263Z\", \"2020-04-05T19:00:00.209Z\", \"2020-04-05T20:00:00.205Z\", \"2020-04-05T21:00:00.182Z\", \"2020-04-05T22:00:00.224Z\", \"2020-04-05T23:00:00.242Z\", \"2020-04-06T00:00:00.264Z\", \"2020-04-06T01:00:00.248Z\", \"2020-04-06T02:00:00.174Z\", \"2020-04-06T03:00:00.224Z\", \"2020-04-06T04:00:00.232Z\", \"2020-04-06T05:00:00.211Z\", \"2020-04-06T06:00:00.185Z\", \"2020-04-06T07:00:00.195Z\", \"2020-04-06T08:00:00.215Z\", \"2020-04-06T09:00:00.185Z\", \"2020-04-06T10:00:00.208Z\", \"2020-04-06T11:00:00.200Z\", \"2020-04-06T12:00:00.177Z\", \"2020-04-06T13:00:00.254Z\", \"2020-04-06T14:00:00.186Z\", \"2020-04-06T15:00:00.244Z\", \"2020-04-06T16:00:00.242Z\", \"2020-04-06T17:00:00.214Z\", \"2020-04-06T18:00:00.238Z\", \"2020-04-06T19:00:00.234Z\", \"2020-04-06T20:00:00.193Z\", \"2020-04-06T21:00:00.255Z\", \"2020-04-06T22:00:00.261Z\", \"2020-04-06T23:00:00.179Z\", \"2020-04-07T00:00:00.256Z\", \"2020-04-07T01:00:00.223Z\", \"2020-04-07T02:00:00.207Z\", \"2020-04-07T03:00:00.186Z\", \"2020-04-07T04:00:00.182Z\", \"2020-04-07T05:00:00.186Z\", \"2020-04-07T06:00:00.160Z\", \"2020-04-07T07:00:00.183Z\", \"2020-04-07T08:00:00.216Z\", \"2020-04-07T09:00:00.206Z\", \"2020-04-07T10:00:00.254Z\", \"2020-04-07T11:00:00.190Z\", \"2020-04-07T12:00:00.271Z\", \"2020-04-07T13:00:00.170Z\", \"2020-04-07T14:00:00.457Z\", \"2020-04-07T15:00:00.225Z\", \"2020-04-07T16:00:00.212Z\", \"2020-04-07T17:00:00.212Z\", \"2020-04-07T18:00:00.170Z\", \"2020-04-07T19:00:00.272Z\", \"2020-04-07T20:00:00.213Z\", \"2020-04-07T21:00:00.229Z\", \"2020-04-07T22:00:00.235Z\", \"2020-04-07T23:00:00.261Z\", \"2020-04-08T00:00:00.336Z\", \"2020-04-08T01:00:00.252Z\", \"2020-04-08T02:00:00.184Z\", \"2020-04-08T03:00:00.207Z\", \"2020-04-08T04:00:00.266Z\", \"2020-04-08T05:00:00.218Z\", \"2020-04-08T06:00:00.257Z\", \"2020-04-08T07:00:00.197Z\", \"2020-04-08T08:00:00.244Z\", \"2020-04-08T09:00:00.191Z\", \"2020-04-08T10:00:00.225Z\", \"2020-04-08T11:00:00.237Z\", \"2020-04-08T12:00:00.194Z\", \"2020-04-08T13:00:00.304Z\", \"2020-04-08T14:00:00.209Z\", \"2020-04-08T15:00:00.284Z\", \"2020-04-08T16:00:00.210Z\", \"2020-04-08T17:00:00.202Z\", \"2020-04-08T18:00:00.356Z\", \"2020-04-08T19:00:00.260Z\", \"2020-04-08T20:00:00.212Z\", \"2020-04-08T21:00:00.181Z\", \"2020-04-08T22:00:00.244Z\", \"2020-04-08T23:00:00.261Z\", \"2020-04-09T00:00:00.188Z\", \"2020-04-09T01:00:00.206Z\", \"2020-04-09T02:00:00.208Z\", \"2020-04-09T03:00:00.217Z\", \"2020-04-09T04:00:00.196Z\", \"2020-04-09T05:00:00.235Z\", \"2020-04-09T06:00:00.213Z\", \"2020-04-09T07:00:00.236Z\", \"2020-04-09T08:00:00.226Z\", \"2020-04-09T09:00:00.169Z\", \"2020-04-09T10:00:00.223Z\", \"2020-04-09T11:00:00.251Z\", \"2020-04-09T12:00:00.217Z\", \"2020-04-09T13:00:00.235Z\", \"2020-04-09T14:00:00.258Z\", \"2020-04-09T15:00:00.233Z\", \"2020-04-09T16:00:00.189Z\", \"2020-04-09T17:00:00.220Z\", \"2020-04-09T18:00:00.233Z\", \"2020-04-09T19:00:00.222Z\", \"2020-04-09T20:00:00.280Z\", \"2020-04-09T21:00:00.285Z\", \"2020-04-09T22:00:00.225Z\", \"2020-04-09T23:00:00.181Z\", \"2020-04-10T00:00:00.213Z\", \"2020-04-10T01:00:00.222Z\", \"2020-04-10T02:00:00.253Z\", \"2020-04-10T03:00:00.163Z\", \"2020-04-10T04:00:00.193Z\", \"2020-04-10T05:00:00.208Z\", \"2020-04-10T06:00:00.206Z\", \"2020-04-10T07:00:00.200Z\", \"2020-04-10T08:00:00.251Z\", \"2020-04-10T09:00:00.227Z\", \"2020-04-10T10:00:00.231Z\", \"2020-04-10T11:00:00.181Z\", \"2020-04-10T12:00:00.271Z\", \"2020-04-10T13:00:00.218Z\", \"2020-04-10T14:00:00.185Z\", \"2020-04-10T15:00:00.223Z\", \"2020-04-10T16:00:00.189Z\", \"2020-04-10T17:00:00.211Z\", \"2020-04-10T18:00:00.236Z\", \"2020-04-10T19:00:00.213Z\", \"2020-04-10T20:00:00.190Z\", \"2020-04-10T21:00:00.182Z\", \"2020-04-10T22:00:00.212Z\", \"2020-04-10T23:00:00.185Z\", \"2020-04-11T00:00:00.202Z\", \"2020-04-11T01:00:00.229Z\", \"2020-04-11T02:00:00.265Z\", \"2020-04-11T03:00:00.193Z\", \"2020-04-11T04:00:00.199Z\", \"2020-04-11T05:00:00.176Z\", \"2020-04-11T06:00:00.230Z\", \"2020-04-11T07:00:00.226Z\", \"2020-04-11T08:00:00.196Z\", \"2020-04-11T09:00:00.281Z\", \"2020-04-11T10:00:00.226Z\", \"2020-04-11T11:00:00.259Z\", \"2020-04-11T12:00:00.277Z\", \"2020-04-11T13:00:00.253Z\", \"2020-04-11T14:00:00.189Z\", \"2020-04-11T15:00:00.222Z\", \"2020-04-11T16:00:00.193Z\", \"2020-04-11T17:00:00.213Z\", \"2020-04-11T18:00:00.264Z\", \"2020-04-11T19:00:00.178Z\", \"2020-04-11T20:00:00.235Z\", \"2020-04-11T21:00:00.257Z\", \"2020-04-11T22:00:00.247Z\", \"2020-04-11T23:00:00.217Z\", \"2020-04-12T00:00:00.224Z\", \"2020-04-12T01:00:00.262Z\", \"2020-04-12T02:00:00.185Z\", \"2020-04-12T03:00:00.219Z\", \"2020-04-12T04:00:00.192Z\", \"2020-04-12T05:00:00.173Z\", \"2020-04-12T06:00:00.256Z\", \"2020-04-12T07:00:00.237Z\", \"2020-04-12T08:00:00.177Z\", \"2020-04-12T09:00:00.225Z\", \"2020-04-12T10:00:00.258Z\", \"2020-04-12T11:00:00.252Z\", \"2020-04-12T12:00:00.187Z\", \"2020-04-12T13:00:00.211Z\", \"2020-04-12T14:00:00.230Z\", \"2020-04-12T15:00:00.182Z\", \"2020-04-12T16:00:00.273Z\", \"2020-04-12T17:00:00.246Z\", \"2020-04-12T18:00:00.193Z\", \"2020-04-12T19:00:00.187Z\", \"2020-04-12T20:00:00.207Z\", \"2020-04-12T21:00:00.213Z\", \"2020-04-12T22:00:00.205Z\", \"2020-04-12T23:00:00.251Z\", \"2020-04-13T00:00:00.241Z\", \"2020-04-13T01:00:00.214Z\", \"2020-04-13T02:00:00.244Z\", \"2020-04-13T03:00:00.244Z\", \"2020-04-13T04:00:00.245Z\", \"2020-04-13T05:00:00.228Z\", \"2020-04-13T06:00:00.261Z\", \"2020-04-13T07:00:00.231Z\", \"2020-04-13T08:00:00.250Z\", \"2020-04-13T09:00:00.223Z\", \"2020-04-13T10:00:00.226Z\", \"2020-04-13T11:00:00.202Z\", \"2020-04-13T12:00:00.180Z\", \"2020-04-13T13:00:00.170Z\", \"2020-04-13T14:00:00.209Z\", \"2020-04-13T15:00:00.230Z\", \"2020-04-13T16:00:00.212Z\", \"2020-04-13T17:00:00.233Z\", \"2020-04-13T18:00:00.261Z\", \"2020-04-13T19:00:00.275Z\", \"2020-04-13T20:00:00.177Z\", \"2020-04-13T21:00:00.223Z\", \"2020-04-13T22:00:00.224Z\", \"2020-04-13T23:00:00.242Z\", \"2020-04-14T00:00:00.214Z\", \"2020-04-14T01:00:00.220Z\", \"2020-04-14T02:00:00.242Z\", \"2020-04-14T03:00:00.257Z\", \"2020-04-14T04:00:00.207Z\", \"2020-04-14T05:00:00.209Z\", \"2020-04-14T06:00:00.215Z\", \"2020-04-14T07:00:00.227Z\", \"2020-04-14T08:00:00.215Z\", \"2020-04-14T09:00:00.254Z\", \"2020-04-14T10:00:00.226Z\", \"2020-04-14T11:00:00.177Z\", \"2020-04-14T12:00:00.381Z\", \"2020-04-14T13:00:00.180Z\", \"2020-04-14T14:00:00.244Z\", \"2020-04-14T15:00:00.227Z\", \"2020-04-14T16:00:00.295Z\", \"2020-04-14T17:00:00.224Z\", \"2020-04-14T18:00:00.223Z\", \"2020-04-14T19:00:00.220Z\", \"2020-04-14T20:00:00.218Z\", \"2020-04-14T21:00:00.233Z\", \"2020-04-14T22:00:00.219Z\", \"2020-04-14T23:00:00.245Z\", \"2020-04-15T00:00:00.254Z\", \"2020-04-15T01:00:00.189Z\", \"2020-04-15T02:00:00.206Z\", \"2020-04-15T03:00:00.179Z\", \"2020-04-15T04:00:00.227Z\", \"2020-04-15T05:00:00.261Z\", \"2020-04-15T06:00:00.188Z\", \"2020-04-15T07:00:00.229Z\", \"2020-04-15T08:00:00.204Z\", \"2020-04-15T09:00:00.190Z\", \"2020-04-15T10:00:00.212Z\", \"2020-04-15T11:00:00.238Z\", \"2020-04-15T12:00:00.249Z\", \"2020-04-15T13:00:00.239Z\", \"2020-04-15T14:00:00.212Z\", \"2020-04-15T15:00:00.258Z\", \"2020-04-15T16:00:00.219Z\", \"2020-04-15T17:00:00.184Z\", \"2020-04-15T18:00:00.197Z\", \"2020-04-15T19:00:00.303Z\", \"2020-04-15T20:00:00.243Z\", \"2020-04-15T21:00:00.221Z\", \"2020-04-15T22:00:00.246Z\", \"2020-04-15T23:00:00.246Z\", \"2020-04-16T00:00:00.185Z\", \"2020-04-16T01:00:00.265Z\", \"2020-04-16T02:00:00.175Z\", \"2020-04-16T03:00:00.201Z\", \"2020-04-16T04:00:00.216Z\", \"2020-04-16T05:00:00.225Z\", \"2020-04-16T06:00:00.237Z\", \"2020-04-16T07:00:00.263Z\", \"2020-04-16T08:00:00.240Z\", \"2020-04-16T09:00:00.214Z\", \"2020-04-16T10:00:00.193Z\", \"2020-04-16T11:00:00.213Z\", \"2020-04-16T12:00:00.229Z\", \"2020-04-16T13:00:00.229Z\", \"2020-04-16T14:00:00.265Z\", \"2020-04-16T15:00:00.264Z\", \"2020-04-16T16:00:00.237Z\", \"2020-04-16T17:00:00.201Z\", \"2020-04-16T18:00:00.226Z\", \"2020-04-16T19:00:00.217Z\", \"2020-04-16T20:00:00.257Z\", \"2020-04-16T21:00:00.180Z\", \"2020-04-16T22:00:00.178Z\", \"2020-04-16T23:00:00.222Z\", \"2020-04-17T00:00:00.247Z\", \"2020-04-17T01:00:00.210Z\", \"2020-04-17T02:00:00.211Z\", \"2020-04-17T03:00:00.261Z\", \"2020-04-17T04:00:00.265Z\", \"2020-04-17T05:00:00.222Z\", \"2020-04-17T06:00:00.224Z\", \"2020-04-17T07:00:00.285Z\", \"2020-04-17T08:00:00.235Z\", \"2020-04-17T09:00:00.230Z\", \"2020-04-17T10:00:00.257Z\", \"2020-04-17T11:00:00.261Z\", \"2020-04-17T12:00:00.309Z\", \"2020-04-17T13:00:00.191Z\", \"2020-04-17T14:00:00.225Z\", \"2020-04-17T15:00:00.263Z\", \"2020-04-17T16:00:00.221Z\", \"2020-04-17T17:00:00.283Z\", \"2020-04-17T18:00:00.224Z\", \"2020-04-17T19:00:00.256Z\", \"2020-04-17T20:00:00.265Z\", \"2020-04-17T21:00:00.253Z\", \"2020-04-17T22:00:00.218Z\", \"2020-04-17T23:00:00.251Z\", \"2020-04-18T00:00:00.230Z\", \"2020-04-18T01:00:00.219Z\", \"2020-04-18T02:00:00.173Z\", \"2020-04-18T03:00:00.190Z\", \"2020-04-18T04:00:00.172Z\", \"2020-04-18T05:00:00.214Z\", \"2020-04-18T06:00:00.190Z\", \"2020-04-18T07:00:00.255Z\", \"2020-04-18T08:00:00.201Z\", \"2020-04-18T09:00:00.229Z\", \"2020-04-18T10:00:00.223Z\", \"2020-04-18T11:00:00.195Z\", \"2020-04-18T12:00:00.227Z\", \"2020-04-18T13:00:00.218Z\", \"2020-04-18T14:00:00.228Z\", \"2020-04-18T15:00:00.281Z\", \"2020-04-18T16:00:00.225Z\", \"2020-04-18T17:00:00.226Z\", \"2020-04-18T18:00:00.224Z\", \"2020-04-18T19:00:00.161Z\", \"2020-04-18T20:00:00.187Z\", \"2020-04-18T21:00:00.226Z\", \"2020-04-18T22:00:00.239Z\", \"2020-04-18T23:00:00.225Z\", \"2020-04-19T00:00:00.158Z\", \"2020-04-19T01:00:00.215Z\", \"2020-04-19T02:00:00.237Z\", \"2020-04-19T03:00:00.182Z\", \"2020-04-19T04:00:00.206Z\", \"2020-04-19T05:00:00.226Z\", \"2020-04-19T06:00:00.177Z\", \"2020-04-19T07:00:00.263Z\", \"2020-04-19T08:00:00.213Z\", \"2020-04-19T09:00:00.186Z\", \"2020-04-19T10:00:00.193Z\", \"2020-04-19T11:00:00.217Z\", \"2020-04-19T12:00:00.176Z\", \"2020-04-19T13:00:00.240Z\", \"2020-04-19T14:00:00.267Z\", \"2020-04-19T15:00:00.187Z\", \"2020-04-19T16:00:00.177Z\", \"2020-04-19T17:00:00.248Z\", \"2020-04-19T18:00:00.269Z\", \"2020-04-19T19:00:00.216Z\", \"2020-04-19T20:00:00.189Z\", \"2020-04-19T21:00:00.272Z\", \"2020-04-19T22:00:00.274Z\", \"2020-04-19T23:00:00.222Z\", \"2020-04-20T00:00:00.251Z\", \"2020-04-20T01:00:00.244Z\", \"2020-04-20T02:00:00.181Z\", \"2020-04-20T03:00:00.238Z\", \"2020-04-20T04:00:00.213Z\", \"2020-04-20T05:00:00.205Z\", \"2020-04-20T06:00:00.223Z\", \"2020-04-20T07:00:00.182Z\", \"2020-04-20T08:00:00.211Z\", \"2020-04-20T09:00:00.231Z\", \"2020-04-20T10:00:00.234Z\", \"2020-04-20T11:00:00.214Z\", \"2020-04-20T12:00:00.354Z\", \"2020-04-20T13:00:00.238Z\", \"2020-04-20T14:00:00.187Z\", \"2020-04-20T15:00:00.222Z\", \"2020-04-20T16:00:00.263Z\", \"2020-04-20T17:00:00.191Z\", \"2020-04-20T18:00:00.225Z\", \"2020-04-20T19:00:00.257Z\", \"2020-04-20T20:00:00.269Z\", \"2020-04-20T21:00:00.179Z\", \"2020-04-20T22:00:00.167Z\", \"2020-04-20T23:00:00.186Z\", \"2020-04-21T00:00:00.227Z\", \"2020-04-21T01:00:00.239Z\", \"2020-04-21T02:00:00.224Z\", \"2020-04-21T03:00:00.237Z\", \"2020-04-21T04:00:00.276Z\", \"2020-04-21T05:00:00.212Z\", \"2020-04-21T06:00:00.215Z\", \"2020-04-21T07:00:00.237Z\", \"2020-04-21T08:00:00.299Z\", \"2020-04-21T09:00:00.262Z\", \"2020-04-21T10:00:00.234Z\", \"2020-04-21T11:00:00.219Z\", \"2020-04-21T12:00:00.199Z\", \"2020-04-21T13:00:00.260Z\", \"2020-04-21T14:00:00.265Z\", \"2020-04-21T15:00:00.208Z\", \"2020-04-21T16:00:00.278Z\", \"2020-04-21T17:00:00.208Z\", \"2020-04-21T18:00:00.190Z\", \"2020-04-21T19:00:00.264Z\", \"2020-04-21T20:00:00.222Z\", \"2020-04-21T21:00:00.215Z\", \"2020-04-21T22:00:00.219Z\", \"2020-04-21T23:00:00.206Z\", \"2020-04-22T00:00:00.207Z\", \"2020-04-22T01:00:00.220Z\", \"2020-04-22T02:00:00.203Z\", \"2020-04-22T03:00:00.213Z\", \"2020-04-22T04:00:00.201Z\", \"2020-04-22T05:00:00.248Z\", \"2020-04-22T06:00:00.189Z\", \"2020-04-22T07:00:00.223Z\", \"2020-04-22T08:00:00.223Z\", \"2020-04-22T09:00:00.223Z\", \"2020-04-22T10:00:00.245Z\", \"2020-04-22T11:00:00.284Z\", \"2020-04-22T12:00:00.259Z\", \"2020-04-22T13:00:00.263Z\", \"2020-04-22T14:00:00.214Z\", \"2020-04-22T15:00:00.256Z\", \"2020-04-22T16:00:00.214Z\", \"2020-04-22T17:00:00.178Z\", \"2020-04-22T18:00:00.225Z\", \"2020-04-22T19:00:00.246Z\", \"2020-04-22T20:00:00.195Z\", \"2020-04-22T21:00:00.215Z\", \"2020-04-22T22:00:00.243Z\", \"2020-04-22T23:00:00.257Z\", \"2020-04-23T00:00:00.163Z\", \"2020-04-23T01:00:00.201Z\", \"2020-04-23T02:00:00.254Z\", \"2020-04-23T03:00:00.238Z\", \"2020-04-23T04:00:00.218Z\", \"2020-04-23T05:00:00.261Z\", \"2020-04-23T06:00:00.254Z\", \"2020-04-23T07:00:00.227Z\", \"2020-04-23T08:00:00.193Z\", \"2020-04-23T09:00:00.181Z\", \"2020-04-23T10:00:00.190Z\", \"2020-04-23T11:00:00.222Z\", \"2020-04-23T12:00:00.266Z\", \"2020-04-23T13:00:00.307Z\", \"2020-04-23T14:00:00.268Z\", \"2020-04-23T15:00:00.251Z\", \"2020-04-23T16:00:00.268Z\", \"2020-04-23T17:00:00.272Z\", \"2020-04-23T18:00:00.264Z\", \"2020-04-23T19:00:00.259Z\", \"2020-04-23T20:00:00.251Z\", \"2020-04-23T21:00:00.248Z\", \"2020-04-23T22:00:00.248Z\", \"2020-04-23T23:00:00.281Z\", \"2020-04-24T00:00:00.256Z\", \"2020-04-24T01:00:00.254Z\", \"2020-04-24T02:00:00.246Z\", \"2020-04-24T03:00:00.248Z\", \"2020-04-24T04:00:00.257Z\", \"2020-04-24T05:00:00.168Z\", \"2020-04-24T06:00:00.215Z\", \"2020-04-24T07:00:00.248Z\", \"2020-04-24T08:00:00.204Z\", \"2020-04-24T09:00:00.243Z\", \"2020-04-24T10:00:00.269Z\", \"2020-04-24T11:00:00.237Z\", \"2020-04-24T12:00:00.225Z\", \"2020-04-24T13:00:00.218Z\", \"2020-04-24T14:00:00.218Z\", \"2020-04-24T15:00:00.394Z\", \"2020-04-24T16:00:00.186Z\", \"2020-04-24T17:00:00.219Z\", \"2020-04-24T18:00:00.173Z\", \"2020-04-24T19:00:00.233Z\", \"2020-04-24T20:00:00.198Z\", \"2020-04-24T21:00:00.174Z\", \"2020-04-24T22:00:00.184Z\", \"2020-04-24T23:00:00.224Z\", \"2020-04-25T00:00:00.270Z\", \"2020-04-25T01:00:00.212Z\", \"2020-04-25T02:00:00.224Z\", \"2020-04-25T03:00:00.177Z\", \"2020-04-25T04:00:00.223Z\", \"2020-04-25T05:00:00.215Z\", \"2020-04-25T06:00:00.259Z\", \"2020-04-25T07:00:00.189Z\", \"2020-04-25T08:00:00.179Z\", \"2020-04-25T09:00:00.227Z\", \"2020-04-25T10:00:00.195Z\", \"2020-04-25T11:00:00.185Z\", \"2020-04-25T12:00:00.251Z\", \"2020-04-25T13:00:00.257Z\", \"2020-04-25T14:00:01.516Z\", \"2020-04-25T15:00:00.185Z\", \"2020-04-25T16:00:00.190Z\", \"2020-04-25T17:00:00.243Z\", \"2020-04-25T18:00:00.254Z\", \"2020-04-25T19:00:00.229Z\", \"2020-04-25T20:00:00.224Z\", \"2020-04-25T21:00:00.359Z\", \"2020-04-25T22:00:00.175Z\", \"2020-04-25T23:00:00.230Z\", \"2020-04-26T00:00:00.255Z\", \"2020-04-26T01:00:00.252Z\", \"2020-04-26T02:00:00.184Z\", \"2020-04-26T03:00:00.206Z\", \"2020-04-26T04:00:00.168Z\", \"2020-04-26T05:00:00.210Z\", \"2020-04-26T06:00:00.204Z\", \"2020-04-26T07:00:00.259Z\", \"2020-04-26T08:00:00.247Z\", \"2020-04-26T09:00:00.205Z\", \"2020-04-26T10:00:00.220Z\", \"2020-04-26T11:00:00.176Z\", \"2020-04-26T12:00:00.267Z\", \"2020-04-26T13:00:00.268Z\", \"2020-04-26T14:00:00.207Z\", \"2020-04-26T15:00:00.220Z\", \"2020-04-26T16:00:00.268Z\", \"2020-04-26T17:00:00.224Z\", \"2020-04-26T18:00:00.247Z\", \"2020-04-26T19:00:00.207Z\", \"2020-04-26T20:00:00.235Z\", \"2020-04-26T21:00:00.207Z\", \"2020-04-26T22:00:00.263Z\", \"2020-04-26T23:00:00.243Z\", \"2020-04-27T00:00:00.208Z\", \"2020-04-27T01:00:00.171Z\", \"2020-04-27T02:00:00.213Z\", \"2020-04-27T03:00:00.222Z\", \"2020-04-27T04:00:00.202Z\", \"2020-04-27T05:00:00.197Z\", \"2020-04-27T06:00:00.216Z\", \"2020-04-27T07:00:00.273Z\", \"2020-04-27T08:00:01.783Z\", \"2020-04-27T09:00:00.217Z\", \"2020-04-27T10:00:00.222Z\", \"2020-04-27T11:00:00.228Z\", \"2020-04-27T12:00:00.234Z\", \"2020-04-27T13:00:00.184Z\", \"2020-04-27T14:00:00.184Z\", \"2020-04-27T15:00:00.205Z\", \"2020-04-27T16:00:00.270Z\", \"2020-04-27T17:00:00.232Z\", \"2020-04-27T18:00:00.195Z\", \"2020-04-27T19:00:00.267Z\", \"2020-04-27T20:00:00.237Z\", \"2020-04-27T21:00:00.215Z\", \"2020-04-27T22:00:00.214Z\", \"2020-04-27T23:00:00.211Z\", \"2020-04-28T00:00:00.209Z\", \"2020-04-28T01:00:00.213Z\", \"2020-04-28T02:00:00.210Z\", \"2020-04-28T03:00:00.184Z\", \"2020-04-28T04:00:00.216Z\", \"2020-04-28T05:00:00.263Z\", \"2020-04-28T06:00:00.240Z\", \"2020-04-28T07:00:00.236Z\", \"2020-04-28T08:00:00.188Z\", \"2020-04-28T09:00:00.176Z\", \"2020-04-28T10:00:00.234Z\", \"2020-04-28T11:00:00.192Z\", \"2020-04-28T12:00:00.187Z\", \"2020-04-28T13:00:00.226Z\", \"2020-04-28T14:00:00.254Z\", \"2020-04-28T15:00:00.236Z\", \"2020-04-28T16:00:00.194Z\", \"2020-04-28T17:00:00.249Z\", \"2020-04-28T18:00:00.230Z\", \"2020-04-28T19:00:00.252Z\", \"2020-04-28T20:00:00.176Z\", \"2020-04-28T21:00:00.214Z\", \"2020-04-28T22:00:00.202Z\", \"2020-04-28T23:00:00.206Z\", \"2020-04-29T00:00:00.209Z\", \"2020-04-29T01:00:00.214Z\", \"2020-04-29T02:00:00.206Z\", \"2020-04-29T03:00:00.212Z\", \"2020-04-29T04:00:00.213Z\", \"2020-04-29T05:00:00.256Z\", \"2020-04-29T06:00:00.268Z\", \"2020-04-29T07:00:00.209Z\", \"2020-04-29T08:00:00.217Z\", \"2020-04-29T09:00:00.247Z\", \"2020-04-29T10:00:00.253Z\", \"2020-04-29T11:00:00.279Z\", \"2020-04-29T12:00:00.246Z\", \"2020-04-29T13:00:00.214Z\", \"2020-04-29T14:00:00.192Z\", \"2020-04-29T15:00:00.199Z\", \"2020-04-29T17:00:00.182Z\", \"2020-04-29T18:00:00.173Z\", \"2020-04-29T19:00:00.223Z\", \"2020-04-29T20:00:00.237Z\", \"2020-04-29T21:00:00.244Z\", \"2020-04-29T22:00:00.215Z\", \"2020-04-29T23:00:00.245Z\", \"2020-04-30T00:00:00.215Z\", \"2020-04-30T01:00:05.257Z\", \"2020-04-30T02:00:00.214Z\", \"2020-04-30T03:00:00.217Z\", \"2020-04-30T04:00:00.206Z\", \"2020-04-30T05:00:00.260Z\", \"2020-04-30T06:00:00.210Z\", \"2020-04-30T07:00:00.277Z\", \"2020-04-30T08:00:00.262Z\", \"2020-04-30T09:00:00.225Z\", \"2020-04-30T10:00:00.234Z\", \"2020-04-30T11:00:00.192Z\", \"2020-04-30T12:00:00.193Z\", \"2020-04-30T13:00:00.227Z\", \"2020-04-30T14:00:00.229Z\", \"2020-04-30T15:00:00.256Z\", \"2020-04-30T16:00:00.219Z\", \"2020-04-30T17:00:00.221Z\", \"2020-04-30T18:00:00.230Z\", \"2020-04-30T19:00:00.214Z\", \"2020-04-30T20:00:00.220Z\", \"2020-04-30T21:00:00.184Z\", \"2020-04-30T22:00:00.218Z\", \"2020-04-30T23:00:00.202Z\", \"2020-05-01T00:00:00.207Z\", \"2020-05-01T01:00:00.176Z\", \"2020-05-01T02:00:00.213Z\", \"2020-05-01T03:00:00.216Z\", \"2020-05-01T04:00:00.244Z\", \"2020-05-01T05:00:00.207Z\", \"2020-05-01T06:00:00.245Z\", \"2020-05-01T07:00:00.254Z\", \"2020-05-01T08:00:00.221Z\", \"2020-05-01T09:00:00.186Z\", \"2020-05-01T10:00:00.206Z\", \"2020-05-01T11:00:00.197Z\", \"2020-05-01T12:00:00.194Z\", \"2020-05-01T13:00:00.256Z\", \"2020-05-01T14:00:00.250Z\", \"2020-05-01T15:00:00.227Z\", \"2020-05-01T16:00:00.260Z\", \"2020-05-01T17:00:00.194Z\", \"2020-05-01T18:00:00.250Z\", \"2020-05-01T19:00:00.250Z\", \"2020-05-01T20:00:00.220Z\", \"2020-05-01T21:00:00.185Z\", \"2020-05-01T22:00:00.220Z\", \"2020-05-01T23:00:00.175Z\", \"2020-05-02T00:00:00.205Z\", \"2020-05-02T01:00:00.219Z\", \"2020-05-02T02:00:00.247Z\", \"2020-05-02T03:00:00.178Z\", \"2020-05-02T04:00:00.191Z\", \"2020-05-02T05:00:00.249Z\", \"2020-05-02T06:00:00.224Z\", \"2020-05-02T07:00:00.244Z\", \"2020-05-02T08:00:00.222Z\", \"2020-05-02T09:00:00.225Z\", \"2020-05-02T10:00:00.223Z\", \"2020-05-02T11:00:00.213Z\", \"2020-05-02T12:00:00.200Z\", \"2020-05-02T13:00:00.224Z\", \"2020-05-02T14:00:00.195Z\", \"2020-05-02T15:00:00.225Z\", \"2020-05-02T16:00:00.231Z\", \"2020-05-02T17:00:00.190Z\", \"2020-05-02T18:00:00.176Z\", \"2020-05-02T19:00:00.252Z\", \"2020-05-02T20:00:00.184Z\", \"2020-05-02T21:00:00.215Z\", \"2020-05-02T22:00:00.211Z\", \"2020-05-02T23:00:00.165Z\", \"2020-05-03T00:00:00.208Z\", \"2020-05-03T01:00:00.260Z\", \"2020-05-03T02:00:00.197Z\", \"2020-05-03T03:00:00.225Z\", \"2020-05-03T04:00:01.076Z\", \"2020-05-03T05:00:00.215Z\", \"2020-05-03T06:00:00.191Z\", \"2020-05-03T07:00:00.222Z\", \"2020-05-03T08:00:00.188Z\", \"2020-05-03T09:00:00.246Z\", \"2020-05-03T10:00:00.178Z\", \"2020-05-03T11:00:00.218Z\", \"2020-05-03T12:00:00.252Z\", \"2020-05-03T13:00:00.211Z\", \"2020-05-03T14:00:00.213Z\", \"2020-05-03T15:00:00.207Z\", \"2020-05-03T16:00:00.253Z\", \"2020-05-03T17:00:00.217Z\", \"2020-05-03T18:00:00.180Z\", \"2020-05-03T19:00:00.253Z\", \"2020-05-03T20:00:00.173Z\", \"2020-05-03T21:00:00.225Z\", \"2020-05-03T22:00:00.194Z\", \"2020-05-03T23:00:00.232Z\", \"2020-05-04T00:00:00.236Z\", \"2020-05-04T01:00:00.173Z\", \"2020-05-04T02:00:00.200Z\", \"2020-05-04T03:00:01.669Z\", \"2020-05-04T04:00:00.176Z\", \"2020-05-04T05:00:00.191Z\", \"2020-05-04T06:00:00.183Z\", \"2020-05-04T07:00:00.202Z\", \"2020-05-04T08:00:00.231Z\", \"2020-05-04T09:00:00.221Z\", \"2020-05-04T10:00:00.245Z\", \"2020-05-04T11:00:00.191Z\", \"2020-05-04T12:00:00.267Z\", \"2020-05-04T13:00:00.218Z\", \"2020-05-04T14:00:00.172Z\", \"2020-05-04T15:00:00.210Z\", \"2020-05-04T16:00:00.205Z\", \"2020-05-04T17:00:00.258Z\", \"2020-05-04T18:00:00.246Z\", \"2020-05-04T19:00:00.187Z\", \"2020-05-04T20:00:00.211Z\", \"2020-05-04T21:00:00.226Z\", \"2020-05-04T22:00:00.173Z\", \"2020-05-04T23:00:00.198Z\", \"2020-05-05T00:00:00.178Z\", \"2020-05-05T01:00:00.233Z\", \"2020-05-05T02:00:00.179Z\", \"2020-05-05T03:00:00.183Z\", \"2020-05-05T04:00:00.203Z\", \"2020-05-05T05:00:00.208Z\", \"2020-05-05T06:00:00.218Z\", \"2020-05-05T07:00:00.178Z\", \"2020-05-05T08:00:00.244Z\", \"2020-05-05T09:00:00.197Z\", \"2020-05-05T10:00:00.215Z\", \"2020-05-05T11:00:00.205Z\", \"2020-05-05T12:00:00.258Z\", \"2020-05-05T13:00:00.218Z\", \"2020-05-05T14:00:00.234Z\", \"2020-05-05T15:00:00.177Z\", \"2020-05-05T16:00:00.177Z\", \"2020-05-05T17:00:00.227Z\", \"2020-05-05T18:00:00.222Z\", \"2020-05-05T19:00:00.209Z\", \"2020-05-05T20:00:00.359Z\", \"2020-05-05T21:00:00.185Z\", \"2020-05-05T22:00:00.234Z\", \"2020-05-05T23:00:00.218Z\", \"2020-05-06T00:00:00.208Z\", \"2020-05-06T01:00:00.179Z\", \"2020-05-06T02:00:00.211Z\", \"2020-05-06T03:00:00.251Z\", \"2020-05-06T04:00:00.266Z\", \"2020-05-06T05:00:00.213Z\", \"2020-05-06T06:00:00.189Z\", \"2020-05-06T07:00:00.224Z\", \"2020-05-06T08:00:00.216Z\", \"2020-05-06T09:00:00.233Z\", \"2020-05-06T09:00:00.666Z\", \"2020-05-06T10:00:00.235Z\", \"2020-05-06T10:00:09.342Z\", \"2020-05-06T11:00:00.190Z\", \"2020-05-06T11:00:01.632Z\", \"2020-05-06T12:00:00.255Z\", \"2020-05-06T12:00:00.772Z\", \"2020-05-06T13:00:00.252Z\", \"2020-05-06T13:00:00.775Z\", \"2020-05-06T14:00:00.229Z\", \"2020-05-06T14:31:20.818Z\", \"2020-05-06T15:00:00.281Z\", \"2020-05-06T15:12:38.238Z\", \"2020-05-06T16:00:00.223Z\", \"2020-05-06T16:00:00.630Z\", \"2020-05-06T17:00:00.213Z\", \"2020-05-06T17:00:49.384Z\", \"2020-05-06T18:00:00.240Z\", \"2020-05-06T19:00:00.185Z\", \"2020-05-06T20:00:00.184Z\", \"2020-05-06T21:00:01.695Z\", \"2020-05-06T22:00:00.215Z\", \"2020-05-06T23:00:00.210Z\", \"2020-05-07T00:00:00.166Z\", \"2020-05-07T01:00:00.211Z\", \"2020-05-07T02:00:00.201Z\", \"2020-05-07T03:00:00.247Z\", \"2020-05-07T04:00:00.215Z\", \"2020-05-07T05:00:00.213Z\", \"2020-05-07T06:00:00.248Z\", \"2020-05-07T07:00:00.252Z\", \"2020-05-07T08:00:00.229Z\", \"2020-05-07T09:00:00.223Z\", \"2020-05-07T10:00:00.247Z\", \"2020-05-07T11:00:00.225Z\", \"2020-05-07T12:00:00.277Z\", \"2020-05-07T13:00:00.180Z\", \"2020-05-07T14:00:00.171Z\", \"2020-05-07T15:00:00.530Z\", \"2020-05-07T16:00:00.235Z\", \"2020-05-07T17:00:00.210Z\", \"2020-05-07T18:00:00.237Z\", \"2020-05-07T19:00:00.213Z\", \"2020-05-07T20:00:00.177Z\", \"2020-05-07T21:00:00.190Z\", \"2020-05-07T22:00:00.218Z\", \"2020-05-07T23:00:00.177Z\", \"2020-05-08T00:00:00.209Z\", \"2020-05-08T01:00:00.208Z\", \"2020-05-08T02:00:00.227Z\", \"2020-05-08T03:00:00.244Z\", \"2020-05-08T04:00:00.217Z\", \"2020-05-08T05:00:00.269Z\", \"2020-05-08T06:00:00.212Z\", \"2020-05-08T07:00:00.176Z\", \"2020-05-08T08:00:00.169Z\", \"2020-05-08T09:00:00.179Z\", \"2020-05-08T10:00:00.179Z\", \"2020-05-08T11:00:00.190Z\", \"2020-05-08T12:00:00.231Z\", \"2020-05-08T13:00:00.181Z\", \"2020-05-08T14:00:00.160Z\", \"2020-05-08T15:00:00.220Z\", \"2020-05-08T16:00:00.233Z\", \"2020-05-08T17:00:00.180Z\", \"2020-05-08T18:00:00.158Z\", \"2020-05-08T19:00:00.223Z\", \"2020-05-08T20:00:00.200Z\", \"2020-05-08T21:00:00.209Z\", \"2020-05-08T22:00:00.200Z\", \"2020-05-08T23:00:00.249Z\", \"2020-05-09T00:00:00.187Z\", \"2020-05-09T01:00:00.238Z\", \"2020-05-09T02:00:00.168Z\", \"2020-05-09T03:00:00.165Z\", \"2020-05-09T04:00:00.201Z\", \"2020-05-09T05:00:00.249Z\", \"2020-05-09T06:00:00.168Z\", \"2020-05-09T07:00:00.199Z\", \"2020-05-09T08:00:00.206Z\", \"2020-05-09T09:00:00.238Z\", \"2020-05-09T10:00:00.221Z\", \"2020-05-09T11:00:00.179Z\", \"2020-05-09T12:00:00.208Z\", \"2020-05-09T13:00:00.212Z\", \"2020-05-09T14:00:00.172Z\", \"2020-05-09T15:00:00.195Z\", \"2020-05-09T16:00:00.220Z\", \"2020-05-09T17:00:00.235Z\", \"2020-05-09T18:00:00.244Z\", \"2020-05-09T19:00:00.212Z\", \"2020-05-09T20:00:00.166Z\", \"2020-05-09T21:00:00.223Z\", \"2020-05-09T22:00:00.175Z\", \"2020-05-09T23:00:00.255Z\", \"2020-05-10T00:00:00.179Z\", \"2020-05-10T01:00:00.254Z\", \"2020-05-10T02:00:00.173Z\", \"2020-05-10T03:00:00.210Z\", \"2020-05-10T04:00:00.252Z\", \"2020-05-10T05:00:00.217Z\", \"2020-05-10T06:00:00.210Z\", \"2020-05-10T07:00:00.210Z\", \"2020-05-10T08:00:00.257Z\", \"2020-05-10T09:00:00.220Z\", \"2020-05-10T10:00:00.208Z\", \"2020-05-10T11:00:00.228Z\", \"2020-05-10T12:00:00.217Z\", \"2020-05-10T13:00:00.196Z\", \"2020-05-10T14:00:00.252Z\", \"2020-05-10T15:00:00.224Z\", \"2020-05-10T16:00:00.256Z\", \"2020-05-10T17:00:00.239Z\", \"2020-05-10T18:00:00.235Z\", \"2020-05-10T19:00:00.226Z\", \"2020-05-10T20:00:00.175Z\", \"2020-05-10T21:00:00.221Z\", \"2020-05-10T22:00:00.179Z\", \"2020-05-10T23:00:00.247Z\", \"2020-05-11T00:00:00.217Z\", \"2020-05-11T01:00:00.284Z\", \"2020-05-11T02:00:00.227Z\", \"2020-05-11T03:00:00.176Z\", \"2020-05-11T04:00:00.165Z\", \"2020-05-11T05:00:00.176Z\", \"2020-05-11T06:00:00.217Z\", \"2020-05-11T07:00:00.284Z\", \"2020-05-11T08:00:00.235Z\", \"2020-05-11T09:00:00.177Z\", \"2020-05-11T10:00:00.267Z\", \"2020-05-11T11:00:00.220Z\", \"2020-05-11T12:00:00.280Z\"], \"y\": [62, 62, 85, 85, 85, 85, 85, 85, 85, 85, 85, 116, 116, 116, 116, 116, 116, 116, 116, 116, 116, 116, 116, 116, 116, 116, 116, 116, 116, 116, 116, 116, 116, 116, 116, 116, 116, 116, 150, 150, 150, 150, 150, 150, 150, 150, 150, 150, 150, 150, 150, 150, 150, 150, 150, 150, 150, 150, 150, 202, 202, 202, 202, 202, 202, 202, 202, 202, 202, 202, 202, 202, 202, 202, 202, 202, 202, 202, 202, 202, 202, 202, 202, 239, 239, 239, 238, 238, 238, 238, 238, 238, 238, 238, 238, 238, 238, 238, 238, 238, 238, 238, 238, 238, 238, 238, 238, 238, 238, 238, 238, 238, 238, 238, 238, 238, 272, 272, 272, 272, 272, 272, 272, 272, 272, 398, 398, 398, 398, 398, 398, 398, 398, 398, 398, 398, 398, 398, 550, 550, 550, 550, 550, 550, 550, 550, 550, 550, 550, 550, 550, 550, 550, 550, 550, 550, 550, 550, 550, 550, 705, 705, 705, 705, 705, 697, 697, 697, 697, 697, 697, 697, 697, 697, 697, 697, 697, 697, 697, 697, 697, 697, 697, 697, 697, 697, 697, 697, 697, 697, 697, 697, 697, 915, 915, 915, 915, 915, 915, 915, 915, 915, 915, 915, 915, 915, 915, 915, 915, 913, 913, 913, 913, 913, 913, 913, 913, 913, 1156, 1156, 1156, 1157, 1138, 1138, 1138, 1138, 1138, 1138, 1138, 1138, 1138, 1138, 1138, 1138, 1138, 1138, 1138, 1138, 1138, 1138, 1138, 1137, 1154, 1154, 1154, 1155, 1155, 1155, 1155, 1155, 1155, 1155, 1155, 1155, 1155, 1155, 1155, 1155, 1155, 1155, 1155, 1155, 1155, 1155, 1155, 1155, 1155, 1247, 1247, 1247, 1247, 1247, 1247, 1247, 1247, 1247, 1247, 1247, 1247, 1247, 1247, 1247, 1247, 1247, 1247, 1247, 1247, 1247, 1247, 1292, 1292, 1292, 1292, 1292, 1292, 1292, 1292, 1292, 1292, 1292, 1292, 1292, 1292, 1292, 1292, 1292, 1292, 1292, 1292, 1292, 1292, 1319, 1319, 1319, 1319, 1319, 1317, 1317, 1317, 1317, 1317, 1317, 1317, 1317, 1317, 1317, 1317, 1298, 1298, 1298, 1298, 1298, 1298, 1298, 1298, 1298, 1325, 1325, 1325, 1325, 1325, 1325, 1325, 1325, 1325, 1325, 1325, 1325, 1325, 1325, 1325, 1325, 1325, 1325, 1325, 1325, 1325, 1325, 1325, 1325, 1407, 1407, 1407, 1407, 1407, 1407, 1407, 1407, 1407, 1407, 1407, 1407, 1362, 1362, 1362, 1362, 1362, 1362, 1362, 1362, 1362, 1362, 1403, 1403, 1401, 1401, 1401, 1401, 1401, 1401, 1401, 1401, 1401, 1401, 1401, 1401, 1401, 1401, 1401, 1401, 1401, 1401, 1401, 1401, 1401, 1401, 1401, 1401, 1401, 1481, 1481, 1481, 1481, 1481, 1481, 1481, 1481, 1481, 1481, 1481, 1481, 1481, 1481, 1481, 1481, 1481, 1481, 1481, 1481, 1481, 1481, 1481, 1481, 1549, 1549, 1549, 1549, 1549, 1549, 1549, 1549, 1549, 1549, 1549, 1549, 1549, 1549, 1549, 1549, 1549, 1549, 1549, 1549, 1549, 1549, 1549, 1549, 1579, 1579, 1579, 1579, 1579, 1579, 1579, 1579, 1579, 1579, 1579, 1579, 1579, 1579, 1579, 1579, 1579, 1579, 1641, 1641, 1641, 1641, 1641, 1641, 1641, 1641, 1641, 1641, 1641, 1641, 1641, 1641, 1641, 1641, 1641, 1641, 1641, 1641, 1641, 1641, 1641, 1641, 1641, 1641, 1641, 1641, 1641, 1732, 1732, 1732, 1732, 1732, 1732, 1732, 1732, 1732, 1732, 1732, 1732, 1732, 1732, 1732, 1732, 1732, 1732, 1732, 1732, 1732, 1732, 1732, 1732, 1821, 1821, 1821, 1821, 1821, 1821, 1821, 1821, 1821, 1821, 1821, 1821, 1821, 1821, 1821, 1821, 1821, 1821, 1569, 1569, 1569, 1569, 1569, 1569, 1569, 1569, 1569, 1569, 1569, 1569, 1569, 1569, 1569, 1569, 1569, 1569, 1569, 1569, 1569, 1569, 1569, 1569, 1569, 1569, 1569, 1569, 1569, 1593, 1593, 1593, 1593, 1593, 1593, 1593, 1593, 1593, 1593, 1593, 1593, 1593, 1593, 1593, 1593, 1593, 1593, 1593, 1593, 1593, 1593, 1593, 1593, 1738, 1738, 1738, 1738, 1738, 1738, 1738, 1738, 1738, 1738, 1738, 1738, 1738, 1738, 1738, 1738, 1738, 1738, 1738, 1738, 1738, 1738, 1738, 1738, 1835, 1835, 1835, 1835, 1835, 1835, 1835, 1835, 1835, 1835, 1835, 1835, 1835, 1835, 1835, 1835, 1835, 1835, 1835, 1835, 1978, 1978, 1978, 1978, 1978, 1978, 1978, 1978, 1978, 1978, 1978, 1978, 1978, 1978, 1978, 1978, 1978, 1978, 1978, 1978, 1978, 1978, 1978, 1978, 1978, 1978, 1978, 2062, 2062, 2062, 2062, 2062, 2062, 2062, 2062, 2062, 2062, 2062, 2062, 2062, 2062, 2062, 2062, 2062, 2062, 2062, 2062, 2062, 2062, 2062, 2062, 2062, 2062, 1654, 1654, 1654, 1654, 1654, 1654, 1654, 1654, 1654, 1654, 1654, 1654, 1654, 1654, 1654, 1654, 1654, 1654, 1654, 1654, 1654, 1654, 1654, 1654, 1830, 1830, 1830, 1830, 1830, 1830, 1830, 1830, 1830, 1830, 1830, 1830, 1830, 1830, 1830, 1830, 1830, 1830, 1830, 1830, 1830, 1830, 1830, 1830, 2081, 2081, 2079, 2079, 2079, 2079, 2079, 2079, 2079, 2079, 2079, 2079, 2079, 2079, 2079, 2079, 2079, 2079, 2079, 2079, 2079, 2079, 2079, 2201, 2201, 2201, 2201, 2201, 2201, 2201, 2201, 2201, 2201, 2201, 2201, 2201, 2201, 2201, 2201, 2201, 2201, 2201, 2201, 2201, 2201, 2201, 2201, 2201, 2201, 2187, 2187, 2187, 2187, 2187, 2187, 2187, 2187, 2187, 2187, 2187, 2187, 2187, 2187, 2187, 2187, 2187, 2187, 2187, 2187, 2187, 2352, 2352, 2352, 2352, 2352, 2352, 2352, 2352, 2352, 2352, 2352, 2352, 2352, 2352, 2352, 2352, 2352, 2352, 2352, 2352, 2352, 2352, 2352, 2352, 2352, 2352, 2515, 2515, 2515, 2515, 2515, 2515, 2515, 2515, 2515, 2515, 2515, 2515, 2515, 2515, 2515, 2515, 2515, 2515, 2515, 2515, 2515, 2515, 2515, 2405, 2405, 2405, 2405, 2405, 2405, 2405, 2405, 2405, 2405, 2405, 2405, 2405, 2405, 2405, 2405, 2405, 2405, 2405, 2405, 2405, 2405, 2405, 2405, 2405, 2668, 2668, 2668, 2668, 2668, 2668, 2668, 2668, 2668, 2668, 2668, 2668, 2668, 2668, 2668, 2668, 2668, 2668, 2668, 2668, 2668, 2668, 2668, 2668, 2802, 2802, 2802, 2802, 2802, 2802, 2802, 2802, 2802, 2802, 2802, 2802, 2802, 2802, 2802, 2802, 2802, 2802, 2802, 2802, 2802, 2802, 2802, 2802, 2986, 2986, 2986, 2986, 2986, 2986, 2986, 2986, 2986, 2986, 2986, 2986, 2986, 2986, 2986, 2986, 2986, 2986, 2986, 2986, 2986, 2986, 2986, 2986, 2986, 3230, 3230, 3230, 3230, 3230, 3230, 3230, 3230, 3230, 3230, 3230, 3230, 3230, 3230, 3230, 3230, 3230, 3230, 3230, 3230, 3230, 3230, 3230, 3230, 2830, 2830, 2830, 2830, 2830, 2830, 2830, 2830, 2830, 2830, 2830, 2830, 2830, 2830, 2830, 2830, 2830, 2830, 2830, 2830, 2830, 2830, 2830, 3174, 3174, 3174, 3174, 3174, 3174, 3174, 3174, 3174, 3174, 3174, 3174, 3174, 3174, 3174, 3174, 3174, 3174, 3174, 3174, 3174, 3174, 3174, 3471, 3471, 3471, 3471, 3471, 3471, 3471, 3471, 3471, 3471, 3471, 3471, 3471, 3471, 3471, 3471, 3471, 3471, 3471, 3471, 3471, 3471, 3471, 3471, 3471, 3471, 3453, 3453, 3453, 3453, 3453, 3453, 3453, 3453, 3453, 3453, 3453, 3453, 3453, 3453, 3453, 3453, 3453, 3453, 3453, 3453, 3453, 3453, 3664, 3664, 3664, 3664, 3664, 3664, 3664, 3664, 3664, 3664, 3664, 3664, 3664, 3664, 3664, 3664, 3664, 3664, 3664, 3664, 3664, 3664, 3664, 3664, 4103, 4103, 4103, 4103, 4103, 4103, 4103, 4103, 4103, 4103, 4103, 4103, 4103, 4103, 4103, 4103, 4103, 4103, 4103, 4103, 4103, 4103, 4103, 4103, 4336, 4336, 4336, 4336, 4336, 4336, 4336, 4336, 4336, 4336, 4336, 4336, 4336, 4336, 4336, 4336, 4336, 4336, 4336, 4336, 4336, 4336, 4336, 4336, 4336, 4678, 4678, 4678, 4678, 4678, 4678, 4678, 4678, 4678, 4678, 4678, 4678, 4678, 4678, 4678, 4678, 4678, 4678, 4678, 4678, 4678, 4678, 4678, 4678, 4678, 4678, 4678, 4678, 4678, 4678, 4678, 4678, 4678, 4678, 4502, 4502, 4502, 4502, 4502, 4502, 4502, 4502, 4502, 4502, 4502, 4502, 4502, 4502, 4502, 4502, 4502, 4502, 4502, 4502, 4502, 4502, 4918, 4918, 4918, 4918, 4918, 4918, 4918, 4918, 4918, 4918, 4918, 4918, 4918, 4918, 4918, 4918, 4918, 4918, 4918, 4918, 4918, 4918, 4918, 4918, 4918, 4918, 5564, 5564, 5564, 5564, 5564, 5564, 5564, 5564, 5564, 5564, 5564, 5564, 5564, 5564, 5564, 5564, 5564, 5564, 5251, 5251, 5251, 5251, 5251, 5251, 5251, 5251, 5251, 5251, 5251, 5251, 5251, 5251, 5251, 5251, 5251, 5251, 5251, 5251, 5251, 5251, 5251, 5251, 5251, 5251, 5251, 5251, 5648, 5648, 5648, 5648, 5648, 5648, 5648, 5648, 5648, 5648, 5648, 5648, 5648, 5648, 5648, 5648, 5648, 5648]}],\n",
       "                        {\"template\": {\"data\": {\"bar\": [{\"error_x\": {\"color\": \"#2a3f5f\"}, \"error_y\": {\"color\": \"#2a3f5f\"}, \"marker\": {\"line\": {\"color\": \"#E5ECF6\", \"width\": 0.5}}, \"type\": \"bar\"}], \"barpolar\": [{\"marker\": {\"line\": {\"color\": \"#E5ECF6\", \"width\": 0.5}}, \"type\": \"barpolar\"}], \"carpet\": [{\"aaxis\": {\"endlinecolor\": \"#2a3f5f\", \"gridcolor\": \"white\", \"linecolor\": \"white\", \"minorgridcolor\": \"white\", \"startlinecolor\": \"#2a3f5f\"}, \"baxis\": {\"endlinecolor\": \"#2a3f5f\", \"gridcolor\": \"white\", \"linecolor\": \"white\", \"minorgridcolor\": \"white\", \"startlinecolor\": \"#2a3f5f\"}, \"type\": \"carpet\"}], \"choropleth\": [{\"colorbar\": {\"outlinewidth\": 0, \"ticks\": \"\"}, \"type\": \"choropleth\"}], \"contour\": [{\"colorbar\": {\"outlinewidth\": 0, \"ticks\": \"\"}, \"colorscale\": [[0.0, \"#0d0887\"], [0.1111111111111111, \"#46039f\"], [0.2222222222222222, \"#7201a8\"], [0.3333333333333333, \"#9c179e\"], [0.4444444444444444, \"#bd3786\"], [0.5555555555555556, \"#d8576b\"], [0.6666666666666666, \"#ed7953\"], [0.7777777777777778, \"#fb9f3a\"], [0.8888888888888888, \"#fdca26\"], [1.0, \"#f0f921\"]], \"type\": \"contour\"}], \"contourcarpet\": [{\"colorbar\": {\"outlinewidth\": 0, \"ticks\": \"\"}, \"type\": \"contourcarpet\"}], \"heatmap\": [{\"colorbar\": {\"outlinewidth\": 0, \"ticks\": \"\"}, \"colorscale\": [[0.0, \"#0d0887\"], [0.1111111111111111, \"#46039f\"], [0.2222222222222222, \"#7201a8\"], [0.3333333333333333, \"#9c179e\"], [0.4444444444444444, \"#bd3786\"], [0.5555555555555556, \"#d8576b\"], [0.6666666666666666, \"#ed7953\"], [0.7777777777777778, \"#fb9f3a\"], [0.8888888888888888, \"#fdca26\"], [1.0, \"#f0f921\"]], \"type\": \"heatmap\"}], \"heatmapgl\": [{\"colorbar\": {\"outlinewidth\": 0, \"ticks\": \"\"}, \"colorscale\": [[0.0, \"#0d0887\"], [0.1111111111111111, \"#46039f\"], [0.2222222222222222, \"#7201a8\"], [0.3333333333333333, \"#9c179e\"], [0.4444444444444444, \"#bd3786\"], [0.5555555555555556, \"#d8576b\"], [0.6666666666666666, \"#ed7953\"], [0.7777777777777778, \"#fb9f3a\"], [0.8888888888888888, \"#fdca26\"], [1.0, \"#f0f921\"]], \"type\": \"heatmapgl\"}], \"histogram\": [{\"marker\": {\"colorbar\": {\"outlinewidth\": 0, \"ticks\": \"\"}}, \"type\": \"histogram\"}], \"histogram2d\": [{\"colorbar\": {\"outlinewidth\": 0, \"ticks\": \"\"}, \"colorscale\": [[0.0, \"#0d0887\"], [0.1111111111111111, \"#46039f\"], [0.2222222222222222, \"#7201a8\"], [0.3333333333333333, \"#9c179e\"], [0.4444444444444444, \"#bd3786\"], [0.5555555555555556, \"#d8576b\"], [0.6666666666666666, \"#ed7953\"], [0.7777777777777778, \"#fb9f3a\"], [0.8888888888888888, \"#fdca26\"], [1.0, \"#f0f921\"]], \"type\": \"histogram2d\"}], \"histogram2dcontour\": [{\"colorbar\": {\"outlinewidth\": 0, \"ticks\": \"\"}, \"colorscale\": [[0.0, \"#0d0887\"], [0.1111111111111111, \"#46039f\"], [0.2222222222222222, \"#7201a8\"], [0.3333333333333333, \"#9c179e\"], [0.4444444444444444, \"#bd3786\"], [0.5555555555555556, \"#d8576b\"], [0.6666666666666666, \"#ed7953\"], [0.7777777777777778, \"#fb9f3a\"], [0.8888888888888888, \"#fdca26\"], [1.0, \"#f0f921\"]], \"type\": \"histogram2dcontour\"}], \"mesh3d\": [{\"colorbar\": {\"outlinewidth\": 0, \"ticks\": \"\"}, \"type\": \"mesh3d\"}], \"parcoords\": [{\"line\": {\"colorbar\": {\"outlinewidth\": 0, \"ticks\": \"\"}}, \"type\": \"parcoords\"}], \"pie\": [{\"automargin\": true, \"type\": \"pie\"}], \"scatter\": [{\"marker\": {\"colorbar\": {\"outlinewidth\": 0, \"ticks\": \"\"}}, \"type\": \"scatter\"}], \"scatter3d\": [{\"line\": {\"colorbar\": {\"outlinewidth\": 0, \"ticks\": \"\"}}, \"marker\": {\"colorbar\": {\"outlinewidth\": 0, \"ticks\": \"\"}}, \"type\": \"scatter3d\"}], \"scattercarpet\": [{\"marker\": {\"colorbar\": {\"outlinewidth\": 0, \"ticks\": \"\"}}, \"type\": \"scattercarpet\"}], \"scattergeo\": [{\"marker\": {\"colorbar\": {\"outlinewidth\": 0, \"ticks\": \"\"}}, \"type\": \"scattergeo\"}], \"scattergl\": [{\"marker\": {\"colorbar\": {\"outlinewidth\": 0, \"ticks\": \"\"}}, \"type\": \"scattergl\"}], \"scattermapbox\": [{\"marker\": {\"colorbar\": {\"outlinewidth\": 0, \"ticks\": \"\"}}, \"type\": \"scattermapbox\"}], \"scatterpolar\": [{\"marker\": {\"colorbar\": {\"outlinewidth\": 0, \"ticks\": \"\"}}, \"type\": \"scatterpolar\"}], \"scatterpolargl\": [{\"marker\": {\"colorbar\": {\"outlinewidth\": 0, \"ticks\": \"\"}}, \"type\": \"scatterpolargl\"}], \"scatterternary\": [{\"marker\": {\"colorbar\": {\"outlinewidth\": 0, \"ticks\": \"\"}}, \"type\": \"scatterternary\"}], \"surface\": [{\"colorbar\": {\"outlinewidth\": 0, \"ticks\": \"\"}, \"colorscale\": [[0.0, \"#0d0887\"], [0.1111111111111111, \"#46039f\"], [0.2222222222222222, \"#7201a8\"], [0.3333333333333333, \"#9c179e\"], [0.4444444444444444, \"#bd3786\"], [0.5555555555555556, \"#d8576b\"], [0.6666666666666666, \"#ed7953\"], [0.7777777777777778, \"#fb9f3a\"], [0.8888888888888888, \"#fdca26\"], [1.0, \"#f0f921\"]], \"type\": \"surface\"}], \"table\": [{\"cells\": {\"fill\": {\"color\": \"#EBF0F8\"}, \"line\": {\"color\": \"white\"}}, \"header\": {\"fill\": {\"color\": \"#C8D4E3\"}, \"line\": {\"color\": \"white\"}}, \"type\": \"table\"}]}, \"layout\": {\"annotationdefaults\": {\"arrowcolor\": \"#2a3f5f\", \"arrowhead\": 0, \"arrowwidth\": 1}, \"coloraxis\": {\"colorbar\": {\"outlinewidth\": 0, \"ticks\": \"\"}}, \"colorscale\": {\"diverging\": [[0, \"#8e0152\"], [0.1, \"#c51b7d\"], [0.2, \"#de77ae\"], [0.3, \"#f1b6da\"], [0.4, \"#fde0ef\"], [0.5, \"#f7f7f7\"], [0.6, \"#e6f5d0\"], [0.7, \"#b8e186\"], [0.8, \"#7fbc41\"], [0.9, \"#4d9221\"], [1, \"#276419\"]], \"sequential\": [[0.0, \"#0d0887\"], [0.1111111111111111, \"#46039f\"], [0.2222222222222222, \"#7201a8\"], [0.3333333333333333, \"#9c179e\"], [0.4444444444444444, \"#bd3786\"], [0.5555555555555556, \"#d8576b\"], [0.6666666666666666, \"#ed7953\"], [0.7777777777777778, \"#fb9f3a\"], [0.8888888888888888, \"#fdca26\"], [1.0, \"#f0f921\"]], \"sequentialminus\": [[0.0, \"#0d0887\"], [0.1111111111111111, \"#46039f\"], [0.2222222222222222, \"#7201a8\"], [0.3333333333333333, \"#9c179e\"], [0.4444444444444444, \"#bd3786\"], [0.5555555555555556, \"#d8576b\"], [0.6666666666666666, \"#ed7953\"], [0.7777777777777778, \"#fb9f3a\"], [0.8888888888888888, \"#fdca26\"], [1.0, \"#f0f921\"]]}, \"colorway\": [\"#636efa\", \"#EF553B\", \"#00cc96\", \"#ab63fa\", \"#FFA15A\", \"#19d3f3\", \"#FF6692\", \"#B6E880\", \"#FF97FF\", \"#FECB52\"], \"font\": {\"color\": \"#2a3f5f\"}, \"geo\": {\"bgcolor\": \"white\", \"lakecolor\": \"white\", \"landcolor\": \"#E5ECF6\", \"showlakes\": true, \"showland\": true, \"subunitcolor\": \"white\"}, \"hoverlabel\": {\"align\": \"left\"}, \"hovermode\": \"closest\", \"mapbox\": {\"style\": \"light\"}, \"paper_bgcolor\": \"white\", \"plot_bgcolor\": \"#E5ECF6\", \"polar\": {\"angularaxis\": {\"gridcolor\": \"white\", \"linecolor\": \"white\", \"ticks\": \"\"}, \"bgcolor\": \"#E5ECF6\", \"radialaxis\": {\"gridcolor\": \"white\", \"linecolor\": \"white\", \"ticks\": \"\"}}, \"scene\": {\"xaxis\": {\"backgroundcolor\": \"#E5ECF6\", \"gridcolor\": \"white\", \"gridwidth\": 2, \"linecolor\": \"white\", \"showbackground\": true, \"ticks\": \"\", \"zerolinecolor\": \"white\"}, \"yaxis\": {\"backgroundcolor\": \"#E5ECF6\", \"gridcolor\": \"white\", \"gridwidth\": 2, \"linecolor\": \"white\", \"showbackground\": true, \"ticks\": \"\", \"zerolinecolor\": \"white\"}, \"zaxis\": {\"backgroundcolor\": \"#E5ECF6\", \"gridcolor\": \"white\", \"gridwidth\": 2, \"linecolor\": \"white\", \"showbackground\": true, \"ticks\": \"\", \"zerolinecolor\": \"white\"}}, \"shapedefaults\": {\"line\": {\"color\": \"#2a3f5f\"}}, \"ternary\": {\"aaxis\": {\"gridcolor\": \"white\", \"linecolor\": \"white\", \"ticks\": \"\"}, \"baxis\": {\"gridcolor\": \"white\", \"linecolor\": \"white\", \"ticks\": \"\"}, \"bgcolor\": \"#E5ECF6\", \"caxis\": {\"gridcolor\": \"white\", \"linecolor\": \"white\", \"ticks\": \"\"}}, \"title\": {\"x\": 0.05}, \"xaxis\": {\"automargin\": true, \"gridcolor\": \"white\", \"linecolor\": \"white\", \"ticks\": \"\", \"title\": {\"standoff\": 15}, \"zerolinecolor\": \"white\", \"zerolinewidth\": 2}, \"yaxis\": {\"automargin\": true, \"gridcolor\": \"white\", \"linecolor\": \"white\", \"ticks\": \"\", \"title\": {\"standoff\": 15}, \"zerolinecolor\": \"white\", \"zerolinewidth\": 2}}}, \"title\": {\"text\": \"Commulative confirmed cases in SA as 17/03/2020\"}},\n",
       "                        {\"responsive\": true}\n",
       "                    ).then(function(){\n",
       "                            \n",
       "var gd = document.getElementById('90641f2b-531d-43d0-91d3-de650c611ec5');\n",
       "var x = new MutationObserver(function (mutations, observer) {{\n",
       "        var display = window.getComputedStyle(gd).display;\n",
       "        if (!display || display === 'none') {{\n",
       "            console.log([gd, 'removed!']);\n",
       "            Plotly.purge(gd);\n",
       "            observer.disconnect();\n",
       "        }}\n",
       "}});\n",
       "\n",
       "// Listen for the removal of the full notebook cells\n",
       "var notebookContainer = gd.closest('#notebook-container');\n",
       "if (notebookContainer) {{\n",
       "    x.observe(notebookContainer, {childList: true});\n",
       "}}\n",
       "\n",
       "// Listen for the clearing of the current output cell\n",
       "var outputEl = gd.closest('.output');\n",
       "if (outputEl) {{\n",
       "    x.observe(outputEl, {childList: true});\n",
       "}}\n",
       "\n",
       "                        })\n",
       "                };\n",
       "                });\n",
       "            </script>\n",
       "        </div>"
      ]
     },
     "metadata": {},
     "output_type": "display_data"
    }
   ],
   "source": [
    "#SA commulative data graph\n",
    "df_rsa = df6[df6.countriesAndTerritories == 'South_Africa'].reset_index()\n",
    "fig_line = go.Figure()\n",
    "fig_line.add_trace(go.Scatter(x = df4.timestamp,y= df4.active, name = 'Active Cases in SA'))\n",
    "fig_line.update_layout(title = 'Commulative confirmed cases in SA as 17/03/2020')\n",
    "fig_line.show()"
   ]
  },
  {
   "cell_type": "code",
   "execution_count": 13,
   "metadata": {
    "scrolled": true
   },
   "outputs": [
    {
     "data": {
      "application/vnd.plotly.v1+json": {
       "config": {
        "plotlyServerURL": "https://plot.ly"
       },
       "data": [
        {
         "name": "Possible low Rt",
         "type": "scatter",
         "x": [
          "2020-03-07",
          "2020-03-08",
          "2020-03-09",
          "2020-03-10",
          "2020-03-11",
          "2020-03-12",
          "2020-03-13",
          "2020-03-14",
          "2020-03-15",
          "2020-03-16",
          "2020-03-17",
          "2020-03-18",
          "2020-03-19",
          "2020-03-20",
          "2020-03-21",
          "2020-03-22",
          "2020-03-23",
          "2020-03-24",
          "2020-03-25",
          "2020-03-26",
          "2020-03-27",
          "2020-03-28",
          "2020-03-29",
          "2020-03-30",
          "2020-03-31",
          "2020-04-01",
          "2020-04-02",
          "2020-04-03",
          "2020-04-04",
          "2020-04-05",
          "2020-04-06",
          "2020-04-07",
          "2020-04-08",
          "2020-04-09",
          "2020-04-10",
          "2020-04-11",
          "2020-04-12",
          "2020-04-13",
          "2020-04-14",
          "2020-04-15",
          "2020-04-16",
          "2020-04-17",
          "2020-04-18",
          "2020-04-19",
          "2020-04-20"
         ],
         "y": [
          0.34,
          0.38,
          0.51,
          0.61,
          0.8300000000000001,
          0.96,
          0.94,
          0.6900000000000001,
          1.01,
          1.09,
          1.24,
          1.29,
          1.28,
          1.37,
          1.5,
          1.58,
          1.68,
          1.73,
          1.59,
          1.45,
          1.22,
          1,
          0.77,
          0.53,
          0.26,
          0.11,
          0.02,
          0.01,
          0.13,
          0.39,
          0.65,
          0.8300000000000001,
          0.8200000000000001,
          0.84,
          0.84,
          0.88,
          0.91,
          0.96,
          0.98,
          1.06,
          1.08,
          1.1,
          1.1,
          1.09,
          0.99
         ]
        },
        {
         "name": "Most likely Rt",
         "type": "scatter",
         "x": [
          "2020-03-07",
          "2020-03-08",
          "2020-03-09",
          "2020-03-10",
          "2020-03-11",
          "2020-03-12",
          "2020-03-13",
          "2020-03-14",
          "2020-03-15",
          "2020-03-16",
          "2020-03-17",
          "2020-03-18",
          "2020-03-19",
          "2020-03-20",
          "2020-03-21",
          "2020-03-22",
          "2020-03-23",
          "2020-03-24",
          "2020-03-25",
          "2020-03-26",
          "2020-03-27",
          "2020-03-28",
          "2020-03-29",
          "2020-03-30",
          "2020-03-31",
          "2020-04-01",
          "2020-04-02",
          "2020-04-03",
          "2020-04-04",
          "2020-04-05",
          "2020-04-06",
          "2020-04-07",
          "2020-04-08",
          "2020-04-09",
          "2020-04-10",
          "2020-04-11",
          "2020-04-12",
          "2020-04-13",
          "2020-04-14",
          "2020-04-15",
          "2020-04-16",
          "2020-04-17",
          "2020-04-18",
          "2020-04-19",
          "2020-04-20"
         ],
         "y": [
          2,
          1.88,
          2.17,
          2.28,
          2.5,
          2.45,
          2.2,
          2.04,
          2.18,
          2.11,
          2.12,
          2.06,
          1.96,
          1.96,
          2.03,
          2.03,
          2.08,
          2.07,
          1.9,
          1.73,
          1.5,
          1.25,
          1.03,
          0.79,
          0.54,
          0.41,
          0.29,
          0.32,
          0.5,
          0.78,
          1.03,
          1.22,
          1.19,
          1.2,
          1.2,
          1.23,
          1.24,
          1.28,
          1.29,
          1.37,
          1.36,
          1.38,
          1.35,
          1.33,
          1.25
         ]
        },
        {
         "name": "Possible High Rt",
         "type": "scatter",
         "x": [
          "2020-03-07",
          "2020-03-08",
          "2020-03-09",
          "2020-03-10",
          "2020-03-11",
          "2020-03-12",
          "2020-03-13",
          "2020-03-14",
          "2020-03-15",
          "2020-03-16",
          "2020-03-17",
          "2020-03-18",
          "2020-03-19",
          "2020-03-20",
          "2020-03-21",
          "2020-03-22",
          "2020-03-23",
          "2020-03-24",
          "2020-03-25",
          "2020-03-26",
          "2020-03-27",
          "2020-03-28",
          "2020-03-29",
          "2020-03-30",
          "2020-03-31",
          "2020-04-01",
          "2020-04-02",
          "2020-04-03",
          "2020-04-04",
          "2020-04-05",
          "2020-04-06",
          "2020-04-07",
          "2020-04-08",
          "2020-04-09",
          "2020-04-10",
          "2020-04-11",
          "2020-04-12",
          "2020-04-13",
          "2020-04-14",
          "2020-04-15",
          "2020-04-16",
          "2020-04-17",
          "2020-04-18",
          "2020-04-19",
          "2020-04-20"
         ],
         "y": [
          6.43,
          5.01,
          4.99,
          4.59,
          4.43,
          4.04,
          3.56,
          3.33,
          3.31,
          3.09,
          2.98,
          2.81,
          2.63,
          2.57,
          2.5500000000000003,
          2.51,
          2.49,
          2.44,
          2.22,
          2.03,
          1.76,
          1.53,
          1.3,
          1.07,
          0.8300000000000001,
          0.71,
          0.6,
          0.64,
          0.89,
          1.19,
          1.45,
          1.6,
          1.58,
          1.58,
          1.56,
          1.58,
          1.59,
          1.62,
          1.61,
          1.66,
          1.66,
          1.65,
          1.63,
          1.6,
          1.48
         ]
        }
       ],
       "layout": {
        "hovermode": "x",
        "template": {
         "data": {
          "bar": [
           {
            "error_x": {
             "color": "#2a3f5f"
            },
            "error_y": {
             "color": "#2a3f5f"
            },
            "marker": {
             "line": {
              "color": "#E5ECF6",
              "width": 0.5
             }
            },
            "type": "bar"
           }
          ],
          "barpolar": [
           {
            "marker": {
             "line": {
              "color": "#E5ECF6",
              "width": 0.5
             }
            },
            "type": "barpolar"
           }
          ],
          "carpet": [
           {
            "aaxis": {
             "endlinecolor": "#2a3f5f",
             "gridcolor": "white",
             "linecolor": "white",
             "minorgridcolor": "white",
             "startlinecolor": "#2a3f5f"
            },
            "baxis": {
             "endlinecolor": "#2a3f5f",
             "gridcolor": "white",
             "linecolor": "white",
             "minorgridcolor": "white",
             "startlinecolor": "#2a3f5f"
            },
            "type": "carpet"
           }
          ],
          "choropleth": [
           {
            "colorbar": {
             "outlinewidth": 0,
             "ticks": ""
            },
            "type": "choropleth"
           }
          ],
          "contour": [
           {
            "colorbar": {
             "outlinewidth": 0,
             "ticks": ""
            },
            "colorscale": [
             [
              0,
              "#0d0887"
             ],
             [
              0.1111111111111111,
              "#46039f"
             ],
             [
              0.2222222222222222,
              "#7201a8"
             ],
             [
              0.3333333333333333,
              "#9c179e"
             ],
             [
              0.4444444444444444,
              "#bd3786"
             ],
             [
              0.5555555555555556,
              "#d8576b"
             ],
             [
              0.6666666666666666,
              "#ed7953"
             ],
             [
              0.7777777777777778,
              "#fb9f3a"
             ],
             [
              0.8888888888888888,
              "#fdca26"
             ],
             [
              1,
              "#f0f921"
             ]
            ],
            "type": "contour"
           }
          ],
          "contourcarpet": [
           {
            "colorbar": {
             "outlinewidth": 0,
             "ticks": ""
            },
            "type": "contourcarpet"
           }
          ],
          "heatmap": [
           {
            "colorbar": {
             "outlinewidth": 0,
             "ticks": ""
            },
            "colorscale": [
             [
              0,
              "#0d0887"
             ],
             [
              0.1111111111111111,
              "#46039f"
             ],
             [
              0.2222222222222222,
              "#7201a8"
             ],
             [
              0.3333333333333333,
              "#9c179e"
             ],
             [
              0.4444444444444444,
              "#bd3786"
             ],
             [
              0.5555555555555556,
              "#d8576b"
             ],
             [
              0.6666666666666666,
              "#ed7953"
             ],
             [
              0.7777777777777778,
              "#fb9f3a"
             ],
             [
              0.8888888888888888,
              "#fdca26"
             ],
             [
              1,
              "#f0f921"
             ]
            ],
            "type": "heatmap"
           }
          ],
          "heatmapgl": [
           {
            "colorbar": {
             "outlinewidth": 0,
             "ticks": ""
            },
            "colorscale": [
             [
              0,
              "#0d0887"
             ],
             [
              0.1111111111111111,
              "#46039f"
             ],
             [
              0.2222222222222222,
              "#7201a8"
             ],
             [
              0.3333333333333333,
              "#9c179e"
             ],
             [
              0.4444444444444444,
              "#bd3786"
             ],
             [
              0.5555555555555556,
              "#d8576b"
             ],
             [
              0.6666666666666666,
              "#ed7953"
             ],
             [
              0.7777777777777778,
              "#fb9f3a"
             ],
             [
              0.8888888888888888,
              "#fdca26"
             ],
             [
              1,
              "#f0f921"
             ]
            ],
            "type": "heatmapgl"
           }
          ],
          "histogram": [
           {
            "marker": {
             "colorbar": {
              "outlinewidth": 0,
              "ticks": ""
             }
            },
            "type": "histogram"
           }
          ],
          "histogram2d": [
           {
            "colorbar": {
             "outlinewidth": 0,
             "ticks": ""
            },
            "colorscale": [
             [
              0,
              "#0d0887"
             ],
             [
              0.1111111111111111,
              "#46039f"
             ],
             [
              0.2222222222222222,
              "#7201a8"
             ],
             [
              0.3333333333333333,
              "#9c179e"
             ],
             [
              0.4444444444444444,
              "#bd3786"
             ],
             [
              0.5555555555555556,
              "#d8576b"
             ],
             [
              0.6666666666666666,
              "#ed7953"
             ],
             [
              0.7777777777777778,
              "#fb9f3a"
             ],
             [
              0.8888888888888888,
              "#fdca26"
             ],
             [
              1,
              "#f0f921"
             ]
            ],
            "type": "histogram2d"
           }
          ],
          "histogram2dcontour": [
           {
            "colorbar": {
             "outlinewidth": 0,
             "ticks": ""
            },
            "colorscale": [
             [
              0,
              "#0d0887"
             ],
             [
              0.1111111111111111,
              "#46039f"
             ],
             [
              0.2222222222222222,
              "#7201a8"
             ],
             [
              0.3333333333333333,
              "#9c179e"
             ],
             [
              0.4444444444444444,
              "#bd3786"
             ],
             [
              0.5555555555555556,
              "#d8576b"
             ],
             [
              0.6666666666666666,
              "#ed7953"
             ],
             [
              0.7777777777777778,
              "#fb9f3a"
             ],
             [
              0.8888888888888888,
              "#fdca26"
             ],
             [
              1,
              "#f0f921"
             ]
            ],
            "type": "histogram2dcontour"
           }
          ],
          "mesh3d": [
           {
            "colorbar": {
             "outlinewidth": 0,
             "ticks": ""
            },
            "type": "mesh3d"
           }
          ],
          "parcoords": [
           {
            "line": {
             "colorbar": {
              "outlinewidth": 0,
              "ticks": ""
             }
            },
            "type": "parcoords"
           }
          ],
          "pie": [
           {
            "automargin": true,
            "type": "pie"
           }
          ],
          "scatter": [
           {
            "marker": {
             "colorbar": {
              "outlinewidth": 0,
              "ticks": ""
             }
            },
            "type": "scatter"
           }
          ],
          "scatter3d": [
           {
            "line": {
             "colorbar": {
              "outlinewidth": 0,
              "ticks": ""
             }
            },
            "marker": {
             "colorbar": {
              "outlinewidth": 0,
              "ticks": ""
             }
            },
            "type": "scatter3d"
           }
          ],
          "scattercarpet": [
           {
            "marker": {
             "colorbar": {
              "outlinewidth": 0,
              "ticks": ""
             }
            },
            "type": "scattercarpet"
           }
          ],
          "scattergeo": [
           {
            "marker": {
             "colorbar": {
              "outlinewidth": 0,
              "ticks": ""
             }
            },
            "type": "scattergeo"
           }
          ],
          "scattergl": [
           {
            "marker": {
             "colorbar": {
              "outlinewidth": 0,
              "ticks": ""
             }
            },
            "type": "scattergl"
           }
          ],
          "scattermapbox": [
           {
            "marker": {
             "colorbar": {
              "outlinewidth": 0,
              "ticks": ""
             }
            },
            "type": "scattermapbox"
           }
          ],
          "scatterpolar": [
           {
            "marker": {
             "colorbar": {
              "outlinewidth": 0,
              "ticks": ""
             }
            },
            "type": "scatterpolar"
           }
          ],
          "scatterpolargl": [
           {
            "marker": {
             "colorbar": {
              "outlinewidth": 0,
              "ticks": ""
             }
            },
            "type": "scatterpolargl"
           }
          ],
          "scatterternary": [
           {
            "marker": {
             "colorbar": {
              "outlinewidth": 0,
              "ticks": ""
             }
            },
            "type": "scatterternary"
           }
          ],
          "surface": [
           {
            "colorbar": {
             "outlinewidth": 0,
             "ticks": ""
            },
            "colorscale": [
             [
              0,
              "#0d0887"
             ],
             [
              0.1111111111111111,
              "#46039f"
             ],
             [
              0.2222222222222222,
              "#7201a8"
             ],
             [
              0.3333333333333333,
              "#9c179e"
             ],
             [
              0.4444444444444444,
              "#bd3786"
             ],
             [
              0.5555555555555556,
              "#d8576b"
             ],
             [
              0.6666666666666666,
              "#ed7953"
             ],
             [
              0.7777777777777778,
              "#fb9f3a"
             ],
             [
              0.8888888888888888,
              "#fdca26"
             ],
             [
              1,
              "#f0f921"
             ]
            ],
            "type": "surface"
           }
          ],
          "table": [
           {
            "cells": {
             "fill": {
              "color": "#EBF0F8"
             },
             "line": {
              "color": "white"
             }
            },
            "header": {
             "fill": {
              "color": "#C8D4E3"
             },
             "line": {
              "color": "white"
             }
            },
            "type": "table"
           }
          ]
         },
         "layout": {
          "annotationdefaults": {
           "arrowcolor": "#2a3f5f",
           "arrowhead": 0,
           "arrowwidth": 1
          },
          "coloraxis": {
           "colorbar": {
            "outlinewidth": 0,
            "ticks": ""
           }
          },
          "colorscale": {
           "diverging": [
            [
             0,
             "#8e0152"
            ],
            [
             0.1,
             "#c51b7d"
            ],
            [
             0.2,
             "#de77ae"
            ],
            [
             0.3,
             "#f1b6da"
            ],
            [
             0.4,
             "#fde0ef"
            ],
            [
             0.5,
             "#f7f7f7"
            ],
            [
             0.6,
             "#e6f5d0"
            ],
            [
             0.7,
             "#b8e186"
            ],
            [
             0.8,
             "#7fbc41"
            ],
            [
             0.9,
             "#4d9221"
            ],
            [
             1,
             "#276419"
            ]
           ],
           "sequential": [
            [
             0,
             "#0d0887"
            ],
            [
             0.1111111111111111,
             "#46039f"
            ],
            [
             0.2222222222222222,
             "#7201a8"
            ],
            [
             0.3333333333333333,
             "#9c179e"
            ],
            [
             0.4444444444444444,
             "#bd3786"
            ],
            [
             0.5555555555555556,
             "#d8576b"
            ],
            [
             0.6666666666666666,
             "#ed7953"
            ],
            [
             0.7777777777777778,
             "#fb9f3a"
            ],
            [
             0.8888888888888888,
             "#fdca26"
            ],
            [
             1,
             "#f0f921"
            ]
           ],
           "sequentialminus": [
            [
             0,
             "#0d0887"
            ],
            [
             0.1111111111111111,
             "#46039f"
            ],
            [
             0.2222222222222222,
             "#7201a8"
            ],
            [
             0.3333333333333333,
             "#9c179e"
            ],
            [
             0.4444444444444444,
             "#bd3786"
            ],
            [
             0.5555555555555556,
             "#d8576b"
            ],
            [
             0.6666666666666666,
             "#ed7953"
            ],
            [
             0.7777777777777778,
             "#fb9f3a"
            ],
            [
             0.8888888888888888,
             "#fdca26"
            ],
            [
             1,
             "#f0f921"
            ]
           ]
          },
          "colorway": [
           "#636efa",
           "#EF553B",
           "#00cc96",
           "#ab63fa",
           "#FFA15A",
           "#19d3f3",
           "#FF6692",
           "#B6E880",
           "#FF97FF",
           "#FECB52"
          ],
          "font": {
           "color": "#2a3f5f"
          },
          "geo": {
           "bgcolor": "white",
           "lakecolor": "white",
           "landcolor": "#E5ECF6",
           "showlakes": true,
           "showland": true,
           "subunitcolor": "white"
          },
          "hoverlabel": {
           "align": "left"
          },
          "hovermode": "closest",
          "mapbox": {
           "style": "light"
          },
          "paper_bgcolor": "white",
          "plot_bgcolor": "#E5ECF6",
          "polar": {
           "angularaxis": {
            "gridcolor": "white",
            "linecolor": "white",
            "ticks": ""
           },
           "bgcolor": "#E5ECF6",
           "radialaxis": {
            "gridcolor": "white",
            "linecolor": "white",
            "ticks": ""
           }
          },
          "scene": {
           "xaxis": {
            "backgroundcolor": "#E5ECF6",
            "gridcolor": "white",
            "gridwidth": 2,
            "linecolor": "white",
            "showbackground": true,
            "ticks": "",
            "zerolinecolor": "white"
           },
           "yaxis": {
            "backgroundcolor": "#E5ECF6",
            "gridcolor": "white",
            "gridwidth": 2,
            "linecolor": "white",
            "showbackground": true,
            "ticks": "",
            "zerolinecolor": "white"
           },
           "zaxis": {
            "backgroundcolor": "#E5ECF6",
            "gridcolor": "white",
            "gridwidth": 2,
            "linecolor": "white",
            "showbackground": true,
            "ticks": "",
            "zerolinecolor": "white"
           }
          },
          "shapedefaults": {
           "line": {
            "color": "#2a3f5f"
           }
          },
          "ternary": {
           "aaxis": {
            "gridcolor": "white",
            "linecolor": "white",
            "ticks": ""
           },
           "baxis": {
            "gridcolor": "white",
            "linecolor": "white",
            "ticks": ""
           },
           "bgcolor": "#E5ECF6",
           "caxis": {
            "gridcolor": "white",
            "linecolor": "white",
            "ticks": ""
           }
          },
          "title": {
           "x": 0.05
          },
          "xaxis": {
           "automargin": true,
           "gridcolor": "white",
           "linecolor": "white",
           "ticks": "",
           "title": {
            "standoff": 15
           },
           "zerolinecolor": "white",
           "zerolinewidth": 2
          },
          "yaxis": {
           "automargin": true,
           "gridcolor": "white",
           "linecolor": "white",
           "ticks": "",
           "title": {
            "standoff": 15
           },
           "zerolinecolor": "white",
           "zerolinewidth": 2
          }
         }
        },
        "xaxis": {
         "rangeslider": {
          "visible": true
         },
         "type": "date"
        }
       }
      },
      "text/html": [
       "<div>\n",
       "        \n",
       "        \n",
       "            <div id=\"ecfc5e77-4fbc-4d90-a5e0-c62f65fdf9d2\" class=\"plotly-graph-div\" style=\"height:525px; width:100%;\"></div>\n",
       "            <script type=\"text/javascript\">\n",
       "                require([\"plotly\"], function(Plotly) {\n",
       "                    window.PLOTLYENV=window.PLOTLYENV || {};\n",
       "                    \n",
       "                if (document.getElementById(\"ecfc5e77-4fbc-4d90-a5e0-c62f65fdf9d2\")) {\n",
       "                    Plotly.newPlot(\n",
       "                        'ecfc5e77-4fbc-4d90-a5e0-c62f65fdf9d2',\n",
       "                        [{\"name\": \"Possible low Rt\", \"type\": \"scatter\", \"x\": [\"2020-03-07\", \"2020-03-08\", \"2020-03-09\", \"2020-03-10\", \"2020-03-11\", \"2020-03-12\", \"2020-03-13\", \"2020-03-14\", \"2020-03-15\", \"2020-03-16\", \"2020-03-17\", \"2020-03-18\", \"2020-03-19\", \"2020-03-20\", \"2020-03-21\", \"2020-03-22\", \"2020-03-23\", \"2020-03-24\", \"2020-03-25\", \"2020-03-26\", \"2020-03-27\", \"2020-03-28\", \"2020-03-29\", \"2020-03-30\", \"2020-03-31\", \"2020-04-01\", \"2020-04-02\", \"2020-04-03\", \"2020-04-04\", \"2020-04-05\", \"2020-04-06\", \"2020-04-07\", \"2020-04-08\", \"2020-04-09\", \"2020-04-10\", \"2020-04-11\", \"2020-04-12\", \"2020-04-13\", \"2020-04-14\", \"2020-04-15\", \"2020-04-16\", \"2020-04-17\", \"2020-04-18\", \"2020-04-19\", \"2020-04-20\"], \"y\": [0.34, 0.38, 0.51, 0.61, 0.8300000000000001, 0.96, 0.94, 0.6900000000000001, 1.01, 1.09, 1.24, 1.29, 1.28, 1.37, 1.5, 1.58, 1.68, 1.73, 1.59, 1.45, 1.22, 1.0, 0.77, 0.53, 0.26, 0.11, 0.02, 0.01, 0.13, 0.39, 0.65, 0.8300000000000001, 0.8200000000000001, 0.84, 0.84, 0.88, 0.91, 0.96, 0.98, 1.06, 1.08, 1.1, 1.1, 1.09, 0.99]}, {\"name\": \"Most likely Rt\", \"type\": \"scatter\", \"x\": [\"2020-03-07\", \"2020-03-08\", \"2020-03-09\", \"2020-03-10\", \"2020-03-11\", \"2020-03-12\", \"2020-03-13\", \"2020-03-14\", \"2020-03-15\", \"2020-03-16\", \"2020-03-17\", \"2020-03-18\", \"2020-03-19\", \"2020-03-20\", \"2020-03-21\", \"2020-03-22\", \"2020-03-23\", \"2020-03-24\", \"2020-03-25\", \"2020-03-26\", \"2020-03-27\", \"2020-03-28\", \"2020-03-29\", \"2020-03-30\", \"2020-03-31\", \"2020-04-01\", \"2020-04-02\", \"2020-04-03\", \"2020-04-04\", \"2020-04-05\", \"2020-04-06\", \"2020-04-07\", \"2020-04-08\", \"2020-04-09\", \"2020-04-10\", \"2020-04-11\", \"2020-04-12\", \"2020-04-13\", \"2020-04-14\", \"2020-04-15\", \"2020-04-16\", \"2020-04-17\", \"2020-04-18\", \"2020-04-19\", \"2020-04-20\"], \"y\": [2.0, 1.88, 2.17, 2.28, 2.5, 2.45, 2.2, 2.04, 2.18, 2.11, 2.12, 2.06, 1.96, 1.96, 2.03, 2.03, 2.08, 2.07, 1.9, 1.73, 1.5, 1.25, 1.03, 0.79, 0.54, 0.41, 0.29, 0.32, 0.5, 0.78, 1.03, 1.22, 1.19, 1.2, 1.2, 1.23, 1.24, 1.28, 1.29, 1.37, 1.36, 1.38, 1.35, 1.33, 1.25]}, {\"name\": \"Possible High Rt\", \"type\": \"scatter\", \"x\": [\"2020-03-07\", \"2020-03-08\", \"2020-03-09\", \"2020-03-10\", \"2020-03-11\", \"2020-03-12\", \"2020-03-13\", \"2020-03-14\", \"2020-03-15\", \"2020-03-16\", \"2020-03-17\", \"2020-03-18\", \"2020-03-19\", \"2020-03-20\", \"2020-03-21\", \"2020-03-22\", \"2020-03-23\", \"2020-03-24\", \"2020-03-25\", \"2020-03-26\", \"2020-03-27\", \"2020-03-28\", \"2020-03-29\", \"2020-03-30\", \"2020-03-31\", \"2020-04-01\", \"2020-04-02\", \"2020-04-03\", \"2020-04-04\", \"2020-04-05\", \"2020-04-06\", \"2020-04-07\", \"2020-04-08\", \"2020-04-09\", \"2020-04-10\", \"2020-04-11\", \"2020-04-12\", \"2020-04-13\", \"2020-04-14\", \"2020-04-15\", \"2020-04-16\", \"2020-04-17\", \"2020-04-18\", \"2020-04-19\", \"2020-04-20\"], \"y\": [6.43, 5.01, 4.99, 4.59, 4.43, 4.04, 3.56, 3.33, 3.31, 3.09, 2.98, 2.81, 2.63, 2.57, 2.5500000000000003, 2.51, 2.49, 2.44, 2.22, 2.03, 1.76, 1.53, 1.3, 1.07, 0.8300000000000001, 0.71, 0.6, 0.64, 0.89, 1.19, 1.45, 1.6, 1.58, 1.58, 1.56, 1.58, 1.59, 1.62, 1.61, 1.66, 1.66, 1.65, 1.63, 1.6, 1.48]}],\n",
       "                        {\"hovermode\": \"x\", \"template\": {\"data\": {\"bar\": [{\"error_x\": {\"color\": \"#2a3f5f\"}, \"error_y\": {\"color\": \"#2a3f5f\"}, \"marker\": {\"line\": {\"color\": \"#E5ECF6\", \"width\": 0.5}}, \"type\": \"bar\"}], \"barpolar\": [{\"marker\": {\"line\": {\"color\": \"#E5ECF6\", \"width\": 0.5}}, \"type\": \"barpolar\"}], \"carpet\": [{\"aaxis\": {\"endlinecolor\": \"#2a3f5f\", \"gridcolor\": \"white\", \"linecolor\": \"white\", \"minorgridcolor\": \"white\", \"startlinecolor\": \"#2a3f5f\"}, \"baxis\": {\"endlinecolor\": \"#2a3f5f\", \"gridcolor\": \"white\", \"linecolor\": \"white\", \"minorgridcolor\": \"white\", \"startlinecolor\": \"#2a3f5f\"}, \"type\": \"carpet\"}], \"choropleth\": [{\"colorbar\": {\"outlinewidth\": 0, \"ticks\": \"\"}, \"type\": \"choropleth\"}], \"contour\": [{\"colorbar\": {\"outlinewidth\": 0, \"ticks\": \"\"}, \"colorscale\": [[0.0, \"#0d0887\"], [0.1111111111111111, \"#46039f\"], [0.2222222222222222, \"#7201a8\"], [0.3333333333333333, \"#9c179e\"], [0.4444444444444444, \"#bd3786\"], [0.5555555555555556, \"#d8576b\"], [0.6666666666666666, \"#ed7953\"], [0.7777777777777778, \"#fb9f3a\"], [0.8888888888888888, \"#fdca26\"], [1.0, \"#f0f921\"]], \"type\": \"contour\"}], \"contourcarpet\": [{\"colorbar\": {\"outlinewidth\": 0, \"ticks\": \"\"}, \"type\": \"contourcarpet\"}], \"heatmap\": [{\"colorbar\": {\"outlinewidth\": 0, \"ticks\": \"\"}, \"colorscale\": [[0.0, \"#0d0887\"], [0.1111111111111111, \"#46039f\"], [0.2222222222222222, \"#7201a8\"], [0.3333333333333333, \"#9c179e\"], [0.4444444444444444, \"#bd3786\"], [0.5555555555555556, \"#d8576b\"], [0.6666666666666666, \"#ed7953\"], [0.7777777777777778, \"#fb9f3a\"], [0.8888888888888888, \"#fdca26\"], [1.0, \"#f0f921\"]], \"type\": \"heatmap\"}], \"heatmapgl\": [{\"colorbar\": {\"outlinewidth\": 0, \"ticks\": \"\"}, \"colorscale\": [[0.0, \"#0d0887\"], [0.1111111111111111, \"#46039f\"], [0.2222222222222222, \"#7201a8\"], [0.3333333333333333, \"#9c179e\"], [0.4444444444444444, \"#bd3786\"], [0.5555555555555556, \"#d8576b\"], [0.6666666666666666, \"#ed7953\"], [0.7777777777777778, \"#fb9f3a\"], [0.8888888888888888, \"#fdca26\"], [1.0, \"#f0f921\"]], \"type\": \"heatmapgl\"}], \"histogram\": [{\"marker\": {\"colorbar\": {\"outlinewidth\": 0, \"ticks\": \"\"}}, \"type\": \"histogram\"}], \"histogram2d\": [{\"colorbar\": {\"outlinewidth\": 0, \"ticks\": \"\"}, \"colorscale\": [[0.0, \"#0d0887\"], [0.1111111111111111, \"#46039f\"], [0.2222222222222222, \"#7201a8\"], [0.3333333333333333, \"#9c179e\"], [0.4444444444444444, \"#bd3786\"], [0.5555555555555556, \"#d8576b\"], [0.6666666666666666, \"#ed7953\"], [0.7777777777777778, \"#fb9f3a\"], [0.8888888888888888, \"#fdca26\"], [1.0, \"#f0f921\"]], \"type\": \"histogram2d\"}], \"histogram2dcontour\": [{\"colorbar\": {\"outlinewidth\": 0, \"ticks\": \"\"}, \"colorscale\": [[0.0, \"#0d0887\"], [0.1111111111111111, \"#46039f\"], [0.2222222222222222, \"#7201a8\"], [0.3333333333333333, \"#9c179e\"], [0.4444444444444444, \"#bd3786\"], [0.5555555555555556, \"#d8576b\"], [0.6666666666666666, \"#ed7953\"], [0.7777777777777778, \"#fb9f3a\"], [0.8888888888888888, \"#fdca26\"], [1.0, \"#f0f921\"]], \"type\": \"histogram2dcontour\"}], \"mesh3d\": [{\"colorbar\": {\"outlinewidth\": 0, \"ticks\": \"\"}, \"type\": \"mesh3d\"}], \"parcoords\": [{\"line\": {\"colorbar\": {\"outlinewidth\": 0, \"ticks\": \"\"}}, \"type\": \"parcoords\"}], \"pie\": [{\"automargin\": true, \"type\": \"pie\"}], \"scatter\": [{\"marker\": {\"colorbar\": {\"outlinewidth\": 0, \"ticks\": \"\"}}, \"type\": \"scatter\"}], \"scatter3d\": [{\"line\": {\"colorbar\": {\"outlinewidth\": 0, \"ticks\": \"\"}}, \"marker\": {\"colorbar\": {\"outlinewidth\": 0, \"ticks\": \"\"}}, \"type\": \"scatter3d\"}], \"scattercarpet\": [{\"marker\": {\"colorbar\": {\"outlinewidth\": 0, \"ticks\": \"\"}}, \"type\": \"scattercarpet\"}], \"scattergeo\": [{\"marker\": {\"colorbar\": {\"outlinewidth\": 0, \"ticks\": \"\"}}, \"type\": \"scattergeo\"}], \"scattergl\": [{\"marker\": {\"colorbar\": {\"outlinewidth\": 0, \"ticks\": \"\"}}, \"type\": \"scattergl\"}], \"scattermapbox\": [{\"marker\": {\"colorbar\": {\"outlinewidth\": 0, \"ticks\": \"\"}}, \"type\": \"scattermapbox\"}], \"scatterpolar\": [{\"marker\": {\"colorbar\": {\"outlinewidth\": 0, \"ticks\": \"\"}}, \"type\": \"scatterpolar\"}], \"scatterpolargl\": [{\"marker\": {\"colorbar\": {\"outlinewidth\": 0, \"ticks\": \"\"}}, \"type\": \"scatterpolargl\"}], \"scatterternary\": [{\"marker\": {\"colorbar\": {\"outlinewidth\": 0, \"ticks\": \"\"}}, \"type\": \"scatterternary\"}], \"surface\": [{\"colorbar\": {\"outlinewidth\": 0, \"ticks\": \"\"}, \"colorscale\": [[0.0, \"#0d0887\"], [0.1111111111111111, \"#46039f\"], [0.2222222222222222, \"#7201a8\"], [0.3333333333333333, \"#9c179e\"], [0.4444444444444444, \"#bd3786\"], [0.5555555555555556, \"#d8576b\"], [0.6666666666666666, \"#ed7953\"], [0.7777777777777778, \"#fb9f3a\"], [0.8888888888888888, \"#fdca26\"], [1.0, \"#f0f921\"]], \"type\": \"surface\"}], \"table\": [{\"cells\": {\"fill\": {\"color\": \"#EBF0F8\"}, \"line\": {\"color\": \"white\"}}, \"header\": {\"fill\": {\"color\": \"#C8D4E3\"}, \"line\": {\"color\": \"white\"}}, \"type\": \"table\"}]}, \"layout\": {\"annotationdefaults\": {\"arrowcolor\": \"#2a3f5f\", \"arrowhead\": 0, \"arrowwidth\": 1}, \"coloraxis\": {\"colorbar\": {\"outlinewidth\": 0, \"ticks\": \"\"}}, \"colorscale\": {\"diverging\": [[0, \"#8e0152\"], [0.1, \"#c51b7d\"], [0.2, \"#de77ae\"], [0.3, \"#f1b6da\"], [0.4, \"#fde0ef\"], [0.5, \"#f7f7f7\"], [0.6, \"#e6f5d0\"], [0.7, \"#b8e186\"], [0.8, \"#7fbc41\"], [0.9, \"#4d9221\"], [1, \"#276419\"]], \"sequential\": [[0.0, \"#0d0887\"], [0.1111111111111111, \"#46039f\"], [0.2222222222222222, \"#7201a8\"], [0.3333333333333333, \"#9c179e\"], [0.4444444444444444, \"#bd3786\"], [0.5555555555555556, \"#d8576b\"], [0.6666666666666666, \"#ed7953\"], [0.7777777777777778, \"#fb9f3a\"], [0.8888888888888888, \"#fdca26\"], [1.0, \"#f0f921\"]], \"sequentialminus\": [[0.0, \"#0d0887\"], [0.1111111111111111, \"#46039f\"], [0.2222222222222222, \"#7201a8\"], [0.3333333333333333, \"#9c179e\"], [0.4444444444444444, \"#bd3786\"], [0.5555555555555556, \"#d8576b\"], [0.6666666666666666, \"#ed7953\"], [0.7777777777777778, \"#fb9f3a\"], [0.8888888888888888, \"#fdca26\"], [1.0, \"#f0f921\"]]}, \"colorway\": [\"#636efa\", \"#EF553B\", \"#00cc96\", \"#ab63fa\", \"#FFA15A\", \"#19d3f3\", \"#FF6692\", \"#B6E880\", \"#FF97FF\", \"#FECB52\"], \"font\": {\"color\": \"#2a3f5f\"}, \"geo\": {\"bgcolor\": \"white\", \"lakecolor\": \"white\", \"landcolor\": \"#E5ECF6\", \"showlakes\": true, \"showland\": true, \"subunitcolor\": \"white\"}, \"hoverlabel\": {\"align\": \"left\"}, \"hovermode\": \"closest\", \"mapbox\": {\"style\": \"light\"}, \"paper_bgcolor\": \"white\", \"plot_bgcolor\": \"#E5ECF6\", \"polar\": {\"angularaxis\": {\"gridcolor\": \"white\", \"linecolor\": \"white\", \"ticks\": \"\"}, \"bgcolor\": \"#E5ECF6\", \"radialaxis\": {\"gridcolor\": \"white\", \"linecolor\": \"white\", \"ticks\": \"\"}}, \"scene\": {\"xaxis\": {\"backgroundcolor\": \"#E5ECF6\", \"gridcolor\": \"white\", \"gridwidth\": 2, \"linecolor\": \"white\", \"showbackground\": true, \"ticks\": \"\", \"zerolinecolor\": \"white\"}, \"yaxis\": {\"backgroundcolor\": \"#E5ECF6\", \"gridcolor\": \"white\", \"gridwidth\": 2, \"linecolor\": \"white\", \"showbackground\": true, \"ticks\": \"\", \"zerolinecolor\": \"white\"}, \"zaxis\": {\"backgroundcolor\": \"#E5ECF6\", \"gridcolor\": \"white\", \"gridwidth\": 2, \"linecolor\": \"white\", \"showbackground\": true, \"ticks\": \"\", \"zerolinecolor\": \"white\"}}, \"shapedefaults\": {\"line\": {\"color\": \"#2a3f5f\"}}, \"ternary\": {\"aaxis\": {\"gridcolor\": \"white\", \"linecolor\": \"white\", \"ticks\": \"\"}, \"baxis\": {\"gridcolor\": \"white\", \"linecolor\": \"white\", \"ticks\": \"\"}, \"bgcolor\": \"#E5ECF6\", \"caxis\": {\"gridcolor\": \"white\", \"linecolor\": \"white\", \"ticks\": \"\"}}, \"title\": {\"x\": 0.05}, \"xaxis\": {\"automargin\": true, \"gridcolor\": \"white\", \"linecolor\": \"white\", \"ticks\": \"\", \"title\": {\"standoff\": 15}, \"zerolinecolor\": \"white\", \"zerolinewidth\": 2}, \"yaxis\": {\"automargin\": true, \"gridcolor\": \"white\", \"linecolor\": \"white\", \"ticks\": \"\", \"title\": {\"standoff\": 15}, \"zerolinecolor\": \"white\", \"zerolinewidth\": 2}}}, \"xaxis\": {\"rangeslider\": {\"visible\": true}, \"type\": \"date\"}},\n",
       "                        {\"responsive\": true}\n",
       "                    ).then(function(){\n",
       "                            \n",
       "var gd = document.getElementById('ecfc5e77-4fbc-4d90-a5e0-c62f65fdf9d2');\n",
       "var x = new MutationObserver(function (mutations, observer) {{\n",
       "        var display = window.getComputedStyle(gd).display;\n",
       "        if (!display || display === 'none') {{\n",
       "            console.log([gd, 'removed!']);\n",
       "            Plotly.purge(gd);\n",
       "            observer.disconnect();\n",
       "        }}\n",
       "}});\n",
       "\n",
       "// Listen for the removal of the full notebook cells\n",
       "var notebookContainer = gd.closest('#notebook-container');\n",
       "if (notebookContainer) {{\n",
       "    x.observe(notebookContainer, {childList: true});\n",
       "}}\n",
       "\n",
       "// Listen for the clearing of the current output cell\n",
       "var outputEl = gd.closest('.output');\n",
       "if (outputEl) {{\n",
       "    x.observe(outputEl, {childList: true});\n",
       "}}\n",
       "\n",
       "                        })\n",
       "                };\n",
       "                });\n",
       "            </script>\n",
       "        </div>"
      ]
     },
     "metadata": {},
     "output_type": "display_data"
    }
   ],
   "source": [
    "df_rt = pd.read_csv('./../data/external//data-CiK32.csv')\n",
    "\n",
    "fig_rt = go.Figure()\n",
    "fig_rt.add_trace(\n",
    "    go.Scatter(\n",
    "        y=df_rt['Possible low Rt'],\n",
    "        x=df_rt.date,\n",
    "        name= 'Possible low Rt'\n",
    "    ))\n",
    "fig_rt.add_trace(\n",
    "    go.Scatter(\n",
    "        y=df_rt['Most likely Rt'],\n",
    "        x=df_rt.date,\n",
    "       name= 'Most likely Rt'\n",
    "    ))\n",
    "fig_rt.add_trace(\n",
    "    go.Scatter(\n",
    "        y=df_rt['Possible High Rt'],\n",
    "        x=df_rt.date,\n",
    "        name= 'Possible High Rt'\n",
    "    ))\n",
    "\n",
    "fig_rt.update_layout(hovermode='x',\n",
    "                     xaxis=dict(\n",
    "                         rangeslider=dict(\n",
    "                             visible = True),\n",
    "        type='date'\n",
    "    ))\n",
    "\n"
   ]
  },
  {
   "cell_type": "code",
   "execution_count": null,
   "metadata": {},
   "outputs": [],
   "source": []
  },
  {
   "cell_type": "code",
   "execution_count": 14,
   "metadata": {},
   "outputs": [
    {
     "data": {
      "application/vnd.plotly.v1+json": {
       "config": {
        "plotlyServerURL": "https://plot.ly"
       },
       "data": [
        {
         "name": "EC",
         "type": "scatter",
         "x": [
          "05-03-2020",
          "07-03-2020",
          "08-03-2020",
          "09-03-2020",
          "11-03-2020",
          "12-03-2020",
          "13-03-2020",
          "14-03-2020",
          "15-03-2020",
          "16-03-2020",
          "17-03-2020",
          "18-03-2020",
          "19-03-2020",
          "20-03-2020",
          "21-03-2020",
          "22-03-2020",
          "23-03-2020",
          "24-03-2020",
          "25-03-2020",
          "26-03-2020",
          "27-03-2020",
          "28-03-2020",
          "29-03-2020",
          "30-03-2020",
          "31-03-2020",
          "01-04-2020",
          "02-04-2020",
          "03-04-2020",
          "04-04-2020",
          "05-04-2020",
          "06-04-2020",
          "07-04-2020",
          "08-04-2020",
          "09-04-2020",
          "10-04-2020",
          "11-04-2020",
          "12-04-2020",
          "13-04-2020",
          "14-04-2020",
          "15-04-2020",
          "16-04-2020",
          "17-04-2020",
          "18-04-2020",
          "19-04-2020",
          "20-04-2020",
          "21-04-2020",
          "22-04-2020",
          "23-04-2020",
          "24-04-2020",
          "25-04-2020",
          "26-04-2020",
          "27-04-2020",
          "28-04-2020",
          "29-04-2020",
          "30-04-2020",
          "01-05-2020",
          "02-05-2020",
          "03-05-2020",
          "04-05-2020",
          "05-05-2020",
          "06-05-2020",
          "07-05-2020",
          "08-05-2020",
          "09-05-2020",
          "10-05-2020",
          "11-05-2020",
          "12-05-2020",
          "13-05-2020",
          "14-05-2020",
          "15-05-2020",
          "16-05-2020",
          "17-05-2020",
          "18-05-2020",
          "19-05-2020"
         ],
         "y": [
          0,
          0,
          0,
          0,
          0,
          0,
          0,
          0,
          0,
          0,
          0,
          0,
          0,
          0,
          1,
          2,
          2,
          2,
          2,
          5,
          5,
          10,
          12,
          12,
          12,
          15,
          17,
          21,
          25,
          31,
          32,
          32,
          45,
          61,
          68,
          69,
          88,
          104,
          174,
          199,
          220,
          246,
          270,
          293,
          310,
          345,
          377,
          417,
          480,
          488,
          535,
          588,
          616,
          630,
          647,
          691,
          732,
          774,
          814,
          838,
          849,
          929,
          989,
          1078,
          1218,
          1356,
          1504,
          1534,
          1569,
          1662,
          1812,
          1936,
          2052,
          2135
         ]
        },
        {
         "name": "WC",
         "type": "scatter",
         "x": [
          "05-03-2020",
          "07-03-2020",
          "08-03-2020",
          "09-03-2020",
          "11-03-2020",
          "12-03-2020",
          "13-03-2020",
          "14-03-2020",
          "15-03-2020",
          "16-03-2020",
          "17-03-2020",
          "18-03-2020",
          "19-03-2020",
          "20-03-2020",
          "21-03-2020",
          "22-03-2020",
          "23-03-2020",
          "24-03-2020",
          "25-03-2020",
          "26-03-2020",
          "27-03-2020",
          "28-03-2020",
          "29-03-2020",
          "30-03-2020",
          "31-03-2020",
          "01-04-2020",
          "02-04-2020",
          "03-04-2020",
          "04-04-2020",
          "05-04-2020",
          "06-04-2020",
          "07-04-2020",
          "08-04-2020",
          "09-04-2020",
          "10-04-2020",
          "11-04-2020",
          "12-04-2020",
          "13-04-2020",
          "14-04-2020",
          "15-04-2020",
          "16-04-2020",
          "17-04-2020",
          "18-04-2020",
          "19-04-2020",
          "20-04-2020",
          "21-04-2020",
          "22-04-2020",
          "23-04-2020",
          "24-04-2020",
          "25-04-2020",
          "26-04-2020",
          "27-04-2020",
          "28-04-2020",
          "29-04-2020",
          "30-04-2020",
          "01-05-2020",
          "02-05-2020",
          "03-05-2020",
          "04-05-2020",
          "05-05-2020",
          "06-05-2020",
          "07-05-2020",
          "08-05-2020",
          "09-05-2020",
          "10-05-2020",
          "11-05-2020",
          "12-05-2020",
          "13-05-2020",
          "14-05-2020",
          "15-05-2020",
          "16-05-2020",
          "17-05-2020",
          "18-05-2020",
          "19-05-2020"
         ],
         "y": [
          0,
          0,
          0,
          0,
          1,
          1,
          3,
          9,
          14,
          16,
          21,
          31,
          46,
          57,
          75,
          89,
          100,
          113,
          183,
          229,
          229,
          271,
          310,
          324,
          325,
          326,
          353,
          374,
          433,
          454,
          462,
          462,
          495,
          515,
          541,
          546,
          587,
          617,
          643,
          657,
          675,
          717,
          836,
          868,
          940,
          1010,
          1079,
          1279,
          1413,
          1514,
          1608,
          1737,
          1870,
          2135,
          2342,
          2507,
          2700,
          3044,
          3362,
          3609,
          3760,
          3994,
          4497,
          4809,
          5168,
          5621,
          6105,
          6713,
          7235,
          7798,
          8404,
          9294,
          10035,
          10639
         ]
        },
        {
         "name": "FS",
         "type": "scatter",
         "x": [
          "05-03-2020",
          "07-03-2020",
          "08-03-2020",
          "09-03-2020",
          "11-03-2020",
          "12-03-2020",
          "13-03-2020",
          "14-03-2020",
          "15-03-2020",
          "16-03-2020",
          "17-03-2020",
          "18-03-2020",
          "19-03-2020",
          "20-03-2020",
          "21-03-2020",
          "22-03-2020",
          "23-03-2020",
          "24-03-2020",
          "25-03-2020",
          "26-03-2020",
          "27-03-2020",
          "28-03-2020",
          "29-03-2020",
          "30-03-2020",
          "31-03-2020",
          "01-04-2020",
          "02-04-2020",
          "03-04-2020",
          "04-04-2020",
          "05-04-2020",
          "06-04-2020",
          "07-04-2020",
          "08-04-2020",
          "09-04-2020",
          "10-04-2020",
          "11-04-2020",
          "12-04-2020",
          "13-04-2020",
          "14-04-2020",
          "15-04-2020",
          "16-04-2020",
          "17-04-2020",
          "18-04-2020",
          "19-04-2020",
          "20-04-2020",
          "21-04-2020",
          "22-04-2020",
          "23-04-2020",
          "24-04-2020",
          "25-04-2020",
          "26-04-2020",
          "27-04-2020",
          "28-04-2020",
          "29-04-2020",
          "30-04-2020",
          "01-05-2020",
          "02-05-2020",
          "03-05-2020",
          "04-05-2020",
          "05-05-2020",
          "06-05-2020",
          "07-05-2020",
          "08-05-2020",
          "09-05-2020",
          "10-05-2020",
          "11-05-2020",
          "12-05-2020",
          "13-05-2020",
          "14-05-2020",
          "15-05-2020",
          "16-05-2020",
          "17-05-2020",
          "18-05-2020",
          "19-05-2020"
         ],
         "y": [
          0,
          0,
          0,
          0,
          0,
          0,
          0,
          0,
          0,
          0,
          0,
          0,
          0,
          7,
          7,
          9,
          13,
          18,
          30,
          49,
          49,
          68,
          72,
          72,
          74,
          76,
          84,
          84,
          85,
          87,
          89,
          89,
          88,
          93,
          94,
          94,
          96,
          96,
          98,
          97,
          98,
          100,
          100,
          100,
          105,
          106,
          106,
          106,
          111,
          111,
          110,
          111,
          113,
          113,
          116,
          118,
          121,
          122,
          125,
          128,
          130,
          134,
          133,
          134,
          135,
          135,
          135,
          138,
          145,
          151,
          153,
          158,
          163,
          168
         ]
        },
        {
         "name": "GP",
         "type": "scatter",
         "x": [
          "05-03-2020",
          "07-03-2020",
          "08-03-2020",
          "09-03-2020",
          "11-03-2020",
          "12-03-2020",
          "13-03-2020",
          "14-03-2020",
          "15-03-2020",
          "16-03-2020",
          "17-03-2020",
          "18-03-2020",
          "19-03-2020",
          "20-03-2020",
          "21-03-2020",
          "22-03-2020",
          "23-03-2020",
          "24-03-2020",
          "25-03-2020",
          "26-03-2020",
          "27-03-2020",
          "28-03-2020",
          "29-03-2020",
          "30-03-2020",
          "31-03-2020",
          "01-04-2020",
          "02-04-2020",
          "03-04-2020",
          "04-04-2020",
          "05-04-2020",
          "06-04-2020",
          "07-04-2020",
          "08-04-2020",
          "09-04-2020",
          "10-04-2020",
          "11-04-2020",
          "12-04-2020",
          "13-04-2020",
          "14-04-2020",
          "15-04-2020",
          "16-04-2020",
          "17-04-2020",
          "18-04-2020",
          "19-04-2020",
          "20-04-2020",
          "21-04-2020",
          "22-04-2020",
          "23-04-2020",
          "24-04-2020",
          "25-04-2020",
          "26-04-2020",
          "27-04-2020",
          "28-04-2020",
          "29-04-2020",
          "30-04-2020",
          "01-05-2020",
          "02-05-2020",
          "03-05-2020",
          "04-05-2020",
          "05-05-2020",
          "06-05-2020",
          "07-05-2020",
          "08-05-2020",
          "09-05-2020",
          "10-05-2020",
          "11-05-2020",
          "12-05-2020",
          "13-05-2020",
          "14-05-2020",
          "15-05-2020",
          "16-05-2020",
          "17-05-2020",
          "18-05-2020",
          "19-05-2020"
         ],
         "y": [
          0,
          1,
          1,
          1,
          5,
          6,
          10,
          17,
          24,
          31,
          45,
          61,
          76,
          109,
          125,
          132,
          207,
          302,
          319,
          409,
          409,
          533,
          584,
          618,
          633,
          645,
          663,
          672,
          693,
          704,
          713,
          713,
          782,
          795,
          801,
          813,
          865,
          890,
          909,
          930,
          969,
          1018,
          1101,
          1148,
          1170,
          1199,
          1224,
          1252,
          1281,
          1304,
          1331,
          1353,
          1377,
          1408,
          1446,
          1507,
          1598,
          1624,
          1651,
          1697,
          1720,
          1804,
          1851,
          1910,
          1952,
          1971,
          2014,
          2074,
          2135,
          2210,
          2262,
          2329,
          2343,
          2361
         ]
        },
        {
         "name": "KZN",
         "type": "scatter",
         "x": [
          "05-03-2020",
          "07-03-2020",
          "08-03-2020",
          "09-03-2020",
          "11-03-2020",
          "12-03-2020",
          "13-03-2020",
          "14-03-2020",
          "15-03-2020",
          "16-03-2020",
          "17-03-2020",
          "18-03-2020",
          "19-03-2020",
          "20-03-2020",
          "21-03-2020",
          "22-03-2020",
          "23-03-2020",
          "24-03-2020",
          "25-03-2020",
          "26-03-2020",
          "27-03-2020",
          "28-03-2020",
          "29-03-2020",
          "30-03-2020",
          "31-03-2020",
          "01-04-2020",
          "02-04-2020",
          "03-04-2020",
          "04-04-2020",
          "05-04-2020",
          "06-04-2020",
          "07-04-2020",
          "08-04-2020",
          "09-04-2020",
          "10-04-2020",
          "11-04-2020",
          "12-04-2020",
          "13-04-2020",
          "14-04-2020",
          "15-04-2020",
          "16-04-2020",
          "17-04-2020",
          "18-04-2020",
          "19-04-2020",
          "20-04-2020",
          "21-04-2020",
          "22-04-2020",
          "23-04-2020",
          "24-04-2020",
          "25-04-2020",
          "26-04-2020",
          "27-04-2020",
          "28-04-2020",
          "29-04-2020",
          "30-04-2020",
          "01-05-2020",
          "02-05-2020",
          "03-05-2020",
          "04-05-2020",
          "05-05-2020",
          "06-05-2020",
          "07-05-2020",
          "08-05-2020",
          "09-05-2020",
          "10-05-2020",
          "11-05-2020",
          "12-05-2020",
          "13-05-2020",
          "14-05-2020",
          "15-05-2020",
          "16-05-2020",
          "17-05-2020",
          "18-05-2020",
          "19-05-2020"
         ],
         "y": [
          1,
          1,
          2,
          6,
          7,
          8,
          10,
          11,
          12,
          12,
          16,
          19,
          22,
          23,
          26,
          35,
          60,
          80,
          91,
          134,
          134,
          156,
          167,
          171,
          179,
          186,
          206,
          215,
          232,
          246,
          257,
          257,
          354,
          387,
          412,
          418,
          443,
          465,
          489,
          519,
          539,
          591,
          604,
          617,
          639,
          671,
          758,
          807,
          841,
          841,
          863,
          902,
          919,
          956,
          980,
          1006,
          1051,
          1076,
          1106,
          1142,
          1149,
          1204,
          1253,
          1308,
          1353,
          1372,
          1394,
          1413,
          1444,
          1482,
          1498,
          1543,
          1567,
          1616
         ]
        },
        {
         "name": "NW",
         "type": "scatter",
         "x": [
          "05-03-2020",
          "07-03-2020",
          "08-03-2020",
          "09-03-2020",
          "11-03-2020",
          "12-03-2020",
          "13-03-2020",
          "14-03-2020",
          "15-03-2020",
          "16-03-2020",
          "17-03-2020",
          "18-03-2020",
          "19-03-2020",
          "20-03-2020",
          "21-03-2020",
          "22-03-2020",
          "23-03-2020",
          "24-03-2020",
          "25-03-2020",
          "26-03-2020",
          "27-03-2020",
          "28-03-2020",
          "29-03-2020",
          "30-03-2020",
          "31-03-2020",
          "01-04-2020",
          "02-04-2020",
          "03-04-2020",
          "04-04-2020",
          "05-04-2020",
          "06-04-2020",
          "07-04-2020",
          "08-04-2020",
          "09-04-2020",
          "10-04-2020",
          "11-04-2020",
          "12-04-2020",
          "13-04-2020",
          "14-04-2020",
          "15-04-2020",
          "16-04-2020",
          "17-04-2020",
          "18-04-2020",
          "19-04-2020",
          "20-04-2020",
          "21-04-2020",
          "22-04-2020",
          "23-04-2020",
          "24-04-2020",
          "25-04-2020",
          "26-04-2020",
          "27-04-2020",
          "28-04-2020",
          "29-04-2020",
          "30-04-2020",
          "01-05-2020",
          "02-05-2020",
          "03-05-2020",
          "04-05-2020",
          "05-05-2020",
          "06-05-2020",
          "07-05-2020",
          "08-05-2020",
          "09-05-2020",
          "10-05-2020",
          "11-05-2020",
          "12-05-2020",
          "13-05-2020",
          "14-05-2020",
          "15-05-2020",
          "16-05-2020",
          "17-05-2020",
          "18-05-2020",
          "19-05-2020"
         ],
         "y": [
          0,
          0,
          0,
          0,
          0,
          0,
          0,
          0,
          0,
          0,
          0,
          0,
          0,
          0,
          0,
          0,
          4,
          5,
          5,
          5,
          5,
          6,
          6,
          8,
          8,
          9,
          9,
          9,
          11,
          11,
          11,
          11,
          15,
          15,
          18,
          19,
          19,
          22,
          22,
          23,
          24,
          24,
          24,
          24,
          25,
          24,
          24,
          25,
          25,
          28,
          28,
          31,
          29,
          29,
          31,
          35,
          35,
          36,
          35,
          35,
          37,
          40,
          42,
          41,
          45,
          50,
          51,
          52,
          58,
          63,
          64,
          70,
          72,
          72
         ]
        },
        {
         "name": "LP",
         "type": "scatter",
         "x": [
          "05-03-2020",
          "07-03-2020",
          "08-03-2020",
          "09-03-2020",
          "11-03-2020",
          "12-03-2020",
          "13-03-2020",
          "14-03-2020",
          "15-03-2020",
          "16-03-2020",
          "17-03-2020",
          "18-03-2020",
          "19-03-2020",
          "20-03-2020",
          "21-03-2020",
          "22-03-2020",
          "23-03-2020",
          "24-03-2020",
          "25-03-2020",
          "26-03-2020",
          "27-03-2020",
          "28-03-2020",
          "29-03-2020",
          "30-03-2020",
          "31-03-2020",
          "01-04-2020",
          "02-04-2020",
          "03-04-2020",
          "04-04-2020",
          "05-04-2020",
          "06-04-2020",
          "07-04-2020",
          "08-04-2020",
          "09-04-2020",
          "10-04-2020",
          "11-04-2020",
          "12-04-2020",
          "13-04-2020",
          "14-04-2020",
          "15-04-2020",
          "16-04-2020",
          "17-04-2020",
          "18-04-2020",
          "19-04-2020",
          "20-04-2020",
          "21-04-2020",
          "22-04-2020",
          "23-04-2020",
          "24-04-2020",
          "25-04-2020",
          "26-04-2020",
          "27-04-2020",
          "28-04-2020",
          "29-04-2020",
          "30-04-2020",
          "01-05-2020",
          "02-05-2020",
          "03-05-2020",
          "04-05-2020",
          "05-05-2020",
          "06-05-2020",
          "07-05-2020",
          "08-05-2020",
          "09-05-2020",
          "10-05-2020",
          "11-05-2020",
          "12-05-2020",
          "13-05-2020",
          "14-05-2020",
          "15-05-2020",
          "16-05-2020",
          "17-05-2020",
          "18-05-2020",
          "19-05-2020"
         ],
         "y": [
          0,
          0,
          0,
          0,
          0,
          0,
          0,
          0,
          0,
          1,
          1,
          1,
          1,
          1,
          1,
          2,
          4,
          4,
          4,
          6,
          6,
          11,
          12,
          11,
          14,
          14,
          16,
          16,
          18,
          19,
          19,
          19,
          21,
          22,
          24,
          23,
          23,
          23,
          24,
          25,
          26,
          26,
          26,
          27,
          27,
          27,
          27,
          27,
          29,
          30,
          31,
          31,
          31,
          31,
          32,
          34,
          36,
          37,
          39,
          40,
          40,
          41,
          43,
          51,
          54,
          54,
          54,
          54,
          55,
          57,
          59,
          77,
          88,
          94
         ]
        },
        {
         "name": "MP",
         "type": "scatter",
         "x": [
          "05-03-2020",
          "07-03-2020",
          "08-03-2020",
          "09-03-2020",
          "11-03-2020",
          "12-03-2020",
          "13-03-2020",
          "14-03-2020",
          "15-03-2020",
          "16-03-2020",
          "17-03-2020",
          "18-03-2020",
          "19-03-2020",
          "20-03-2020",
          "21-03-2020",
          "22-03-2020",
          "23-03-2020",
          "24-03-2020",
          "25-03-2020",
          "26-03-2020",
          "27-03-2020",
          "28-03-2020",
          "29-03-2020",
          "30-03-2020",
          "31-03-2020",
          "01-04-2020",
          "02-04-2020",
          "03-04-2020",
          "04-04-2020",
          "05-04-2020",
          "06-04-2020",
          "07-04-2020",
          "08-04-2020",
          "09-04-2020",
          "10-04-2020",
          "11-04-2020",
          "12-04-2020",
          "13-04-2020",
          "14-04-2020",
          "15-04-2020",
          "16-04-2020",
          "17-04-2020",
          "18-04-2020",
          "19-04-2020",
          "20-04-2020",
          "21-04-2020",
          "22-04-2020",
          "23-04-2020",
          "24-04-2020",
          "25-04-2020",
          "26-04-2020",
          "27-04-2020",
          "28-04-2020",
          "29-04-2020",
          "30-04-2020",
          "01-05-2020",
          "02-05-2020",
          "03-05-2020",
          "04-05-2020",
          "05-05-2020",
          "06-05-2020",
          "07-05-2020",
          "08-05-2020",
          "09-05-2020",
          "10-05-2020",
          "11-05-2020",
          "12-05-2020",
          "13-05-2020",
          "14-05-2020",
          "15-05-2020",
          "16-05-2020",
          "17-05-2020",
          "18-05-2020",
          "19-05-2020"
         ],
         "y": [
          0,
          0,
          0,
          0,
          0,
          1,
          1,
          1,
          1,
          2,
          2,
          4,
          5,
          5,
          5,
          5,
          9,
          9,
          8,
          9,
          9,
          10,
          11,
          11,
          12,
          12,
          13,
          13,
          18,
          18,
          18,
          18,
          21,
          20,
          20,
          20,
          21,
          22,
          22,
          22,
          22,
          23,
          25,
          23,
          23,
          24,
          23,
          23,
          24,
          23,
          23,
          26,
          26,
          31,
          36,
          35,
          40,
          46,
          53,
          57,
          57,
          59,
          60,
          61,
          61,
          63,
          63,
          66,
          67,
          67,
          68,
          71,
          76,
          78
         ]
        },
        {
         "name": "NC",
         "type": "scatter",
         "x": [
          "05-03-2020",
          "07-03-2020",
          "08-03-2020",
          "09-03-2020",
          "11-03-2020",
          "12-03-2020",
          "13-03-2020",
          "14-03-2020",
          "15-03-2020",
          "16-03-2020",
          "17-03-2020",
          "18-03-2020",
          "19-03-2020",
          "20-03-2020",
          "21-03-2020",
          "22-03-2020",
          "23-03-2020",
          "24-03-2020",
          "25-03-2020",
          "26-03-2020",
          "27-03-2020",
          "28-03-2020",
          "29-03-2020",
          "30-03-2020",
          "31-03-2020",
          "01-04-2020",
          "02-04-2020",
          "03-04-2020",
          "04-04-2020",
          "05-04-2020",
          "06-04-2020",
          "07-04-2020",
          "08-04-2020",
          "09-04-2020",
          "10-04-2020",
          "11-04-2020",
          "12-04-2020",
          "13-04-2020",
          "14-04-2020",
          "15-04-2020",
          "16-04-2020",
          "17-04-2020",
          "18-04-2020",
          "19-04-2020",
          "20-04-2020",
          "21-04-2020",
          "22-04-2020",
          "23-04-2020",
          "24-04-2020",
          "25-04-2020",
          "26-04-2020",
          "27-04-2020",
          "28-04-2020",
          "29-04-2020",
          "30-04-2020",
          "01-05-2020",
          "02-05-2020",
          "03-05-2020",
          "04-05-2020",
          "05-05-2020",
          "06-05-2020",
          "07-05-2020",
          "08-05-2020",
          "09-05-2020",
          "10-05-2020",
          "11-05-2020",
          "12-05-2020",
          "13-05-2020",
          "14-05-2020",
          "15-05-2020",
          "16-05-2020",
          "17-05-2020",
          "18-05-2020",
          "19-05-2020"
         ],
         "y": [
          0,
          0,
          0,
          0,
          0,
          0,
          0,
          0,
          0,
          0,
          0,
          0,
          0,
          0,
          0,
          0,
          2,
          2,
          2,
          2,
          2,
          5,
          6,
          3,
          6,
          7,
          7,
          7,
          7,
          8,
          8,
          8,
          13,
          15,
          15,
          16,
          16,
          16,
          16,
          16,
          16,
          16,
          16,
          16,
          18,
          16,
          16,
          16,
          16,
          16,
          17,
          17,
          17,
          17,
          17,
          18,
          23,
          24,
          25,
          26,
          26,
          27,
          27,
          28,
          29,
          30,
          30,
          30,
          31,
          34,
          35,
          37,
          37,
          37
         ]
        },
        {
         "name": "Unlocated",
         "type": "scatter",
         "x": [
          "05-03-2020",
          "07-03-2020",
          "08-03-2020",
          "09-03-2020",
          "11-03-2020",
          "12-03-2020",
          "13-03-2020",
          "14-03-2020",
          "15-03-2020",
          "16-03-2020",
          "17-03-2020",
          "18-03-2020",
          "19-03-2020",
          "20-03-2020",
          "21-03-2020",
          "22-03-2020",
          "23-03-2020",
          "24-03-2020",
          "25-03-2020",
          "26-03-2020",
          "27-03-2020",
          "28-03-2020",
          "29-03-2020",
          "30-03-2020",
          "31-03-2020",
          "01-04-2020",
          "02-04-2020",
          "03-04-2020",
          "04-04-2020",
          "05-04-2020",
          "06-04-2020",
          "07-04-2020",
          "08-04-2020",
          "09-04-2020",
          "10-04-2020",
          "11-04-2020",
          "12-04-2020",
          "13-04-2020",
          "14-04-2020",
          "15-04-2020",
          "16-04-2020",
          "17-04-2020",
          "18-04-2020",
          "19-04-2020",
          "20-04-2020",
          "21-04-2020",
          "22-04-2020",
          "23-04-2020",
          "24-04-2020",
          "25-04-2020",
          "26-04-2020",
          "27-04-2020",
          "28-04-2020",
          "29-04-2020",
          "30-04-2020",
          "01-05-2020",
          "02-05-2020",
          "03-05-2020",
          "04-05-2020",
          "05-05-2020",
          "06-05-2020",
          "07-05-2020",
          "08-05-2020",
          "09-05-2020",
          "10-05-2020",
          "11-05-2020",
          "12-05-2020",
          "13-05-2020",
          "14-05-2020",
          "15-05-2020",
          "16-05-2020",
          "17-05-2020",
          "18-05-2020",
          "19-05-2020"
         ],
         "y": [
          0,
          0,
          0,
          0,
          0,
          0,
          0,
          0,
          0,
          0,
          0,
          0,
          0,
          0,
          0,
          0,
          1,
          19,
          65,
          79,
          79,
          117,
          100,
          96,
          90,
          90,
          94,
          94,
          63,
          77,
          77,
          77,
          11,
          11,
          10,
          10,
          15,
          17,
          18,
          18,
          16,
          22,
          32,
          42,
          43,
          43,
          1,
          1,
          0,
          0,
          0,
          0,
          0,
          0,
          0,
          0,
          0,
          0,
          0,
          0,
          0,
          0,
          0,
          0,
          0,
          0,
          0,
          0,
          0,
          0,
          0,
          0,
          0,
          0
         ]
        }
       ],
       "layout": {
        "hovermode": "x",
        "template": {
         "data": {
          "bar": [
           {
            "error_x": {
             "color": "#2a3f5f"
            },
            "error_y": {
             "color": "#2a3f5f"
            },
            "marker": {
             "line": {
              "color": "#E5ECF6",
              "width": 0.5
             }
            },
            "type": "bar"
           }
          ],
          "barpolar": [
           {
            "marker": {
             "line": {
              "color": "#E5ECF6",
              "width": 0.5
             }
            },
            "type": "barpolar"
           }
          ],
          "carpet": [
           {
            "aaxis": {
             "endlinecolor": "#2a3f5f",
             "gridcolor": "white",
             "linecolor": "white",
             "minorgridcolor": "white",
             "startlinecolor": "#2a3f5f"
            },
            "baxis": {
             "endlinecolor": "#2a3f5f",
             "gridcolor": "white",
             "linecolor": "white",
             "minorgridcolor": "white",
             "startlinecolor": "#2a3f5f"
            },
            "type": "carpet"
           }
          ],
          "choropleth": [
           {
            "colorbar": {
             "outlinewidth": 0,
             "ticks": ""
            },
            "type": "choropleth"
           }
          ],
          "contour": [
           {
            "colorbar": {
             "outlinewidth": 0,
             "ticks": ""
            },
            "colorscale": [
             [
              0,
              "#0d0887"
             ],
             [
              0.1111111111111111,
              "#46039f"
             ],
             [
              0.2222222222222222,
              "#7201a8"
             ],
             [
              0.3333333333333333,
              "#9c179e"
             ],
             [
              0.4444444444444444,
              "#bd3786"
             ],
             [
              0.5555555555555556,
              "#d8576b"
             ],
             [
              0.6666666666666666,
              "#ed7953"
             ],
             [
              0.7777777777777778,
              "#fb9f3a"
             ],
             [
              0.8888888888888888,
              "#fdca26"
             ],
             [
              1,
              "#f0f921"
             ]
            ],
            "type": "contour"
           }
          ],
          "contourcarpet": [
           {
            "colorbar": {
             "outlinewidth": 0,
             "ticks": ""
            },
            "type": "contourcarpet"
           }
          ],
          "heatmap": [
           {
            "colorbar": {
             "outlinewidth": 0,
             "ticks": ""
            },
            "colorscale": [
             [
              0,
              "#0d0887"
             ],
             [
              0.1111111111111111,
              "#46039f"
             ],
             [
              0.2222222222222222,
              "#7201a8"
             ],
             [
              0.3333333333333333,
              "#9c179e"
             ],
             [
              0.4444444444444444,
              "#bd3786"
             ],
             [
              0.5555555555555556,
              "#d8576b"
             ],
             [
              0.6666666666666666,
              "#ed7953"
             ],
             [
              0.7777777777777778,
              "#fb9f3a"
             ],
             [
              0.8888888888888888,
              "#fdca26"
             ],
             [
              1,
              "#f0f921"
             ]
            ],
            "type": "heatmap"
           }
          ],
          "heatmapgl": [
           {
            "colorbar": {
             "outlinewidth": 0,
             "ticks": ""
            },
            "colorscale": [
             [
              0,
              "#0d0887"
             ],
             [
              0.1111111111111111,
              "#46039f"
             ],
             [
              0.2222222222222222,
              "#7201a8"
             ],
             [
              0.3333333333333333,
              "#9c179e"
             ],
             [
              0.4444444444444444,
              "#bd3786"
             ],
             [
              0.5555555555555556,
              "#d8576b"
             ],
             [
              0.6666666666666666,
              "#ed7953"
             ],
             [
              0.7777777777777778,
              "#fb9f3a"
             ],
             [
              0.8888888888888888,
              "#fdca26"
             ],
             [
              1,
              "#f0f921"
             ]
            ],
            "type": "heatmapgl"
           }
          ],
          "histogram": [
           {
            "marker": {
             "colorbar": {
              "outlinewidth": 0,
              "ticks": ""
             }
            },
            "type": "histogram"
           }
          ],
          "histogram2d": [
           {
            "colorbar": {
             "outlinewidth": 0,
             "ticks": ""
            },
            "colorscale": [
             [
              0,
              "#0d0887"
             ],
             [
              0.1111111111111111,
              "#46039f"
             ],
             [
              0.2222222222222222,
              "#7201a8"
             ],
             [
              0.3333333333333333,
              "#9c179e"
             ],
             [
              0.4444444444444444,
              "#bd3786"
             ],
             [
              0.5555555555555556,
              "#d8576b"
             ],
             [
              0.6666666666666666,
              "#ed7953"
             ],
             [
              0.7777777777777778,
              "#fb9f3a"
             ],
             [
              0.8888888888888888,
              "#fdca26"
             ],
             [
              1,
              "#f0f921"
             ]
            ],
            "type": "histogram2d"
           }
          ],
          "histogram2dcontour": [
           {
            "colorbar": {
             "outlinewidth": 0,
             "ticks": ""
            },
            "colorscale": [
             [
              0,
              "#0d0887"
             ],
             [
              0.1111111111111111,
              "#46039f"
             ],
             [
              0.2222222222222222,
              "#7201a8"
             ],
             [
              0.3333333333333333,
              "#9c179e"
             ],
             [
              0.4444444444444444,
              "#bd3786"
             ],
             [
              0.5555555555555556,
              "#d8576b"
             ],
             [
              0.6666666666666666,
              "#ed7953"
             ],
             [
              0.7777777777777778,
              "#fb9f3a"
             ],
             [
              0.8888888888888888,
              "#fdca26"
             ],
             [
              1,
              "#f0f921"
             ]
            ],
            "type": "histogram2dcontour"
           }
          ],
          "mesh3d": [
           {
            "colorbar": {
             "outlinewidth": 0,
             "ticks": ""
            },
            "type": "mesh3d"
           }
          ],
          "parcoords": [
           {
            "line": {
             "colorbar": {
              "outlinewidth": 0,
              "ticks": ""
             }
            },
            "type": "parcoords"
           }
          ],
          "pie": [
           {
            "automargin": true,
            "type": "pie"
           }
          ],
          "scatter": [
           {
            "marker": {
             "colorbar": {
              "outlinewidth": 0,
              "ticks": ""
             }
            },
            "type": "scatter"
           }
          ],
          "scatter3d": [
           {
            "line": {
             "colorbar": {
              "outlinewidth": 0,
              "ticks": ""
             }
            },
            "marker": {
             "colorbar": {
              "outlinewidth": 0,
              "ticks": ""
             }
            },
            "type": "scatter3d"
           }
          ],
          "scattercarpet": [
           {
            "marker": {
             "colorbar": {
              "outlinewidth": 0,
              "ticks": ""
             }
            },
            "type": "scattercarpet"
           }
          ],
          "scattergeo": [
           {
            "marker": {
             "colorbar": {
              "outlinewidth": 0,
              "ticks": ""
             }
            },
            "type": "scattergeo"
           }
          ],
          "scattergl": [
           {
            "marker": {
             "colorbar": {
              "outlinewidth": 0,
              "ticks": ""
             }
            },
            "type": "scattergl"
           }
          ],
          "scattermapbox": [
           {
            "marker": {
             "colorbar": {
              "outlinewidth": 0,
              "ticks": ""
             }
            },
            "type": "scattermapbox"
           }
          ],
          "scatterpolar": [
           {
            "marker": {
             "colorbar": {
              "outlinewidth": 0,
              "ticks": ""
             }
            },
            "type": "scatterpolar"
           }
          ],
          "scatterpolargl": [
           {
            "marker": {
             "colorbar": {
              "outlinewidth": 0,
              "ticks": ""
             }
            },
            "type": "scatterpolargl"
           }
          ],
          "scatterternary": [
           {
            "marker": {
             "colorbar": {
              "outlinewidth": 0,
              "ticks": ""
             }
            },
            "type": "scatterternary"
           }
          ],
          "surface": [
           {
            "colorbar": {
             "outlinewidth": 0,
             "ticks": ""
            },
            "colorscale": [
             [
              0,
              "#0d0887"
             ],
             [
              0.1111111111111111,
              "#46039f"
             ],
             [
              0.2222222222222222,
              "#7201a8"
             ],
             [
              0.3333333333333333,
              "#9c179e"
             ],
             [
              0.4444444444444444,
              "#bd3786"
             ],
             [
              0.5555555555555556,
              "#d8576b"
             ],
             [
              0.6666666666666666,
              "#ed7953"
             ],
             [
              0.7777777777777778,
              "#fb9f3a"
             ],
             [
              0.8888888888888888,
              "#fdca26"
             ],
             [
              1,
              "#f0f921"
             ]
            ],
            "type": "surface"
           }
          ],
          "table": [
           {
            "cells": {
             "fill": {
              "color": "#EBF0F8"
             },
             "line": {
              "color": "white"
             }
            },
            "header": {
             "fill": {
              "color": "#C8D4E3"
             },
             "line": {
              "color": "white"
             }
            },
            "type": "table"
           }
          ]
         },
         "layout": {
          "annotationdefaults": {
           "arrowcolor": "#2a3f5f",
           "arrowhead": 0,
           "arrowwidth": 1
          },
          "coloraxis": {
           "colorbar": {
            "outlinewidth": 0,
            "ticks": ""
           }
          },
          "colorscale": {
           "diverging": [
            [
             0,
             "#8e0152"
            ],
            [
             0.1,
             "#c51b7d"
            ],
            [
             0.2,
             "#de77ae"
            ],
            [
             0.3,
             "#f1b6da"
            ],
            [
             0.4,
             "#fde0ef"
            ],
            [
             0.5,
             "#f7f7f7"
            ],
            [
             0.6,
             "#e6f5d0"
            ],
            [
             0.7,
             "#b8e186"
            ],
            [
             0.8,
             "#7fbc41"
            ],
            [
             0.9,
             "#4d9221"
            ],
            [
             1,
             "#276419"
            ]
           ],
           "sequential": [
            [
             0,
             "#0d0887"
            ],
            [
             0.1111111111111111,
             "#46039f"
            ],
            [
             0.2222222222222222,
             "#7201a8"
            ],
            [
             0.3333333333333333,
             "#9c179e"
            ],
            [
             0.4444444444444444,
             "#bd3786"
            ],
            [
             0.5555555555555556,
             "#d8576b"
            ],
            [
             0.6666666666666666,
             "#ed7953"
            ],
            [
             0.7777777777777778,
             "#fb9f3a"
            ],
            [
             0.8888888888888888,
             "#fdca26"
            ],
            [
             1,
             "#f0f921"
            ]
           ],
           "sequentialminus": [
            [
             0,
             "#0d0887"
            ],
            [
             0.1111111111111111,
             "#46039f"
            ],
            [
             0.2222222222222222,
             "#7201a8"
            ],
            [
             0.3333333333333333,
             "#9c179e"
            ],
            [
             0.4444444444444444,
             "#bd3786"
            ],
            [
             0.5555555555555556,
             "#d8576b"
            ],
            [
             0.6666666666666666,
             "#ed7953"
            ],
            [
             0.7777777777777778,
             "#fb9f3a"
            ],
            [
             0.8888888888888888,
             "#fdca26"
            ],
            [
             1,
             "#f0f921"
            ]
           ]
          },
          "colorway": [
           "#636efa",
           "#EF553B",
           "#00cc96",
           "#ab63fa",
           "#FFA15A",
           "#19d3f3",
           "#FF6692",
           "#B6E880",
           "#FF97FF",
           "#FECB52"
          ],
          "font": {
           "color": "#2a3f5f"
          },
          "geo": {
           "bgcolor": "white",
           "lakecolor": "white",
           "landcolor": "#E5ECF6",
           "showlakes": true,
           "showland": true,
           "subunitcolor": "white"
          },
          "hoverlabel": {
           "align": "left"
          },
          "hovermode": "closest",
          "mapbox": {
           "style": "light"
          },
          "paper_bgcolor": "white",
          "plot_bgcolor": "#E5ECF6",
          "polar": {
           "angularaxis": {
            "gridcolor": "white",
            "linecolor": "white",
            "ticks": ""
           },
           "bgcolor": "#E5ECF6",
           "radialaxis": {
            "gridcolor": "white",
            "linecolor": "white",
            "ticks": ""
           }
          },
          "scene": {
           "xaxis": {
            "backgroundcolor": "#E5ECF6",
            "gridcolor": "white",
            "gridwidth": 2,
            "linecolor": "white",
            "showbackground": true,
            "ticks": "",
            "zerolinecolor": "white"
           },
           "yaxis": {
            "backgroundcolor": "#E5ECF6",
            "gridcolor": "white",
            "gridwidth": 2,
            "linecolor": "white",
            "showbackground": true,
            "ticks": "",
            "zerolinecolor": "white"
           },
           "zaxis": {
            "backgroundcolor": "#E5ECF6",
            "gridcolor": "white",
            "gridwidth": 2,
            "linecolor": "white",
            "showbackground": true,
            "ticks": "",
            "zerolinecolor": "white"
           }
          },
          "shapedefaults": {
           "line": {
            "color": "#2a3f5f"
           }
          },
          "ternary": {
           "aaxis": {
            "gridcolor": "white",
            "linecolor": "white",
            "ticks": ""
           },
           "baxis": {
            "gridcolor": "white",
            "linecolor": "white",
            "ticks": ""
           },
           "bgcolor": "#E5ECF6",
           "caxis": {
            "gridcolor": "white",
            "linecolor": "white",
            "ticks": ""
           }
          },
          "title": {
           "x": 0.05
          },
          "xaxis": {
           "automargin": true,
           "gridcolor": "white",
           "linecolor": "white",
           "ticks": "",
           "title": {
            "standoff": 15
           },
           "zerolinecolor": "white",
           "zerolinewidth": 2
          },
          "yaxis": {
           "automargin": true,
           "gridcolor": "white",
           "linecolor": "white",
           "ticks": "",
           "title": {
            "standoff": 15
           },
           "zerolinecolor": "white",
           "zerolinewidth": 2
          }
         }
        },
        "title": {
         "text": "Commulative confirmed cases by province"
        },
        "xaxis": {
         "rangeslider": {
          "visible": true
         }
        }
       }
      },
      "text/html": [
       "<div>\n",
       "        \n",
       "        \n",
       "            <div id=\"eccd0fcf-f601-48d8-9598-8080f62fa6e5\" class=\"plotly-graph-div\" style=\"height:525px; width:100%;\"></div>\n",
       "            <script type=\"text/javascript\">\n",
       "                require([\"plotly\"], function(Plotly) {\n",
       "                    window.PLOTLYENV=window.PLOTLYENV || {};\n",
       "                    \n",
       "                if (document.getElementById(\"eccd0fcf-f601-48d8-9598-8080f62fa6e5\")) {\n",
       "                    Plotly.newPlot(\n",
       "                        'eccd0fcf-f601-48d8-9598-8080f62fa6e5',\n",
       "                        [{\"name\": \"EC\", \"type\": \"scatter\", \"x\": [\"05-03-2020\", \"07-03-2020\", \"08-03-2020\", \"09-03-2020\", \"11-03-2020\", \"12-03-2020\", \"13-03-2020\", \"14-03-2020\", \"15-03-2020\", \"16-03-2020\", \"17-03-2020\", \"18-03-2020\", \"19-03-2020\", \"20-03-2020\", \"21-03-2020\", \"22-03-2020\", \"23-03-2020\", \"24-03-2020\", \"25-03-2020\", \"26-03-2020\", \"27-03-2020\", \"28-03-2020\", \"29-03-2020\", \"30-03-2020\", \"31-03-2020\", \"01-04-2020\", \"02-04-2020\", \"03-04-2020\", \"04-04-2020\", \"05-04-2020\", \"06-04-2020\", \"07-04-2020\", \"08-04-2020\", \"09-04-2020\", \"10-04-2020\", \"11-04-2020\", \"12-04-2020\", \"13-04-2020\", \"14-04-2020\", \"15-04-2020\", \"16-04-2020\", \"17-04-2020\", \"18-04-2020\", \"19-04-2020\", \"20-04-2020\", \"21-04-2020\", \"22-04-2020\", \"23-04-2020\", \"24-04-2020\", \"25-04-2020\", \"26-04-2020\", \"27-04-2020\", \"28-04-2020\", \"29-04-2020\", \"30-04-2020\", \"01-05-2020\", \"02-05-2020\", \"03-05-2020\", \"04-05-2020\", \"05-05-2020\", \"06-05-2020\", \"07-05-2020\", \"08-05-2020\", \"09-05-2020\", \"10-05-2020\", \"11-05-2020\", \"12-05-2020\", \"13-05-2020\", \"14-05-2020\", \"15-05-2020\", \"16-05-2020\", \"17-05-2020\", \"18-05-2020\", \"19-05-2020\"], \"y\": [0.0, 0.0, 0.0, 0.0, 0.0, 0.0, 0.0, 0.0, 0.0, 0.0, 0.0, 0.0, 0.0, 0.0, 1.0, 2.0, 2.0, 2.0, 2.0, 5.0, 5.0, 10.0, 12.0, 12.0, 12.0, 15.0, 17.0, 21.0, 25.0, 31.0, 32.0, 32.0, 45.0, 61.0, 68.0, 69.0, 88.0, 104.0, 174.0, 199.0, 220.0, 246.0, 270.0, 293.0, 310.0, 345.0, 377.0, 417.0, 480.0, 488.0, 535.0, 588.0, 616.0, 630.0, 647.0, 691.0, 732.0, 774.0, 814.0, 838.0, 849.0, 929.0, 989.0, 1078.0, 1218.0, 1356.0, 1504.0, 1534.0, 1569.0, 1662.0, 1812.0, 1936.0, 2052.0, 2135.0]}, {\"name\": \"WC\", \"type\": \"scatter\", \"x\": [\"05-03-2020\", \"07-03-2020\", \"08-03-2020\", \"09-03-2020\", \"11-03-2020\", \"12-03-2020\", \"13-03-2020\", \"14-03-2020\", \"15-03-2020\", \"16-03-2020\", \"17-03-2020\", \"18-03-2020\", \"19-03-2020\", \"20-03-2020\", \"21-03-2020\", \"22-03-2020\", \"23-03-2020\", \"24-03-2020\", \"25-03-2020\", \"26-03-2020\", \"27-03-2020\", \"28-03-2020\", \"29-03-2020\", \"30-03-2020\", \"31-03-2020\", \"01-04-2020\", \"02-04-2020\", \"03-04-2020\", \"04-04-2020\", \"05-04-2020\", \"06-04-2020\", \"07-04-2020\", \"08-04-2020\", \"09-04-2020\", \"10-04-2020\", \"11-04-2020\", \"12-04-2020\", \"13-04-2020\", \"14-04-2020\", \"15-04-2020\", \"16-04-2020\", \"17-04-2020\", \"18-04-2020\", \"19-04-2020\", \"20-04-2020\", \"21-04-2020\", \"22-04-2020\", \"23-04-2020\", \"24-04-2020\", \"25-04-2020\", \"26-04-2020\", \"27-04-2020\", \"28-04-2020\", \"29-04-2020\", \"30-04-2020\", \"01-05-2020\", \"02-05-2020\", \"03-05-2020\", \"04-05-2020\", \"05-05-2020\", \"06-05-2020\", \"07-05-2020\", \"08-05-2020\", \"09-05-2020\", \"10-05-2020\", \"11-05-2020\", \"12-05-2020\", \"13-05-2020\", \"14-05-2020\", \"15-05-2020\", \"16-05-2020\", \"17-05-2020\", \"18-05-2020\", \"19-05-2020\"], \"y\": [0.0, 0.0, 0.0, 0.0, 1.0, 1.0, 3.0, 9.0, 14.0, 16.0, 21.0, 31.0, 46.0, 57.0, 75.0, 89.0, 100.0, 113.0, 183.0, 229.0, 229.0, 271.0, 310.0, 324.0, 325.0, 326.0, 353.0, 374.0, 433.0, 454.0, 462.0, 462.0, 495.0, 515.0, 541.0, 546.0, 587.0, 617.0, 643.0, 657.0, 675.0, 717.0, 836.0, 868.0, 940.0, 1010.0, 1079.0, 1279.0, 1413.0, 1514.0, 1608.0, 1737.0, 1870.0, 2135.0, 2342.0, 2507.0, 2700.0, 3044.0, 3362.0, 3609.0, 3760.0, 3994.0, 4497.0, 4809.0, 5168.0, 5621.0, 6105.0, 6713.0, 7235.0, 7798.0, 8404.0, 9294.0, 10035.0, 10639.0]}, {\"name\": \"FS\", \"type\": \"scatter\", \"x\": [\"05-03-2020\", \"07-03-2020\", \"08-03-2020\", \"09-03-2020\", \"11-03-2020\", \"12-03-2020\", \"13-03-2020\", \"14-03-2020\", \"15-03-2020\", \"16-03-2020\", \"17-03-2020\", \"18-03-2020\", \"19-03-2020\", \"20-03-2020\", \"21-03-2020\", \"22-03-2020\", \"23-03-2020\", \"24-03-2020\", \"25-03-2020\", \"26-03-2020\", \"27-03-2020\", \"28-03-2020\", \"29-03-2020\", \"30-03-2020\", \"31-03-2020\", \"01-04-2020\", \"02-04-2020\", \"03-04-2020\", \"04-04-2020\", \"05-04-2020\", \"06-04-2020\", \"07-04-2020\", \"08-04-2020\", \"09-04-2020\", \"10-04-2020\", \"11-04-2020\", \"12-04-2020\", \"13-04-2020\", \"14-04-2020\", \"15-04-2020\", \"16-04-2020\", \"17-04-2020\", \"18-04-2020\", \"19-04-2020\", \"20-04-2020\", \"21-04-2020\", \"22-04-2020\", \"23-04-2020\", \"24-04-2020\", \"25-04-2020\", \"26-04-2020\", \"27-04-2020\", \"28-04-2020\", \"29-04-2020\", \"30-04-2020\", \"01-05-2020\", \"02-05-2020\", \"03-05-2020\", \"04-05-2020\", \"05-05-2020\", \"06-05-2020\", \"07-05-2020\", \"08-05-2020\", \"09-05-2020\", \"10-05-2020\", \"11-05-2020\", \"12-05-2020\", \"13-05-2020\", \"14-05-2020\", \"15-05-2020\", \"16-05-2020\", \"17-05-2020\", \"18-05-2020\", \"19-05-2020\"], \"y\": [0.0, 0.0, 0.0, 0.0, 0.0, 0.0, 0.0, 0.0, 0.0, 0.0, 0.0, 0.0, 0.0, 7.0, 7.0, 9.0, 13.0, 18.0, 30.0, 49.0, 49.0, 68.0, 72.0, 72.0, 74.0, 76.0, 84.0, 84.0, 85.0, 87.0, 89.0, 89.0, 88.0, 93.0, 94.0, 94.0, 96.0, 96.0, 98.0, 97.0, 98.0, 100.0, 100.0, 100.0, 105.0, 106.0, 106.0, 106.0, 111.0, 111.0, 110.0, 111.0, 113.0, 113.0, 116.0, 118.0, 121.0, 122.0, 125.0, 128.0, 130.0, 134.0, 133.0, 134.0, 135.0, 135.0, 135.0, 138.0, 145.0, 151.0, 153.0, 158.0, 163.0, 168.0]}, {\"name\": \"GP\", \"type\": \"scatter\", \"x\": [\"05-03-2020\", \"07-03-2020\", \"08-03-2020\", \"09-03-2020\", \"11-03-2020\", \"12-03-2020\", \"13-03-2020\", \"14-03-2020\", \"15-03-2020\", \"16-03-2020\", \"17-03-2020\", \"18-03-2020\", \"19-03-2020\", \"20-03-2020\", \"21-03-2020\", \"22-03-2020\", \"23-03-2020\", \"24-03-2020\", \"25-03-2020\", \"26-03-2020\", \"27-03-2020\", \"28-03-2020\", \"29-03-2020\", \"30-03-2020\", \"31-03-2020\", \"01-04-2020\", \"02-04-2020\", \"03-04-2020\", \"04-04-2020\", \"05-04-2020\", \"06-04-2020\", \"07-04-2020\", \"08-04-2020\", \"09-04-2020\", \"10-04-2020\", \"11-04-2020\", \"12-04-2020\", \"13-04-2020\", \"14-04-2020\", \"15-04-2020\", \"16-04-2020\", \"17-04-2020\", \"18-04-2020\", \"19-04-2020\", \"20-04-2020\", \"21-04-2020\", \"22-04-2020\", \"23-04-2020\", \"24-04-2020\", \"25-04-2020\", \"26-04-2020\", \"27-04-2020\", \"28-04-2020\", \"29-04-2020\", \"30-04-2020\", \"01-05-2020\", \"02-05-2020\", \"03-05-2020\", \"04-05-2020\", \"05-05-2020\", \"06-05-2020\", \"07-05-2020\", \"08-05-2020\", \"09-05-2020\", \"10-05-2020\", \"11-05-2020\", \"12-05-2020\", \"13-05-2020\", \"14-05-2020\", \"15-05-2020\", \"16-05-2020\", \"17-05-2020\", \"18-05-2020\", \"19-05-2020\"], \"y\": [0.0, 1.0, 1.0, 1.0, 5.0, 6.0, 10.0, 17.0, 24.0, 31.0, 45.0, 61.0, 76.0, 109.0, 125.0, 132.0, 207.0, 302.0, 319.0, 409.0, 409.0, 533.0, 584.0, 618.0, 633.0, 645.0, 663.0, 672.0, 693.0, 704.0, 713.0, 713.0, 782.0, 795.0, 801.0, 813.0, 865.0, 890.0, 909.0, 930.0, 969.0, 1018.0, 1101.0, 1148.0, 1170.0, 1199.0, 1224.0, 1252.0, 1281.0, 1304.0, 1331.0, 1353.0, 1377.0, 1408.0, 1446.0, 1507.0, 1598.0, 1624.0, 1651.0, 1697.0, 1720.0, 1804.0, 1851.0, 1910.0, 1952.0, 1971.0, 2014.0, 2074.0, 2135.0, 2210.0, 2262.0, 2329.0, 2343.0, 2361.0]}, {\"name\": \"KZN\", \"type\": \"scatter\", \"x\": [\"05-03-2020\", \"07-03-2020\", \"08-03-2020\", \"09-03-2020\", \"11-03-2020\", \"12-03-2020\", \"13-03-2020\", \"14-03-2020\", \"15-03-2020\", \"16-03-2020\", \"17-03-2020\", \"18-03-2020\", \"19-03-2020\", \"20-03-2020\", \"21-03-2020\", \"22-03-2020\", \"23-03-2020\", \"24-03-2020\", \"25-03-2020\", \"26-03-2020\", \"27-03-2020\", \"28-03-2020\", \"29-03-2020\", \"30-03-2020\", \"31-03-2020\", \"01-04-2020\", \"02-04-2020\", \"03-04-2020\", \"04-04-2020\", \"05-04-2020\", \"06-04-2020\", \"07-04-2020\", \"08-04-2020\", \"09-04-2020\", \"10-04-2020\", \"11-04-2020\", \"12-04-2020\", \"13-04-2020\", \"14-04-2020\", \"15-04-2020\", \"16-04-2020\", \"17-04-2020\", \"18-04-2020\", \"19-04-2020\", \"20-04-2020\", \"21-04-2020\", \"22-04-2020\", \"23-04-2020\", \"24-04-2020\", \"25-04-2020\", \"26-04-2020\", \"27-04-2020\", \"28-04-2020\", \"29-04-2020\", \"30-04-2020\", \"01-05-2020\", \"02-05-2020\", \"03-05-2020\", \"04-05-2020\", \"05-05-2020\", \"06-05-2020\", \"07-05-2020\", \"08-05-2020\", \"09-05-2020\", \"10-05-2020\", \"11-05-2020\", \"12-05-2020\", \"13-05-2020\", \"14-05-2020\", \"15-05-2020\", \"16-05-2020\", \"17-05-2020\", \"18-05-2020\", \"19-05-2020\"], \"y\": [1.0, 1.0, 2.0, 6.0, 7.0, 8.0, 10.0, 11.0, 12.0, 12.0, 16.0, 19.0, 22.0, 23.0, 26.0, 35.0, 60.0, 80.0, 91.0, 134.0, 134.0, 156.0, 167.0, 171.0, 179.0, 186.0, 206.0, 215.0, 232.0, 246.0, 257.0, 257.0, 354.0, 387.0, 412.0, 418.0, 443.0, 465.0, 489.0, 519.0, 539.0, 591.0, 604.0, 617.0, 639.0, 671.0, 758.0, 807.0, 841.0, 841.0, 863.0, 902.0, 919.0, 956.0, 980.0, 1006.0, 1051.0, 1076.0, 1106.0, 1142.0, 1149.0, 1204.0, 1253.0, 1308.0, 1353.0, 1372.0, 1394.0, 1413.0, 1444.0, 1482.0, 1498.0, 1543.0, 1567.0, 1616.0]}, {\"name\": \"NW\", \"type\": \"scatter\", \"x\": [\"05-03-2020\", \"07-03-2020\", \"08-03-2020\", \"09-03-2020\", \"11-03-2020\", \"12-03-2020\", \"13-03-2020\", \"14-03-2020\", \"15-03-2020\", \"16-03-2020\", \"17-03-2020\", \"18-03-2020\", \"19-03-2020\", \"20-03-2020\", \"21-03-2020\", \"22-03-2020\", \"23-03-2020\", \"24-03-2020\", \"25-03-2020\", \"26-03-2020\", \"27-03-2020\", \"28-03-2020\", \"29-03-2020\", \"30-03-2020\", \"31-03-2020\", \"01-04-2020\", \"02-04-2020\", \"03-04-2020\", \"04-04-2020\", \"05-04-2020\", \"06-04-2020\", \"07-04-2020\", \"08-04-2020\", \"09-04-2020\", \"10-04-2020\", \"11-04-2020\", \"12-04-2020\", \"13-04-2020\", \"14-04-2020\", \"15-04-2020\", \"16-04-2020\", \"17-04-2020\", \"18-04-2020\", \"19-04-2020\", \"20-04-2020\", \"21-04-2020\", \"22-04-2020\", \"23-04-2020\", \"24-04-2020\", \"25-04-2020\", \"26-04-2020\", \"27-04-2020\", \"28-04-2020\", \"29-04-2020\", \"30-04-2020\", \"01-05-2020\", \"02-05-2020\", \"03-05-2020\", \"04-05-2020\", \"05-05-2020\", \"06-05-2020\", \"07-05-2020\", \"08-05-2020\", \"09-05-2020\", \"10-05-2020\", \"11-05-2020\", \"12-05-2020\", \"13-05-2020\", \"14-05-2020\", \"15-05-2020\", \"16-05-2020\", \"17-05-2020\", \"18-05-2020\", \"19-05-2020\"], \"y\": [0.0, 0.0, 0.0, 0.0, 0.0, 0.0, 0.0, 0.0, 0.0, 0.0, 0.0, 0.0, 0.0, 0.0, 0.0, 0.0, 4.0, 5.0, 5.0, 5.0, 5.0, 6.0, 6.0, 8.0, 8.0, 9.0, 9.0, 9.0, 11.0, 11.0, 11.0, 11.0, 15.0, 15.0, 18.0, 19.0, 19.0, 22.0, 22.0, 23.0, 24.0, 24.0, 24.0, 24.0, 25.0, 24.0, 24.0, 25.0, 25.0, 28.0, 28.0, 31.0, 29.0, 29.0, 31.0, 35.0, 35.0, 36.0, 35.0, 35.0, 37.0, 40.0, 42.0, 41.0, 45.0, 50.0, 51.0, 52.0, 58.0, 63.0, 64.0, 70.0, 72.0, 72.0]}, {\"name\": \"LP\", \"type\": \"scatter\", \"x\": [\"05-03-2020\", \"07-03-2020\", \"08-03-2020\", \"09-03-2020\", \"11-03-2020\", \"12-03-2020\", \"13-03-2020\", \"14-03-2020\", \"15-03-2020\", \"16-03-2020\", \"17-03-2020\", \"18-03-2020\", \"19-03-2020\", \"20-03-2020\", \"21-03-2020\", \"22-03-2020\", \"23-03-2020\", \"24-03-2020\", \"25-03-2020\", \"26-03-2020\", \"27-03-2020\", \"28-03-2020\", \"29-03-2020\", \"30-03-2020\", \"31-03-2020\", \"01-04-2020\", \"02-04-2020\", \"03-04-2020\", \"04-04-2020\", \"05-04-2020\", \"06-04-2020\", \"07-04-2020\", \"08-04-2020\", \"09-04-2020\", \"10-04-2020\", \"11-04-2020\", \"12-04-2020\", \"13-04-2020\", \"14-04-2020\", \"15-04-2020\", \"16-04-2020\", \"17-04-2020\", \"18-04-2020\", \"19-04-2020\", \"20-04-2020\", \"21-04-2020\", \"22-04-2020\", \"23-04-2020\", \"24-04-2020\", \"25-04-2020\", \"26-04-2020\", \"27-04-2020\", \"28-04-2020\", \"29-04-2020\", \"30-04-2020\", \"01-05-2020\", \"02-05-2020\", \"03-05-2020\", \"04-05-2020\", \"05-05-2020\", \"06-05-2020\", \"07-05-2020\", \"08-05-2020\", \"09-05-2020\", \"10-05-2020\", \"11-05-2020\", \"12-05-2020\", \"13-05-2020\", \"14-05-2020\", \"15-05-2020\", \"16-05-2020\", \"17-05-2020\", \"18-05-2020\", \"19-05-2020\"], \"y\": [0.0, 0.0, 0.0, 0.0, 0.0, 0.0, 0.0, 0.0, 0.0, 1.0, 1.0, 1.0, 1.0, 1.0, 1.0, 2.0, 4.0, 4.0, 4.0, 6.0, 6.0, 11.0, 12.0, 11.0, 14.0, 14.0, 16.0, 16.0, 18.0, 19.0, 19.0, 19.0, 21.0, 22.0, 24.0, 23.0, 23.0, 23.0, 24.0, 25.0, 26.0, 26.0, 26.0, 27.0, 27.0, 27.0, 27.0, 27.0, 29.0, 30.0, 31.0, 31.0, 31.0, 31.0, 32.0, 34.0, 36.0, 37.0, 39.0, 40.0, 40.0, 41.0, 43.0, 51.0, 54.0, 54.0, 54.0, 54.0, 55.0, 57.0, 59.0, 77.0, 88.0, 94.0]}, {\"name\": \"MP\", \"type\": \"scatter\", \"x\": [\"05-03-2020\", \"07-03-2020\", \"08-03-2020\", \"09-03-2020\", \"11-03-2020\", \"12-03-2020\", \"13-03-2020\", \"14-03-2020\", \"15-03-2020\", \"16-03-2020\", \"17-03-2020\", \"18-03-2020\", \"19-03-2020\", \"20-03-2020\", \"21-03-2020\", \"22-03-2020\", \"23-03-2020\", \"24-03-2020\", \"25-03-2020\", \"26-03-2020\", \"27-03-2020\", \"28-03-2020\", \"29-03-2020\", \"30-03-2020\", \"31-03-2020\", \"01-04-2020\", \"02-04-2020\", \"03-04-2020\", \"04-04-2020\", \"05-04-2020\", \"06-04-2020\", \"07-04-2020\", \"08-04-2020\", \"09-04-2020\", \"10-04-2020\", \"11-04-2020\", \"12-04-2020\", \"13-04-2020\", \"14-04-2020\", \"15-04-2020\", \"16-04-2020\", \"17-04-2020\", \"18-04-2020\", \"19-04-2020\", \"20-04-2020\", \"21-04-2020\", \"22-04-2020\", \"23-04-2020\", \"24-04-2020\", \"25-04-2020\", \"26-04-2020\", \"27-04-2020\", \"28-04-2020\", \"29-04-2020\", \"30-04-2020\", \"01-05-2020\", \"02-05-2020\", \"03-05-2020\", \"04-05-2020\", \"05-05-2020\", \"06-05-2020\", \"07-05-2020\", \"08-05-2020\", \"09-05-2020\", \"10-05-2020\", \"11-05-2020\", \"12-05-2020\", \"13-05-2020\", \"14-05-2020\", \"15-05-2020\", \"16-05-2020\", \"17-05-2020\", \"18-05-2020\", \"19-05-2020\"], \"y\": [0.0, 0.0, 0.0, 0.0, 0.0, 1.0, 1.0, 1.0, 1.0, 2.0, 2.0, 4.0, 5.0, 5.0, 5.0, 5.0, 9.0, 9.0, 8.0, 9.0, 9.0, 10.0, 11.0, 11.0, 12.0, 12.0, 13.0, 13.0, 18.0, 18.0, 18.0, 18.0, 21.0, 20.0, 20.0, 20.0, 21.0, 22.0, 22.0, 22.0, 22.0, 23.0, 25.0, 23.0, 23.0, 24.0, 23.0, 23.0, 24.0, 23.0, 23.0, 26.0, 26.0, 31.0, 36.0, 35.0, 40.0, 46.0, 53.0, 57.0, 57.0, 59.0, 60.0, 61.0, 61.0, 63.0, 63.0, 66.0, 67.0, 67.0, 68.0, 71.0, 76.0, 78.0]}, {\"name\": \"NC\", \"type\": \"scatter\", \"x\": [\"05-03-2020\", \"07-03-2020\", \"08-03-2020\", \"09-03-2020\", \"11-03-2020\", \"12-03-2020\", \"13-03-2020\", \"14-03-2020\", \"15-03-2020\", \"16-03-2020\", \"17-03-2020\", \"18-03-2020\", \"19-03-2020\", \"20-03-2020\", \"21-03-2020\", \"22-03-2020\", \"23-03-2020\", \"24-03-2020\", \"25-03-2020\", \"26-03-2020\", \"27-03-2020\", \"28-03-2020\", \"29-03-2020\", \"30-03-2020\", \"31-03-2020\", \"01-04-2020\", \"02-04-2020\", \"03-04-2020\", \"04-04-2020\", \"05-04-2020\", \"06-04-2020\", \"07-04-2020\", \"08-04-2020\", \"09-04-2020\", \"10-04-2020\", \"11-04-2020\", \"12-04-2020\", \"13-04-2020\", \"14-04-2020\", \"15-04-2020\", \"16-04-2020\", \"17-04-2020\", \"18-04-2020\", \"19-04-2020\", \"20-04-2020\", \"21-04-2020\", \"22-04-2020\", \"23-04-2020\", \"24-04-2020\", \"25-04-2020\", \"26-04-2020\", \"27-04-2020\", \"28-04-2020\", \"29-04-2020\", \"30-04-2020\", \"01-05-2020\", \"02-05-2020\", \"03-05-2020\", \"04-05-2020\", \"05-05-2020\", \"06-05-2020\", \"07-05-2020\", \"08-05-2020\", \"09-05-2020\", \"10-05-2020\", \"11-05-2020\", \"12-05-2020\", \"13-05-2020\", \"14-05-2020\", \"15-05-2020\", \"16-05-2020\", \"17-05-2020\", \"18-05-2020\", \"19-05-2020\"], \"y\": [0.0, 0.0, 0.0, 0.0, 0.0, 0.0, 0.0, 0.0, 0.0, 0.0, 0.0, 0.0, 0.0, 0.0, 0.0, 0.0, 2.0, 2.0, 2.0, 2.0, 2.0, 5.0, 6.0, 3.0, 6.0, 7.0, 7.0, 7.0, 7.0, 8.0, 8.0, 8.0, 13.0, 15.0, 15.0, 16.0, 16.0, 16.0, 16.0, 16.0, 16.0, 16.0, 16.0, 16.0, 18.0, 16.0, 16.0, 16.0, 16.0, 16.0, 17.0, 17.0, 17.0, 17.0, 17.0, 18.0, 23.0, 24.0, 25.0, 26.0, 26.0, 27.0, 27.0, 28.0, 29.0, 30.0, 30.0, 30.0, 31.0, 34.0, 35.0, 37.0, 37.0, 37.0]}, {\"name\": \"Unlocated\", \"type\": \"scatter\", \"x\": [\"05-03-2020\", \"07-03-2020\", \"08-03-2020\", \"09-03-2020\", \"11-03-2020\", \"12-03-2020\", \"13-03-2020\", \"14-03-2020\", \"15-03-2020\", \"16-03-2020\", \"17-03-2020\", \"18-03-2020\", \"19-03-2020\", \"20-03-2020\", \"21-03-2020\", \"22-03-2020\", \"23-03-2020\", \"24-03-2020\", \"25-03-2020\", \"26-03-2020\", \"27-03-2020\", \"28-03-2020\", \"29-03-2020\", \"30-03-2020\", \"31-03-2020\", \"01-04-2020\", \"02-04-2020\", \"03-04-2020\", \"04-04-2020\", \"05-04-2020\", \"06-04-2020\", \"07-04-2020\", \"08-04-2020\", \"09-04-2020\", \"10-04-2020\", \"11-04-2020\", \"12-04-2020\", \"13-04-2020\", \"14-04-2020\", \"15-04-2020\", \"16-04-2020\", \"17-04-2020\", \"18-04-2020\", \"19-04-2020\", \"20-04-2020\", \"21-04-2020\", \"22-04-2020\", \"23-04-2020\", \"24-04-2020\", \"25-04-2020\", \"26-04-2020\", \"27-04-2020\", \"28-04-2020\", \"29-04-2020\", \"30-04-2020\", \"01-05-2020\", \"02-05-2020\", \"03-05-2020\", \"04-05-2020\", \"05-05-2020\", \"06-05-2020\", \"07-05-2020\", \"08-05-2020\", \"09-05-2020\", \"10-05-2020\", \"11-05-2020\", \"12-05-2020\", \"13-05-2020\", \"14-05-2020\", \"15-05-2020\", \"16-05-2020\", \"17-05-2020\", \"18-05-2020\", \"19-05-2020\"], \"y\": [0.0, 0.0, 0.0, 0.0, 0.0, 0.0, 0.0, 0.0, 0.0, 0.0, 0.0, 0.0, 0.0, 0.0, 0.0, 0.0, 1.0, 19.0, 65.0, 79.0, 79.0, 117.0, 100.0, 96.0, 90.0, 90.0, 94.0, 94.0, 63.0, 77.0, 77.0, 77.0, 11.0, 11.0, 10.0, 10.0, 15.0, 17.0, 18.0, 18.0, 16.0, 22.0, 32.0, 42.0, 43.0, 43.0, 1.0, 1.0, 0.0, 0.0, 0.0, 0.0, 0.0, 0.0, 0.0, 0.0, 0.0, 0.0, 0.0, 0.0, 0.0, 0.0, 0.0, 0.0, 0.0, 0.0, 0.0, 0.0, 0.0, 0.0, 0.0, 0.0, 0.0, 0.0]}],\n",
       "                        {\"hovermode\": \"x\", \"template\": {\"data\": {\"bar\": [{\"error_x\": {\"color\": \"#2a3f5f\"}, \"error_y\": {\"color\": \"#2a3f5f\"}, \"marker\": {\"line\": {\"color\": \"#E5ECF6\", \"width\": 0.5}}, \"type\": \"bar\"}], \"barpolar\": [{\"marker\": {\"line\": {\"color\": \"#E5ECF6\", \"width\": 0.5}}, \"type\": \"barpolar\"}], \"carpet\": [{\"aaxis\": {\"endlinecolor\": \"#2a3f5f\", \"gridcolor\": \"white\", \"linecolor\": \"white\", \"minorgridcolor\": \"white\", \"startlinecolor\": \"#2a3f5f\"}, \"baxis\": {\"endlinecolor\": \"#2a3f5f\", \"gridcolor\": \"white\", \"linecolor\": \"white\", \"minorgridcolor\": \"white\", \"startlinecolor\": \"#2a3f5f\"}, \"type\": \"carpet\"}], \"choropleth\": [{\"colorbar\": {\"outlinewidth\": 0, \"ticks\": \"\"}, \"type\": \"choropleth\"}], \"contour\": [{\"colorbar\": {\"outlinewidth\": 0, \"ticks\": \"\"}, \"colorscale\": [[0.0, \"#0d0887\"], [0.1111111111111111, \"#46039f\"], [0.2222222222222222, \"#7201a8\"], [0.3333333333333333, \"#9c179e\"], [0.4444444444444444, \"#bd3786\"], [0.5555555555555556, \"#d8576b\"], [0.6666666666666666, \"#ed7953\"], [0.7777777777777778, \"#fb9f3a\"], [0.8888888888888888, \"#fdca26\"], [1.0, \"#f0f921\"]], \"type\": \"contour\"}], \"contourcarpet\": [{\"colorbar\": {\"outlinewidth\": 0, \"ticks\": \"\"}, \"type\": \"contourcarpet\"}], \"heatmap\": [{\"colorbar\": {\"outlinewidth\": 0, \"ticks\": \"\"}, \"colorscale\": [[0.0, \"#0d0887\"], [0.1111111111111111, \"#46039f\"], [0.2222222222222222, \"#7201a8\"], [0.3333333333333333, \"#9c179e\"], [0.4444444444444444, \"#bd3786\"], [0.5555555555555556, \"#d8576b\"], [0.6666666666666666, \"#ed7953\"], [0.7777777777777778, \"#fb9f3a\"], [0.8888888888888888, \"#fdca26\"], [1.0, \"#f0f921\"]], \"type\": \"heatmap\"}], \"heatmapgl\": [{\"colorbar\": {\"outlinewidth\": 0, \"ticks\": \"\"}, \"colorscale\": [[0.0, \"#0d0887\"], [0.1111111111111111, \"#46039f\"], [0.2222222222222222, \"#7201a8\"], [0.3333333333333333, \"#9c179e\"], [0.4444444444444444, \"#bd3786\"], [0.5555555555555556, \"#d8576b\"], [0.6666666666666666, \"#ed7953\"], [0.7777777777777778, \"#fb9f3a\"], [0.8888888888888888, \"#fdca26\"], [1.0, \"#f0f921\"]], \"type\": \"heatmapgl\"}], \"histogram\": [{\"marker\": {\"colorbar\": {\"outlinewidth\": 0, \"ticks\": \"\"}}, \"type\": \"histogram\"}], \"histogram2d\": [{\"colorbar\": {\"outlinewidth\": 0, \"ticks\": \"\"}, \"colorscale\": [[0.0, \"#0d0887\"], [0.1111111111111111, \"#46039f\"], [0.2222222222222222, \"#7201a8\"], [0.3333333333333333, \"#9c179e\"], [0.4444444444444444, \"#bd3786\"], [0.5555555555555556, \"#d8576b\"], [0.6666666666666666, \"#ed7953\"], [0.7777777777777778, \"#fb9f3a\"], [0.8888888888888888, \"#fdca26\"], [1.0, \"#f0f921\"]], \"type\": \"histogram2d\"}], \"histogram2dcontour\": [{\"colorbar\": {\"outlinewidth\": 0, \"ticks\": \"\"}, \"colorscale\": [[0.0, \"#0d0887\"], [0.1111111111111111, \"#46039f\"], [0.2222222222222222, \"#7201a8\"], [0.3333333333333333, \"#9c179e\"], [0.4444444444444444, \"#bd3786\"], [0.5555555555555556, \"#d8576b\"], [0.6666666666666666, \"#ed7953\"], [0.7777777777777778, \"#fb9f3a\"], [0.8888888888888888, \"#fdca26\"], [1.0, \"#f0f921\"]], \"type\": \"histogram2dcontour\"}], \"mesh3d\": [{\"colorbar\": {\"outlinewidth\": 0, \"ticks\": \"\"}, \"type\": \"mesh3d\"}], \"parcoords\": [{\"line\": {\"colorbar\": {\"outlinewidth\": 0, \"ticks\": \"\"}}, \"type\": \"parcoords\"}], \"pie\": [{\"automargin\": true, \"type\": \"pie\"}], \"scatter\": [{\"marker\": {\"colorbar\": {\"outlinewidth\": 0, \"ticks\": \"\"}}, \"type\": \"scatter\"}], \"scatter3d\": [{\"line\": {\"colorbar\": {\"outlinewidth\": 0, \"ticks\": \"\"}}, \"marker\": {\"colorbar\": {\"outlinewidth\": 0, \"ticks\": \"\"}}, \"type\": \"scatter3d\"}], \"scattercarpet\": [{\"marker\": {\"colorbar\": {\"outlinewidth\": 0, \"ticks\": \"\"}}, \"type\": \"scattercarpet\"}], \"scattergeo\": [{\"marker\": {\"colorbar\": {\"outlinewidth\": 0, \"ticks\": \"\"}}, \"type\": \"scattergeo\"}], \"scattergl\": [{\"marker\": {\"colorbar\": {\"outlinewidth\": 0, \"ticks\": \"\"}}, \"type\": \"scattergl\"}], \"scattermapbox\": [{\"marker\": {\"colorbar\": {\"outlinewidth\": 0, \"ticks\": \"\"}}, \"type\": \"scattermapbox\"}], \"scatterpolar\": [{\"marker\": {\"colorbar\": {\"outlinewidth\": 0, \"ticks\": \"\"}}, \"type\": \"scatterpolar\"}], \"scatterpolargl\": [{\"marker\": {\"colorbar\": {\"outlinewidth\": 0, \"ticks\": \"\"}}, \"type\": \"scatterpolargl\"}], \"scatterternary\": [{\"marker\": {\"colorbar\": {\"outlinewidth\": 0, \"ticks\": \"\"}}, \"type\": \"scatterternary\"}], \"surface\": [{\"colorbar\": {\"outlinewidth\": 0, \"ticks\": \"\"}, \"colorscale\": [[0.0, \"#0d0887\"], [0.1111111111111111, \"#46039f\"], [0.2222222222222222, \"#7201a8\"], [0.3333333333333333, \"#9c179e\"], [0.4444444444444444, \"#bd3786\"], [0.5555555555555556, \"#d8576b\"], [0.6666666666666666, \"#ed7953\"], [0.7777777777777778, \"#fb9f3a\"], [0.8888888888888888, \"#fdca26\"], [1.0, \"#f0f921\"]], \"type\": \"surface\"}], \"table\": [{\"cells\": {\"fill\": {\"color\": \"#EBF0F8\"}, \"line\": {\"color\": \"white\"}}, \"header\": {\"fill\": {\"color\": \"#C8D4E3\"}, \"line\": {\"color\": \"white\"}}, \"type\": \"table\"}]}, \"layout\": {\"annotationdefaults\": {\"arrowcolor\": \"#2a3f5f\", \"arrowhead\": 0, \"arrowwidth\": 1}, \"coloraxis\": {\"colorbar\": {\"outlinewidth\": 0, \"ticks\": \"\"}}, \"colorscale\": {\"diverging\": [[0, \"#8e0152\"], [0.1, \"#c51b7d\"], [0.2, \"#de77ae\"], [0.3, \"#f1b6da\"], [0.4, \"#fde0ef\"], [0.5, \"#f7f7f7\"], [0.6, \"#e6f5d0\"], [0.7, \"#b8e186\"], [0.8, \"#7fbc41\"], [0.9, \"#4d9221\"], [1, \"#276419\"]], \"sequential\": [[0.0, \"#0d0887\"], [0.1111111111111111, \"#46039f\"], [0.2222222222222222, \"#7201a8\"], [0.3333333333333333, \"#9c179e\"], [0.4444444444444444, \"#bd3786\"], [0.5555555555555556, \"#d8576b\"], [0.6666666666666666, \"#ed7953\"], [0.7777777777777778, \"#fb9f3a\"], [0.8888888888888888, \"#fdca26\"], [1.0, \"#f0f921\"]], \"sequentialminus\": [[0.0, \"#0d0887\"], [0.1111111111111111, \"#46039f\"], [0.2222222222222222, \"#7201a8\"], [0.3333333333333333, \"#9c179e\"], [0.4444444444444444, \"#bd3786\"], [0.5555555555555556, \"#d8576b\"], [0.6666666666666666, \"#ed7953\"], [0.7777777777777778, \"#fb9f3a\"], [0.8888888888888888, \"#fdca26\"], [1.0, \"#f0f921\"]]}, \"colorway\": [\"#636efa\", \"#EF553B\", \"#00cc96\", \"#ab63fa\", \"#FFA15A\", \"#19d3f3\", \"#FF6692\", \"#B6E880\", \"#FF97FF\", \"#FECB52\"], \"font\": {\"color\": \"#2a3f5f\"}, \"geo\": {\"bgcolor\": \"white\", \"lakecolor\": \"white\", \"landcolor\": \"#E5ECF6\", \"showlakes\": true, \"showland\": true, \"subunitcolor\": \"white\"}, \"hoverlabel\": {\"align\": \"left\"}, \"hovermode\": \"closest\", \"mapbox\": {\"style\": \"light\"}, \"paper_bgcolor\": \"white\", \"plot_bgcolor\": \"#E5ECF6\", \"polar\": {\"angularaxis\": {\"gridcolor\": \"white\", \"linecolor\": \"white\", \"ticks\": \"\"}, \"bgcolor\": \"#E5ECF6\", \"radialaxis\": {\"gridcolor\": \"white\", \"linecolor\": \"white\", \"ticks\": \"\"}}, \"scene\": {\"xaxis\": {\"backgroundcolor\": \"#E5ECF6\", \"gridcolor\": \"white\", \"gridwidth\": 2, \"linecolor\": \"white\", \"showbackground\": true, \"ticks\": \"\", \"zerolinecolor\": \"white\"}, \"yaxis\": {\"backgroundcolor\": \"#E5ECF6\", \"gridcolor\": \"white\", \"gridwidth\": 2, \"linecolor\": \"white\", \"showbackground\": true, \"ticks\": \"\", \"zerolinecolor\": \"white\"}, \"zaxis\": {\"backgroundcolor\": \"#E5ECF6\", \"gridcolor\": \"white\", \"gridwidth\": 2, \"linecolor\": \"white\", \"showbackground\": true, \"ticks\": \"\", \"zerolinecolor\": \"white\"}}, \"shapedefaults\": {\"line\": {\"color\": \"#2a3f5f\"}}, \"ternary\": {\"aaxis\": {\"gridcolor\": \"white\", \"linecolor\": \"white\", \"ticks\": \"\"}, \"baxis\": {\"gridcolor\": \"white\", \"linecolor\": \"white\", \"ticks\": \"\"}, \"bgcolor\": \"#E5ECF6\", \"caxis\": {\"gridcolor\": \"white\", \"linecolor\": \"white\", \"ticks\": \"\"}}, \"title\": {\"x\": 0.05}, \"xaxis\": {\"automargin\": true, \"gridcolor\": \"white\", \"linecolor\": \"white\", \"ticks\": \"\", \"title\": {\"standoff\": 15}, \"zerolinecolor\": \"white\", \"zerolinewidth\": 2}, \"yaxis\": {\"automargin\": true, \"gridcolor\": \"white\", \"linecolor\": \"white\", \"ticks\": \"\", \"title\": {\"standoff\": 15}, \"zerolinecolor\": \"white\", \"zerolinewidth\": 2}}}, \"title\": {\"text\": \"Commulative confirmed cases by province\"}, \"xaxis\": {\"rangeslider\": {\"visible\": true}}},\n",
       "                        {\"responsive\": true}\n",
       "                    ).then(function(){\n",
       "                            \n",
       "var gd = document.getElementById('eccd0fcf-f601-48d8-9598-8080f62fa6e5');\n",
       "var x = new MutationObserver(function (mutations, observer) {{\n",
       "        var display = window.getComputedStyle(gd).display;\n",
       "        if (!display || display === 'none') {{\n",
       "            console.log([gd, 'removed!']);\n",
       "            Plotly.purge(gd);\n",
       "            observer.disconnect();\n",
       "        }}\n",
       "}});\n",
       "\n",
       "// Listen for the removal of the full notebook cells\n",
       "var notebookContainer = gd.closest('#notebook-container');\n",
       "if (notebookContainer) {{\n",
       "    x.observe(notebookContainer, {childList: true});\n",
       "}}\n",
       "\n",
       "// Listen for the clearing of the current output cell\n",
       "var outputEl = gd.closest('.output');\n",
       "if (outputEl) {{\n",
       "    x.observe(outputEl, {childList: true});\n",
       "}}\n",
       "\n",
       "                        })\n",
       "                };\n",
       "                });\n",
       "            </script>\n",
       "        </div>"
      ]
     },
     "metadata": {},
     "output_type": "display_data"
    }
   ],
   "source": [
    "#Drop unwanted columns\n",
    "# Provincial cases dataset\n",
    "df_day = df_day.drop(['source','Unnamed: 0','YYYYMMDD'],axis = 1)\n",
    "#append dates with missing data with previous day data(bc commulative)\n",
    "df_day = df_day.fillna(method='ffill')\n",
    "\n",
    "# df_death = df_death.drop(['source','Unnamed: 0','YYYYMMDD'],axis = 1)\n",
    "#append dates with missing data with previous day data(bc commulative)\n",
    "df_death = df_death.fillna(method='ffill')\n",
    "\n",
    "#Commulative cases by province\n",
    "\n",
    "\n",
    "fig_comm = go.Figure()\n",
    "fig_comm.add_trace(\n",
    "    go.Scatter(\n",
    "        y=df_day['EC'],\n",
    "        x=df_day.date,\n",
    "        name= 'EC'\n",
    "    ))\n",
    "fig_comm.add_trace(\n",
    "    go.Scatter(\n",
    "        y=df_day['WC'],\n",
    "        x=df_day.date,\n",
    "        name= 'WC'\n",
    "    ))\n",
    "fig_comm.add_trace(\n",
    "    go.Scatter(\n",
    "        y=df_day['FS'],\n",
    "        x=df_day.date,\n",
    "        name= 'FS'\n",
    "    ))\n",
    "fig_comm.add_trace(\n",
    "    go.Scatter(\n",
    "        y=df_day['GP'],\n",
    "        x=df_day.date,\n",
    "        name= 'GP'\n",
    "    ))\n",
    "fig_comm.add_trace(\n",
    "    go.Scatter(\n",
    "        y=df_day['KZN'],\n",
    "        x=df_day.date,\n",
    "        name= \"KZN\"\n",
    "    ))\n",
    "fig_comm.add_trace(\n",
    "    go.Scatter(\n",
    "        y=df_day['NW'],\n",
    "        x=df_day.date,\n",
    "        name= 'NW'\n",
    "    ))\n",
    "fig_comm.add_trace(\n",
    "    go.Scatter(\n",
    "        y=df_day['LP'],\n",
    "        x=df_day.date,\n",
    "        name= 'LP'\n",
    "    ))\n",
    "fig_comm.add_trace(\n",
    "    go.Scatter(\n",
    "        y=df_day['MP'],\n",
    "        x=df_day.date,\n",
    "        name= 'MP'\n",
    "    ))\n",
    "fig_comm.add_trace(\n",
    "    go.Scatter(\n",
    "        y=df_day['NC'],\n",
    "        x=df_day.date,\n",
    "        name= 'NC'\n",
    "    ))\n",
    "fig_comm.add_trace(\n",
    "    go.Scatter(\n",
    "        y=df_day['UNKNOWN'],\n",
    "        x=df_day.date,\n",
    "        name='Unlocated'\n",
    "    ))\n",
    "# fig_comm.add_trace(\n",
    "#     go.Scatter(\n",
    "#         y=df_day['total'],\n",
    "#         x=df_day.date,\n",
    "#         name='Total Confirmed in SA'\n",
    "#     ))\n",
    "\n",
    "fig_comm.update_layout(hovermode='x',\n",
    "                       title = 'Commulative confirmed cases by province',\n",
    "                       xaxis=dict(\n",
    "                         rangeslider=dict(\n",
    "                             visible = True),\n",
    "                           \n",
    "       \n",
    "                       \n",
    "    ))\n",
    "\n",
    "\n",
    "\n"
   ]
  },
  {
   "cell_type": "code",
   "execution_count": 15,
   "metadata": {},
   "outputs": [
    {
     "data": {
      "application/vnd.plotly.v1+json": {
       "config": {
        "plotlyServerURL": "https://plot.ly"
       },
       "data": [
        {
         "autocolorscale": true,
         "colorbar": {
          "title": {
           "text": "Case Fatality Rate (%)"
          }
         },
         "locationmode": "country names",
         "locations": [
          "Afghanistan",
          "Albania",
          "Algeria",
          "Andorra",
          "Angola",
          "Antigua and Barbuda",
          "Argentina",
          "Armenia",
          "Australia",
          "Austria",
          "Azerbaijan",
          "Bahamas",
          "Bahrain",
          "Bangladesh",
          "Barbados",
          "Belarus",
          "Belgium",
          "Belize",
          "Benin",
          "Bhutan",
          "Bolivia",
          "Bosnia and Herzegovina",
          "Botswana",
          "Brazil",
          "Brunei Darussalam",
          "Bulgaria",
          "Burkina Faso",
          "Burundi",
          "Cambodia",
          "Cameroon",
          "Canada",
          "Cape Verde",
          "Central African Republic",
          "Chad",
          "Chile",
          "China",
          "Colombia",
          "Comoros",
          "Congo (Brazzaville)",
          "Congo (Kinshasa)",
          "Costa Rica",
          "Croatia",
          "Cuba",
          "Cyprus",
          "Czech Republic",
          "Côte d'Ivoire",
          "Denmark",
          "Djibouti",
          "Dominica",
          "Dominican Republic",
          "Ecuador",
          "Egypt",
          "El Salvador",
          "Equatorial Guinea",
          "Eritrea",
          "Estonia",
          "Ethiopia",
          "Fiji",
          "Finland",
          "France",
          "Gabon",
          "Gambia",
          "Georgia",
          "Germany",
          "Ghana",
          "Greece",
          "Grenada",
          "Guatemala",
          "Guinea",
          "Guinea-Bissau",
          "Guyana",
          "Haiti",
          "Holy See (Vatican City State)",
          "Honduras",
          "Hungary",
          "Iceland",
          "India",
          "Indonesia",
          "Iran, Islamic Republic of",
          "Iraq",
          "Ireland",
          "Israel",
          "Italy",
          "Jamaica",
          "Japan",
          "Jordan",
          "Kazakhstan",
          "Kenya",
          "Korea (South)",
          "Kuwait",
          "Kyrgyzstan",
          "Lao PDR",
          "Latvia",
          "Lebanon",
          "Lesotho",
          "Liberia",
          "Libya",
          "Liechtenstein",
          "Lithuania",
          "Luxembourg",
          "Macedonia, Republic of",
          "Madagascar",
          "Malawi",
          "Malaysia",
          "Maldives",
          "Mali",
          "Malta",
          "Mauritania",
          "Mauritius",
          "Mexico",
          "Moldova",
          "Monaco",
          "Mongolia",
          "Montenegro",
          "Morocco",
          "Mozambique",
          "Myanmar",
          "Namibia",
          "Nepal",
          "Netherlands",
          "New Zealand",
          "Nicaragua",
          "Niger",
          "Nigeria",
          "Norway",
          "Oman",
          "Pakistan",
          "Palestinian Territory",
          "Panama",
          "Papua New Guinea",
          "Paraguay",
          "Peru",
          "Philippines",
          "Poland",
          "Portugal",
          "Qatar",
          "Republic of Kosovo",
          "Romania",
          "Russian Federation",
          "Rwanda",
          "Saint Kitts and Nevis",
          "Saint Lucia",
          "Saint Vincent and Grenadines",
          "San Marino",
          "Sao Tome and Principe",
          "Saudi Arabia",
          "Senegal",
          "Serbia",
          "Seychelles",
          "Sierra Leone",
          "Singapore",
          "Slovakia",
          "Slovenia",
          "Somalia",
          "South Africa",
          "South Sudan",
          "Spain",
          "Sri Lanka",
          "Sudan",
          "Suriname",
          "Swaziland",
          "Sweden",
          "Switzerland",
          "Syrian Arab Republic (Syria)",
          "Taiwan, Republic of China",
          "Tajikistan",
          "Tanzania, United Republic of",
          "Thailand",
          "Timor-Leste",
          "Togo",
          "Trinidad and Tobago",
          "Tunisia",
          "Turkey",
          "Uganda",
          "Ukraine",
          "United Arab Emirates",
          "United Kingdom",
          "United States of America",
          "Uruguay",
          "Uzbekistan",
          "Venezuela (Bolivarian Republic)",
          "Viet Nam",
          "Western Sahara",
          "Yemen",
          "Zambia",
          "Zimbabwe"
         ],
         "marker": {
          "line": {
           "color": "rgb(555,555,555)",
           "width": 10
          }
         },
         "type": "choropleth",
         "z": [
          2.325885273748857,
          3.2665964172813484,
          7.604717364782432,
          6.701708278580814,
          5.769230769230769,
          12,
          4.461346350323533,
          1.2695893671890497,
          1.414027149321267,
          3.872311745603824,
          1.1654349061967026,
          11.458333333333332,
          0.15932023366967604,
          1.472871302893993,
          7.777777777777778,
          0.5554144979052938,
          16.325213744152283,
          11.11111111111111,
          0.5899705014749262,
          0,
          4.217808524882838,
          5.773373545885394,
          4,
          6.614193500928701,
          0.7092198581560284,
          4.957945993802568,
          6.407035175879397,
          2.380952380952381,
          0,
          3.9671294984414853,
          7.487700641057496,
          0.8955223880597015,
          0,
          10.275229357798166,
          1.0266443453881684,
          5.517290603475964,
          3.6197224682609983,
          9.090909090909092,
          3.571428571428571,
          3.7446286065070598,
          1.1337868480725624,
          4.301075268817205,
          4.186539480657127,
          1.8518518518518516,
          3.4925407655834393,
          1.3005109150023224,
          4.901263120441202,
          0.4326328800988875,
          0,
          3.335097935415564,
          8.31308014406606,
          4.887273805992287,
          2.0026702269692924,
          0.8484848484848486,
          0,
          3.573422668900056,
          1.36986301369863,
          0,
          4.7038599781215815,
          15.609092868630931,
          0.7989347536617843,
          4.166666666666666,
          1.6973125884016973,
          4.545556818053977,
          0.5085301837270341,
          5.809859154929577,
          0,
          2.0159399906235347,
          0.6287111421585749,
          0.5780346820809248,
          8,
          3.9399624765478425,
          0,
          4.974619289340102,
          13.13273340832396,
          0.5549389567147613,
          3.1011974641934725,
          6.601427335640138,
          5.713345585579802,
          3.62780393242869,
          6.436847965032371,
          1.6687676331112313,
          14.190181694670025,
          1.7307692307692308,
          4.692368790859656,
          1.386748844375963,
          0.5184417123389127,
          5.192107995846314,
          2.367236723672367,
          0.7217847769028871,
          1.1263073209975865,
          0,
          2.075098814229249,
          2.7253668763102725,
          0,
          9.871244635193133,
          4.411764705882353,
          1.2195121951219512,
          3.841229193341869,
          2.7539161192521475,
          5.76400217509516,
          0.6134969325153374,
          4.285714285714286,
          1.633705932932072,
          0.3499562554680665,
          5.88235294117647,
          1.054481546572935,
          3.0534351145038165,
          3.0120481927710845,
          10.4257903065543,
          3.4858044164037856,
          4.123711340206185,
          0,
          2.7777777777777777,
          2.748113341876691,
          0,
          3.1088082901554404,
          0,
          0.4975124378109453,
          12.900177731782492,
          1.3972055888223553,
          6.692913385826772,
          6.017505470459518,
          2.9995313232307454,
          2.8184347405346557,
          0.47610650678892613,
          2.135741254605832,
          0.5115089514066496,
          2.847876760920239,
          0,
          1.3268998793727382,
          2.9291436727883156,
          6.4673157162726005,
          4.920074735312435,
          4.236885023104104,
          0.04212773128124474,
          2.932254802831143,
          6.61392589145483,
          0.9458526843612578,
          0,
          0,
          0,
          0,
          6.259541984732825,
          3.187250996015936,
          0.5496708657733819,
          1.146350783339702,
          2.180191931426442,
          0,
          6.179775280898876,
          0.07640480655692158,
          1.8729096989966554,
          7.0892978868439,
          3.9280958721704398,
          1.813953488372093,
          1.3793103448275863,
          11.971366635493478,
          0.8763388510223954,
          4.06891495601173,
          9.090909090909092,
          0.9615384615384616,
          12.152991980259099,
          6.176105558821608,
          5.172413793103448,
          1.5909090909090908,
          2.1177685950413223,
          4.12573673870334,
          1.8463567424991758,
          0,
          3.5502958579881656,
          6.896551724137931,
          4.501915708812261,
          2.7695148896876955,
          0,
          2.903157448611994,
          0.9057175916689941,
          14.160983137308206,
          6.013536852792941,
          2.710027100271003,
          0.4553415061295972,
          1.335113484646195,
          0,
          0,
          16.766467065868262,
          0.9067357512953367,
          8.695652173913043
         ]
        }
       ],
       "layout": {
        "autosize": true,
        "margin": {
         "b": 0,
         "l": 0,
         "r": 0,
         "t": 0
        },
        "template": {
         "data": {
          "bar": [
           {
            "error_x": {
             "color": "#2a3f5f"
            },
            "error_y": {
             "color": "#2a3f5f"
            },
            "marker": {
             "line": {
              "color": "#E5ECF6",
              "width": 0.5
             }
            },
            "type": "bar"
           }
          ],
          "barpolar": [
           {
            "marker": {
             "line": {
              "color": "#E5ECF6",
              "width": 0.5
             }
            },
            "type": "barpolar"
           }
          ],
          "carpet": [
           {
            "aaxis": {
             "endlinecolor": "#2a3f5f",
             "gridcolor": "white",
             "linecolor": "white",
             "minorgridcolor": "white",
             "startlinecolor": "#2a3f5f"
            },
            "baxis": {
             "endlinecolor": "#2a3f5f",
             "gridcolor": "white",
             "linecolor": "white",
             "minorgridcolor": "white",
             "startlinecolor": "#2a3f5f"
            },
            "type": "carpet"
           }
          ],
          "choropleth": [
           {
            "colorbar": {
             "outlinewidth": 0,
             "ticks": ""
            },
            "type": "choropleth"
           }
          ],
          "contour": [
           {
            "colorbar": {
             "outlinewidth": 0,
             "ticks": ""
            },
            "colorscale": [
             [
              0,
              "#0d0887"
             ],
             [
              0.1111111111111111,
              "#46039f"
             ],
             [
              0.2222222222222222,
              "#7201a8"
             ],
             [
              0.3333333333333333,
              "#9c179e"
             ],
             [
              0.4444444444444444,
              "#bd3786"
             ],
             [
              0.5555555555555556,
              "#d8576b"
             ],
             [
              0.6666666666666666,
              "#ed7953"
             ],
             [
              0.7777777777777778,
              "#fb9f3a"
             ],
             [
              0.8888888888888888,
              "#fdca26"
             ],
             [
              1,
              "#f0f921"
             ]
            ],
            "type": "contour"
           }
          ],
          "contourcarpet": [
           {
            "colorbar": {
             "outlinewidth": 0,
             "ticks": ""
            },
            "type": "contourcarpet"
           }
          ],
          "heatmap": [
           {
            "colorbar": {
             "outlinewidth": 0,
             "ticks": ""
            },
            "colorscale": [
             [
              0,
              "#0d0887"
             ],
             [
              0.1111111111111111,
              "#46039f"
             ],
             [
              0.2222222222222222,
              "#7201a8"
             ],
             [
              0.3333333333333333,
              "#9c179e"
             ],
             [
              0.4444444444444444,
              "#bd3786"
             ],
             [
              0.5555555555555556,
              "#d8576b"
             ],
             [
              0.6666666666666666,
              "#ed7953"
             ],
             [
              0.7777777777777778,
              "#fb9f3a"
             ],
             [
              0.8888888888888888,
              "#fdca26"
             ],
             [
              1,
              "#f0f921"
             ]
            ],
            "type": "heatmap"
           }
          ],
          "heatmapgl": [
           {
            "colorbar": {
             "outlinewidth": 0,
             "ticks": ""
            },
            "colorscale": [
             [
              0,
              "#0d0887"
             ],
             [
              0.1111111111111111,
              "#46039f"
             ],
             [
              0.2222222222222222,
              "#7201a8"
             ],
             [
              0.3333333333333333,
              "#9c179e"
             ],
             [
              0.4444444444444444,
              "#bd3786"
             ],
             [
              0.5555555555555556,
              "#d8576b"
             ],
             [
              0.6666666666666666,
              "#ed7953"
             ],
             [
              0.7777777777777778,
              "#fb9f3a"
             ],
             [
              0.8888888888888888,
              "#fdca26"
             ],
             [
              1,
              "#f0f921"
             ]
            ],
            "type": "heatmapgl"
           }
          ],
          "histogram": [
           {
            "marker": {
             "colorbar": {
              "outlinewidth": 0,
              "ticks": ""
             }
            },
            "type": "histogram"
           }
          ],
          "histogram2d": [
           {
            "colorbar": {
             "outlinewidth": 0,
             "ticks": ""
            },
            "colorscale": [
             [
              0,
              "#0d0887"
             ],
             [
              0.1111111111111111,
              "#46039f"
             ],
             [
              0.2222222222222222,
              "#7201a8"
             ],
             [
              0.3333333333333333,
              "#9c179e"
             ],
             [
              0.4444444444444444,
              "#bd3786"
             ],
             [
              0.5555555555555556,
              "#d8576b"
             ],
             [
              0.6666666666666666,
              "#ed7953"
             ],
             [
              0.7777777777777778,
              "#fb9f3a"
             ],
             [
              0.8888888888888888,
              "#fdca26"
             ],
             [
              1,
              "#f0f921"
             ]
            ],
            "type": "histogram2d"
           }
          ],
          "histogram2dcontour": [
           {
            "colorbar": {
             "outlinewidth": 0,
             "ticks": ""
            },
            "colorscale": [
             [
              0,
              "#0d0887"
             ],
             [
              0.1111111111111111,
              "#46039f"
             ],
             [
              0.2222222222222222,
              "#7201a8"
             ],
             [
              0.3333333333333333,
              "#9c179e"
             ],
             [
              0.4444444444444444,
              "#bd3786"
             ],
             [
              0.5555555555555556,
              "#d8576b"
             ],
             [
              0.6666666666666666,
              "#ed7953"
             ],
             [
              0.7777777777777778,
              "#fb9f3a"
             ],
             [
              0.8888888888888888,
              "#fdca26"
             ],
             [
              1,
              "#f0f921"
             ]
            ],
            "type": "histogram2dcontour"
           }
          ],
          "mesh3d": [
           {
            "colorbar": {
             "outlinewidth": 0,
             "ticks": ""
            },
            "type": "mesh3d"
           }
          ],
          "parcoords": [
           {
            "line": {
             "colorbar": {
              "outlinewidth": 0,
              "ticks": ""
             }
            },
            "type": "parcoords"
           }
          ],
          "pie": [
           {
            "automargin": true,
            "type": "pie"
           }
          ],
          "scatter": [
           {
            "marker": {
             "colorbar": {
              "outlinewidth": 0,
              "ticks": ""
             }
            },
            "type": "scatter"
           }
          ],
          "scatter3d": [
           {
            "line": {
             "colorbar": {
              "outlinewidth": 0,
              "ticks": ""
             }
            },
            "marker": {
             "colorbar": {
              "outlinewidth": 0,
              "ticks": ""
             }
            },
            "type": "scatter3d"
           }
          ],
          "scattercarpet": [
           {
            "marker": {
             "colorbar": {
              "outlinewidth": 0,
              "ticks": ""
             }
            },
            "type": "scattercarpet"
           }
          ],
          "scattergeo": [
           {
            "marker": {
             "colorbar": {
              "outlinewidth": 0,
              "ticks": ""
             }
            },
            "type": "scattergeo"
           }
          ],
          "scattergl": [
           {
            "marker": {
             "colorbar": {
              "outlinewidth": 0,
              "ticks": ""
             }
            },
            "type": "scattergl"
           }
          ],
          "scattermapbox": [
           {
            "marker": {
             "colorbar": {
              "outlinewidth": 0,
              "ticks": ""
             }
            },
            "type": "scattermapbox"
           }
          ],
          "scatterpolar": [
           {
            "marker": {
             "colorbar": {
              "outlinewidth": 0,
              "ticks": ""
             }
            },
            "type": "scatterpolar"
           }
          ],
          "scatterpolargl": [
           {
            "marker": {
             "colorbar": {
              "outlinewidth": 0,
              "ticks": ""
             }
            },
            "type": "scatterpolargl"
           }
          ],
          "scatterternary": [
           {
            "marker": {
             "colorbar": {
              "outlinewidth": 0,
              "ticks": ""
             }
            },
            "type": "scatterternary"
           }
          ],
          "surface": [
           {
            "colorbar": {
             "outlinewidth": 0,
             "ticks": ""
            },
            "colorscale": [
             [
              0,
              "#0d0887"
             ],
             [
              0.1111111111111111,
              "#46039f"
             ],
             [
              0.2222222222222222,
              "#7201a8"
             ],
             [
              0.3333333333333333,
              "#9c179e"
             ],
             [
              0.4444444444444444,
              "#bd3786"
             ],
             [
              0.5555555555555556,
              "#d8576b"
             ],
             [
              0.6666666666666666,
              "#ed7953"
             ],
             [
              0.7777777777777778,
              "#fb9f3a"
             ],
             [
              0.8888888888888888,
              "#fdca26"
             ],
             [
              1,
              "#f0f921"
             ]
            ],
            "type": "surface"
           }
          ],
          "table": [
           {
            "cells": {
             "fill": {
              "color": "#EBF0F8"
             },
             "line": {
              "color": "white"
             }
            },
            "header": {
             "fill": {
              "color": "#C8D4E3"
             },
             "line": {
              "color": "white"
             }
            },
            "type": "table"
           }
          ]
         },
         "layout": {
          "annotationdefaults": {
           "arrowcolor": "#2a3f5f",
           "arrowhead": 0,
           "arrowwidth": 1
          },
          "coloraxis": {
           "colorbar": {
            "outlinewidth": 0,
            "ticks": ""
           }
          },
          "colorscale": {
           "diverging": [
            [
             0,
             "#8e0152"
            ],
            [
             0.1,
             "#c51b7d"
            ],
            [
             0.2,
             "#de77ae"
            ],
            [
             0.3,
             "#f1b6da"
            ],
            [
             0.4,
             "#fde0ef"
            ],
            [
             0.5,
             "#f7f7f7"
            ],
            [
             0.6,
             "#e6f5d0"
            ],
            [
             0.7,
             "#b8e186"
            ],
            [
             0.8,
             "#7fbc41"
            ],
            [
             0.9,
             "#4d9221"
            ],
            [
             1,
             "#276419"
            ]
           ],
           "sequential": [
            [
             0,
             "#0d0887"
            ],
            [
             0.1111111111111111,
             "#46039f"
            ],
            [
             0.2222222222222222,
             "#7201a8"
            ],
            [
             0.3333333333333333,
             "#9c179e"
            ],
            [
             0.4444444444444444,
             "#bd3786"
            ],
            [
             0.5555555555555556,
             "#d8576b"
            ],
            [
             0.6666666666666666,
             "#ed7953"
            ],
            [
             0.7777777777777778,
             "#fb9f3a"
            ],
            [
             0.8888888888888888,
             "#fdca26"
            ],
            [
             1,
             "#f0f921"
            ]
           ],
           "sequentialminus": [
            [
             0,
             "#0d0887"
            ],
            [
             0.1111111111111111,
             "#46039f"
            ],
            [
             0.2222222222222222,
             "#7201a8"
            ],
            [
             0.3333333333333333,
             "#9c179e"
            ],
            [
             0.4444444444444444,
             "#bd3786"
            ],
            [
             0.5555555555555556,
             "#d8576b"
            ],
            [
             0.6666666666666666,
             "#ed7953"
            ],
            [
             0.7777777777777778,
             "#fb9f3a"
            ],
            [
             0.8888888888888888,
             "#fdca26"
            ],
            [
             1,
             "#f0f921"
            ]
           ]
          },
          "colorway": [
           "#636efa",
           "#EF553B",
           "#00cc96",
           "#ab63fa",
           "#FFA15A",
           "#19d3f3",
           "#FF6692",
           "#B6E880",
           "#FF97FF",
           "#FECB52"
          ],
          "font": {
           "color": "#2a3f5f"
          },
          "geo": {
           "bgcolor": "white",
           "lakecolor": "white",
           "landcolor": "#E5ECF6",
           "showlakes": true,
           "showland": true,
           "subunitcolor": "white"
          },
          "hoverlabel": {
           "align": "left"
          },
          "hovermode": "closest",
          "mapbox": {
           "style": "light"
          },
          "paper_bgcolor": "white",
          "plot_bgcolor": "#E5ECF6",
          "polar": {
           "angularaxis": {
            "gridcolor": "white",
            "linecolor": "white",
            "ticks": ""
           },
           "bgcolor": "#E5ECF6",
           "radialaxis": {
            "gridcolor": "white",
            "linecolor": "white",
            "ticks": ""
           }
          },
          "scene": {
           "xaxis": {
            "backgroundcolor": "#E5ECF6",
            "gridcolor": "white",
            "gridwidth": 2,
            "linecolor": "white",
            "showbackground": true,
            "ticks": "",
            "zerolinecolor": "white"
           },
           "yaxis": {
            "backgroundcolor": "#E5ECF6",
            "gridcolor": "white",
            "gridwidth": 2,
            "linecolor": "white",
            "showbackground": true,
            "ticks": "",
            "zerolinecolor": "white"
           },
           "zaxis": {
            "backgroundcolor": "#E5ECF6",
            "gridcolor": "white",
            "gridwidth": 2,
            "linecolor": "white",
            "showbackground": true,
            "ticks": "",
            "zerolinecolor": "white"
           }
          },
          "shapedefaults": {
           "line": {
            "color": "#2a3f5f"
           }
          },
          "ternary": {
           "aaxis": {
            "gridcolor": "white",
            "linecolor": "white",
            "ticks": ""
           },
           "baxis": {
            "gridcolor": "white",
            "linecolor": "white",
            "ticks": ""
           },
           "bgcolor": "#E5ECF6",
           "caxis": {
            "gridcolor": "white",
            "linecolor": "white",
            "ticks": ""
           }
          },
          "title": {
           "x": 0.05
          },
          "xaxis": {
           "automargin": true,
           "gridcolor": "white",
           "linecolor": "white",
           "ticks": "",
           "title": {
            "standoff": 15
           },
           "zerolinecolor": "white",
           "zerolinewidth": 2
          },
          "yaxis": {
           "automargin": true,
           "gridcolor": "white",
           "linecolor": "white",
           "ticks": "",
           "title": {
            "standoff": 15
           },
           "zerolinecolor": "white",
           "zerolinewidth": 2
          }
         }
        }
       }
      },
      "text/html": [
       "<div>\n",
       "        \n",
       "        \n",
       "            <div id=\"2c2b17b8-d7dc-4be2-b339-295295ac4b99\" class=\"plotly-graph-div\" style=\"height:525px; width:100%;\"></div>\n",
       "            <script type=\"text/javascript\">\n",
       "                require([\"plotly\"], function(Plotly) {\n",
       "                    window.PLOTLYENV=window.PLOTLYENV || {};\n",
       "                    \n",
       "                if (document.getElementById(\"2c2b17b8-d7dc-4be2-b339-295295ac4b99\")) {\n",
       "                    Plotly.newPlot(\n",
       "                        '2c2b17b8-d7dc-4be2-b339-295295ac4b99',\n",
       "                        [{\"autocolorscale\": true, \"colorbar\": {\"title\": {\"text\": \"Case Fatality Rate (%)\"}}, \"locationmode\": \"country names\", \"locations\": [\"Afghanistan\", \"Albania\", \"Algeria\", \"Andorra\", \"Angola\", \"Antigua and Barbuda\", \"Argentina\", \"Armenia\", \"Australia\", \"Austria\", \"Azerbaijan\", \"Bahamas\", \"Bahrain\", \"Bangladesh\", \"Barbados\", \"Belarus\", \"Belgium\", \"Belize\", \"Benin\", \"Bhutan\", \"Bolivia\", \"Bosnia and Herzegovina\", \"Botswana\", \"Brazil\", \"Brunei Darussalam\", \"Bulgaria\", \"Burkina Faso\", \"Burundi\", \"Cambodia\", \"Cameroon\", \"Canada\", \"Cape Verde\", \"Central African Republic\", \"Chad\", \"Chile\", \"China\", \"Colombia\", \"Comoros\", \"Congo (Brazzaville)\", \"Congo (Kinshasa)\", \"Costa Rica\", \"Croatia\", \"Cuba\", \"Cyprus\", \"Czech Republic\", \"C\\u00f4te d'Ivoire\", \"Denmark\", \"Djibouti\", \"Dominica\", \"Dominican Republic\", \"Ecuador\", \"Egypt\", \"El Salvador\", \"Equatorial Guinea\", \"Eritrea\", \"Estonia\", \"Ethiopia\", \"Fiji\", \"Finland\", \"France\", \"Gabon\", \"Gambia\", \"Georgia\", \"Germany\", \"Ghana\", \"Greece\", \"Grenada\", \"Guatemala\", \"Guinea\", \"Guinea-Bissau\", \"Guyana\", \"Haiti\", \"Holy See (Vatican City State)\", \"Honduras\", \"Hungary\", \"Iceland\", \"India\", \"Indonesia\", \"Iran, Islamic Republic of\", \"Iraq\", \"Ireland\", \"Israel\", \"Italy\", \"Jamaica\", \"Japan\", \"Jordan\", \"Kazakhstan\", \"Kenya\", \"Korea (South)\", \"Kuwait\", \"Kyrgyzstan\", \"Lao PDR\", \"Latvia\", \"Lebanon\", \"Lesotho\", \"Liberia\", \"Libya\", \"Liechtenstein\", \"Lithuania\", \"Luxembourg\", \"Macedonia, Republic of\", \"Madagascar\", \"Malawi\", \"Malaysia\", \"Maldives\", \"Mali\", \"Malta\", \"Mauritania\", \"Mauritius\", \"Mexico\", \"Moldova\", \"Monaco\", \"Mongolia\", \"Montenegro\", \"Morocco\", \"Mozambique\", \"Myanmar\", \"Namibia\", \"Nepal\", \"Netherlands\", \"New Zealand\", \"Nicaragua\", \"Niger\", \"Nigeria\", \"Norway\", \"Oman\", \"Pakistan\", \"Palestinian Territory\", \"Panama\", \"Papua New Guinea\", \"Paraguay\", \"Peru\", \"Philippines\", \"Poland\", \"Portugal\", \"Qatar\", \"Republic of Kosovo\", \"Romania\", \"Russian Federation\", \"Rwanda\", \"Saint Kitts and Nevis\", \"Saint Lucia\", \"Saint Vincent and Grenadines\", \"San Marino\", \"Sao Tome and Principe\", \"Saudi Arabia\", \"Senegal\", \"Serbia\", \"Seychelles\", \"Sierra Leone\", \"Singapore\", \"Slovakia\", \"Slovenia\", \"Somalia\", \"South Africa\", \"South Sudan\", \"Spain\", \"Sri Lanka\", \"Sudan\", \"Suriname\", \"Swaziland\", \"Sweden\", \"Switzerland\", \"Syrian Arab Republic (Syria)\", \"Taiwan, Republic of China\", \"Tajikistan\", \"Tanzania, United Republic of\", \"Thailand\", \"Timor-Leste\", \"Togo\", \"Trinidad and Tobago\", \"Tunisia\", \"Turkey\", \"Uganda\", \"Ukraine\", \"United Arab Emirates\", \"United Kingdom\", \"United States of America\", \"Uruguay\", \"Uzbekistan\", \"Venezuela (Bolivarian Republic)\", \"Viet Nam\", \"Western Sahara\", \"Yemen\", \"Zambia\", \"Zimbabwe\"], \"marker\": {\"line\": {\"color\": \"rgb(555,555,555)\", \"width\": 10}}, \"type\": \"choropleth\", \"z\": [2.325885273748857, 3.2665964172813484, 7.604717364782432, 6.701708278580814, 5.769230769230769, 12.0, 4.461346350323533, 1.2695893671890497, 1.414027149321267, 3.872311745603824, 1.1654349061967026, 11.458333333333332, 0.15932023366967604, 1.472871302893993, 7.777777777777778, 0.5554144979052938, 16.325213744152283, 11.11111111111111, 0.5899705014749262, 0.0, 4.217808524882838, 5.773373545885394, 4.0, 6.614193500928701, 0.7092198581560284, 4.957945993802568, 6.407035175879397, 2.380952380952381, 0.0, 3.9671294984414853, 7.487700641057496, 0.8955223880597015, 0.0, 10.275229357798166, 1.0266443453881684, 5.517290603475964, 3.6197224682609983, 9.090909090909092, 3.571428571428571, 3.7446286065070598, 1.1337868480725624, 4.301075268817205, 4.186539480657127, 1.8518518518518516, 3.4925407655834393, 1.3005109150023224, 4.901263120441202, 0.4326328800988875, 0.0, 3.335097935415564, 8.31308014406606, 4.887273805992287, 2.0026702269692924, 0.8484848484848486, 0.0, 3.573422668900056, 1.36986301369863, 0.0, 4.7038599781215815, 15.609092868630931, 0.7989347536617843, 4.166666666666666, 1.6973125884016973, 4.545556818053977, 0.5085301837270341, 5.809859154929577, 0.0, 2.0159399906235347, 0.6287111421585749, 0.5780346820809248, 8.0, 3.9399624765478425, 0.0, 4.974619289340102, 13.13273340832396, 0.5549389567147613, 3.1011974641934725, 6.601427335640138, 5.713345585579802, 3.62780393242869, 6.436847965032371, 1.6687676331112313, 14.190181694670025, 1.7307692307692308, 4.692368790859656, 1.386748844375963, 0.5184417123389127, 5.192107995846314, 2.367236723672367, 0.7217847769028871, 1.1263073209975865, 0.0, 2.075098814229249, 2.7253668763102725, 0.0, 9.871244635193133, 4.411764705882353, 1.2195121951219512, 3.841229193341869, 2.7539161192521475, 5.76400217509516, 0.6134969325153374, 4.285714285714286, 1.633705932932072, 0.3499562554680665, 5.88235294117647, 1.054481546572935, 3.0534351145038165, 3.0120481927710845, 10.4257903065543, 3.4858044164037856, 4.123711340206185, 0.0, 2.7777777777777777, 2.748113341876691, 0.0, 3.1088082901554404, 0.0, 0.4975124378109453, 12.900177731782492, 1.3972055888223553, 6.692913385826772, 6.017505470459518, 2.9995313232307454, 2.8184347405346557, 0.47610650678892613, 2.135741254605832, 0.5115089514066496, 2.847876760920239, 0.0, 1.3268998793727382, 2.9291436727883156, 6.4673157162726005, 4.920074735312435, 4.236885023104104, 0.04212773128124474, 2.932254802831143, 6.61392589145483, 0.9458526843612578, 0.0, 0.0, 0.0, 0.0, 6.259541984732825, 3.187250996015936, 0.5496708657733819, 1.146350783339702, 2.180191931426442, 0.0, 6.179775280898876, 0.07640480655692158, 1.8729096989966554, 7.0892978868439, 3.9280958721704398, 1.813953488372093, 1.3793103448275863, 11.971366635493478, 0.8763388510223954, 4.06891495601173, 9.090909090909092, 0.9615384615384616, 12.152991980259099, 6.176105558821608, 5.172413793103448, 1.5909090909090908, 2.1177685950413223, 4.12573673870334, 1.8463567424991758, 0.0, 3.5502958579881656, 6.896551724137931, 4.501915708812261, 2.7695148896876955, 0.0, 2.903157448611994, 0.9057175916689941, 14.160983137308206, 6.013536852792941, 2.710027100271003, 0.4553415061295972, 1.335113484646195, 0.0, 0.0, 16.766467065868262, 0.9067357512953367, 8.695652173913043]}],\n",
       "                        {\"autosize\": true, \"margin\": {\"b\": 0, \"l\": 0, \"r\": 0, \"t\": 0}, \"template\": {\"data\": {\"bar\": [{\"error_x\": {\"color\": \"#2a3f5f\"}, \"error_y\": {\"color\": \"#2a3f5f\"}, \"marker\": {\"line\": {\"color\": \"#E5ECF6\", \"width\": 0.5}}, \"type\": \"bar\"}], \"barpolar\": [{\"marker\": {\"line\": {\"color\": \"#E5ECF6\", \"width\": 0.5}}, \"type\": \"barpolar\"}], \"carpet\": [{\"aaxis\": {\"endlinecolor\": \"#2a3f5f\", \"gridcolor\": \"white\", \"linecolor\": \"white\", \"minorgridcolor\": \"white\", \"startlinecolor\": \"#2a3f5f\"}, \"baxis\": {\"endlinecolor\": \"#2a3f5f\", \"gridcolor\": \"white\", \"linecolor\": \"white\", \"minorgridcolor\": \"white\", \"startlinecolor\": \"#2a3f5f\"}, \"type\": \"carpet\"}], \"choropleth\": [{\"colorbar\": {\"outlinewidth\": 0, \"ticks\": \"\"}, \"type\": \"choropleth\"}], \"contour\": [{\"colorbar\": {\"outlinewidth\": 0, \"ticks\": \"\"}, \"colorscale\": [[0.0, \"#0d0887\"], [0.1111111111111111, \"#46039f\"], [0.2222222222222222, \"#7201a8\"], [0.3333333333333333, \"#9c179e\"], [0.4444444444444444, \"#bd3786\"], [0.5555555555555556, \"#d8576b\"], [0.6666666666666666, \"#ed7953\"], [0.7777777777777778, \"#fb9f3a\"], [0.8888888888888888, \"#fdca26\"], [1.0, \"#f0f921\"]], \"type\": \"contour\"}], \"contourcarpet\": [{\"colorbar\": {\"outlinewidth\": 0, \"ticks\": \"\"}, \"type\": \"contourcarpet\"}], \"heatmap\": [{\"colorbar\": {\"outlinewidth\": 0, \"ticks\": \"\"}, \"colorscale\": [[0.0, \"#0d0887\"], [0.1111111111111111, \"#46039f\"], [0.2222222222222222, \"#7201a8\"], [0.3333333333333333, \"#9c179e\"], [0.4444444444444444, \"#bd3786\"], [0.5555555555555556, \"#d8576b\"], [0.6666666666666666, \"#ed7953\"], [0.7777777777777778, \"#fb9f3a\"], [0.8888888888888888, \"#fdca26\"], [1.0, \"#f0f921\"]], \"type\": \"heatmap\"}], \"heatmapgl\": [{\"colorbar\": {\"outlinewidth\": 0, \"ticks\": \"\"}, \"colorscale\": [[0.0, \"#0d0887\"], [0.1111111111111111, \"#46039f\"], [0.2222222222222222, \"#7201a8\"], [0.3333333333333333, \"#9c179e\"], [0.4444444444444444, \"#bd3786\"], [0.5555555555555556, \"#d8576b\"], [0.6666666666666666, \"#ed7953\"], [0.7777777777777778, \"#fb9f3a\"], [0.8888888888888888, \"#fdca26\"], [1.0, \"#f0f921\"]], \"type\": \"heatmapgl\"}], \"histogram\": [{\"marker\": {\"colorbar\": {\"outlinewidth\": 0, \"ticks\": \"\"}}, \"type\": \"histogram\"}], \"histogram2d\": [{\"colorbar\": {\"outlinewidth\": 0, \"ticks\": \"\"}, \"colorscale\": [[0.0, \"#0d0887\"], [0.1111111111111111, \"#46039f\"], [0.2222222222222222, \"#7201a8\"], [0.3333333333333333, \"#9c179e\"], [0.4444444444444444, \"#bd3786\"], [0.5555555555555556, \"#d8576b\"], [0.6666666666666666, \"#ed7953\"], [0.7777777777777778, \"#fb9f3a\"], [0.8888888888888888, \"#fdca26\"], [1.0, \"#f0f921\"]], \"type\": \"histogram2d\"}], \"histogram2dcontour\": [{\"colorbar\": {\"outlinewidth\": 0, \"ticks\": \"\"}, \"colorscale\": [[0.0, \"#0d0887\"], [0.1111111111111111, \"#46039f\"], [0.2222222222222222, \"#7201a8\"], [0.3333333333333333, \"#9c179e\"], [0.4444444444444444, \"#bd3786\"], [0.5555555555555556, \"#d8576b\"], [0.6666666666666666, \"#ed7953\"], [0.7777777777777778, \"#fb9f3a\"], [0.8888888888888888, \"#fdca26\"], [1.0, \"#f0f921\"]], \"type\": \"histogram2dcontour\"}], \"mesh3d\": [{\"colorbar\": {\"outlinewidth\": 0, \"ticks\": \"\"}, \"type\": \"mesh3d\"}], \"parcoords\": [{\"line\": {\"colorbar\": {\"outlinewidth\": 0, \"ticks\": \"\"}}, \"type\": \"parcoords\"}], \"pie\": [{\"automargin\": true, \"type\": \"pie\"}], \"scatter\": [{\"marker\": {\"colorbar\": {\"outlinewidth\": 0, \"ticks\": \"\"}}, \"type\": \"scatter\"}], \"scatter3d\": [{\"line\": {\"colorbar\": {\"outlinewidth\": 0, \"ticks\": \"\"}}, \"marker\": {\"colorbar\": {\"outlinewidth\": 0, \"ticks\": \"\"}}, \"type\": \"scatter3d\"}], \"scattercarpet\": [{\"marker\": {\"colorbar\": {\"outlinewidth\": 0, \"ticks\": \"\"}}, \"type\": \"scattercarpet\"}], \"scattergeo\": [{\"marker\": {\"colorbar\": {\"outlinewidth\": 0, \"ticks\": \"\"}}, \"type\": \"scattergeo\"}], \"scattergl\": [{\"marker\": {\"colorbar\": {\"outlinewidth\": 0, \"ticks\": \"\"}}, \"type\": \"scattergl\"}], \"scattermapbox\": [{\"marker\": {\"colorbar\": {\"outlinewidth\": 0, \"ticks\": \"\"}}, \"type\": \"scattermapbox\"}], \"scatterpolar\": [{\"marker\": {\"colorbar\": {\"outlinewidth\": 0, \"ticks\": \"\"}}, \"type\": \"scatterpolar\"}], \"scatterpolargl\": [{\"marker\": {\"colorbar\": {\"outlinewidth\": 0, \"ticks\": \"\"}}, \"type\": \"scatterpolargl\"}], \"scatterternary\": [{\"marker\": {\"colorbar\": {\"outlinewidth\": 0, \"ticks\": \"\"}}, \"type\": \"scatterternary\"}], \"surface\": [{\"colorbar\": {\"outlinewidth\": 0, \"ticks\": \"\"}, \"colorscale\": [[0.0, \"#0d0887\"], [0.1111111111111111, \"#46039f\"], [0.2222222222222222, \"#7201a8\"], [0.3333333333333333, \"#9c179e\"], [0.4444444444444444, \"#bd3786\"], [0.5555555555555556, \"#d8576b\"], [0.6666666666666666, \"#ed7953\"], [0.7777777777777778, \"#fb9f3a\"], [0.8888888888888888, \"#fdca26\"], [1.0, \"#f0f921\"]], \"type\": \"surface\"}], \"table\": [{\"cells\": {\"fill\": {\"color\": \"#EBF0F8\"}, \"line\": {\"color\": \"white\"}}, \"header\": {\"fill\": {\"color\": \"#C8D4E3\"}, \"line\": {\"color\": \"white\"}}, \"type\": \"table\"}]}, \"layout\": {\"annotationdefaults\": {\"arrowcolor\": \"#2a3f5f\", \"arrowhead\": 0, \"arrowwidth\": 1}, \"coloraxis\": {\"colorbar\": {\"outlinewidth\": 0, \"ticks\": \"\"}}, \"colorscale\": {\"diverging\": [[0, \"#8e0152\"], [0.1, \"#c51b7d\"], [0.2, \"#de77ae\"], [0.3, \"#f1b6da\"], [0.4, \"#fde0ef\"], [0.5, \"#f7f7f7\"], [0.6, \"#e6f5d0\"], [0.7, \"#b8e186\"], [0.8, \"#7fbc41\"], [0.9, \"#4d9221\"], [1, \"#276419\"]], \"sequential\": [[0.0, \"#0d0887\"], [0.1111111111111111, \"#46039f\"], [0.2222222222222222, \"#7201a8\"], [0.3333333333333333, \"#9c179e\"], [0.4444444444444444, \"#bd3786\"], [0.5555555555555556, \"#d8576b\"], [0.6666666666666666, \"#ed7953\"], [0.7777777777777778, \"#fb9f3a\"], [0.8888888888888888, \"#fdca26\"], [1.0, \"#f0f921\"]], \"sequentialminus\": [[0.0, \"#0d0887\"], [0.1111111111111111, \"#46039f\"], [0.2222222222222222, \"#7201a8\"], [0.3333333333333333, \"#9c179e\"], [0.4444444444444444, \"#bd3786\"], [0.5555555555555556, \"#d8576b\"], [0.6666666666666666, \"#ed7953\"], [0.7777777777777778, \"#fb9f3a\"], [0.8888888888888888, \"#fdca26\"], [1.0, \"#f0f921\"]]}, \"colorway\": [\"#636efa\", \"#EF553B\", \"#00cc96\", \"#ab63fa\", \"#FFA15A\", \"#19d3f3\", \"#FF6692\", \"#B6E880\", \"#FF97FF\", \"#FECB52\"], \"font\": {\"color\": \"#2a3f5f\"}, \"geo\": {\"bgcolor\": \"white\", \"lakecolor\": \"white\", \"landcolor\": \"#E5ECF6\", \"showlakes\": true, \"showland\": true, \"subunitcolor\": \"white\"}, \"hoverlabel\": {\"align\": \"left\"}, \"hovermode\": \"closest\", \"mapbox\": {\"style\": \"light\"}, \"paper_bgcolor\": \"white\", \"plot_bgcolor\": \"#E5ECF6\", \"polar\": {\"angularaxis\": {\"gridcolor\": \"white\", \"linecolor\": \"white\", \"ticks\": \"\"}, \"bgcolor\": \"#E5ECF6\", \"radialaxis\": {\"gridcolor\": \"white\", \"linecolor\": \"white\", \"ticks\": \"\"}}, \"scene\": {\"xaxis\": {\"backgroundcolor\": \"#E5ECF6\", \"gridcolor\": \"white\", \"gridwidth\": 2, \"linecolor\": \"white\", \"showbackground\": true, \"ticks\": \"\", \"zerolinecolor\": \"white\"}, \"yaxis\": {\"backgroundcolor\": \"#E5ECF6\", \"gridcolor\": \"white\", \"gridwidth\": 2, \"linecolor\": \"white\", \"showbackground\": true, \"ticks\": \"\", \"zerolinecolor\": \"white\"}, \"zaxis\": {\"backgroundcolor\": \"#E5ECF6\", \"gridcolor\": \"white\", \"gridwidth\": 2, \"linecolor\": \"white\", \"showbackground\": true, \"ticks\": \"\", \"zerolinecolor\": \"white\"}}, \"shapedefaults\": {\"line\": {\"color\": \"#2a3f5f\"}}, \"ternary\": {\"aaxis\": {\"gridcolor\": \"white\", \"linecolor\": \"white\", \"ticks\": \"\"}, \"baxis\": {\"gridcolor\": \"white\", \"linecolor\": \"white\", \"ticks\": \"\"}, \"bgcolor\": \"#E5ECF6\", \"caxis\": {\"gridcolor\": \"white\", \"linecolor\": \"white\", \"ticks\": \"\"}}, \"title\": {\"x\": 0.05}, \"xaxis\": {\"automargin\": true, \"gridcolor\": \"white\", \"linecolor\": \"white\", \"ticks\": \"\", \"title\": {\"standoff\": 15}, \"zerolinecolor\": \"white\", \"zerolinewidth\": 2}, \"yaxis\": {\"automargin\": true, \"gridcolor\": \"white\", \"linecolor\": \"white\", \"ticks\": \"\", \"title\": {\"standoff\": 15}, \"zerolinecolor\": \"white\", \"zerolinewidth\": 2}}}},\n",
       "                        {\"responsive\": true}\n",
       "                    ).then(function(){\n",
       "                            \n",
       "var gd = document.getElementById('2c2b17b8-d7dc-4be2-b339-295295ac4b99');\n",
       "var x = new MutationObserver(function (mutations, observer) {{\n",
       "        var display = window.getComputedStyle(gd).display;\n",
       "        if (!display || display === 'none') {{\n",
       "            console.log([gd, 'removed!']);\n",
       "            Plotly.purge(gd);\n",
       "            observer.disconnect();\n",
       "        }}\n",
       "}});\n",
       "\n",
       "// Listen for the removal of the full notebook cells\n",
       "var notebookContainer = gd.closest('#notebook-container');\n",
       "if (notebookContainer) {{\n",
       "    x.observe(notebookContainer, {childList: true});\n",
       "}}\n",
       "\n",
       "// Listen for the clearing of the current output cell\n",
       "var outputEl = gd.closest('.output');\n",
       "if (outputEl) {{\n",
       "    x.observe(outputEl, {childList: true});\n",
       "}}\n",
       "\n",
       "                        })\n",
       "                };\n",
       "                });\n",
       "            </script>\n",
       "        </div>"
      ]
     },
     "metadata": {},
     "output_type": "display_data"
    }
   ],
   "source": [
    "#Total confirmed world map\n",
    "data = [ dict(\n",
    " type='choropleth',\n",
    " locations = df['Country'],\n",
    " autocolorscale = True,\n",
    " z = df['TotalConfirmed'],\n",
    " locationmode = 'country names',\n",
    " marker = dict(\n",
    " line = dict (\n",
    " color = 'rgb(155,155,155)',\n",
    " width = 4,\n",
    " )  ),\n",
    " colorbar = dict(\n",
    " title = 'Number of cases'\n",
    " )\n",
    " ) ]\n",
    "layout = dict(\n",
    " autosize=True,\n",
    "margin={\"r\":0,\"t\":0,\"l\":0,\"b\":0}\n",
    "    \n",
    ")\n",
    "fig = go.Figure(data = data, layout = layout)\n",
    "\n",
    "# Active cases world map\n",
    "\n",
    "data1 = [ dict(\n",
    " type='choropleth',\n",
    " locations = df['Country'],\n",
    " autocolorscale = True,\n",
    " z = df['Active Cases'],\n",
    " locationmode = 'country names',\n",
    " marker = dict(\n",
    " line = dict (\n",
    " color = 'rgb(255,255,255)',\n",
    " width = 10,\n",
    " )  ),\n",
    " colorbar = dict(\n",
    " title = 'Active cases'\n",
    " )\n",
    " ) ]\n",
    "layout = dict(\n",
    " autosize=True,\n",
    " margin={\"r\":0,\"t\":0,\"l\":0,\"b\":0}   \n",
    ")\n",
    "\n",
    "\n",
    "\n",
    "\n",
    "fig1_ = go.Figure(data = data1, layout = layout)\n",
    "\n",
    "#Closed cases world map\n",
    "data2 = [ dict(\n",
    " type='choropleth',\n",
    " locations = df['Country'],\n",
    " autocolorscale = True,\n",
    " z =df['Closed Cases'],\n",
    " locationmode = 'country names',\n",
    " marker = dict(\n",
    " line = dict (\n",
    " color = 'rgb(245, 197, 66)',\n",
    " width = 10,\n",
    " )  ),\n",
    " colorbar = dict(\n",
    " title = 'Closed Cases'\n",
    " )\n",
    " ) ]\n",
    "layout = dict(\n",
    " autosize=True,\n",
    " margin={\"r\":0,\"t\":0,\"l\":0,\"b\":0}   \n",
    ")\n",
    "fig2_ = go.Figure(data = data2, layout = layout)\n",
    "\n",
    "#Recovery Rate World Map\n",
    "\n",
    "data3 = [ dict(\n",
    " type='choropleth',\n",
    " locations = df['Country'],\n",
    " autocolorscale = True,\n",
    " z =df['Recovery Rate'],\n",
    " locationmode = 'country names',\n",
    " marker = dict(\n",
    " line = dict (\n",
    " color = 'rgb(455,455,455)',\n",
    " width = 10,\n",
    " )  ),\n",
    " colorbar = dict(\n",
    " title = 'Recovery Rate (%)'\n",
    " )\n",
    " ) ]\n",
    "layout = dict(\n",
    " autosize=True,\n",
    " margin={\"r\":0,\"t\":0,\"l\":0,\"b\":0}   \n",
    ")\n",
    "fig3_ = go.Figure(data = data3, layout = layout)\n",
    "\n",
    "\n",
    "#Case fatality rate world map\n",
    "\n",
    "data4 = [ dict(\n",
    " type='choropleth',\n",
    " locations = df['Country'],\n",
    " autocolorscale = True,\n",
    " z =df['Case Fatality Rate'],\n",
    " locationmode = 'country names',\n",
    " marker = dict(\n",
    " line = dict (\n",
    " color = 'rgb(555,555,555)',\n",
    " width = 10,\n",
    " )  ),\n",
    " colorbar = dict(\n",
    " title = 'Case Fatality Rate (%)'\n",
    " )\n",
    " ) ]\n",
    "layout = dict(\n",
    "    autosize=True,\n",
    "    margin={\"r\":0,\"t\":0,\"l\":0,\"b\":0}\n",
    ")\n",
    "fig4_ = go.Figure(data = data4, layout = layout)\n",
    "fig4_.show()\n"
   ]
  },
  {
   "cell_type": "code",
   "execution_count": 16,
   "metadata": {},
   "outputs": [
    {
     "data": {
      "application/vnd.plotly.v1+json": {
       "config": {
        "plotlyServerURL": "https://plot.ly"
       },
       "data": [
        {
         "name": "GP",
         "type": "bar",
         "x": [
          0,
          1,
          2,
          3,
          4,
          5,
          6,
          7,
          8,
          9,
          10,
          11,
          12,
          13,
          14,
          15,
          16,
          17,
          18,
          19,
          20,
          21,
          22,
          23,
          24,
          25,
          26,
          27,
          28,
          29,
          30,
          31,
          32,
          33,
          34,
          35,
          36,
          37,
          38,
          39,
          40,
          41,
          42,
          43,
          44,
          45,
          46,
          47,
          48,
          49,
          50,
          51,
          52,
          53,
          54,
          55,
          56,
          57,
          58,
          59,
          60,
          61,
          62,
          63,
          64,
          65,
          66,
          67,
          68,
          69,
          70,
          71,
          72,
          73
         ],
         "y": [
          0,
          1,
          1,
          1,
          5,
          6,
          10,
          17,
          24,
          31,
          45,
          61,
          76,
          109,
          125,
          132,
          207,
          302,
          319,
          409,
          409,
          533,
          584,
          618,
          633,
          645,
          663,
          672,
          693,
          704,
          713,
          713,
          782,
          795,
          801,
          813,
          865,
          890,
          909,
          930,
          969,
          1018,
          1101,
          1148,
          1170,
          1199,
          1224,
          1252,
          1281,
          1304,
          1331,
          1353,
          1377,
          1408,
          1446,
          1507,
          1598,
          1624,
          1651,
          1697,
          1720,
          1804,
          1851,
          1910,
          1952,
          1971,
          2014,
          2074,
          2135,
          2210,
          2262,
          2329,
          2343,
          2361
         ]
        },
        {
         "name": "WC",
         "type": "bar",
         "x": [
          0,
          1,
          2,
          3,
          4,
          5,
          6,
          7,
          8,
          9,
          10,
          11,
          12,
          13,
          14,
          15,
          16,
          17,
          18,
          19,
          20,
          21,
          22,
          23,
          24,
          25,
          26,
          27,
          28,
          29,
          30,
          31,
          32,
          33,
          34,
          35,
          36,
          37,
          38,
          39,
          40,
          41,
          42,
          43,
          44,
          45,
          46,
          47,
          48,
          49,
          50,
          51,
          52,
          53,
          54,
          55,
          56,
          57,
          58,
          59,
          60,
          61,
          62,
          63,
          64,
          65,
          66,
          67,
          68,
          69,
          70,
          71,
          72,
          73
         ],
         "y": [
          0,
          0,
          0,
          0,
          1,
          1,
          3,
          9,
          14,
          16,
          21,
          31,
          46,
          57,
          75,
          89,
          100,
          113,
          183,
          229,
          229,
          271,
          310,
          324,
          325,
          326,
          353,
          374,
          433,
          454,
          462,
          462,
          495,
          515,
          541,
          546,
          587,
          617,
          643,
          657,
          675,
          717,
          836,
          868,
          940,
          1010,
          1079,
          1279,
          1413,
          1514,
          1608,
          1737,
          1870,
          2135,
          2342,
          2507,
          2700,
          3044,
          3362,
          3609,
          3760,
          3994,
          4497,
          4809,
          5168,
          5621,
          6105,
          6713,
          7235,
          7798,
          8404,
          9294,
          10035,
          10639
         ]
        },
        {
         "name": "KZN",
         "type": "bar",
         "x": [
          0,
          1,
          2,
          3,
          4,
          5,
          6,
          7,
          8,
          9,
          10,
          11,
          12,
          13,
          14,
          15,
          16,
          17,
          18,
          19,
          20,
          21,
          22,
          23,
          24,
          25,
          26,
          27,
          28,
          29,
          30,
          31,
          32,
          33,
          34,
          35,
          36,
          37,
          38,
          39,
          40,
          41,
          42,
          43,
          44,
          45,
          46,
          47,
          48,
          49,
          50,
          51,
          52,
          53,
          54,
          55,
          56,
          57,
          58,
          59,
          60,
          61,
          62,
          63,
          64,
          65,
          66,
          67,
          68,
          69,
          70,
          71,
          72,
          73
         ],
         "y": [
          1,
          1,
          2,
          6,
          7,
          8,
          10,
          11,
          12,
          12,
          16,
          19,
          22,
          23,
          26,
          35,
          60,
          80,
          91,
          134,
          134,
          156,
          167,
          171,
          179,
          186,
          206,
          215,
          232,
          246,
          257,
          257,
          354,
          387,
          412,
          418,
          443,
          465,
          489,
          519,
          539,
          591,
          604,
          617,
          639,
          671,
          758,
          807,
          841,
          841,
          863,
          902,
          919,
          956,
          980,
          1006,
          1051,
          1076,
          1106,
          1142,
          1149,
          1204,
          1253,
          1308,
          1353,
          1372,
          1394,
          1413,
          1444,
          1482,
          1498,
          1543,
          1567,
          1616
         ]
        },
        {
         "name": "EC",
         "type": "bar",
         "x": [
          0,
          1,
          2,
          3,
          4,
          5,
          6,
          7,
          8,
          9,
          10,
          11,
          12,
          13,
          14,
          15,
          16,
          17,
          18,
          19,
          20,
          21,
          22,
          23,
          24,
          25,
          26,
          27,
          28,
          29,
          30,
          31,
          32,
          33,
          34,
          35,
          36,
          37,
          38,
          39,
          40,
          41,
          42,
          43,
          44,
          45,
          46,
          47,
          48,
          49,
          50,
          51,
          52,
          53,
          54,
          55,
          56,
          57,
          58,
          59,
          60,
          61,
          62,
          63,
          64,
          65,
          66,
          67,
          68,
          69,
          70,
          71,
          72,
          73
         ],
         "y": [
          0,
          0,
          0,
          0,
          0,
          0,
          0,
          0,
          0,
          0,
          0,
          0,
          0,
          0,
          1,
          2,
          2,
          2,
          2,
          5,
          5,
          10,
          12,
          12,
          12,
          15,
          17,
          21,
          25,
          31,
          32,
          32,
          45,
          61,
          68,
          69,
          88,
          104,
          174,
          199,
          220,
          246,
          270,
          293,
          310,
          345,
          377,
          417,
          480,
          488,
          535,
          588,
          616,
          630,
          647,
          691,
          732,
          774,
          814,
          838,
          849,
          929,
          989,
          1078,
          1218,
          1356,
          1504,
          1534,
          1569,
          1662,
          1812,
          1936,
          2052,
          2135
         ]
        },
        {
         "name": "NW",
         "type": "bar",
         "x": [
          0,
          1,
          2,
          3,
          4,
          5,
          6,
          7,
          8,
          9,
          10,
          11,
          12,
          13,
          14,
          15,
          16,
          17,
          18,
          19,
          20,
          21,
          22,
          23,
          24,
          25,
          26,
          27,
          28,
          29,
          30,
          31,
          32,
          33,
          34,
          35,
          36,
          37,
          38,
          39,
          40,
          41,
          42,
          43,
          44,
          45,
          46,
          47,
          48,
          49,
          50,
          51,
          52,
          53,
          54,
          55,
          56,
          57,
          58,
          59,
          60,
          61,
          62,
          63,
          64,
          65,
          66,
          67,
          68,
          69,
          70,
          71,
          72,
          73
         ],
         "y": [
          0,
          0,
          0,
          0,
          0,
          0,
          0,
          0,
          0,
          0,
          0,
          0,
          0,
          0,
          0,
          0,
          4,
          5,
          5,
          5,
          5,
          6,
          6,
          8,
          8,
          9,
          9,
          9,
          11,
          11,
          11,
          11,
          15,
          15,
          18,
          19,
          19,
          22,
          22,
          23,
          24,
          24,
          24,
          24,
          25,
          24,
          24,
          25,
          25,
          28,
          28,
          31,
          29,
          29,
          31,
          35,
          35,
          36,
          35,
          35,
          37,
          40,
          42,
          41,
          45,
          50,
          51,
          52,
          58,
          63,
          64,
          70,
          72,
          72
         ]
        },
        {
         "name": "NC",
         "type": "bar",
         "x": [
          0,
          1,
          2,
          3,
          4,
          5,
          6,
          7,
          8,
          9,
          10,
          11,
          12,
          13,
          14,
          15,
          16,
          17,
          18,
          19,
          20,
          21,
          22,
          23,
          24,
          25,
          26,
          27,
          28,
          29,
          30,
          31,
          32,
          33,
          34,
          35,
          36,
          37,
          38,
          39,
          40,
          41,
          42,
          43,
          44,
          45,
          46,
          47,
          48,
          49,
          50,
          51,
          52,
          53,
          54,
          55,
          56,
          57,
          58,
          59,
          60,
          61,
          62,
          63,
          64,
          65,
          66,
          67,
          68,
          69,
          70,
          71,
          72,
          73
         ],
         "y": [
          0,
          0,
          0,
          0,
          0,
          0,
          0,
          0,
          0,
          0,
          0,
          0,
          0,
          0,
          0,
          0,
          2,
          2,
          2,
          2,
          2,
          5,
          6,
          3,
          6,
          7,
          7,
          7,
          7,
          8,
          8,
          8,
          13,
          15,
          15,
          16,
          16,
          16,
          16,
          16,
          16,
          16,
          16,
          16,
          18,
          16,
          16,
          16,
          16,
          16,
          17,
          17,
          17,
          17,
          17,
          18,
          23,
          24,
          25,
          26,
          26,
          27,
          27,
          28,
          29,
          30,
          30,
          30,
          31,
          34,
          35,
          37,
          37,
          37
         ]
        },
        {
         "name": "MP",
         "type": "bar",
         "x": [
          0,
          1,
          2,
          3,
          4,
          5,
          6,
          7,
          8,
          9,
          10,
          11,
          12,
          13,
          14,
          15,
          16,
          17,
          18,
          19,
          20,
          21,
          22,
          23,
          24,
          25,
          26,
          27,
          28,
          29,
          30,
          31,
          32,
          33,
          34,
          35,
          36,
          37,
          38,
          39,
          40,
          41,
          42,
          43,
          44,
          45,
          46,
          47,
          48,
          49,
          50,
          51,
          52,
          53,
          54,
          55,
          56,
          57,
          58,
          59,
          60,
          61,
          62,
          63,
          64,
          65,
          66,
          67,
          68,
          69,
          70,
          71,
          72,
          73
         ],
         "y": [
          0,
          0,
          0,
          0,
          0,
          1,
          1,
          1,
          1,
          2,
          2,
          4,
          5,
          5,
          5,
          5,
          9,
          9,
          8,
          9,
          9,
          10,
          11,
          11,
          12,
          12,
          13,
          13,
          18,
          18,
          18,
          18,
          21,
          20,
          20,
          20,
          21,
          22,
          22,
          22,
          22,
          23,
          25,
          23,
          23,
          24,
          23,
          23,
          24,
          23,
          23,
          26,
          26,
          31,
          36,
          35,
          40,
          46,
          53,
          57,
          57,
          59,
          60,
          61,
          61,
          63,
          63,
          66,
          67,
          67,
          68,
          71,
          76,
          78
         ]
        },
        {
         "name": "LP",
         "type": "bar",
         "x": [
          0,
          1,
          2,
          3,
          4,
          5,
          6,
          7,
          8,
          9,
          10,
          11,
          12,
          13,
          14,
          15,
          16,
          17,
          18,
          19,
          20,
          21,
          22,
          23,
          24,
          25,
          26,
          27,
          28,
          29,
          30,
          31,
          32,
          33,
          34,
          35,
          36,
          37,
          38,
          39,
          40,
          41,
          42,
          43,
          44,
          45,
          46,
          47,
          48,
          49,
          50,
          51,
          52,
          53,
          54,
          55,
          56,
          57,
          58,
          59,
          60,
          61,
          62,
          63,
          64,
          65,
          66,
          67,
          68,
          69,
          70,
          71,
          72,
          73
         ],
         "y": [
          0,
          0,
          0,
          0,
          0,
          0,
          0,
          0,
          0,
          1,
          1,
          1,
          1,
          1,
          1,
          2,
          4,
          4,
          4,
          6,
          6,
          11,
          12,
          11,
          14,
          14,
          16,
          16,
          18,
          19,
          19,
          19,
          21,
          22,
          24,
          23,
          23,
          23,
          24,
          25,
          26,
          26,
          26,
          27,
          27,
          27,
          27,
          27,
          29,
          30,
          31,
          31,
          31,
          31,
          32,
          34,
          36,
          37,
          39,
          40,
          40,
          41,
          43,
          51,
          54,
          54,
          54,
          54,
          55,
          57,
          59,
          77,
          88,
          94
         ]
        },
        {
         "name": "FS",
         "type": "bar",
         "x": [
          0,
          1,
          2,
          3,
          4,
          5,
          6,
          7,
          8,
          9,
          10,
          11,
          12,
          13,
          14,
          15,
          16,
          17,
          18,
          19,
          20,
          21,
          22,
          23,
          24,
          25,
          26,
          27,
          28,
          29,
          30,
          31,
          32,
          33,
          34,
          35,
          36,
          37,
          38,
          39,
          40,
          41,
          42,
          43,
          44,
          45,
          46,
          47,
          48,
          49,
          50,
          51,
          52,
          53,
          54,
          55,
          56,
          57,
          58,
          59,
          60,
          61,
          62,
          63,
          64,
          65,
          66,
          67,
          68,
          69,
          70,
          71,
          72,
          73
         ],
         "y": [
          0,
          0,
          0,
          0,
          0,
          0,
          0,
          0,
          0,
          0,
          0,
          0,
          0,
          7,
          7,
          9,
          13,
          18,
          30,
          49,
          49,
          68,
          72,
          72,
          74,
          76,
          84,
          84,
          85,
          87,
          89,
          89,
          88,
          93,
          94,
          94,
          96,
          96,
          98,
          97,
          98,
          100,
          100,
          100,
          105,
          106,
          106,
          106,
          111,
          111,
          110,
          111,
          113,
          113,
          116,
          118,
          121,
          122,
          125,
          128,
          130,
          134,
          133,
          134,
          135,
          135,
          135,
          138,
          145,
          151,
          153,
          158,
          163,
          168
         ]
        }
       ],
       "layout": {
        "barmode": "stack",
        "template": {
         "data": {
          "bar": [
           {
            "error_x": {
             "color": "#2a3f5f"
            },
            "error_y": {
             "color": "#2a3f5f"
            },
            "marker": {
             "line": {
              "color": "#E5ECF6",
              "width": 0.5
             }
            },
            "type": "bar"
           }
          ],
          "barpolar": [
           {
            "marker": {
             "line": {
              "color": "#E5ECF6",
              "width": 0.5
             }
            },
            "type": "barpolar"
           }
          ],
          "carpet": [
           {
            "aaxis": {
             "endlinecolor": "#2a3f5f",
             "gridcolor": "white",
             "linecolor": "white",
             "minorgridcolor": "white",
             "startlinecolor": "#2a3f5f"
            },
            "baxis": {
             "endlinecolor": "#2a3f5f",
             "gridcolor": "white",
             "linecolor": "white",
             "minorgridcolor": "white",
             "startlinecolor": "#2a3f5f"
            },
            "type": "carpet"
           }
          ],
          "choropleth": [
           {
            "colorbar": {
             "outlinewidth": 0,
             "ticks": ""
            },
            "type": "choropleth"
           }
          ],
          "contour": [
           {
            "colorbar": {
             "outlinewidth": 0,
             "ticks": ""
            },
            "colorscale": [
             [
              0,
              "#0d0887"
             ],
             [
              0.1111111111111111,
              "#46039f"
             ],
             [
              0.2222222222222222,
              "#7201a8"
             ],
             [
              0.3333333333333333,
              "#9c179e"
             ],
             [
              0.4444444444444444,
              "#bd3786"
             ],
             [
              0.5555555555555556,
              "#d8576b"
             ],
             [
              0.6666666666666666,
              "#ed7953"
             ],
             [
              0.7777777777777778,
              "#fb9f3a"
             ],
             [
              0.8888888888888888,
              "#fdca26"
             ],
             [
              1,
              "#f0f921"
             ]
            ],
            "type": "contour"
           }
          ],
          "contourcarpet": [
           {
            "colorbar": {
             "outlinewidth": 0,
             "ticks": ""
            },
            "type": "contourcarpet"
           }
          ],
          "heatmap": [
           {
            "colorbar": {
             "outlinewidth": 0,
             "ticks": ""
            },
            "colorscale": [
             [
              0,
              "#0d0887"
             ],
             [
              0.1111111111111111,
              "#46039f"
             ],
             [
              0.2222222222222222,
              "#7201a8"
             ],
             [
              0.3333333333333333,
              "#9c179e"
             ],
             [
              0.4444444444444444,
              "#bd3786"
             ],
             [
              0.5555555555555556,
              "#d8576b"
             ],
             [
              0.6666666666666666,
              "#ed7953"
             ],
             [
              0.7777777777777778,
              "#fb9f3a"
             ],
             [
              0.8888888888888888,
              "#fdca26"
             ],
             [
              1,
              "#f0f921"
             ]
            ],
            "type": "heatmap"
           }
          ],
          "heatmapgl": [
           {
            "colorbar": {
             "outlinewidth": 0,
             "ticks": ""
            },
            "colorscale": [
             [
              0,
              "#0d0887"
             ],
             [
              0.1111111111111111,
              "#46039f"
             ],
             [
              0.2222222222222222,
              "#7201a8"
             ],
             [
              0.3333333333333333,
              "#9c179e"
             ],
             [
              0.4444444444444444,
              "#bd3786"
             ],
             [
              0.5555555555555556,
              "#d8576b"
             ],
             [
              0.6666666666666666,
              "#ed7953"
             ],
             [
              0.7777777777777778,
              "#fb9f3a"
             ],
             [
              0.8888888888888888,
              "#fdca26"
             ],
             [
              1,
              "#f0f921"
             ]
            ],
            "type": "heatmapgl"
           }
          ],
          "histogram": [
           {
            "marker": {
             "colorbar": {
              "outlinewidth": 0,
              "ticks": ""
             }
            },
            "type": "histogram"
           }
          ],
          "histogram2d": [
           {
            "colorbar": {
             "outlinewidth": 0,
             "ticks": ""
            },
            "colorscale": [
             [
              0,
              "#0d0887"
             ],
             [
              0.1111111111111111,
              "#46039f"
             ],
             [
              0.2222222222222222,
              "#7201a8"
             ],
             [
              0.3333333333333333,
              "#9c179e"
             ],
             [
              0.4444444444444444,
              "#bd3786"
             ],
             [
              0.5555555555555556,
              "#d8576b"
             ],
             [
              0.6666666666666666,
              "#ed7953"
             ],
             [
              0.7777777777777778,
              "#fb9f3a"
             ],
             [
              0.8888888888888888,
              "#fdca26"
             ],
             [
              1,
              "#f0f921"
             ]
            ],
            "type": "histogram2d"
           }
          ],
          "histogram2dcontour": [
           {
            "colorbar": {
             "outlinewidth": 0,
             "ticks": ""
            },
            "colorscale": [
             [
              0,
              "#0d0887"
             ],
             [
              0.1111111111111111,
              "#46039f"
             ],
             [
              0.2222222222222222,
              "#7201a8"
             ],
             [
              0.3333333333333333,
              "#9c179e"
             ],
             [
              0.4444444444444444,
              "#bd3786"
             ],
             [
              0.5555555555555556,
              "#d8576b"
             ],
             [
              0.6666666666666666,
              "#ed7953"
             ],
             [
              0.7777777777777778,
              "#fb9f3a"
             ],
             [
              0.8888888888888888,
              "#fdca26"
             ],
             [
              1,
              "#f0f921"
             ]
            ],
            "type": "histogram2dcontour"
           }
          ],
          "mesh3d": [
           {
            "colorbar": {
             "outlinewidth": 0,
             "ticks": ""
            },
            "type": "mesh3d"
           }
          ],
          "parcoords": [
           {
            "line": {
             "colorbar": {
              "outlinewidth": 0,
              "ticks": ""
             }
            },
            "type": "parcoords"
           }
          ],
          "pie": [
           {
            "automargin": true,
            "type": "pie"
           }
          ],
          "scatter": [
           {
            "marker": {
             "colorbar": {
              "outlinewidth": 0,
              "ticks": ""
             }
            },
            "type": "scatter"
           }
          ],
          "scatter3d": [
           {
            "line": {
             "colorbar": {
              "outlinewidth": 0,
              "ticks": ""
             }
            },
            "marker": {
             "colorbar": {
              "outlinewidth": 0,
              "ticks": ""
             }
            },
            "type": "scatter3d"
           }
          ],
          "scattercarpet": [
           {
            "marker": {
             "colorbar": {
              "outlinewidth": 0,
              "ticks": ""
             }
            },
            "type": "scattercarpet"
           }
          ],
          "scattergeo": [
           {
            "marker": {
             "colorbar": {
              "outlinewidth": 0,
              "ticks": ""
             }
            },
            "type": "scattergeo"
           }
          ],
          "scattergl": [
           {
            "marker": {
             "colorbar": {
              "outlinewidth": 0,
              "ticks": ""
             }
            },
            "type": "scattergl"
           }
          ],
          "scattermapbox": [
           {
            "marker": {
             "colorbar": {
              "outlinewidth": 0,
              "ticks": ""
             }
            },
            "type": "scattermapbox"
           }
          ],
          "scatterpolar": [
           {
            "marker": {
             "colorbar": {
              "outlinewidth": 0,
              "ticks": ""
             }
            },
            "type": "scatterpolar"
           }
          ],
          "scatterpolargl": [
           {
            "marker": {
             "colorbar": {
              "outlinewidth": 0,
              "ticks": ""
             }
            },
            "type": "scatterpolargl"
           }
          ],
          "scatterternary": [
           {
            "marker": {
             "colorbar": {
              "outlinewidth": 0,
              "ticks": ""
             }
            },
            "type": "scatterternary"
           }
          ],
          "surface": [
           {
            "colorbar": {
             "outlinewidth": 0,
             "ticks": ""
            },
            "colorscale": [
             [
              0,
              "#0d0887"
             ],
             [
              0.1111111111111111,
              "#46039f"
             ],
             [
              0.2222222222222222,
              "#7201a8"
             ],
             [
              0.3333333333333333,
              "#9c179e"
             ],
             [
              0.4444444444444444,
              "#bd3786"
             ],
             [
              0.5555555555555556,
              "#d8576b"
             ],
             [
              0.6666666666666666,
              "#ed7953"
             ],
             [
              0.7777777777777778,
              "#fb9f3a"
             ],
             [
              0.8888888888888888,
              "#fdca26"
             ],
             [
              1,
              "#f0f921"
             ]
            ],
            "type": "surface"
           }
          ],
          "table": [
           {
            "cells": {
             "fill": {
              "color": "#EBF0F8"
             },
             "line": {
              "color": "white"
             }
            },
            "header": {
             "fill": {
              "color": "#C8D4E3"
             },
             "line": {
              "color": "white"
             }
            },
            "type": "table"
           }
          ]
         },
         "layout": {
          "annotationdefaults": {
           "arrowcolor": "#2a3f5f",
           "arrowhead": 0,
           "arrowwidth": 1
          },
          "coloraxis": {
           "colorbar": {
            "outlinewidth": 0,
            "ticks": ""
           }
          },
          "colorscale": {
           "diverging": [
            [
             0,
             "#8e0152"
            ],
            [
             0.1,
             "#c51b7d"
            ],
            [
             0.2,
             "#de77ae"
            ],
            [
             0.3,
             "#f1b6da"
            ],
            [
             0.4,
             "#fde0ef"
            ],
            [
             0.5,
             "#f7f7f7"
            ],
            [
             0.6,
             "#e6f5d0"
            ],
            [
             0.7,
             "#b8e186"
            ],
            [
             0.8,
             "#7fbc41"
            ],
            [
             0.9,
             "#4d9221"
            ],
            [
             1,
             "#276419"
            ]
           ],
           "sequential": [
            [
             0,
             "#0d0887"
            ],
            [
             0.1111111111111111,
             "#46039f"
            ],
            [
             0.2222222222222222,
             "#7201a8"
            ],
            [
             0.3333333333333333,
             "#9c179e"
            ],
            [
             0.4444444444444444,
             "#bd3786"
            ],
            [
             0.5555555555555556,
             "#d8576b"
            ],
            [
             0.6666666666666666,
             "#ed7953"
            ],
            [
             0.7777777777777778,
             "#fb9f3a"
            ],
            [
             0.8888888888888888,
             "#fdca26"
            ],
            [
             1,
             "#f0f921"
            ]
           ],
           "sequentialminus": [
            [
             0,
             "#0d0887"
            ],
            [
             0.1111111111111111,
             "#46039f"
            ],
            [
             0.2222222222222222,
             "#7201a8"
            ],
            [
             0.3333333333333333,
             "#9c179e"
            ],
            [
             0.4444444444444444,
             "#bd3786"
            ],
            [
             0.5555555555555556,
             "#d8576b"
            ],
            [
             0.6666666666666666,
             "#ed7953"
            ],
            [
             0.7777777777777778,
             "#fb9f3a"
            ],
            [
             0.8888888888888888,
             "#fdca26"
            ],
            [
             1,
             "#f0f921"
            ]
           ]
          },
          "colorway": [
           "#636efa",
           "#EF553B",
           "#00cc96",
           "#ab63fa",
           "#FFA15A",
           "#19d3f3",
           "#FF6692",
           "#B6E880",
           "#FF97FF",
           "#FECB52"
          ],
          "font": {
           "color": "#2a3f5f"
          },
          "geo": {
           "bgcolor": "white",
           "lakecolor": "white",
           "landcolor": "#E5ECF6",
           "showlakes": true,
           "showland": true,
           "subunitcolor": "white"
          },
          "hoverlabel": {
           "align": "left"
          },
          "hovermode": "closest",
          "mapbox": {
           "style": "light"
          },
          "paper_bgcolor": "white",
          "plot_bgcolor": "#E5ECF6",
          "polar": {
           "angularaxis": {
            "gridcolor": "white",
            "linecolor": "white",
            "ticks": ""
           },
           "bgcolor": "#E5ECF6",
           "radialaxis": {
            "gridcolor": "white",
            "linecolor": "white",
            "ticks": ""
           }
          },
          "scene": {
           "xaxis": {
            "backgroundcolor": "#E5ECF6",
            "gridcolor": "white",
            "gridwidth": 2,
            "linecolor": "white",
            "showbackground": true,
            "ticks": "",
            "zerolinecolor": "white"
           },
           "yaxis": {
            "backgroundcolor": "#E5ECF6",
            "gridcolor": "white",
            "gridwidth": 2,
            "linecolor": "white",
            "showbackground": true,
            "ticks": "",
            "zerolinecolor": "white"
           },
           "zaxis": {
            "backgroundcolor": "#E5ECF6",
            "gridcolor": "white",
            "gridwidth": 2,
            "linecolor": "white",
            "showbackground": true,
            "ticks": "",
            "zerolinecolor": "white"
           }
          },
          "shapedefaults": {
           "line": {
            "color": "#2a3f5f"
           }
          },
          "ternary": {
           "aaxis": {
            "gridcolor": "white",
            "linecolor": "white",
            "ticks": ""
           },
           "baxis": {
            "gridcolor": "white",
            "linecolor": "white",
            "ticks": ""
           },
           "bgcolor": "#E5ECF6",
           "caxis": {
            "gridcolor": "white",
            "linecolor": "white",
            "ticks": ""
           }
          },
          "title": {
           "x": 0.05
          },
          "xaxis": {
           "automargin": true,
           "gridcolor": "white",
           "linecolor": "white",
           "ticks": "",
           "title": {
            "standoff": 15
           },
           "zerolinecolor": "white",
           "zerolinewidth": 2
          },
          "yaxis": {
           "automargin": true,
           "gridcolor": "white",
           "linecolor": "white",
           "ticks": "",
           "title": {
            "standoff": 15
           },
           "zerolinecolor": "white",
           "zerolinewidth": 2
          }
         }
        },
        "title": {
         "text": "Confirmed Cases by provinces"
        },
        "updatemenus": [
         {
          "active": 0,
          "buttons": [
           {
            "args": [
             {
              "visible": [
               true,
               true,
               true,
               true,
               true,
               true,
               true,
               true,
               true
              ]
             },
             {
              "title": "Cumulative Confirmed Cases: Eastern Cape"
             }
            ],
            "label": "ALL",
            "method": "update"
           },
           {
            "args": [
             {
              "visible": [
               true,
               false,
               false,
               false,
               false,
               false,
               false,
               false,
               false
              ]
             },
             {
              "title": "Cumulative Confirmed Cases: Eastern Cape"
             }
            ],
            "label": "GP",
            "method": "update"
           },
           {
            "args": [
             {
              "visible": [
               false,
               true,
               false,
               false,
               false,
               false,
               false,
               false,
               false
              ]
             },
             {
              "title": "Cumulative Confirmed Cases: Western Cape"
             }
            ],
            "label": "WC",
            "method": "update"
           },
           {
            "args": [
             {
              "visible": [
               false,
               false,
               true,
               false,
               false,
               false,
               false,
               false,
               false
              ]
             },
             {
              "title": "Cumulative Confirmed Cases: Free State"
             }
            ],
            "label": "KZN",
            "method": "update"
           },
           {
            "args": [
             {
              "visible": [
               false,
               false,
               false,
               true,
               false,
               false,
               false,
               false,
               false
              ]
             },
             {
              "title": "Cumulative Confirmed Cases: Gauteng"
             }
            ],
            "label": "EC",
            "method": "update"
           },
           {
            "args": [
             {
              "visible": [
               false,
               false,
               false,
               false,
               true,
               false,
               false,
               false,
               false
              ]
             },
             {
              "title": "Cumulative Confirmed Cases: Kwa Zulu Natal"
             }
            ],
            "label": "NW",
            "method": "update"
           },
           {
            "args": [
             {
              "visible": [
               false,
               false,
               false,
               false,
               false,
               true,
               false,
               false,
               false
              ]
             },
             {
              "title": "Cumulative Confirmed Cases: North West"
             }
            ],
            "label": "NC",
            "method": "update"
           },
           {
            "args": [
             {
              "visible": [
               false,
               false,
               false,
               false,
               false,
               false,
               true,
               false,
               false
              ]
             },
             {
              "title": "Cumulative Confirmed Cases: Limpopo"
             }
            ],
            "label": "MP",
            "method": "update"
           },
           {
            "args": [
             {
              "visible": [
               false,
               false,
               false,
               false,
               false,
               false,
               false,
               true,
               false
              ]
             },
             {
              "title": "Cumulative Confirmed Cases: Mpumalanga"
             }
            ],
            "label": "LP",
            "method": "update"
           },
           {
            "args": [
             {
              "visible": [
               false,
               false,
               false,
               false,
               false,
               false,
               false,
               false,
               true
              ]
             },
             {
              "title": "Cumulative Confirmed Cases: Unlocated"
             }
            ],
            "label": "FS",
            "method": "update"
           }
          ]
         }
        ],
        "xaxis": {
         "rangeslider": {
          "visible": true
         },
         "title": {
          "text": "Days since the first confirmed case"
         }
        },
        "yaxis": {
         "title": {
          "text": "Linear"
         }
        }
       }
      },
      "text/html": [
       "<div>\n",
       "        \n",
       "        \n",
       "            <div id=\"ab28f655-fff4-4248-9e1d-f40f7798b0b1\" class=\"plotly-graph-div\" style=\"height:525px; width:100%;\"></div>\n",
       "            <script type=\"text/javascript\">\n",
       "                require([\"plotly\"], function(Plotly) {\n",
       "                    window.PLOTLYENV=window.PLOTLYENV || {};\n",
       "                    \n",
       "                if (document.getElementById(\"ab28f655-fff4-4248-9e1d-f40f7798b0b1\")) {\n",
       "                    Plotly.newPlot(\n",
       "                        'ab28f655-fff4-4248-9e1d-f40f7798b0b1',\n",
       "                        [{\"name\": \"GP\", \"type\": \"bar\", \"x\": [0, 1, 2, 3, 4, 5, 6, 7, 8, 9, 10, 11, 12, 13, 14, 15, 16, 17, 18, 19, 20, 21, 22, 23, 24, 25, 26, 27, 28, 29, 30, 31, 32, 33, 34, 35, 36, 37, 38, 39, 40, 41, 42, 43, 44, 45, 46, 47, 48, 49, 50, 51, 52, 53, 54, 55, 56, 57, 58, 59, 60, 61, 62, 63, 64, 65, 66, 67, 68, 69, 70, 71, 72, 73], \"y\": [0.0, 1.0, 1.0, 1.0, 5.0, 6.0, 10.0, 17.0, 24.0, 31.0, 45.0, 61.0, 76.0, 109.0, 125.0, 132.0, 207.0, 302.0, 319.0, 409.0, 409.0, 533.0, 584.0, 618.0, 633.0, 645.0, 663.0, 672.0, 693.0, 704.0, 713.0, 713.0, 782.0, 795.0, 801.0, 813.0, 865.0, 890.0, 909.0, 930.0, 969.0, 1018.0, 1101.0, 1148.0, 1170.0, 1199.0, 1224.0, 1252.0, 1281.0, 1304.0, 1331.0, 1353.0, 1377.0, 1408.0, 1446.0, 1507.0, 1598.0, 1624.0, 1651.0, 1697.0, 1720.0, 1804.0, 1851.0, 1910.0, 1952.0, 1971.0, 2014.0, 2074.0, 2135.0, 2210.0, 2262.0, 2329.0, 2343.0, 2361.0]}, {\"name\": \"WC\", \"type\": \"bar\", \"x\": [0, 1, 2, 3, 4, 5, 6, 7, 8, 9, 10, 11, 12, 13, 14, 15, 16, 17, 18, 19, 20, 21, 22, 23, 24, 25, 26, 27, 28, 29, 30, 31, 32, 33, 34, 35, 36, 37, 38, 39, 40, 41, 42, 43, 44, 45, 46, 47, 48, 49, 50, 51, 52, 53, 54, 55, 56, 57, 58, 59, 60, 61, 62, 63, 64, 65, 66, 67, 68, 69, 70, 71, 72, 73], \"y\": [0.0, 0.0, 0.0, 0.0, 1.0, 1.0, 3.0, 9.0, 14.0, 16.0, 21.0, 31.0, 46.0, 57.0, 75.0, 89.0, 100.0, 113.0, 183.0, 229.0, 229.0, 271.0, 310.0, 324.0, 325.0, 326.0, 353.0, 374.0, 433.0, 454.0, 462.0, 462.0, 495.0, 515.0, 541.0, 546.0, 587.0, 617.0, 643.0, 657.0, 675.0, 717.0, 836.0, 868.0, 940.0, 1010.0, 1079.0, 1279.0, 1413.0, 1514.0, 1608.0, 1737.0, 1870.0, 2135.0, 2342.0, 2507.0, 2700.0, 3044.0, 3362.0, 3609.0, 3760.0, 3994.0, 4497.0, 4809.0, 5168.0, 5621.0, 6105.0, 6713.0, 7235.0, 7798.0, 8404.0, 9294.0, 10035.0, 10639.0]}, {\"name\": \"KZN\", \"type\": \"bar\", \"x\": [0, 1, 2, 3, 4, 5, 6, 7, 8, 9, 10, 11, 12, 13, 14, 15, 16, 17, 18, 19, 20, 21, 22, 23, 24, 25, 26, 27, 28, 29, 30, 31, 32, 33, 34, 35, 36, 37, 38, 39, 40, 41, 42, 43, 44, 45, 46, 47, 48, 49, 50, 51, 52, 53, 54, 55, 56, 57, 58, 59, 60, 61, 62, 63, 64, 65, 66, 67, 68, 69, 70, 71, 72, 73], \"y\": [1.0, 1.0, 2.0, 6.0, 7.0, 8.0, 10.0, 11.0, 12.0, 12.0, 16.0, 19.0, 22.0, 23.0, 26.0, 35.0, 60.0, 80.0, 91.0, 134.0, 134.0, 156.0, 167.0, 171.0, 179.0, 186.0, 206.0, 215.0, 232.0, 246.0, 257.0, 257.0, 354.0, 387.0, 412.0, 418.0, 443.0, 465.0, 489.0, 519.0, 539.0, 591.0, 604.0, 617.0, 639.0, 671.0, 758.0, 807.0, 841.0, 841.0, 863.0, 902.0, 919.0, 956.0, 980.0, 1006.0, 1051.0, 1076.0, 1106.0, 1142.0, 1149.0, 1204.0, 1253.0, 1308.0, 1353.0, 1372.0, 1394.0, 1413.0, 1444.0, 1482.0, 1498.0, 1543.0, 1567.0, 1616.0]}, {\"name\": \"EC\", \"type\": \"bar\", \"x\": [0, 1, 2, 3, 4, 5, 6, 7, 8, 9, 10, 11, 12, 13, 14, 15, 16, 17, 18, 19, 20, 21, 22, 23, 24, 25, 26, 27, 28, 29, 30, 31, 32, 33, 34, 35, 36, 37, 38, 39, 40, 41, 42, 43, 44, 45, 46, 47, 48, 49, 50, 51, 52, 53, 54, 55, 56, 57, 58, 59, 60, 61, 62, 63, 64, 65, 66, 67, 68, 69, 70, 71, 72, 73], \"y\": [0.0, 0.0, 0.0, 0.0, 0.0, 0.0, 0.0, 0.0, 0.0, 0.0, 0.0, 0.0, 0.0, 0.0, 1.0, 2.0, 2.0, 2.0, 2.0, 5.0, 5.0, 10.0, 12.0, 12.0, 12.0, 15.0, 17.0, 21.0, 25.0, 31.0, 32.0, 32.0, 45.0, 61.0, 68.0, 69.0, 88.0, 104.0, 174.0, 199.0, 220.0, 246.0, 270.0, 293.0, 310.0, 345.0, 377.0, 417.0, 480.0, 488.0, 535.0, 588.0, 616.0, 630.0, 647.0, 691.0, 732.0, 774.0, 814.0, 838.0, 849.0, 929.0, 989.0, 1078.0, 1218.0, 1356.0, 1504.0, 1534.0, 1569.0, 1662.0, 1812.0, 1936.0, 2052.0, 2135.0]}, {\"name\": \"NW\", \"type\": \"bar\", \"x\": [0, 1, 2, 3, 4, 5, 6, 7, 8, 9, 10, 11, 12, 13, 14, 15, 16, 17, 18, 19, 20, 21, 22, 23, 24, 25, 26, 27, 28, 29, 30, 31, 32, 33, 34, 35, 36, 37, 38, 39, 40, 41, 42, 43, 44, 45, 46, 47, 48, 49, 50, 51, 52, 53, 54, 55, 56, 57, 58, 59, 60, 61, 62, 63, 64, 65, 66, 67, 68, 69, 70, 71, 72, 73], \"y\": [0.0, 0.0, 0.0, 0.0, 0.0, 0.0, 0.0, 0.0, 0.0, 0.0, 0.0, 0.0, 0.0, 0.0, 0.0, 0.0, 4.0, 5.0, 5.0, 5.0, 5.0, 6.0, 6.0, 8.0, 8.0, 9.0, 9.0, 9.0, 11.0, 11.0, 11.0, 11.0, 15.0, 15.0, 18.0, 19.0, 19.0, 22.0, 22.0, 23.0, 24.0, 24.0, 24.0, 24.0, 25.0, 24.0, 24.0, 25.0, 25.0, 28.0, 28.0, 31.0, 29.0, 29.0, 31.0, 35.0, 35.0, 36.0, 35.0, 35.0, 37.0, 40.0, 42.0, 41.0, 45.0, 50.0, 51.0, 52.0, 58.0, 63.0, 64.0, 70.0, 72.0, 72.0]}, {\"name\": \"NC\", \"type\": \"bar\", \"x\": [0, 1, 2, 3, 4, 5, 6, 7, 8, 9, 10, 11, 12, 13, 14, 15, 16, 17, 18, 19, 20, 21, 22, 23, 24, 25, 26, 27, 28, 29, 30, 31, 32, 33, 34, 35, 36, 37, 38, 39, 40, 41, 42, 43, 44, 45, 46, 47, 48, 49, 50, 51, 52, 53, 54, 55, 56, 57, 58, 59, 60, 61, 62, 63, 64, 65, 66, 67, 68, 69, 70, 71, 72, 73], \"y\": [0.0, 0.0, 0.0, 0.0, 0.0, 0.0, 0.0, 0.0, 0.0, 0.0, 0.0, 0.0, 0.0, 0.0, 0.0, 0.0, 2.0, 2.0, 2.0, 2.0, 2.0, 5.0, 6.0, 3.0, 6.0, 7.0, 7.0, 7.0, 7.0, 8.0, 8.0, 8.0, 13.0, 15.0, 15.0, 16.0, 16.0, 16.0, 16.0, 16.0, 16.0, 16.0, 16.0, 16.0, 18.0, 16.0, 16.0, 16.0, 16.0, 16.0, 17.0, 17.0, 17.0, 17.0, 17.0, 18.0, 23.0, 24.0, 25.0, 26.0, 26.0, 27.0, 27.0, 28.0, 29.0, 30.0, 30.0, 30.0, 31.0, 34.0, 35.0, 37.0, 37.0, 37.0]}, {\"name\": \"MP\", \"type\": \"bar\", \"x\": [0, 1, 2, 3, 4, 5, 6, 7, 8, 9, 10, 11, 12, 13, 14, 15, 16, 17, 18, 19, 20, 21, 22, 23, 24, 25, 26, 27, 28, 29, 30, 31, 32, 33, 34, 35, 36, 37, 38, 39, 40, 41, 42, 43, 44, 45, 46, 47, 48, 49, 50, 51, 52, 53, 54, 55, 56, 57, 58, 59, 60, 61, 62, 63, 64, 65, 66, 67, 68, 69, 70, 71, 72, 73], \"y\": [0.0, 0.0, 0.0, 0.0, 0.0, 1.0, 1.0, 1.0, 1.0, 2.0, 2.0, 4.0, 5.0, 5.0, 5.0, 5.0, 9.0, 9.0, 8.0, 9.0, 9.0, 10.0, 11.0, 11.0, 12.0, 12.0, 13.0, 13.0, 18.0, 18.0, 18.0, 18.0, 21.0, 20.0, 20.0, 20.0, 21.0, 22.0, 22.0, 22.0, 22.0, 23.0, 25.0, 23.0, 23.0, 24.0, 23.0, 23.0, 24.0, 23.0, 23.0, 26.0, 26.0, 31.0, 36.0, 35.0, 40.0, 46.0, 53.0, 57.0, 57.0, 59.0, 60.0, 61.0, 61.0, 63.0, 63.0, 66.0, 67.0, 67.0, 68.0, 71.0, 76.0, 78.0]}, {\"name\": \"LP\", \"type\": \"bar\", \"x\": [0, 1, 2, 3, 4, 5, 6, 7, 8, 9, 10, 11, 12, 13, 14, 15, 16, 17, 18, 19, 20, 21, 22, 23, 24, 25, 26, 27, 28, 29, 30, 31, 32, 33, 34, 35, 36, 37, 38, 39, 40, 41, 42, 43, 44, 45, 46, 47, 48, 49, 50, 51, 52, 53, 54, 55, 56, 57, 58, 59, 60, 61, 62, 63, 64, 65, 66, 67, 68, 69, 70, 71, 72, 73], \"y\": [0.0, 0.0, 0.0, 0.0, 0.0, 0.0, 0.0, 0.0, 0.0, 1.0, 1.0, 1.0, 1.0, 1.0, 1.0, 2.0, 4.0, 4.0, 4.0, 6.0, 6.0, 11.0, 12.0, 11.0, 14.0, 14.0, 16.0, 16.0, 18.0, 19.0, 19.0, 19.0, 21.0, 22.0, 24.0, 23.0, 23.0, 23.0, 24.0, 25.0, 26.0, 26.0, 26.0, 27.0, 27.0, 27.0, 27.0, 27.0, 29.0, 30.0, 31.0, 31.0, 31.0, 31.0, 32.0, 34.0, 36.0, 37.0, 39.0, 40.0, 40.0, 41.0, 43.0, 51.0, 54.0, 54.0, 54.0, 54.0, 55.0, 57.0, 59.0, 77.0, 88.0, 94.0]}, {\"name\": \"FS\", \"type\": \"bar\", \"x\": [0, 1, 2, 3, 4, 5, 6, 7, 8, 9, 10, 11, 12, 13, 14, 15, 16, 17, 18, 19, 20, 21, 22, 23, 24, 25, 26, 27, 28, 29, 30, 31, 32, 33, 34, 35, 36, 37, 38, 39, 40, 41, 42, 43, 44, 45, 46, 47, 48, 49, 50, 51, 52, 53, 54, 55, 56, 57, 58, 59, 60, 61, 62, 63, 64, 65, 66, 67, 68, 69, 70, 71, 72, 73], \"y\": [0.0, 0.0, 0.0, 0.0, 0.0, 0.0, 0.0, 0.0, 0.0, 0.0, 0.0, 0.0, 0.0, 7.0, 7.0, 9.0, 13.0, 18.0, 30.0, 49.0, 49.0, 68.0, 72.0, 72.0, 74.0, 76.0, 84.0, 84.0, 85.0, 87.0, 89.0, 89.0, 88.0, 93.0, 94.0, 94.0, 96.0, 96.0, 98.0, 97.0, 98.0, 100.0, 100.0, 100.0, 105.0, 106.0, 106.0, 106.0, 111.0, 111.0, 110.0, 111.0, 113.0, 113.0, 116.0, 118.0, 121.0, 122.0, 125.0, 128.0, 130.0, 134.0, 133.0, 134.0, 135.0, 135.0, 135.0, 138.0, 145.0, 151.0, 153.0, 158.0, 163.0, 168.0]}],\n",
       "                        {\"barmode\": \"stack\", \"template\": {\"data\": {\"bar\": [{\"error_x\": {\"color\": \"#2a3f5f\"}, \"error_y\": {\"color\": \"#2a3f5f\"}, \"marker\": {\"line\": {\"color\": \"#E5ECF6\", \"width\": 0.5}}, \"type\": \"bar\"}], \"barpolar\": [{\"marker\": {\"line\": {\"color\": \"#E5ECF6\", \"width\": 0.5}}, \"type\": \"barpolar\"}], \"carpet\": [{\"aaxis\": {\"endlinecolor\": \"#2a3f5f\", \"gridcolor\": \"white\", \"linecolor\": \"white\", \"minorgridcolor\": \"white\", \"startlinecolor\": \"#2a3f5f\"}, \"baxis\": {\"endlinecolor\": \"#2a3f5f\", \"gridcolor\": \"white\", \"linecolor\": \"white\", \"minorgridcolor\": \"white\", \"startlinecolor\": \"#2a3f5f\"}, \"type\": \"carpet\"}], \"choropleth\": [{\"colorbar\": {\"outlinewidth\": 0, \"ticks\": \"\"}, \"type\": \"choropleth\"}], \"contour\": [{\"colorbar\": {\"outlinewidth\": 0, \"ticks\": \"\"}, \"colorscale\": [[0.0, \"#0d0887\"], [0.1111111111111111, \"#46039f\"], [0.2222222222222222, \"#7201a8\"], [0.3333333333333333, \"#9c179e\"], [0.4444444444444444, \"#bd3786\"], [0.5555555555555556, \"#d8576b\"], [0.6666666666666666, \"#ed7953\"], [0.7777777777777778, \"#fb9f3a\"], [0.8888888888888888, \"#fdca26\"], [1.0, \"#f0f921\"]], \"type\": \"contour\"}], \"contourcarpet\": [{\"colorbar\": {\"outlinewidth\": 0, \"ticks\": \"\"}, \"type\": \"contourcarpet\"}], \"heatmap\": [{\"colorbar\": {\"outlinewidth\": 0, \"ticks\": \"\"}, \"colorscale\": [[0.0, \"#0d0887\"], [0.1111111111111111, \"#46039f\"], [0.2222222222222222, \"#7201a8\"], [0.3333333333333333, \"#9c179e\"], [0.4444444444444444, \"#bd3786\"], [0.5555555555555556, \"#d8576b\"], [0.6666666666666666, \"#ed7953\"], [0.7777777777777778, \"#fb9f3a\"], [0.8888888888888888, \"#fdca26\"], [1.0, \"#f0f921\"]], \"type\": \"heatmap\"}], \"heatmapgl\": [{\"colorbar\": {\"outlinewidth\": 0, \"ticks\": \"\"}, \"colorscale\": [[0.0, \"#0d0887\"], [0.1111111111111111, \"#46039f\"], [0.2222222222222222, \"#7201a8\"], [0.3333333333333333, \"#9c179e\"], [0.4444444444444444, \"#bd3786\"], [0.5555555555555556, \"#d8576b\"], [0.6666666666666666, \"#ed7953\"], [0.7777777777777778, \"#fb9f3a\"], [0.8888888888888888, \"#fdca26\"], [1.0, \"#f0f921\"]], \"type\": \"heatmapgl\"}], \"histogram\": [{\"marker\": {\"colorbar\": {\"outlinewidth\": 0, \"ticks\": \"\"}}, \"type\": \"histogram\"}], \"histogram2d\": [{\"colorbar\": {\"outlinewidth\": 0, \"ticks\": \"\"}, \"colorscale\": [[0.0, \"#0d0887\"], [0.1111111111111111, \"#46039f\"], [0.2222222222222222, \"#7201a8\"], [0.3333333333333333, \"#9c179e\"], [0.4444444444444444, \"#bd3786\"], [0.5555555555555556, \"#d8576b\"], [0.6666666666666666, \"#ed7953\"], [0.7777777777777778, \"#fb9f3a\"], [0.8888888888888888, \"#fdca26\"], [1.0, \"#f0f921\"]], \"type\": \"histogram2d\"}], \"histogram2dcontour\": [{\"colorbar\": {\"outlinewidth\": 0, \"ticks\": \"\"}, \"colorscale\": [[0.0, \"#0d0887\"], [0.1111111111111111, \"#46039f\"], [0.2222222222222222, \"#7201a8\"], [0.3333333333333333, \"#9c179e\"], [0.4444444444444444, \"#bd3786\"], [0.5555555555555556, \"#d8576b\"], [0.6666666666666666, \"#ed7953\"], [0.7777777777777778, \"#fb9f3a\"], [0.8888888888888888, \"#fdca26\"], [1.0, \"#f0f921\"]], \"type\": \"histogram2dcontour\"}], \"mesh3d\": [{\"colorbar\": {\"outlinewidth\": 0, \"ticks\": \"\"}, \"type\": \"mesh3d\"}], \"parcoords\": [{\"line\": {\"colorbar\": {\"outlinewidth\": 0, \"ticks\": \"\"}}, \"type\": \"parcoords\"}], \"pie\": [{\"automargin\": true, \"type\": \"pie\"}], \"scatter\": [{\"marker\": {\"colorbar\": {\"outlinewidth\": 0, \"ticks\": \"\"}}, \"type\": \"scatter\"}], \"scatter3d\": [{\"line\": {\"colorbar\": {\"outlinewidth\": 0, \"ticks\": \"\"}}, \"marker\": {\"colorbar\": {\"outlinewidth\": 0, \"ticks\": \"\"}}, \"type\": \"scatter3d\"}], \"scattercarpet\": [{\"marker\": {\"colorbar\": {\"outlinewidth\": 0, \"ticks\": \"\"}}, \"type\": \"scattercarpet\"}], \"scattergeo\": [{\"marker\": {\"colorbar\": {\"outlinewidth\": 0, \"ticks\": \"\"}}, \"type\": \"scattergeo\"}], \"scattergl\": [{\"marker\": {\"colorbar\": {\"outlinewidth\": 0, \"ticks\": \"\"}}, \"type\": \"scattergl\"}], \"scattermapbox\": [{\"marker\": {\"colorbar\": {\"outlinewidth\": 0, \"ticks\": \"\"}}, \"type\": \"scattermapbox\"}], \"scatterpolar\": [{\"marker\": {\"colorbar\": {\"outlinewidth\": 0, \"ticks\": \"\"}}, \"type\": \"scatterpolar\"}], \"scatterpolargl\": [{\"marker\": {\"colorbar\": {\"outlinewidth\": 0, \"ticks\": \"\"}}, \"type\": \"scatterpolargl\"}], \"scatterternary\": [{\"marker\": {\"colorbar\": {\"outlinewidth\": 0, \"ticks\": \"\"}}, \"type\": \"scatterternary\"}], \"surface\": [{\"colorbar\": {\"outlinewidth\": 0, \"ticks\": \"\"}, \"colorscale\": [[0.0, \"#0d0887\"], [0.1111111111111111, \"#46039f\"], [0.2222222222222222, \"#7201a8\"], [0.3333333333333333, \"#9c179e\"], [0.4444444444444444, \"#bd3786\"], [0.5555555555555556, \"#d8576b\"], [0.6666666666666666, \"#ed7953\"], [0.7777777777777778, \"#fb9f3a\"], [0.8888888888888888, \"#fdca26\"], [1.0, \"#f0f921\"]], \"type\": \"surface\"}], \"table\": [{\"cells\": {\"fill\": {\"color\": \"#EBF0F8\"}, \"line\": {\"color\": \"white\"}}, \"header\": {\"fill\": {\"color\": \"#C8D4E3\"}, \"line\": {\"color\": \"white\"}}, \"type\": \"table\"}]}, \"layout\": {\"annotationdefaults\": {\"arrowcolor\": \"#2a3f5f\", \"arrowhead\": 0, \"arrowwidth\": 1}, \"coloraxis\": {\"colorbar\": {\"outlinewidth\": 0, \"ticks\": \"\"}}, \"colorscale\": {\"diverging\": [[0, \"#8e0152\"], [0.1, \"#c51b7d\"], [0.2, \"#de77ae\"], [0.3, \"#f1b6da\"], [0.4, \"#fde0ef\"], [0.5, \"#f7f7f7\"], [0.6, \"#e6f5d0\"], [0.7, \"#b8e186\"], [0.8, \"#7fbc41\"], [0.9, \"#4d9221\"], [1, \"#276419\"]], \"sequential\": [[0.0, \"#0d0887\"], [0.1111111111111111, \"#46039f\"], [0.2222222222222222, \"#7201a8\"], [0.3333333333333333, \"#9c179e\"], [0.4444444444444444, \"#bd3786\"], [0.5555555555555556, \"#d8576b\"], [0.6666666666666666, \"#ed7953\"], [0.7777777777777778, \"#fb9f3a\"], [0.8888888888888888, \"#fdca26\"], [1.0, \"#f0f921\"]], \"sequentialminus\": [[0.0, \"#0d0887\"], [0.1111111111111111, \"#46039f\"], [0.2222222222222222, \"#7201a8\"], [0.3333333333333333, \"#9c179e\"], [0.4444444444444444, \"#bd3786\"], [0.5555555555555556, \"#d8576b\"], [0.6666666666666666, \"#ed7953\"], [0.7777777777777778, \"#fb9f3a\"], [0.8888888888888888, \"#fdca26\"], [1.0, \"#f0f921\"]]}, \"colorway\": [\"#636efa\", \"#EF553B\", \"#00cc96\", \"#ab63fa\", \"#FFA15A\", \"#19d3f3\", \"#FF6692\", \"#B6E880\", \"#FF97FF\", \"#FECB52\"], \"font\": {\"color\": \"#2a3f5f\"}, \"geo\": {\"bgcolor\": \"white\", \"lakecolor\": \"white\", \"landcolor\": \"#E5ECF6\", \"showlakes\": true, \"showland\": true, \"subunitcolor\": \"white\"}, \"hoverlabel\": {\"align\": \"left\"}, \"hovermode\": \"closest\", \"mapbox\": {\"style\": \"light\"}, \"paper_bgcolor\": \"white\", \"plot_bgcolor\": \"#E5ECF6\", \"polar\": {\"angularaxis\": {\"gridcolor\": \"white\", \"linecolor\": \"white\", \"ticks\": \"\"}, \"bgcolor\": \"#E5ECF6\", \"radialaxis\": {\"gridcolor\": \"white\", \"linecolor\": \"white\", \"ticks\": \"\"}}, \"scene\": {\"xaxis\": {\"backgroundcolor\": \"#E5ECF6\", \"gridcolor\": \"white\", \"gridwidth\": 2, \"linecolor\": \"white\", \"showbackground\": true, \"ticks\": \"\", \"zerolinecolor\": \"white\"}, \"yaxis\": {\"backgroundcolor\": \"#E5ECF6\", \"gridcolor\": \"white\", \"gridwidth\": 2, \"linecolor\": \"white\", \"showbackground\": true, \"ticks\": \"\", \"zerolinecolor\": \"white\"}, \"zaxis\": {\"backgroundcolor\": \"#E5ECF6\", \"gridcolor\": \"white\", \"gridwidth\": 2, \"linecolor\": \"white\", \"showbackground\": true, \"ticks\": \"\", \"zerolinecolor\": \"white\"}}, \"shapedefaults\": {\"line\": {\"color\": \"#2a3f5f\"}}, \"ternary\": {\"aaxis\": {\"gridcolor\": \"white\", \"linecolor\": \"white\", \"ticks\": \"\"}, \"baxis\": {\"gridcolor\": \"white\", \"linecolor\": \"white\", \"ticks\": \"\"}, \"bgcolor\": \"#E5ECF6\", \"caxis\": {\"gridcolor\": \"white\", \"linecolor\": \"white\", \"ticks\": \"\"}}, \"title\": {\"x\": 0.05}, \"xaxis\": {\"automargin\": true, \"gridcolor\": \"white\", \"linecolor\": \"white\", \"ticks\": \"\", \"title\": {\"standoff\": 15}, \"zerolinecolor\": \"white\", \"zerolinewidth\": 2}, \"yaxis\": {\"automargin\": true, \"gridcolor\": \"white\", \"linecolor\": \"white\", \"ticks\": \"\", \"title\": {\"standoff\": 15}, \"zerolinecolor\": \"white\", \"zerolinewidth\": 2}}}, \"title\": {\"text\": \"Confirmed Cases by provinces\"}, \"updatemenus\": [{\"active\": 0, \"buttons\": [{\"args\": [{\"visible\": [true, true, true, true, true, true, true, true, true]}, {\"title\": \"Cumulative Confirmed Cases: Eastern Cape\"}], \"label\": \"ALL\", \"method\": \"update\"}, {\"args\": [{\"visible\": [true, false, false, false, false, false, false, false, false]}, {\"title\": \"Cumulative Confirmed Cases: Eastern Cape\"}], \"label\": \"GP\", \"method\": \"update\"}, {\"args\": [{\"visible\": [false, true, false, false, false, false, false, false, false]}, {\"title\": \"Cumulative Confirmed Cases: Western Cape\"}], \"label\": \"WC\", \"method\": \"update\"}, {\"args\": [{\"visible\": [false, false, true, false, false, false, false, false, false]}, {\"title\": \"Cumulative Confirmed Cases: Free State\"}], \"label\": \"KZN\", \"method\": \"update\"}, {\"args\": [{\"visible\": [false, false, false, true, false, false, false, false, false]}, {\"title\": \"Cumulative Confirmed Cases: Gauteng\"}], \"label\": \"EC\", \"method\": \"update\"}, {\"args\": [{\"visible\": [false, false, false, false, true, false, false, false, false]}, {\"title\": \"Cumulative Confirmed Cases: Kwa Zulu Natal\"}], \"label\": \"NW\", \"method\": \"update\"}, {\"args\": [{\"visible\": [false, false, false, false, false, true, false, false, false]}, {\"title\": \"Cumulative Confirmed Cases: North West\"}], \"label\": \"NC\", \"method\": \"update\"}, {\"args\": [{\"visible\": [false, false, false, false, false, false, true, false, false]}, {\"title\": \"Cumulative Confirmed Cases: Limpopo\"}], \"label\": \"MP\", \"method\": \"update\"}, {\"args\": [{\"visible\": [false, false, false, false, false, false, false, true, false]}, {\"title\": \"Cumulative Confirmed Cases: Mpumalanga\"}], \"label\": \"LP\", \"method\": \"update\"}, {\"args\": [{\"visible\": [false, false, false, false, false, false, false, false, true]}, {\"title\": \"Cumulative Confirmed Cases: Unlocated\"}], \"label\": \"FS\", \"method\": \"update\"}]}], \"xaxis\": {\"rangeslider\": {\"visible\": true}, \"title\": {\"text\": \"Days since the first confirmed case\"}}, \"yaxis\": {\"title\": {\"text\": \"Linear\"}}},\n",
       "                        {\"responsive\": true}\n",
       "                    ).then(function(){\n",
       "                            \n",
       "var gd = document.getElementById('ab28f655-fff4-4248-9e1d-f40f7798b0b1');\n",
       "var x = new MutationObserver(function (mutations, observer) {{\n",
       "        var display = window.getComputedStyle(gd).display;\n",
       "        if (!display || display === 'none') {{\n",
       "            console.log([gd, 'removed!']);\n",
       "            Plotly.purge(gd);\n",
       "            observer.disconnect();\n",
       "        }}\n",
       "}});\n",
       "\n",
       "// Listen for the removal of the full notebook cells\n",
       "var notebookContainer = gd.closest('#notebook-container');\n",
       "if (notebookContainer) {{\n",
       "    x.observe(notebookContainer, {childList: true});\n",
       "}}\n",
       "\n",
       "// Listen for the clearing of the current output cell\n",
       "var outputEl = gd.closest('.output');\n",
       "if (outputEl) {{\n",
       "    x.observe(outputEl, {childList: true});\n",
       "}}\n",
       "\n",
       "                        })\n",
       "                };\n",
       "                });\n",
       "            </script>\n",
       "        </div>"
      ]
     },
     "metadata": {},
     "output_type": "display_data"
    }
   ],
   "source": [
    "\n",
    "\n",
    "fig_prov_stacked = go.Figure(data=[\n",
    "    go.Bar( name='GP',x=df_day.index, y=df_day.GP),\n",
    "    go.Bar( name='WC',x=df_day.index, y=df_day.WC),\n",
    "    go.Bar( name='KZN',x=df_day.index, y=df_day.KZN),\n",
    "    go.Bar( name='EC',x=df_day.index, y=df_day.EC),\n",
    "    go.Bar( name='NW',x=df_day.index, y=df_day.NW),\n",
    "    go.Bar( name='NC',x=df_day.index, y=df_day.NC),\n",
    "    go.Bar( name='MP',x=df_day.index, y=df_day.MP),\n",
    "    go.Bar( name='LP',x=df_day.index, y=df_day.LP),\n",
    "    go.Bar( name='FS',x=df_day.index, y=df_day.FS),\n",
    "])\n",
    "fig_prov_stacked.update_layout(\n",
    "    updatemenus=[\n",
    "        dict(\n",
    "            active=0,\n",
    "            buttons=list([\n",
    "                dict(label=\"ALL\",\n",
    "                     method=\"update\",\n",
    "                     args=[{\"visible\": [True,True,True,True,True,True,True,True,True,]},\n",
    "                           {\"title\": \"Cumulative Confirmed Cases: Eastern Cape\",\n",
    "                            }]),\n",
    "                dict(label=\"GP\",\n",
    "                     method=\"update\",\n",
    "                     args=[{\"visible\":  [True, False, False,False, False, False,False, False, False]},\n",
    "                           {\"title\": \"Cumulative Confirmed Cases: Eastern Cape\",\n",
    "                            }]),\n",
    "                dict(label=\"WC\",\n",
    "                     method=\"update\",\n",
    "                     args=[{\"visible\": [False,True,False,False,False,False,False,False,False]},\n",
    "                           {\"title\": \"Cumulative Confirmed Cases: Western Cape\",\n",
    "                          }]),\n",
    "                dict(label=\"KZN\",\n",
    "                     method=\"update\",\n",
    "                     args=[{\"visible\": [False,False,True,False,False,False,False,False,False]},\n",
    "                           {\"title\": \"Cumulative Confirmed Cases: Free State\",\n",
    "                          }]),\n",
    "                dict(label=\"EC\",\n",
    "                     method=\"update\",\n",
    "                     args=[{\"visible\": [False,False,False,True,False,False,False,False,False]},\n",
    "                           {\"title\": \"Cumulative Confirmed Cases: Gauteng\",\n",
    "                          }]),\n",
    "                dict(label=\"NW\",\n",
    "                     method=\"update\",\n",
    "                     args=[{\"visible\": [False,False,False,False,True, False,False, False, False]},\n",
    "                           {\"title\": \"Cumulative Confirmed Cases: Kwa Zulu Natal\",\n",
    "                          }]),\n",
    "                dict(label=\"NC\",\n",
    "                     method=\"update\",\n",
    "                     args=[{\"visible\": [False,False,False,False,False,True,False, False, False]},\n",
    "                           {\"title\": \"Cumulative Confirmed Cases: North West\",\n",
    "                          }]),\n",
    "                dict(label=\"MP\",\n",
    "                     method=\"update\",\n",
    "                     args=[{\"visible\": [ False,False,False,False, False,False, True, False, False]},\n",
    "                           {\"title\": \"Cumulative Confirmed Cases: Limpopo\",\n",
    "                          }]),\n",
    "                dict(label=\"LP\",\n",
    "                     method=\"update\",\n",
    "                     args=[{\"visible\": [ False,False,False,False, False,False,False,True,   False]},\n",
    "                           {\"title\": \"Cumulative Confirmed Cases: Mpumalanga\",\n",
    "                          }]),\n",
    "                 dict(label=\"FS\",\n",
    "                     method=\"update\",\n",
    "                     args=[{\"visible\": [ False,False,False,False, False,False,False, False,True]},\n",
    "                           {\"title\": \"Cumulative Confirmed Cases: Unlocated\",\n",
    "                          }]),\n",
    "            ]),\n",
    "        )\n",
    "    ])\n",
    "# Change the bar mode\n",
    "fig_prov_stacked.update_layout(barmode='stack',xaxis=dict(\n",
    "    rangeslider=dict(\n",
    "        visible = True)))\n",
    "fig_prov_stacked.update_layout( title_text=\"Confirmed Cases by provinces\",\n",
    "                 xaxis_title=\"Days since the first confirmed case\",\n",
    "                  yaxis_title=\"Linear\")\n",
    "                            \n",
    "fig_prov_stacked.show()"
   ]
  },
  {
   "cell_type": "code",
   "execution_count": 17,
   "metadata": {},
   "outputs": [
    {
     "data": {
      "application/vnd.plotly.v1+json": {
       "config": {
        "plotlyServerURL": "https://plot.ly"
       },
       "data": [
        {
         "line": {
          "color": "grey",
          "dash": "dot",
          "width": 4
         },
         "name": "1st Day",
         "type": "scatter",
         "x": [
          2,
          10
         ],
         "y": [
          2,
          312
         ]
        },
        {
         "line": {
          "color": "grey",
          "dash": "dot",
          "width": 4
         },
         "name": "2nd Day",
         "type": "scatter",
         "x": [
          3,
          60
         ],
         "y": [
          2,
          59
         ]
        },
        {
         "line": {
          "color": "grey",
          "dash": "dot",
          "width": 4
         },
         "name": "3rd Day",
         "type": "scatter",
         "x": [
          4,
          60
         ],
         "y": [
          2,
          36
         ]
        },
        {
         "name": "EC",
         "type": "scatter",
         "x": [
          0,
          1,
          2,
          3,
          4,
          5,
          6,
          7,
          8,
          9,
          10,
          11,
          12,
          13,
          14,
          15,
          16,
          17,
          18,
          19,
          20,
          21,
          22,
          23,
          24,
          25,
          26,
          27,
          28,
          29,
          30,
          31,
          32,
          33,
          34,
          35,
          36,
          37,
          38,
          39,
          40,
          41,
          42,
          43,
          44,
          45,
          46,
          47,
          48,
          49,
          50,
          51,
          52,
          53,
          54,
          55,
          56,
          57,
          58,
          59,
          60,
          61,
          62,
          63,
          64,
          65,
          66,
          67,
          68,
          69,
          70,
          71,
          72,
          73
         ],
         "y": [
          0,
          0,
          0,
          0,
          0,
          0,
          0,
          0,
          0,
          0,
          0,
          0,
          0,
          0,
          1,
          2,
          2,
          2,
          2,
          5,
          5,
          10,
          12,
          12,
          12,
          15,
          17,
          21,
          25,
          31,
          32,
          32,
          45,
          61,
          68,
          69,
          88,
          104,
          174,
          199,
          220,
          246,
          270,
          293,
          310,
          345,
          377,
          417,
          480,
          488,
          535,
          588,
          616,
          630,
          647,
          691,
          732,
          774,
          814,
          838,
          849,
          929,
          989,
          1078,
          1218,
          1356,
          1504,
          1534,
          1569,
          1662,
          1812,
          1936,
          2052,
          2135
         ]
        },
        {
         "name": "WC",
         "type": "scatter",
         "x": [
          0,
          1,
          2,
          3,
          4,
          5,
          6,
          7,
          8,
          9,
          10,
          11,
          12,
          13,
          14,
          15,
          16,
          17,
          18,
          19,
          20,
          21,
          22,
          23,
          24,
          25,
          26,
          27,
          28,
          29,
          30,
          31,
          32,
          33,
          34,
          35,
          36,
          37,
          38,
          39,
          40,
          41,
          42,
          43,
          44,
          45,
          46,
          47,
          48,
          49,
          50,
          51,
          52,
          53,
          54,
          55,
          56,
          57,
          58,
          59,
          60,
          61,
          62,
          63,
          64,
          65,
          66,
          67,
          68,
          69,
          70,
          71,
          72,
          73
         ],
         "y": [
          0,
          0,
          0,
          0,
          1,
          1,
          3,
          9,
          14,
          16,
          21,
          31,
          46,
          57,
          75,
          89,
          100,
          113,
          183,
          229,
          229,
          271,
          310,
          324,
          325,
          326,
          353,
          374,
          433,
          454,
          462,
          462,
          495,
          515,
          541,
          546,
          587,
          617,
          643,
          657,
          675,
          717,
          836,
          868,
          940,
          1010,
          1079,
          1279,
          1413,
          1514,
          1608,
          1737,
          1870,
          2135,
          2342,
          2507,
          2700,
          3044,
          3362,
          3609,
          3760,
          3994,
          4497,
          4809,
          5168,
          5621,
          6105,
          6713,
          7235,
          7798,
          8404,
          9294,
          10035,
          10639
         ]
        },
        {
         "name": "FS",
         "type": "scatter",
         "x": [
          0,
          1,
          2,
          3,
          4,
          5,
          6,
          7,
          8,
          9,
          10,
          11,
          12,
          13,
          14,
          15,
          16,
          17,
          18,
          19,
          20,
          21,
          22,
          23,
          24,
          25,
          26,
          27,
          28,
          29,
          30,
          31,
          32,
          33,
          34,
          35,
          36,
          37,
          38,
          39,
          40,
          41,
          42,
          43,
          44,
          45,
          46,
          47,
          48,
          49,
          50,
          51,
          52,
          53,
          54,
          55,
          56,
          57,
          58,
          59,
          60,
          61,
          62,
          63,
          64,
          65,
          66,
          67,
          68,
          69,
          70,
          71,
          72,
          73
         ],
         "y": [
          0,
          0,
          0,
          0,
          0,
          0,
          0,
          0,
          0,
          0,
          0,
          0,
          0,
          7,
          7,
          9,
          13,
          18,
          30,
          49,
          49,
          68,
          72,
          72,
          74,
          76,
          84,
          84,
          85,
          87,
          89,
          89,
          88,
          93,
          94,
          94,
          96,
          96,
          98,
          97,
          98,
          100,
          100,
          100,
          105,
          106,
          106,
          106,
          111,
          111,
          110,
          111,
          113,
          113,
          116,
          118,
          121,
          122,
          125,
          128,
          130,
          134,
          133,
          134,
          135,
          135,
          135,
          138,
          145,
          151,
          153,
          158,
          163,
          168
         ]
        },
        {
         "name": "GP",
         "type": "scatter",
         "x": [
          0,
          1,
          2,
          3,
          4,
          5,
          6,
          7,
          8,
          9,
          10,
          11,
          12,
          13,
          14,
          15,
          16,
          17,
          18,
          19,
          20,
          21,
          22,
          23,
          24,
          25,
          26,
          27,
          28,
          29,
          30,
          31,
          32,
          33,
          34,
          35,
          36,
          37,
          38,
          39,
          40,
          41,
          42,
          43,
          44,
          45,
          46,
          47,
          48,
          49,
          50,
          51,
          52,
          53,
          54,
          55,
          56,
          57,
          58,
          59,
          60,
          61,
          62,
          63,
          64,
          65,
          66,
          67,
          68,
          69,
          70,
          71,
          72,
          73
         ],
         "y": [
          0,
          1,
          1,
          1,
          5,
          6,
          10,
          17,
          24,
          31,
          45,
          61,
          76,
          109,
          125,
          132,
          207,
          302,
          319,
          409,
          409,
          533,
          584,
          618,
          633,
          645,
          663,
          672,
          693,
          704,
          713,
          713,
          782,
          795,
          801,
          813,
          865,
          890,
          909,
          930,
          969,
          1018,
          1101,
          1148,
          1170,
          1199,
          1224,
          1252,
          1281,
          1304,
          1331,
          1353,
          1377,
          1408,
          1446,
          1507,
          1598,
          1624,
          1651,
          1697,
          1720,
          1804,
          1851,
          1910,
          1952,
          1971,
          2014,
          2074,
          2135,
          2210,
          2262,
          2329,
          2343,
          2361
         ]
        },
        {
         "name": "KZN",
         "type": "scatter",
         "x": [
          0,
          1,
          2,
          3,
          4,
          5,
          6,
          7,
          8,
          9,
          10,
          11,
          12,
          13,
          14,
          15,
          16,
          17,
          18,
          19,
          20,
          21,
          22,
          23,
          24,
          25,
          26,
          27,
          28,
          29,
          30,
          31,
          32,
          33,
          34,
          35,
          36,
          37,
          38,
          39,
          40,
          41,
          42,
          43,
          44,
          45,
          46,
          47,
          48,
          49,
          50,
          51,
          52,
          53,
          54,
          55,
          56,
          57,
          58,
          59,
          60,
          61,
          62,
          63,
          64,
          65,
          66,
          67,
          68,
          69,
          70,
          71,
          72,
          73
         ],
         "y": [
          1,
          1,
          2,
          6,
          7,
          8,
          10,
          11,
          12,
          12,
          16,
          19,
          22,
          23,
          26,
          35,
          60,
          80,
          91,
          134,
          134,
          156,
          167,
          171,
          179,
          186,
          206,
          215,
          232,
          246,
          257,
          257,
          354,
          387,
          412,
          418,
          443,
          465,
          489,
          519,
          539,
          591,
          604,
          617,
          639,
          671,
          758,
          807,
          841,
          841,
          863,
          902,
          919,
          956,
          980,
          1006,
          1051,
          1076,
          1106,
          1142,
          1149,
          1204,
          1253,
          1308,
          1353,
          1372,
          1394,
          1413,
          1444,
          1482,
          1498,
          1543,
          1567,
          1616
         ]
        },
        {
         "name": "NW",
         "type": "scatter",
         "x": [
          0,
          1,
          2,
          3,
          4,
          5,
          6,
          7,
          8,
          9,
          10,
          11,
          12,
          13,
          14,
          15,
          16,
          17,
          18,
          19,
          20,
          21,
          22,
          23,
          24,
          25,
          26,
          27,
          28,
          29,
          30,
          31,
          32,
          33,
          34,
          35,
          36,
          37,
          38,
          39,
          40,
          41,
          42,
          43,
          44,
          45,
          46,
          47,
          48,
          49,
          50,
          51,
          52,
          53,
          54,
          55,
          56,
          57,
          58,
          59,
          60,
          61,
          62,
          63,
          64,
          65,
          66,
          67,
          68,
          69,
          70,
          71,
          72,
          73
         ],
         "y": [
          0,
          0,
          0,
          0,
          0,
          0,
          0,
          0,
          0,
          0,
          0,
          0,
          0,
          0,
          0,
          0,
          4,
          5,
          5,
          5,
          5,
          6,
          6,
          8,
          8,
          9,
          9,
          9,
          11,
          11,
          11,
          11,
          15,
          15,
          18,
          19,
          19,
          22,
          22,
          23,
          24,
          24,
          24,
          24,
          25,
          24,
          24,
          25,
          25,
          28,
          28,
          31,
          29,
          29,
          31,
          35,
          35,
          36,
          35,
          35,
          37,
          40,
          42,
          41,
          45,
          50,
          51,
          52,
          58,
          63,
          64,
          70,
          72,
          72
         ]
        },
        {
         "name": "LP",
         "type": "scatter",
         "x": [
          0,
          1,
          2,
          3,
          4,
          5,
          6,
          7,
          8,
          9,
          10,
          11,
          12,
          13,
          14,
          15,
          16,
          17,
          18,
          19,
          20,
          21,
          22,
          23,
          24,
          25,
          26,
          27,
          28,
          29,
          30,
          31,
          32,
          33,
          34,
          35,
          36,
          37,
          38,
          39,
          40,
          41,
          42,
          43,
          44,
          45,
          46,
          47,
          48,
          49,
          50,
          51,
          52,
          53,
          54,
          55,
          56,
          57,
          58,
          59,
          60,
          61,
          62,
          63,
          64,
          65,
          66,
          67,
          68,
          69,
          70,
          71,
          72,
          73
         ],
         "y": [
          0,
          0,
          0,
          0,
          0,
          0,
          0,
          0,
          0,
          1,
          1,
          1,
          1,
          1,
          1,
          2,
          4,
          4,
          4,
          6,
          6,
          11,
          12,
          11,
          14,
          14,
          16,
          16,
          18,
          19,
          19,
          19,
          21,
          22,
          24,
          23,
          23,
          23,
          24,
          25,
          26,
          26,
          26,
          27,
          27,
          27,
          27,
          27,
          29,
          30,
          31,
          31,
          31,
          31,
          32,
          34,
          36,
          37,
          39,
          40,
          40,
          41,
          43,
          51,
          54,
          54,
          54,
          54,
          55,
          57,
          59,
          77,
          88,
          94
         ]
        },
        {
         "name": "MP",
         "type": "scatter",
         "x": [
          0,
          1,
          2,
          3,
          4,
          5,
          6,
          7,
          8,
          9,
          10,
          11,
          12,
          13,
          14,
          15,
          16,
          17,
          18,
          19,
          20,
          21,
          22,
          23,
          24,
          25,
          26,
          27,
          28,
          29,
          30,
          31,
          32,
          33,
          34,
          35,
          36,
          37,
          38,
          39,
          40,
          41,
          42,
          43,
          44,
          45,
          46,
          47,
          48,
          49,
          50,
          51,
          52,
          53,
          54,
          55,
          56,
          57,
          58,
          59,
          60,
          61,
          62,
          63,
          64,
          65,
          66,
          67,
          68,
          69,
          70,
          71,
          72,
          73
         ],
         "y": [
          0,
          0,
          0,
          0,
          0,
          1,
          1,
          1,
          1,
          2,
          2,
          4,
          5,
          5,
          5,
          5,
          9,
          9,
          8,
          9,
          9,
          10,
          11,
          11,
          12,
          12,
          13,
          13,
          18,
          18,
          18,
          18,
          21,
          20,
          20,
          20,
          21,
          22,
          22,
          22,
          22,
          23,
          25,
          23,
          23,
          24,
          23,
          23,
          24,
          23,
          23,
          26,
          26,
          31,
          36,
          35,
          40,
          46,
          53,
          57,
          57,
          59,
          60,
          61,
          61,
          63,
          63,
          66,
          67,
          67,
          68,
          71,
          76,
          78
         ]
        },
        {
         "name": "NC",
         "type": "scatter",
         "x": [
          0,
          1,
          2,
          3,
          4,
          5,
          6,
          7,
          8,
          9,
          10,
          11,
          12,
          13,
          14,
          15,
          16,
          17,
          18,
          19,
          20,
          21,
          22,
          23,
          24,
          25,
          26,
          27,
          28,
          29,
          30,
          31,
          32,
          33,
          34,
          35,
          36,
          37,
          38,
          39,
          40,
          41,
          42,
          43,
          44,
          45,
          46,
          47,
          48,
          49,
          50,
          51,
          52,
          53,
          54,
          55,
          56,
          57,
          58,
          59,
          60,
          61,
          62,
          63,
          64,
          65,
          66,
          67,
          68,
          69,
          70,
          71,
          72,
          73
         ],
         "y": [
          0,
          0,
          0,
          0,
          0,
          0,
          0,
          0,
          0,
          0,
          0,
          0,
          0,
          0,
          0,
          0,
          2,
          2,
          2,
          2,
          2,
          5,
          6,
          3,
          6,
          7,
          7,
          7,
          7,
          8,
          8,
          8,
          13,
          15,
          15,
          16,
          16,
          16,
          16,
          16,
          16,
          16,
          16,
          16,
          18,
          16,
          16,
          16,
          16,
          16,
          17,
          17,
          17,
          17,
          17,
          18,
          23,
          24,
          25,
          26,
          26,
          27,
          27,
          28,
          29,
          30,
          30,
          30,
          31,
          34,
          35,
          37,
          37,
          37
         ]
        }
       ],
       "layout": {
        "annotations": [
         {
          "text": "Cases Doubles every day",
          "x": 10,
          "y": 2.5
         },
         {
          "text": "Doubles every 2nd day",
          "x": 21,
          "y": 0.8
         },
         {
          "text": "3rd day",
          "x": 40,
          "y": 1.1
         }
        ],
        "template": {
         "data": {
          "bar": [
           {
            "error_x": {
             "color": "#2a3f5f"
            },
            "error_y": {
             "color": "#2a3f5f"
            },
            "marker": {
             "line": {
              "color": "#E5ECF6",
              "width": 0.5
             }
            },
            "type": "bar"
           }
          ],
          "barpolar": [
           {
            "marker": {
             "line": {
              "color": "#E5ECF6",
              "width": 0.5
             }
            },
            "type": "barpolar"
           }
          ],
          "carpet": [
           {
            "aaxis": {
             "endlinecolor": "#2a3f5f",
             "gridcolor": "white",
             "linecolor": "white",
             "minorgridcolor": "white",
             "startlinecolor": "#2a3f5f"
            },
            "baxis": {
             "endlinecolor": "#2a3f5f",
             "gridcolor": "white",
             "linecolor": "white",
             "minorgridcolor": "white",
             "startlinecolor": "#2a3f5f"
            },
            "type": "carpet"
           }
          ],
          "choropleth": [
           {
            "colorbar": {
             "outlinewidth": 0,
             "ticks": ""
            },
            "type": "choropleth"
           }
          ],
          "contour": [
           {
            "colorbar": {
             "outlinewidth": 0,
             "ticks": ""
            },
            "colorscale": [
             [
              0,
              "#0d0887"
             ],
             [
              0.1111111111111111,
              "#46039f"
             ],
             [
              0.2222222222222222,
              "#7201a8"
             ],
             [
              0.3333333333333333,
              "#9c179e"
             ],
             [
              0.4444444444444444,
              "#bd3786"
             ],
             [
              0.5555555555555556,
              "#d8576b"
             ],
             [
              0.6666666666666666,
              "#ed7953"
             ],
             [
              0.7777777777777778,
              "#fb9f3a"
             ],
             [
              0.8888888888888888,
              "#fdca26"
             ],
             [
              1,
              "#f0f921"
             ]
            ],
            "type": "contour"
           }
          ],
          "contourcarpet": [
           {
            "colorbar": {
             "outlinewidth": 0,
             "ticks": ""
            },
            "type": "contourcarpet"
           }
          ],
          "heatmap": [
           {
            "colorbar": {
             "outlinewidth": 0,
             "ticks": ""
            },
            "colorscale": [
             [
              0,
              "#0d0887"
             ],
             [
              0.1111111111111111,
              "#46039f"
             ],
             [
              0.2222222222222222,
              "#7201a8"
             ],
             [
              0.3333333333333333,
              "#9c179e"
             ],
             [
              0.4444444444444444,
              "#bd3786"
             ],
             [
              0.5555555555555556,
              "#d8576b"
             ],
             [
              0.6666666666666666,
              "#ed7953"
             ],
             [
              0.7777777777777778,
              "#fb9f3a"
             ],
             [
              0.8888888888888888,
              "#fdca26"
             ],
             [
              1,
              "#f0f921"
             ]
            ],
            "type": "heatmap"
           }
          ],
          "heatmapgl": [
           {
            "colorbar": {
             "outlinewidth": 0,
             "ticks": ""
            },
            "colorscale": [
             [
              0,
              "#0d0887"
             ],
             [
              0.1111111111111111,
              "#46039f"
             ],
             [
              0.2222222222222222,
              "#7201a8"
             ],
             [
              0.3333333333333333,
              "#9c179e"
             ],
             [
              0.4444444444444444,
              "#bd3786"
             ],
             [
              0.5555555555555556,
              "#d8576b"
             ],
             [
              0.6666666666666666,
              "#ed7953"
             ],
             [
              0.7777777777777778,
              "#fb9f3a"
             ],
             [
              0.8888888888888888,
              "#fdca26"
             ],
             [
              1,
              "#f0f921"
             ]
            ],
            "type": "heatmapgl"
           }
          ],
          "histogram": [
           {
            "marker": {
             "colorbar": {
              "outlinewidth": 0,
              "ticks": ""
             }
            },
            "type": "histogram"
           }
          ],
          "histogram2d": [
           {
            "colorbar": {
             "outlinewidth": 0,
             "ticks": ""
            },
            "colorscale": [
             [
              0,
              "#0d0887"
             ],
             [
              0.1111111111111111,
              "#46039f"
             ],
             [
              0.2222222222222222,
              "#7201a8"
             ],
             [
              0.3333333333333333,
              "#9c179e"
             ],
             [
              0.4444444444444444,
              "#bd3786"
             ],
             [
              0.5555555555555556,
              "#d8576b"
             ],
             [
              0.6666666666666666,
              "#ed7953"
             ],
             [
              0.7777777777777778,
              "#fb9f3a"
             ],
             [
              0.8888888888888888,
              "#fdca26"
             ],
             [
              1,
              "#f0f921"
             ]
            ],
            "type": "histogram2d"
           }
          ],
          "histogram2dcontour": [
           {
            "colorbar": {
             "outlinewidth": 0,
             "ticks": ""
            },
            "colorscale": [
             [
              0,
              "#0d0887"
             ],
             [
              0.1111111111111111,
              "#46039f"
             ],
             [
              0.2222222222222222,
              "#7201a8"
             ],
             [
              0.3333333333333333,
              "#9c179e"
             ],
             [
              0.4444444444444444,
              "#bd3786"
             ],
             [
              0.5555555555555556,
              "#d8576b"
             ],
             [
              0.6666666666666666,
              "#ed7953"
             ],
             [
              0.7777777777777778,
              "#fb9f3a"
             ],
             [
              0.8888888888888888,
              "#fdca26"
             ],
             [
              1,
              "#f0f921"
             ]
            ],
            "type": "histogram2dcontour"
           }
          ],
          "mesh3d": [
           {
            "colorbar": {
             "outlinewidth": 0,
             "ticks": ""
            },
            "type": "mesh3d"
           }
          ],
          "parcoords": [
           {
            "line": {
             "colorbar": {
              "outlinewidth": 0,
              "ticks": ""
             }
            },
            "type": "parcoords"
           }
          ],
          "pie": [
           {
            "automargin": true,
            "type": "pie"
           }
          ],
          "scatter": [
           {
            "marker": {
             "colorbar": {
              "outlinewidth": 0,
              "ticks": ""
             }
            },
            "type": "scatter"
           }
          ],
          "scatter3d": [
           {
            "line": {
             "colorbar": {
              "outlinewidth": 0,
              "ticks": ""
             }
            },
            "marker": {
             "colorbar": {
              "outlinewidth": 0,
              "ticks": ""
             }
            },
            "type": "scatter3d"
           }
          ],
          "scattercarpet": [
           {
            "marker": {
             "colorbar": {
              "outlinewidth": 0,
              "ticks": ""
             }
            },
            "type": "scattercarpet"
           }
          ],
          "scattergeo": [
           {
            "marker": {
             "colorbar": {
              "outlinewidth": 0,
              "ticks": ""
             }
            },
            "type": "scattergeo"
           }
          ],
          "scattergl": [
           {
            "marker": {
             "colorbar": {
              "outlinewidth": 0,
              "ticks": ""
             }
            },
            "type": "scattergl"
           }
          ],
          "scattermapbox": [
           {
            "marker": {
             "colorbar": {
              "outlinewidth": 0,
              "ticks": ""
             }
            },
            "type": "scattermapbox"
           }
          ],
          "scatterpolar": [
           {
            "marker": {
             "colorbar": {
              "outlinewidth": 0,
              "ticks": ""
             }
            },
            "type": "scatterpolar"
           }
          ],
          "scatterpolargl": [
           {
            "marker": {
             "colorbar": {
              "outlinewidth": 0,
              "ticks": ""
             }
            },
            "type": "scatterpolargl"
           }
          ],
          "scatterternary": [
           {
            "marker": {
             "colorbar": {
              "outlinewidth": 0,
              "ticks": ""
             }
            },
            "type": "scatterternary"
           }
          ],
          "surface": [
           {
            "colorbar": {
             "outlinewidth": 0,
             "ticks": ""
            },
            "colorscale": [
             [
              0,
              "#0d0887"
             ],
             [
              0.1111111111111111,
              "#46039f"
             ],
             [
              0.2222222222222222,
              "#7201a8"
             ],
             [
              0.3333333333333333,
              "#9c179e"
             ],
             [
              0.4444444444444444,
              "#bd3786"
             ],
             [
              0.5555555555555556,
              "#d8576b"
             ],
             [
              0.6666666666666666,
              "#ed7953"
             ],
             [
              0.7777777777777778,
              "#fb9f3a"
             ],
             [
              0.8888888888888888,
              "#fdca26"
             ],
             [
              1,
              "#f0f921"
             ]
            ],
            "type": "surface"
           }
          ],
          "table": [
           {
            "cells": {
             "fill": {
              "color": "#EBF0F8"
             },
             "line": {
              "color": "white"
             }
            },
            "header": {
             "fill": {
              "color": "#C8D4E3"
             },
             "line": {
              "color": "white"
             }
            },
            "type": "table"
           }
          ]
         },
         "layout": {
          "annotationdefaults": {
           "arrowcolor": "#2a3f5f",
           "arrowhead": 0,
           "arrowwidth": 1
          },
          "coloraxis": {
           "colorbar": {
            "outlinewidth": 0,
            "ticks": ""
           }
          },
          "colorscale": {
           "diverging": [
            [
             0,
             "#8e0152"
            ],
            [
             0.1,
             "#c51b7d"
            ],
            [
             0.2,
             "#de77ae"
            ],
            [
             0.3,
             "#f1b6da"
            ],
            [
             0.4,
             "#fde0ef"
            ],
            [
             0.5,
             "#f7f7f7"
            ],
            [
             0.6,
             "#e6f5d0"
            ],
            [
             0.7,
             "#b8e186"
            ],
            [
             0.8,
             "#7fbc41"
            ],
            [
             0.9,
             "#4d9221"
            ],
            [
             1,
             "#276419"
            ]
           ],
           "sequential": [
            [
             0,
             "#0d0887"
            ],
            [
             0.1111111111111111,
             "#46039f"
            ],
            [
             0.2222222222222222,
             "#7201a8"
            ],
            [
             0.3333333333333333,
             "#9c179e"
            ],
            [
             0.4444444444444444,
             "#bd3786"
            ],
            [
             0.5555555555555556,
             "#d8576b"
            ],
            [
             0.6666666666666666,
             "#ed7953"
            ],
            [
             0.7777777777777778,
             "#fb9f3a"
            ],
            [
             0.8888888888888888,
             "#fdca26"
            ],
            [
             1,
             "#f0f921"
            ]
           ],
           "sequentialminus": [
            [
             0,
             "#0d0887"
            ],
            [
             0.1111111111111111,
             "#46039f"
            ],
            [
             0.2222222222222222,
             "#7201a8"
            ],
            [
             0.3333333333333333,
             "#9c179e"
            ],
            [
             0.4444444444444444,
             "#bd3786"
            ],
            [
             0.5555555555555556,
             "#d8576b"
            ],
            [
             0.6666666666666666,
             "#ed7953"
            ],
            [
             0.7777777777777778,
             "#fb9f3a"
            ],
            [
             0.8888888888888888,
             "#fdca26"
            ],
            [
             1,
             "#f0f921"
            ]
           ]
          },
          "colorway": [
           "#636efa",
           "#EF553B",
           "#00cc96",
           "#ab63fa",
           "#FFA15A",
           "#19d3f3",
           "#FF6692",
           "#B6E880",
           "#FF97FF",
           "#FECB52"
          ],
          "font": {
           "color": "#2a3f5f"
          },
          "geo": {
           "bgcolor": "white",
           "lakecolor": "white",
           "landcolor": "#E5ECF6",
           "showlakes": true,
           "showland": true,
           "subunitcolor": "white"
          },
          "hoverlabel": {
           "align": "left"
          },
          "hovermode": "closest",
          "mapbox": {
           "style": "light"
          },
          "paper_bgcolor": "white",
          "plot_bgcolor": "#E5ECF6",
          "polar": {
           "angularaxis": {
            "gridcolor": "white",
            "linecolor": "white",
            "ticks": ""
           },
           "bgcolor": "#E5ECF6",
           "radialaxis": {
            "gridcolor": "white",
            "linecolor": "white",
            "ticks": ""
           }
          },
          "scene": {
           "xaxis": {
            "backgroundcolor": "#E5ECF6",
            "gridcolor": "white",
            "gridwidth": 2,
            "linecolor": "white",
            "showbackground": true,
            "ticks": "",
            "zerolinecolor": "white"
           },
           "yaxis": {
            "backgroundcolor": "#E5ECF6",
            "gridcolor": "white",
            "gridwidth": 2,
            "linecolor": "white",
            "showbackground": true,
            "ticks": "",
            "zerolinecolor": "white"
           },
           "zaxis": {
            "backgroundcolor": "#E5ECF6",
            "gridcolor": "white",
            "gridwidth": 2,
            "linecolor": "white",
            "showbackground": true,
            "ticks": "",
            "zerolinecolor": "white"
           }
          },
          "shapedefaults": {
           "line": {
            "color": "#2a3f5f"
           }
          },
          "ternary": {
           "aaxis": {
            "gridcolor": "white",
            "linecolor": "white",
            "ticks": ""
           },
           "baxis": {
            "gridcolor": "white",
            "linecolor": "white",
            "ticks": ""
           },
           "bgcolor": "#E5ECF6",
           "caxis": {
            "gridcolor": "white",
            "linecolor": "white",
            "ticks": ""
           }
          },
          "title": {
           "x": 0.05
          },
          "xaxis": {
           "automargin": true,
           "gridcolor": "white",
           "linecolor": "white",
           "ticks": "",
           "title": {
            "standoff": 15
           },
           "zerolinecolor": "white",
           "zerolinewidth": 2
          },
          "yaxis": {
           "automargin": true,
           "gridcolor": "white",
           "linecolor": "white",
           "ticks": "",
           "title": {
            "standoff": 15
           },
           "zerolinecolor": "white",
           "zerolinewidth": 2
          }
         }
        },
        "title": {
         "text": "Confirmed Cases by Province"
        },
        "updatemenus": [
         {
          "active": 0,
          "buttons": [
           {
            "args": [
             {
              "visible": [
               true,
               true,
               true,
               true,
               true,
               true,
               true,
               true,
               true,
               true,
               true,
               true,
               true
              ]
             },
             {
              "title": "Cumulative Confirmed Cases: Eastern Cape"
             }
            ],
            "label": "ALL",
            "method": "update"
           },
           {
            "args": [
             {
              "visible": [
               true,
               true,
               true,
               true,
               false,
               false,
               false,
               false,
               false,
               false,
               false,
               false,
               false
              ]
             },
             {
              "title": "Cumulative Confirmed Cases: Eastern Cape"
             }
            ],
            "label": "EC",
            "method": "update"
           },
           {
            "args": [
             {
              "visible": [
               true,
               true,
               true,
               false,
               true,
               false,
               false,
               false,
               false,
               false,
               false,
               false,
               false
              ]
             },
             {
              "title": "Cumulative Confirmed Cases: Western Cape"
             }
            ],
            "label": "WC",
            "method": "update"
           },
           {
            "args": [
             {
              "visible": [
               true,
               true,
               true,
               false,
               false,
               true,
               false,
               false,
               false,
               false,
               false,
               false,
               false
              ]
             },
             {
              "title": "Cumulative Confirmed Cases: Free State"
             }
            ],
            "label": "FS",
            "method": "update"
           },
           {
            "args": [
             {
              "visible": [
               true,
               true,
               true,
               false,
               false,
               false,
               true,
               false,
               false,
               false,
               false,
               false,
               false
              ]
             },
             {
              "title": "Cumulative Confirmed Cases: Gauteng"
             }
            ],
            "label": "GP",
            "method": "update"
           },
           {
            "args": [
             {
              "visible": [
               true,
               true,
               true,
               false,
               false,
               false,
               false,
               true,
               false,
               false,
               false,
               false,
               false
              ]
             },
             {
              "title": "Cumulative Confirmed Cases: Kwa Zulu Natal"
             }
            ],
            "label": "KZN",
            "method": "update"
           },
           {
            "args": [
             {
              "visible": [
               true,
               true,
               true,
               false,
               false,
               false,
               false,
               false,
               true,
               false,
               false,
               false,
               false
              ]
             },
             {
              "title": "Cumulative Confirmed Cases: North West"
             }
            ],
            "label": "NW",
            "method": "update"
           },
           {
            "args": [
             {
              "visible": [
               true,
               true,
               true,
               false,
               false,
               false,
               false,
               false,
               false,
               true,
               false,
               false,
               false
              ]
             },
             {
              "title": "Cumulative Confirmed Cases: Limpopo"
             }
            ],
            "label": "LP",
            "method": "update"
           },
           {
            "args": [
             {
              "visible": [
               true,
               true,
               true,
               false,
               false,
               false,
               false,
               false,
               false,
               false,
               true,
               false,
               false
              ]
             },
             {
              "title": "Cumulative Confirmed Cases: Mpumalanga"
             }
            ],
            "label": "MP",
            "method": "update"
           },
           {
            "args": [
             {
              "visible": [
               true,
               true,
               true,
               false,
               false,
               false,
               false,
               false,
               false,
               false,
               false,
               true,
               false
              ]
             },
             {
              "title": "Cumulative Confirmed Cases: Northern Cape"
             }
            ],
            "label": "NC",
            "method": "update"
           },
           {
            "args": [
             {
              "visible": [
               true,
               true,
               true,
               false,
               false,
               false,
               false,
               false,
               false,
               false,
               false,
               false,
               true
              ]
             },
             {
              "title": "Unlocated"
             }
            ],
            "label": "Cumulative Confirmed Cases: UNKWNOWN",
            "method": "update"
           }
          ]
         }
        ],
        "xaxis": {
         "title": {
          "text": "Days since the first confirmed case"
         }
        },
        "yaxis": {
         "title": {
          "text": "Log"
         },
         "type": "log"
        }
       }
      },
      "text/html": [
       "<div>\n",
       "        \n",
       "        \n",
       "            <div id=\"54085667-30b9-4f59-a1c3-6c5b6a91ab37\" class=\"plotly-graph-div\" style=\"height:525px; width:100%;\"></div>\n",
       "            <script type=\"text/javascript\">\n",
       "                require([\"plotly\"], function(Plotly) {\n",
       "                    window.PLOTLYENV=window.PLOTLYENV || {};\n",
       "                    \n",
       "                if (document.getElementById(\"54085667-30b9-4f59-a1c3-6c5b6a91ab37\")) {\n",
       "                    Plotly.newPlot(\n",
       "                        '54085667-30b9-4f59-a1c3-6c5b6a91ab37',\n",
       "                        [{\"line\": {\"color\": \"grey\", \"dash\": \"dot\", \"width\": 4}, \"name\": \"1st Day\", \"type\": \"scatter\", \"x\": [2, 10], \"y\": [2, 312]}, {\"line\": {\"color\": \"grey\", \"dash\": \"dot\", \"width\": 4}, \"name\": \"2nd Day\", \"type\": \"scatter\", \"x\": [3, 60], \"y\": [2, 59]}, {\"line\": {\"color\": \"grey\", \"dash\": \"dot\", \"width\": 4}, \"name\": \"3rd Day\", \"type\": \"scatter\", \"x\": [4, 60], \"y\": [2, 36]}, {\"name\": \"EC\", \"type\": \"scatter\", \"x\": [0, 1, 2, 3, 4, 5, 6, 7, 8, 9, 10, 11, 12, 13, 14, 15, 16, 17, 18, 19, 20, 21, 22, 23, 24, 25, 26, 27, 28, 29, 30, 31, 32, 33, 34, 35, 36, 37, 38, 39, 40, 41, 42, 43, 44, 45, 46, 47, 48, 49, 50, 51, 52, 53, 54, 55, 56, 57, 58, 59, 60, 61, 62, 63, 64, 65, 66, 67, 68, 69, 70, 71, 72, 73], \"y\": [0.0, 0.0, 0.0, 0.0, 0.0, 0.0, 0.0, 0.0, 0.0, 0.0, 0.0, 0.0, 0.0, 0.0, 1.0, 2.0, 2.0, 2.0, 2.0, 5.0, 5.0, 10.0, 12.0, 12.0, 12.0, 15.0, 17.0, 21.0, 25.0, 31.0, 32.0, 32.0, 45.0, 61.0, 68.0, 69.0, 88.0, 104.0, 174.0, 199.0, 220.0, 246.0, 270.0, 293.0, 310.0, 345.0, 377.0, 417.0, 480.0, 488.0, 535.0, 588.0, 616.0, 630.0, 647.0, 691.0, 732.0, 774.0, 814.0, 838.0, 849.0, 929.0, 989.0, 1078.0, 1218.0, 1356.0, 1504.0, 1534.0, 1569.0, 1662.0, 1812.0, 1936.0, 2052.0, 2135.0]}, {\"name\": \"WC\", \"type\": \"scatter\", \"x\": [0, 1, 2, 3, 4, 5, 6, 7, 8, 9, 10, 11, 12, 13, 14, 15, 16, 17, 18, 19, 20, 21, 22, 23, 24, 25, 26, 27, 28, 29, 30, 31, 32, 33, 34, 35, 36, 37, 38, 39, 40, 41, 42, 43, 44, 45, 46, 47, 48, 49, 50, 51, 52, 53, 54, 55, 56, 57, 58, 59, 60, 61, 62, 63, 64, 65, 66, 67, 68, 69, 70, 71, 72, 73], \"y\": [0.0, 0.0, 0.0, 0.0, 1.0, 1.0, 3.0, 9.0, 14.0, 16.0, 21.0, 31.0, 46.0, 57.0, 75.0, 89.0, 100.0, 113.0, 183.0, 229.0, 229.0, 271.0, 310.0, 324.0, 325.0, 326.0, 353.0, 374.0, 433.0, 454.0, 462.0, 462.0, 495.0, 515.0, 541.0, 546.0, 587.0, 617.0, 643.0, 657.0, 675.0, 717.0, 836.0, 868.0, 940.0, 1010.0, 1079.0, 1279.0, 1413.0, 1514.0, 1608.0, 1737.0, 1870.0, 2135.0, 2342.0, 2507.0, 2700.0, 3044.0, 3362.0, 3609.0, 3760.0, 3994.0, 4497.0, 4809.0, 5168.0, 5621.0, 6105.0, 6713.0, 7235.0, 7798.0, 8404.0, 9294.0, 10035.0, 10639.0]}, {\"name\": \"FS\", \"type\": \"scatter\", \"x\": [0, 1, 2, 3, 4, 5, 6, 7, 8, 9, 10, 11, 12, 13, 14, 15, 16, 17, 18, 19, 20, 21, 22, 23, 24, 25, 26, 27, 28, 29, 30, 31, 32, 33, 34, 35, 36, 37, 38, 39, 40, 41, 42, 43, 44, 45, 46, 47, 48, 49, 50, 51, 52, 53, 54, 55, 56, 57, 58, 59, 60, 61, 62, 63, 64, 65, 66, 67, 68, 69, 70, 71, 72, 73], \"y\": [0.0, 0.0, 0.0, 0.0, 0.0, 0.0, 0.0, 0.0, 0.0, 0.0, 0.0, 0.0, 0.0, 7.0, 7.0, 9.0, 13.0, 18.0, 30.0, 49.0, 49.0, 68.0, 72.0, 72.0, 74.0, 76.0, 84.0, 84.0, 85.0, 87.0, 89.0, 89.0, 88.0, 93.0, 94.0, 94.0, 96.0, 96.0, 98.0, 97.0, 98.0, 100.0, 100.0, 100.0, 105.0, 106.0, 106.0, 106.0, 111.0, 111.0, 110.0, 111.0, 113.0, 113.0, 116.0, 118.0, 121.0, 122.0, 125.0, 128.0, 130.0, 134.0, 133.0, 134.0, 135.0, 135.0, 135.0, 138.0, 145.0, 151.0, 153.0, 158.0, 163.0, 168.0]}, {\"name\": \"GP\", \"type\": \"scatter\", \"x\": [0, 1, 2, 3, 4, 5, 6, 7, 8, 9, 10, 11, 12, 13, 14, 15, 16, 17, 18, 19, 20, 21, 22, 23, 24, 25, 26, 27, 28, 29, 30, 31, 32, 33, 34, 35, 36, 37, 38, 39, 40, 41, 42, 43, 44, 45, 46, 47, 48, 49, 50, 51, 52, 53, 54, 55, 56, 57, 58, 59, 60, 61, 62, 63, 64, 65, 66, 67, 68, 69, 70, 71, 72, 73], \"y\": [0.0, 1.0, 1.0, 1.0, 5.0, 6.0, 10.0, 17.0, 24.0, 31.0, 45.0, 61.0, 76.0, 109.0, 125.0, 132.0, 207.0, 302.0, 319.0, 409.0, 409.0, 533.0, 584.0, 618.0, 633.0, 645.0, 663.0, 672.0, 693.0, 704.0, 713.0, 713.0, 782.0, 795.0, 801.0, 813.0, 865.0, 890.0, 909.0, 930.0, 969.0, 1018.0, 1101.0, 1148.0, 1170.0, 1199.0, 1224.0, 1252.0, 1281.0, 1304.0, 1331.0, 1353.0, 1377.0, 1408.0, 1446.0, 1507.0, 1598.0, 1624.0, 1651.0, 1697.0, 1720.0, 1804.0, 1851.0, 1910.0, 1952.0, 1971.0, 2014.0, 2074.0, 2135.0, 2210.0, 2262.0, 2329.0, 2343.0, 2361.0]}, {\"name\": \"KZN\", \"type\": \"scatter\", \"x\": [0, 1, 2, 3, 4, 5, 6, 7, 8, 9, 10, 11, 12, 13, 14, 15, 16, 17, 18, 19, 20, 21, 22, 23, 24, 25, 26, 27, 28, 29, 30, 31, 32, 33, 34, 35, 36, 37, 38, 39, 40, 41, 42, 43, 44, 45, 46, 47, 48, 49, 50, 51, 52, 53, 54, 55, 56, 57, 58, 59, 60, 61, 62, 63, 64, 65, 66, 67, 68, 69, 70, 71, 72, 73], \"y\": [1.0, 1.0, 2.0, 6.0, 7.0, 8.0, 10.0, 11.0, 12.0, 12.0, 16.0, 19.0, 22.0, 23.0, 26.0, 35.0, 60.0, 80.0, 91.0, 134.0, 134.0, 156.0, 167.0, 171.0, 179.0, 186.0, 206.0, 215.0, 232.0, 246.0, 257.0, 257.0, 354.0, 387.0, 412.0, 418.0, 443.0, 465.0, 489.0, 519.0, 539.0, 591.0, 604.0, 617.0, 639.0, 671.0, 758.0, 807.0, 841.0, 841.0, 863.0, 902.0, 919.0, 956.0, 980.0, 1006.0, 1051.0, 1076.0, 1106.0, 1142.0, 1149.0, 1204.0, 1253.0, 1308.0, 1353.0, 1372.0, 1394.0, 1413.0, 1444.0, 1482.0, 1498.0, 1543.0, 1567.0, 1616.0]}, {\"name\": \"NW\", \"type\": \"scatter\", \"x\": [0, 1, 2, 3, 4, 5, 6, 7, 8, 9, 10, 11, 12, 13, 14, 15, 16, 17, 18, 19, 20, 21, 22, 23, 24, 25, 26, 27, 28, 29, 30, 31, 32, 33, 34, 35, 36, 37, 38, 39, 40, 41, 42, 43, 44, 45, 46, 47, 48, 49, 50, 51, 52, 53, 54, 55, 56, 57, 58, 59, 60, 61, 62, 63, 64, 65, 66, 67, 68, 69, 70, 71, 72, 73], \"y\": [0.0, 0.0, 0.0, 0.0, 0.0, 0.0, 0.0, 0.0, 0.0, 0.0, 0.0, 0.0, 0.0, 0.0, 0.0, 0.0, 4.0, 5.0, 5.0, 5.0, 5.0, 6.0, 6.0, 8.0, 8.0, 9.0, 9.0, 9.0, 11.0, 11.0, 11.0, 11.0, 15.0, 15.0, 18.0, 19.0, 19.0, 22.0, 22.0, 23.0, 24.0, 24.0, 24.0, 24.0, 25.0, 24.0, 24.0, 25.0, 25.0, 28.0, 28.0, 31.0, 29.0, 29.0, 31.0, 35.0, 35.0, 36.0, 35.0, 35.0, 37.0, 40.0, 42.0, 41.0, 45.0, 50.0, 51.0, 52.0, 58.0, 63.0, 64.0, 70.0, 72.0, 72.0]}, {\"name\": \"LP\", \"type\": \"scatter\", \"x\": [0, 1, 2, 3, 4, 5, 6, 7, 8, 9, 10, 11, 12, 13, 14, 15, 16, 17, 18, 19, 20, 21, 22, 23, 24, 25, 26, 27, 28, 29, 30, 31, 32, 33, 34, 35, 36, 37, 38, 39, 40, 41, 42, 43, 44, 45, 46, 47, 48, 49, 50, 51, 52, 53, 54, 55, 56, 57, 58, 59, 60, 61, 62, 63, 64, 65, 66, 67, 68, 69, 70, 71, 72, 73], \"y\": [0.0, 0.0, 0.0, 0.0, 0.0, 0.0, 0.0, 0.0, 0.0, 1.0, 1.0, 1.0, 1.0, 1.0, 1.0, 2.0, 4.0, 4.0, 4.0, 6.0, 6.0, 11.0, 12.0, 11.0, 14.0, 14.0, 16.0, 16.0, 18.0, 19.0, 19.0, 19.0, 21.0, 22.0, 24.0, 23.0, 23.0, 23.0, 24.0, 25.0, 26.0, 26.0, 26.0, 27.0, 27.0, 27.0, 27.0, 27.0, 29.0, 30.0, 31.0, 31.0, 31.0, 31.0, 32.0, 34.0, 36.0, 37.0, 39.0, 40.0, 40.0, 41.0, 43.0, 51.0, 54.0, 54.0, 54.0, 54.0, 55.0, 57.0, 59.0, 77.0, 88.0, 94.0]}, {\"name\": \"MP\", \"type\": \"scatter\", \"x\": [0, 1, 2, 3, 4, 5, 6, 7, 8, 9, 10, 11, 12, 13, 14, 15, 16, 17, 18, 19, 20, 21, 22, 23, 24, 25, 26, 27, 28, 29, 30, 31, 32, 33, 34, 35, 36, 37, 38, 39, 40, 41, 42, 43, 44, 45, 46, 47, 48, 49, 50, 51, 52, 53, 54, 55, 56, 57, 58, 59, 60, 61, 62, 63, 64, 65, 66, 67, 68, 69, 70, 71, 72, 73], \"y\": [0.0, 0.0, 0.0, 0.0, 0.0, 1.0, 1.0, 1.0, 1.0, 2.0, 2.0, 4.0, 5.0, 5.0, 5.0, 5.0, 9.0, 9.0, 8.0, 9.0, 9.0, 10.0, 11.0, 11.0, 12.0, 12.0, 13.0, 13.0, 18.0, 18.0, 18.0, 18.0, 21.0, 20.0, 20.0, 20.0, 21.0, 22.0, 22.0, 22.0, 22.0, 23.0, 25.0, 23.0, 23.0, 24.0, 23.0, 23.0, 24.0, 23.0, 23.0, 26.0, 26.0, 31.0, 36.0, 35.0, 40.0, 46.0, 53.0, 57.0, 57.0, 59.0, 60.0, 61.0, 61.0, 63.0, 63.0, 66.0, 67.0, 67.0, 68.0, 71.0, 76.0, 78.0]}, {\"name\": \"NC\", \"type\": \"scatter\", \"x\": [0, 1, 2, 3, 4, 5, 6, 7, 8, 9, 10, 11, 12, 13, 14, 15, 16, 17, 18, 19, 20, 21, 22, 23, 24, 25, 26, 27, 28, 29, 30, 31, 32, 33, 34, 35, 36, 37, 38, 39, 40, 41, 42, 43, 44, 45, 46, 47, 48, 49, 50, 51, 52, 53, 54, 55, 56, 57, 58, 59, 60, 61, 62, 63, 64, 65, 66, 67, 68, 69, 70, 71, 72, 73], \"y\": [0.0, 0.0, 0.0, 0.0, 0.0, 0.0, 0.0, 0.0, 0.0, 0.0, 0.0, 0.0, 0.0, 0.0, 0.0, 0.0, 2.0, 2.0, 2.0, 2.0, 2.0, 5.0, 6.0, 3.0, 6.0, 7.0, 7.0, 7.0, 7.0, 8.0, 8.0, 8.0, 13.0, 15.0, 15.0, 16.0, 16.0, 16.0, 16.0, 16.0, 16.0, 16.0, 16.0, 16.0, 18.0, 16.0, 16.0, 16.0, 16.0, 16.0, 17.0, 17.0, 17.0, 17.0, 17.0, 18.0, 23.0, 24.0, 25.0, 26.0, 26.0, 27.0, 27.0, 28.0, 29.0, 30.0, 30.0, 30.0, 31.0, 34.0, 35.0, 37.0, 37.0, 37.0]}],\n",
       "                        {\"annotations\": [{\"text\": \"Cases Doubles every day\", \"x\": 10, \"y\": 2.5}, {\"text\": \"Doubles every 2nd day\", \"x\": 21, \"y\": 0.8}, {\"text\": \"3rd day\", \"x\": 40, \"y\": 1.1}], \"template\": {\"data\": {\"bar\": [{\"error_x\": {\"color\": \"#2a3f5f\"}, \"error_y\": {\"color\": \"#2a3f5f\"}, \"marker\": {\"line\": {\"color\": \"#E5ECF6\", \"width\": 0.5}}, \"type\": \"bar\"}], \"barpolar\": [{\"marker\": {\"line\": {\"color\": \"#E5ECF6\", \"width\": 0.5}}, \"type\": \"barpolar\"}], \"carpet\": [{\"aaxis\": {\"endlinecolor\": \"#2a3f5f\", \"gridcolor\": \"white\", \"linecolor\": \"white\", \"minorgridcolor\": \"white\", \"startlinecolor\": \"#2a3f5f\"}, \"baxis\": {\"endlinecolor\": \"#2a3f5f\", \"gridcolor\": \"white\", \"linecolor\": \"white\", \"minorgridcolor\": \"white\", \"startlinecolor\": \"#2a3f5f\"}, \"type\": \"carpet\"}], \"choropleth\": [{\"colorbar\": {\"outlinewidth\": 0, \"ticks\": \"\"}, \"type\": \"choropleth\"}], \"contour\": [{\"colorbar\": {\"outlinewidth\": 0, \"ticks\": \"\"}, \"colorscale\": [[0.0, \"#0d0887\"], [0.1111111111111111, \"#46039f\"], [0.2222222222222222, \"#7201a8\"], [0.3333333333333333, \"#9c179e\"], [0.4444444444444444, \"#bd3786\"], [0.5555555555555556, \"#d8576b\"], [0.6666666666666666, \"#ed7953\"], [0.7777777777777778, \"#fb9f3a\"], [0.8888888888888888, \"#fdca26\"], [1.0, \"#f0f921\"]], \"type\": \"contour\"}], \"contourcarpet\": [{\"colorbar\": {\"outlinewidth\": 0, \"ticks\": \"\"}, \"type\": \"contourcarpet\"}], \"heatmap\": [{\"colorbar\": {\"outlinewidth\": 0, \"ticks\": \"\"}, \"colorscale\": [[0.0, \"#0d0887\"], [0.1111111111111111, \"#46039f\"], [0.2222222222222222, \"#7201a8\"], [0.3333333333333333, \"#9c179e\"], [0.4444444444444444, \"#bd3786\"], [0.5555555555555556, \"#d8576b\"], [0.6666666666666666, \"#ed7953\"], [0.7777777777777778, \"#fb9f3a\"], [0.8888888888888888, \"#fdca26\"], [1.0, \"#f0f921\"]], \"type\": \"heatmap\"}], \"heatmapgl\": [{\"colorbar\": {\"outlinewidth\": 0, \"ticks\": \"\"}, \"colorscale\": [[0.0, \"#0d0887\"], [0.1111111111111111, \"#46039f\"], [0.2222222222222222, \"#7201a8\"], [0.3333333333333333, \"#9c179e\"], [0.4444444444444444, \"#bd3786\"], [0.5555555555555556, \"#d8576b\"], [0.6666666666666666, \"#ed7953\"], [0.7777777777777778, \"#fb9f3a\"], [0.8888888888888888, \"#fdca26\"], [1.0, \"#f0f921\"]], \"type\": \"heatmapgl\"}], \"histogram\": [{\"marker\": {\"colorbar\": {\"outlinewidth\": 0, \"ticks\": \"\"}}, \"type\": \"histogram\"}], \"histogram2d\": [{\"colorbar\": {\"outlinewidth\": 0, \"ticks\": \"\"}, \"colorscale\": [[0.0, \"#0d0887\"], [0.1111111111111111, \"#46039f\"], [0.2222222222222222, \"#7201a8\"], [0.3333333333333333, \"#9c179e\"], [0.4444444444444444, \"#bd3786\"], [0.5555555555555556, \"#d8576b\"], [0.6666666666666666, \"#ed7953\"], [0.7777777777777778, \"#fb9f3a\"], [0.8888888888888888, \"#fdca26\"], [1.0, \"#f0f921\"]], \"type\": \"histogram2d\"}], \"histogram2dcontour\": [{\"colorbar\": {\"outlinewidth\": 0, \"ticks\": \"\"}, \"colorscale\": [[0.0, \"#0d0887\"], [0.1111111111111111, \"#46039f\"], [0.2222222222222222, \"#7201a8\"], [0.3333333333333333, \"#9c179e\"], [0.4444444444444444, \"#bd3786\"], [0.5555555555555556, \"#d8576b\"], [0.6666666666666666, \"#ed7953\"], [0.7777777777777778, \"#fb9f3a\"], [0.8888888888888888, \"#fdca26\"], [1.0, \"#f0f921\"]], \"type\": \"histogram2dcontour\"}], \"mesh3d\": [{\"colorbar\": {\"outlinewidth\": 0, \"ticks\": \"\"}, \"type\": \"mesh3d\"}], \"parcoords\": [{\"line\": {\"colorbar\": {\"outlinewidth\": 0, \"ticks\": \"\"}}, \"type\": \"parcoords\"}], \"pie\": [{\"automargin\": true, \"type\": \"pie\"}], \"scatter\": [{\"marker\": {\"colorbar\": {\"outlinewidth\": 0, \"ticks\": \"\"}}, \"type\": \"scatter\"}], \"scatter3d\": [{\"line\": {\"colorbar\": {\"outlinewidth\": 0, \"ticks\": \"\"}}, \"marker\": {\"colorbar\": {\"outlinewidth\": 0, \"ticks\": \"\"}}, \"type\": \"scatter3d\"}], \"scattercarpet\": [{\"marker\": {\"colorbar\": {\"outlinewidth\": 0, \"ticks\": \"\"}}, \"type\": \"scattercarpet\"}], \"scattergeo\": [{\"marker\": {\"colorbar\": {\"outlinewidth\": 0, \"ticks\": \"\"}}, \"type\": \"scattergeo\"}], \"scattergl\": [{\"marker\": {\"colorbar\": {\"outlinewidth\": 0, \"ticks\": \"\"}}, \"type\": \"scattergl\"}], \"scattermapbox\": [{\"marker\": {\"colorbar\": {\"outlinewidth\": 0, \"ticks\": \"\"}}, \"type\": \"scattermapbox\"}], \"scatterpolar\": [{\"marker\": {\"colorbar\": {\"outlinewidth\": 0, \"ticks\": \"\"}}, \"type\": \"scatterpolar\"}], \"scatterpolargl\": [{\"marker\": {\"colorbar\": {\"outlinewidth\": 0, \"ticks\": \"\"}}, \"type\": \"scatterpolargl\"}], \"scatterternary\": [{\"marker\": {\"colorbar\": {\"outlinewidth\": 0, \"ticks\": \"\"}}, \"type\": \"scatterternary\"}], \"surface\": [{\"colorbar\": {\"outlinewidth\": 0, \"ticks\": \"\"}, \"colorscale\": [[0.0, \"#0d0887\"], [0.1111111111111111, \"#46039f\"], [0.2222222222222222, \"#7201a8\"], [0.3333333333333333, \"#9c179e\"], [0.4444444444444444, \"#bd3786\"], [0.5555555555555556, \"#d8576b\"], [0.6666666666666666, \"#ed7953\"], [0.7777777777777778, \"#fb9f3a\"], [0.8888888888888888, \"#fdca26\"], [1.0, \"#f0f921\"]], \"type\": \"surface\"}], \"table\": [{\"cells\": {\"fill\": {\"color\": \"#EBF0F8\"}, \"line\": {\"color\": \"white\"}}, \"header\": {\"fill\": {\"color\": \"#C8D4E3\"}, \"line\": {\"color\": \"white\"}}, \"type\": \"table\"}]}, \"layout\": {\"annotationdefaults\": {\"arrowcolor\": \"#2a3f5f\", \"arrowhead\": 0, \"arrowwidth\": 1}, \"coloraxis\": {\"colorbar\": {\"outlinewidth\": 0, \"ticks\": \"\"}}, \"colorscale\": {\"diverging\": [[0, \"#8e0152\"], [0.1, \"#c51b7d\"], [0.2, \"#de77ae\"], [0.3, \"#f1b6da\"], [0.4, \"#fde0ef\"], [0.5, \"#f7f7f7\"], [0.6, \"#e6f5d0\"], [0.7, \"#b8e186\"], [0.8, \"#7fbc41\"], [0.9, \"#4d9221\"], [1, \"#276419\"]], \"sequential\": [[0.0, \"#0d0887\"], [0.1111111111111111, \"#46039f\"], [0.2222222222222222, \"#7201a8\"], [0.3333333333333333, \"#9c179e\"], [0.4444444444444444, \"#bd3786\"], [0.5555555555555556, \"#d8576b\"], [0.6666666666666666, \"#ed7953\"], [0.7777777777777778, \"#fb9f3a\"], [0.8888888888888888, \"#fdca26\"], [1.0, \"#f0f921\"]], \"sequentialminus\": [[0.0, \"#0d0887\"], [0.1111111111111111, \"#46039f\"], [0.2222222222222222, \"#7201a8\"], [0.3333333333333333, \"#9c179e\"], [0.4444444444444444, \"#bd3786\"], [0.5555555555555556, \"#d8576b\"], [0.6666666666666666, \"#ed7953\"], [0.7777777777777778, \"#fb9f3a\"], [0.8888888888888888, \"#fdca26\"], [1.0, \"#f0f921\"]]}, \"colorway\": [\"#636efa\", \"#EF553B\", \"#00cc96\", \"#ab63fa\", \"#FFA15A\", \"#19d3f3\", \"#FF6692\", \"#B6E880\", \"#FF97FF\", \"#FECB52\"], \"font\": {\"color\": \"#2a3f5f\"}, \"geo\": {\"bgcolor\": \"white\", \"lakecolor\": \"white\", \"landcolor\": \"#E5ECF6\", \"showlakes\": true, \"showland\": true, \"subunitcolor\": \"white\"}, \"hoverlabel\": {\"align\": \"left\"}, \"hovermode\": \"closest\", \"mapbox\": {\"style\": \"light\"}, \"paper_bgcolor\": \"white\", \"plot_bgcolor\": \"#E5ECF6\", \"polar\": {\"angularaxis\": {\"gridcolor\": \"white\", \"linecolor\": \"white\", \"ticks\": \"\"}, \"bgcolor\": \"#E5ECF6\", \"radialaxis\": {\"gridcolor\": \"white\", \"linecolor\": \"white\", \"ticks\": \"\"}}, \"scene\": {\"xaxis\": {\"backgroundcolor\": \"#E5ECF6\", \"gridcolor\": \"white\", \"gridwidth\": 2, \"linecolor\": \"white\", \"showbackground\": true, \"ticks\": \"\", \"zerolinecolor\": \"white\"}, \"yaxis\": {\"backgroundcolor\": \"#E5ECF6\", \"gridcolor\": \"white\", \"gridwidth\": 2, \"linecolor\": \"white\", \"showbackground\": true, \"ticks\": \"\", \"zerolinecolor\": \"white\"}, \"zaxis\": {\"backgroundcolor\": \"#E5ECF6\", \"gridcolor\": \"white\", \"gridwidth\": 2, \"linecolor\": \"white\", \"showbackground\": true, \"ticks\": \"\", \"zerolinecolor\": \"white\"}}, \"shapedefaults\": {\"line\": {\"color\": \"#2a3f5f\"}}, \"ternary\": {\"aaxis\": {\"gridcolor\": \"white\", \"linecolor\": \"white\", \"ticks\": \"\"}, \"baxis\": {\"gridcolor\": \"white\", \"linecolor\": \"white\", \"ticks\": \"\"}, \"bgcolor\": \"#E5ECF6\", \"caxis\": {\"gridcolor\": \"white\", \"linecolor\": \"white\", \"ticks\": \"\"}}, \"title\": {\"x\": 0.05}, \"xaxis\": {\"automargin\": true, \"gridcolor\": \"white\", \"linecolor\": \"white\", \"ticks\": \"\", \"title\": {\"standoff\": 15}, \"zerolinecolor\": \"white\", \"zerolinewidth\": 2}, \"yaxis\": {\"automargin\": true, \"gridcolor\": \"white\", \"linecolor\": \"white\", \"ticks\": \"\", \"title\": {\"standoff\": 15}, \"zerolinecolor\": \"white\", \"zerolinewidth\": 2}}}, \"title\": {\"text\": \"Confirmed Cases by Province\"}, \"updatemenus\": [{\"active\": 0, \"buttons\": [{\"args\": [{\"visible\": [true, true, true, true, true, true, true, true, true, true, true, true, true]}, {\"title\": \"Cumulative Confirmed Cases: Eastern Cape\"}], \"label\": \"ALL\", \"method\": \"update\"}, {\"args\": [{\"visible\": [true, true, true, true, false, false, false, false, false, false, false, false, false]}, {\"title\": \"Cumulative Confirmed Cases: Eastern Cape\"}], \"label\": \"EC\", \"method\": \"update\"}, {\"args\": [{\"visible\": [true, true, true, false, true, false, false, false, false, false, false, false, false]}, {\"title\": \"Cumulative Confirmed Cases: Western Cape\"}], \"label\": \"WC\", \"method\": \"update\"}, {\"args\": [{\"visible\": [true, true, true, false, false, true, false, false, false, false, false, false, false]}, {\"title\": \"Cumulative Confirmed Cases: Free State\"}], \"label\": \"FS\", \"method\": \"update\"}, {\"args\": [{\"visible\": [true, true, true, false, false, false, true, false, false, false, false, false, false]}, {\"title\": \"Cumulative Confirmed Cases: Gauteng\"}], \"label\": \"GP\", \"method\": \"update\"}, {\"args\": [{\"visible\": [true, true, true, false, false, false, false, true, false, false, false, false, false]}, {\"title\": \"Cumulative Confirmed Cases: Kwa Zulu Natal\"}], \"label\": \"KZN\", \"method\": \"update\"}, {\"args\": [{\"visible\": [true, true, true, false, false, false, false, false, true, false, false, false, false]}, {\"title\": \"Cumulative Confirmed Cases: North West\"}], \"label\": \"NW\", \"method\": \"update\"}, {\"args\": [{\"visible\": [true, true, true, false, false, false, false, false, false, true, false, false, false]}, {\"title\": \"Cumulative Confirmed Cases: Limpopo\"}], \"label\": \"LP\", \"method\": \"update\"}, {\"args\": [{\"visible\": [true, true, true, false, false, false, false, false, false, false, true, false, false]}, {\"title\": \"Cumulative Confirmed Cases: Mpumalanga\"}], \"label\": \"MP\", \"method\": \"update\"}, {\"args\": [{\"visible\": [true, true, true, false, false, false, false, false, false, false, false, true, false]}, {\"title\": \"Cumulative Confirmed Cases: Northern Cape\"}], \"label\": \"NC\", \"method\": \"update\"}, {\"args\": [{\"visible\": [true, true, true, false, false, false, false, false, false, false, false, false, true]}, {\"title\": \"Unlocated\"}], \"label\": \"Cumulative Confirmed Cases: UNKWNOWN\", \"method\": \"update\"}]}], \"xaxis\": {\"title\": {\"text\": \"Days since the first confirmed case\"}}, \"yaxis\": {\"title\": {\"text\": \"Log\"}, \"type\": \"log\"}},\n",
       "                        {\"responsive\": true}\n",
       "                    ).then(function(){\n",
       "                            \n",
       "var gd = document.getElementById('54085667-30b9-4f59-a1c3-6c5b6a91ab37');\n",
       "var x = new MutationObserver(function (mutations, observer) {{\n",
       "        var display = window.getComputedStyle(gd).display;\n",
       "        if (!display || display === 'none') {{\n",
       "            console.log([gd, 'removed!']);\n",
       "            Plotly.purge(gd);\n",
       "            observer.disconnect();\n",
       "        }}\n",
       "}});\n",
       "\n",
       "// Listen for the removal of the full notebook cells\n",
       "var notebookContainer = gd.closest('#notebook-container');\n",
       "if (notebookContainer) {{\n",
       "    x.observe(notebookContainer, {childList: true});\n",
       "}}\n",
       "\n",
       "// Listen for the clearing of the current output cell\n",
       "var outputEl = gd.closest('.output');\n",
       "if (outputEl) {{\n",
       "    x.observe(outputEl, {childList: true});\n",
       "}}\n",
       "\n",
       "                        })\n",
       "                };\n",
       "                });\n",
       "            </script>\n",
       "        </div>"
      ]
     },
     "metadata": {},
     "output_type": "display_data"
    }
   ],
   "source": [
    "#-----------------Provinces commulative stacked bar graph-------------------------\n",
    "\n",
    "# Initialize figure\n",
    "fig_prov_log = go.Figure()\n",
    "\n",
    "# Add Traces\n",
    "\n",
    "fig_prov_log.add_trace(\n",
    "    go.Scatter(\n",
    "        y=[2,312],\n",
    "        x=[2,10],\n",
    "        line=dict(color='grey',\n",
    "                  width=4, dash='dot'),\n",
    "        name = '1st Day'\n",
    "     \n",
    "    ))\n",
    "fig_prov_log.add_trace(\n",
    "    go.Scatter(\n",
    "        y=[2,59],\n",
    "        x=[3,60],\n",
    "        line=dict(color='grey',\n",
    "                  width=4, dash='dot'),\n",
    "        name = '2nd Day'\n",
    "     \n",
    "    ))\n",
    "fig_prov_log.add_trace(\n",
    "    go.Scatter(\n",
    "        y=[2,36],\n",
    "        x=[4,60],\n",
    "        line=dict(color='grey',\n",
    "                  width=4, dash='dot'),\n",
    "        name = '3rd Day'\n",
    "     \n",
    "    ))\n",
    "\n",
    "\n",
    "fig_prov_log.add_annotation(\n",
    "            x=10,\n",
    "            y=2.5,\n",
    "            text=\"Cases Doubles every day\",\n",
    "          \n",
    ")\n",
    "fig_prov_log.add_annotation(\n",
    "            x=21,\n",
    "            y=.8,\n",
    "            text=\"Doubles every 2nd day\",\n",
    "          \n",
    ")\n",
    "\n",
    "fig_prov_log.add_annotation(\n",
    "            x=40,\n",
    "            y=1.1,\n",
    "            text=\"3rd day\",\n",
    "          \n",
    ")\n",
    "\n",
    "\n",
    "fig_prov_log.add_trace(\n",
    "    go.Scatter(\n",
    "        y=df_day['EC'],\n",
    "        x=df_day.index,\n",
    "        name= 'EC'\n",
    "    ))\n",
    "fig_prov_log.add_trace(\n",
    "    go.Scatter(\n",
    "        y=df_day['WC'],\n",
    "        x=df_day.index,\n",
    "        name= 'WC'\n",
    "    ))\n",
    "fig_prov_log.add_trace(\n",
    "    go.Scatter(\n",
    "        y=df_day['FS'],\n",
    "        x=df_day.index,\n",
    "        name= 'FS'\n",
    "    ))\n",
    "fig_prov_log.add_trace(\n",
    "    go.Scatter(\n",
    "        y=df_day['GP'],\n",
    "        x=df_day.index,\n",
    "        name= 'GP'\n",
    "    ))\n",
    "fig_prov_log.add_trace(\n",
    "    go.Scatter(\n",
    "        y=df_day['KZN'],\n",
    "        x=df_day.index,\n",
    "        name= \"KZN\"\n",
    "    ))\n",
    "fig_prov_log.add_trace(\n",
    "    go.Scatter(\n",
    "        y=df_day['NW'],\n",
    "        x=df_day.index,\n",
    "        name= 'NW'\n",
    "    ))\n",
    "fig_prov_log.add_trace(\n",
    "    go.Scatter(\n",
    "        y=df_day['LP'],\n",
    "        x=df_day.index,\n",
    "        name= 'LP'\n",
    "    ))\n",
    "fig_prov_log.add_trace(\n",
    "    go.Scatter(\n",
    "        y=df_day['MP'],\n",
    "        x=df_day.index,\n",
    "        name= 'MP'\n",
    "    ))\n",
    "fig_prov_log.add_trace(\n",
    "    go.Scatter(\n",
    "        y=df_day['NC'],\n",
    "        x=df_day.index,\n",
    "        name= 'NC'\n",
    "    ))\n",
    "# fig_prov_log.add_trace(\n",
    "#     go.Scatter(\n",
    "#         y=df_day['UNKNOWN'],\n",
    "#         x=df_day.index,\n",
    "#         name='Unlocated'\n",
    "#     ))\n",
    "\n",
    "\n",
    "\n",
    "fig_prov_log.update_layout(\n",
    "    updatemenus=[\n",
    "        dict(\n",
    "            active=0,\n",
    "            buttons=list([\n",
    "                dict(label=\"ALL\",\n",
    "                     method=\"update\",\n",
    "                     args=[{\"visible\": [True,True,True,True,True,True,True,True,True,True,True,True,True,]},\n",
    "                           {\"title\": \"Cumulative Confirmed Cases: Eastern Cape\",\n",
    "                            }]),\n",
    "                dict(label=\"EC\",\n",
    "                     method=\"update\",\n",
    "                     args=[{\"visible\": [True,True,True,True, False, False, False,False, False, False,False, False, False]},\n",
    "                           {\"title\": \"Cumulative Confirmed Cases: Eastern Cape\",\n",
    "                            }]),\n",
    "                dict(label=\"WC\",\n",
    "                     method=\"update\",\n",
    "                     args=[{\"visible\": [True,True,True,False,True,False,False,False,False,False,False,False,False]},\n",
    "                           {\"title\": \"Cumulative Confirmed Cases: Western Cape\",\n",
    "                          }]),\n",
    "                dict(label=\"FS\",\n",
    "                     method=\"update\",\n",
    "                     args=[{\"visible\": [True,True,True,False,False,True,False,False,False,False,False,False,False]},\n",
    "                           {\"title\": \"Cumulative Confirmed Cases: Free State\",\n",
    "                          }]),\n",
    "                dict(label=\"GP\",\n",
    "                     method=\"update\",\n",
    "                     args=[{\"visible\": [True,True,True,False,False,False,True,False,False,False,False,False,False]},\n",
    "                           {\"title\": \"Cumulative Confirmed Cases: Gauteng\",\n",
    "                          }]),\n",
    "                dict(label=\"KZN\",\n",
    "                     method=\"update\",\n",
    "                     args=[{\"visible\": [True,True,True,False,False,False,False,True, False,False,False, False, False]},\n",
    "                           {\"title\": \"Cumulative Confirmed Cases: Kwa Zulu Natal\",\n",
    "                          }]),\n",
    "                dict(label=\"NW\",\n",
    "                     method=\"update\",\n",
    "                     args=[{\"visible\": [True,True,True,False,False,False,False,False,True,False,False, False, False]},\n",
    "                           {\"title\": \"Cumulative Confirmed Cases: North West\",\n",
    "                          }]),\n",
    "                dict(label=\"LP\",\n",
    "                     method=\"update\",\n",
    "                     args=[{\"visible\": [True,True,True,False, False,False,False,False, False,True, False, False, False]},\n",
    "                           {\"title\": \"Cumulative Confirmed Cases: Limpopo\",\n",
    "                          }]),\n",
    "                dict(label=\"MP\",\n",
    "                     method=\"update\",\n",
    "                     args=[{\"visible\": [True,True,True,False, False,False,False,False, False,False,True,  False, False]},\n",
    "                           {\"title\": \"Cumulative Confirmed Cases: Mpumalanga\",\n",
    "                          }]),\n",
    "                dict(label=\"NC\",\n",
    "                     method=\"update\",\n",
    "                     args=[{\"visible\": [True,True,True,False, False,False,False,False, False,False,  False,True, False]},\n",
    "                           {\"title\": \"Cumulative Confirmed Cases: Northern Cape\",\n",
    "                          }]),\n",
    "                 dict(label=\"Cumulative Confirmed Cases: UNKWNOWN\",\n",
    "                     method=\"update\",\n",
    "                     args=[{\"visible\": [True,True,True,False, False,False,False,False, False,False,False, False,True]},\n",
    "                           {\"title\": \"Unlocated\",\n",
    "                          }]),\n",
    "            ]),\n",
    "        )\n",
    "    ])\n",
    "\n",
    "# Set title\n",
    "fig_prov_log.update_layout(title_text=\"Confirmed Cases by Province\",\n",
    "                 xaxis_title=\"Days since the first confirmed case\",\n",
    "                 yaxis_title=\"Log\",\n",
    "                 yaxis_type=\"log\")\n",
    "\n",
    "fig_prov_log.show()\n",
    "\n"
   ]
  },
  {
   "cell_type": "code",
   "execution_count": 18,
   "metadata": {},
   "outputs": [
    {
     "data": {
      "application/vnd.plotly.v1+json": {
       "config": {
        "plotlyServerURL": "https://plot.ly"
       },
       "data": [
        {
         "line": {
          "color": "grey",
          "dash": "dot",
          "width": 4
         },
         "name": "lockdown",
         "type": "scatter",
         "x": [
          18,
          18
         ],
         "y": [
          0,
          800
         ]
        },
        {
         "line": {
          "color": "grey",
          "dash": "dot",
          "width": 4
         },
         "name": "level_4",
         "type": "scatter",
         "x": [
          55,
          55
         ],
         "y": [
          0,
          800
         ]
        },
        {
         "name": "EC",
         "type": "scatter",
         "x": [
          0,
          1,
          2,
          3,
          4,
          5,
          6,
          7,
          8,
          9,
          10,
          11,
          12,
          13,
          14,
          15,
          16,
          17,
          18,
          19,
          20,
          21,
          22,
          23,
          24,
          25,
          26,
          27,
          28,
          29,
          30,
          31,
          32,
          33,
          34,
          35,
          36,
          37,
          38,
          39,
          40,
          41,
          42,
          43,
          44,
          45,
          46,
          47,
          48,
          49,
          50,
          51,
          52,
          53,
          54,
          55,
          56,
          57,
          58,
          59,
          60,
          61,
          62,
          63,
          64,
          65,
          66,
          67,
          68,
          69,
          70,
          71,
          72
         ],
         "y": [
          0,
          0,
          0,
          0,
          0,
          0,
          0,
          0,
          0,
          0,
          0,
          0,
          0,
          1,
          1,
          0,
          0,
          0,
          3,
          0,
          5,
          2,
          0,
          0,
          3,
          2,
          4,
          4,
          6,
          1,
          0,
          13,
          16,
          7,
          1,
          19,
          16,
          70,
          25,
          21,
          26,
          24,
          23,
          17,
          35,
          32,
          40,
          63,
          8,
          47,
          53,
          28,
          14,
          17,
          44,
          41,
          42,
          40,
          24,
          11,
          80,
          60,
          89,
          140,
          138,
          148,
          30,
          35,
          93,
          150,
          124,
          116,
          83
         ]
        },
        {
         "name": "WC",
         "type": "scatter",
         "x": [
          0,
          1,
          2,
          3,
          4,
          5,
          6,
          7,
          8,
          9,
          10,
          11,
          12,
          13,
          14,
          15,
          16,
          17,
          18,
          19,
          20,
          21,
          22,
          23,
          24,
          25,
          26,
          27,
          28,
          29,
          30,
          31,
          32,
          33,
          34,
          35,
          36,
          37,
          38,
          39,
          40,
          41,
          42,
          43,
          44,
          45,
          46,
          47,
          48,
          49,
          50,
          51,
          52,
          53,
          54,
          55,
          56,
          57,
          58,
          59,
          60,
          61,
          62,
          63,
          64,
          65,
          66,
          67,
          68,
          69,
          70,
          71,
          72
         ],
         "y": [
          0,
          0,
          0,
          1,
          0,
          2,
          6,
          5,
          2,
          5,
          10,
          15,
          11,
          18,
          14,
          11,
          13,
          70,
          46,
          0,
          42,
          39,
          14,
          1,
          1,
          27,
          21,
          59,
          21,
          8,
          0,
          33,
          20,
          26,
          5,
          41,
          30,
          26,
          14,
          18,
          42,
          119,
          32,
          72,
          70,
          69,
          200,
          134,
          101,
          94,
          129,
          133,
          265,
          207,
          165,
          193,
          344,
          318,
          247,
          151,
          234,
          503,
          312,
          359,
          453,
          484,
          608,
          522,
          563,
          606,
          890,
          741,
          604
         ]
        },
        {
         "name": "FS",
         "type": "scatter",
         "x": [
          0,
          1,
          2,
          3,
          4,
          5,
          6,
          7,
          8,
          9,
          10,
          11,
          12,
          13,
          14,
          15,
          16,
          17,
          18,
          19,
          20,
          21,
          22,
          23,
          24,
          25,
          26,
          27,
          28,
          29,
          30,
          31,
          32,
          33,
          34,
          35,
          36,
          37,
          38,
          39,
          40,
          41,
          42,
          43,
          44,
          45,
          46,
          47,
          48,
          49,
          50,
          51,
          52,
          53,
          54,
          55,
          56,
          57,
          58,
          59,
          60,
          61,
          62,
          63,
          64,
          65,
          66,
          67,
          68,
          69,
          70,
          71,
          72
         ],
         "y": [
          0,
          0,
          0,
          0,
          0,
          0,
          0,
          0,
          0,
          0,
          0,
          0,
          7,
          0,
          2,
          4,
          5,
          12,
          19,
          0,
          19,
          4,
          0,
          2,
          2,
          8,
          0,
          1,
          2,
          2,
          0,
          -1,
          5,
          1,
          0,
          2,
          0,
          2,
          -1,
          1,
          2,
          0,
          0,
          5,
          1,
          0,
          0,
          5,
          0,
          -1,
          1,
          2,
          0,
          3,
          2,
          3,
          1,
          3,
          3,
          2,
          4,
          -1,
          1,
          1,
          0,
          0,
          3,
          7,
          6,
          2,
          5,
          5,
          5
         ]
        },
        {
         "name": "GP",
         "type": "scatter",
         "x": [
          0,
          1,
          2,
          3,
          4,
          5,
          6,
          7,
          8,
          9,
          10,
          11,
          12,
          13,
          14,
          15,
          16,
          17,
          18,
          19,
          20,
          21,
          22,
          23,
          24,
          25,
          26,
          27,
          28,
          29,
          30,
          31,
          32,
          33,
          34,
          35,
          36,
          37,
          38,
          39,
          40,
          41,
          42,
          43,
          44,
          45,
          46,
          47,
          48,
          49,
          50,
          51,
          52,
          53,
          54,
          55,
          56,
          57,
          58,
          59,
          60,
          61,
          62,
          63,
          64,
          65,
          66,
          67,
          68,
          69,
          70,
          71,
          72
         ],
         "y": [
          1,
          0,
          0,
          4,
          1,
          4,
          7,
          7,
          7,
          14,
          16,
          15,
          33,
          16,
          7,
          75,
          95,
          17,
          90,
          0,
          124,
          51,
          34,
          15,
          12,
          18,
          9,
          21,
          11,
          9,
          0,
          69,
          13,
          6,
          12,
          52,
          25,
          19,
          21,
          39,
          49,
          83,
          47,
          22,
          29,
          25,
          28,
          29,
          23,
          27,
          22,
          24,
          31,
          38,
          61,
          91,
          26,
          27,
          46,
          23,
          84,
          47,
          59,
          42,
          19,
          43,
          60,
          61,
          75,
          52,
          67,
          14,
          18
         ]
        },
        {
         "name": "KZN",
         "type": "scatter",
         "x": [
          0,
          1,
          2,
          3,
          4,
          5,
          6,
          7,
          8,
          9,
          10,
          11,
          12,
          13,
          14,
          15,
          16,
          17,
          18,
          19,
          20,
          21,
          22,
          23,
          24,
          25,
          26,
          27,
          28,
          29,
          30,
          31,
          32,
          33,
          34,
          35,
          36,
          37,
          38,
          39,
          40,
          41,
          42,
          43,
          44,
          45,
          46,
          47,
          48,
          49,
          50,
          51,
          52,
          53,
          54,
          55,
          56,
          57,
          58,
          59,
          60,
          61,
          62,
          63,
          64,
          65,
          66,
          67,
          68,
          69,
          70,
          71,
          72
         ],
         "y": [
          0,
          1,
          4,
          1,
          1,
          2,
          1,
          1,
          0,
          4,
          3,
          3,
          1,
          3,
          9,
          25,
          20,
          11,
          43,
          0,
          22,
          11,
          4,
          8,
          7,
          20,
          9,
          17,
          14,
          11,
          0,
          97,
          33,
          25,
          6,
          25,
          22,
          24,
          30,
          20,
          52,
          13,
          13,
          22,
          32,
          87,
          49,
          34,
          0,
          22,
          39,
          17,
          37,
          24,
          26,
          45,
          25,
          30,
          36,
          7,
          55,
          49,
          55,
          45,
          19,
          22,
          19,
          31,
          38,
          16,
          45,
          24,
          49
         ]
        },
        {
         "name": "NW",
         "type": "scatter",
         "x": [
          0,
          1,
          2,
          3,
          4,
          5,
          6,
          7,
          8,
          9,
          10,
          11,
          12,
          13,
          14,
          15,
          16,
          17,
          18,
          19,
          20,
          21,
          22,
          23,
          24,
          25,
          26,
          27,
          28,
          29,
          30,
          31,
          32,
          33,
          34,
          35,
          36,
          37,
          38,
          39,
          40,
          41,
          42,
          43,
          44,
          45,
          46,
          47,
          48,
          49,
          50,
          51,
          52,
          53,
          54,
          55,
          56,
          57,
          58,
          59,
          60,
          61,
          62,
          63,
          64,
          65,
          66,
          67,
          68,
          69,
          70,
          71,
          72
         ],
         "y": [
          0,
          0,
          0,
          0,
          0,
          0,
          0,
          0,
          0,
          0,
          0,
          0,
          0,
          0,
          0,
          4,
          1,
          0,
          0,
          0,
          1,
          0,
          2,
          0,
          1,
          0,
          0,
          2,
          0,
          0,
          0,
          4,
          0,
          3,
          1,
          0,
          3,
          0,
          1,
          1,
          0,
          0,
          0,
          1,
          -1,
          0,
          1,
          0,
          3,
          0,
          3,
          -2,
          0,
          2,
          4,
          0,
          1,
          -1,
          0,
          2,
          3,
          2,
          -1,
          4,
          5,
          1,
          1,
          6,
          5,
          1,
          6,
          2,
          0
         ]
        },
        {
         "name": "LP",
         "type": "scatter",
         "x": [
          0,
          1,
          2,
          3,
          4,
          5,
          6,
          7,
          8,
          9,
          10,
          11,
          12,
          13,
          14,
          15,
          16,
          17,
          18,
          19,
          20,
          21,
          22,
          23,
          24,
          25,
          26,
          27,
          28,
          29,
          30,
          31,
          32,
          33,
          34,
          35,
          36,
          37,
          38,
          39,
          40,
          41,
          42,
          43,
          44,
          45,
          46,
          47,
          48,
          49,
          50,
          51,
          52,
          53,
          54,
          55,
          56,
          57,
          58,
          59,
          60,
          61,
          62,
          63,
          64,
          65,
          66,
          67,
          68,
          69,
          70,
          71,
          72
         ],
         "y": [
          0,
          0,
          0,
          0,
          0,
          0,
          0,
          0,
          1,
          0,
          0,
          0,
          0,
          0,
          1,
          2,
          0,
          0,
          2,
          0,
          5,
          1,
          -1,
          3,
          0,
          2,
          0,
          2,
          1,
          0,
          0,
          2,
          1,
          2,
          -1,
          0,
          0,
          1,
          1,
          1,
          0,
          0,
          1,
          0,
          0,
          0,
          0,
          2,
          1,
          1,
          0,
          0,
          0,
          1,
          2,
          2,
          1,
          2,
          1,
          0,
          1,
          2,
          8,
          3,
          0,
          0,
          0,
          1,
          2,
          2,
          18,
          11,
          6
         ]
        },
        {
         "name": "MP",
         "type": "scatter",
         "x": [
          0,
          1,
          2,
          3,
          4,
          5,
          6,
          7,
          8,
          9,
          10,
          11,
          12,
          13,
          14,
          15,
          16,
          17,
          18,
          19,
          20,
          21,
          22,
          23,
          24,
          25,
          26,
          27,
          28,
          29,
          30,
          31,
          32,
          33,
          34,
          35,
          36,
          37,
          38,
          39,
          40,
          41,
          42,
          43,
          44,
          45,
          46,
          47,
          48,
          49,
          50,
          51,
          52,
          53,
          54,
          55,
          56,
          57,
          58,
          59,
          60,
          61,
          62,
          63,
          64,
          65,
          66,
          67,
          68,
          69,
          70,
          71,
          72
         ],
         "y": [
          0,
          0,
          0,
          0,
          1,
          0,
          0,
          0,
          1,
          0,
          2,
          1,
          0,
          0,
          0,
          4,
          0,
          -1,
          1,
          0,
          1,
          1,
          0,
          1,
          0,
          1,
          0,
          5,
          0,
          0,
          0,
          3,
          -1,
          0,
          0,
          1,
          1,
          0,
          0,
          0,
          1,
          2,
          -2,
          0,
          1,
          -1,
          0,
          1,
          -1,
          0,
          3,
          0,
          5,
          5,
          -1,
          5,
          6,
          7,
          4,
          0,
          2,
          1,
          1,
          0,
          2,
          0,
          3,
          1,
          0,
          1,
          3,
          5,
          2
         ]
        },
        {
         "name": "NC",
         "type": "scatter",
         "x": [
          0,
          1,
          2,
          3,
          4,
          5,
          6,
          7,
          8,
          9,
          10,
          11,
          12,
          13,
          14,
          15,
          16,
          17,
          18,
          19,
          20,
          21,
          22,
          23,
          24,
          25,
          26,
          27,
          28,
          29,
          30,
          31,
          32,
          33,
          34,
          35,
          36,
          37,
          38,
          39,
          40,
          41,
          42,
          43,
          44,
          45,
          46,
          47,
          48,
          49,
          50,
          51,
          52,
          53,
          54,
          55,
          56,
          57,
          58,
          59,
          60,
          61,
          62,
          63,
          64,
          65,
          66,
          67,
          68,
          69,
          70,
          71,
          72
         ],
         "y": [
          0,
          0,
          0,
          0,
          0,
          0,
          0,
          0,
          0,
          0,
          0,
          0,
          0,
          0,
          0,
          2,
          0,
          0,
          0,
          0,
          3,
          1,
          -3,
          3,
          1,
          0,
          0,
          0,
          1,
          0,
          0,
          5,
          2,
          0,
          1,
          0,
          0,
          0,
          0,
          0,
          0,
          0,
          0,
          2,
          -2,
          0,
          0,
          0,
          0,
          1,
          0,
          0,
          0,
          0,
          1,
          5,
          1,
          1,
          1,
          0,
          1,
          0,
          1,
          1,
          1,
          0,
          0,
          1,
          3,
          1,
          2,
          0,
          0
         ]
        }
       ],
       "layout": {
        "annotations": [
         {
          "text": "Lockdown starts",
          "x": 18,
          "y": 400
         },
         {
          "text": "Level 4",
          "x": 55,
          "y": 500
         }
        ],
        "template": {
         "data": {
          "bar": [
           {
            "error_x": {
             "color": "#2a3f5f"
            },
            "error_y": {
             "color": "#2a3f5f"
            },
            "marker": {
             "line": {
              "color": "#E5ECF6",
              "width": 0.5
             }
            },
            "type": "bar"
           }
          ],
          "barpolar": [
           {
            "marker": {
             "line": {
              "color": "#E5ECF6",
              "width": 0.5
             }
            },
            "type": "barpolar"
           }
          ],
          "carpet": [
           {
            "aaxis": {
             "endlinecolor": "#2a3f5f",
             "gridcolor": "white",
             "linecolor": "white",
             "minorgridcolor": "white",
             "startlinecolor": "#2a3f5f"
            },
            "baxis": {
             "endlinecolor": "#2a3f5f",
             "gridcolor": "white",
             "linecolor": "white",
             "minorgridcolor": "white",
             "startlinecolor": "#2a3f5f"
            },
            "type": "carpet"
           }
          ],
          "choropleth": [
           {
            "colorbar": {
             "outlinewidth": 0,
             "ticks": ""
            },
            "type": "choropleth"
           }
          ],
          "contour": [
           {
            "colorbar": {
             "outlinewidth": 0,
             "ticks": ""
            },
            "colorscale": [
             [
              0,
              "#0d0887"
             ],
             [
              0.1111111111111111,
              "#46039f"
             ],
             [
              0.2222222222222222,
              "#7201a8"
             ],
             [
              0.3333333333333333,
              "#9c179e"
             ],
             [
              0.4444444444444444,
              "#bd3786"
             ],
             [
              0.5555555555555556,
              "#d8576b"
             ],
             [
              0.6666666666666666,
              "#ed7953"
             ],
             [
              0.7777777777777778,
              "#fb9f3a"
             ],
             [
              0.8888888888888888,
              "#fdca26"
             ],
             [
              1,
              "#f0f921"
             ]
            ],
            "type": "contour"
           }
          ],
          "contourcarpet": [
           {
            "colorbar": {
             "outlinewidth": 0,
             "ticks": ""
            },
            "type": "contourcarpet"
           }
          ],
          "heatmap": [
           {
            "colorbar": {
             "outlinewidth": 0,
             "ticks": ""
            },
            "colorscale": [
             [
              0,
              "#0d0887"
             ],
             [
              0.1111111111111111,
              "#46039f"
             ],
             [
              0.2222222222222222,
              "#7201a8"
             ],
             [
              0.3333333333333333,
              "#9c179e"
             ],
             [
              0.4444444444444444,
              "#bd3786"
             ],
             [
              0.5555555555555556,
              "#d8576b"
             ],
             [
              0.6666666666666666,
              "#ed7953"
             ],
             [
              0.7777777777777778,
              "#fb9f3a"
             ],
             [
              0.8888888888888888,
              "#fdca26"
             ],
             [
              1,
              "#f0f921"
             ]
            ],
            "type": "heatmap"
           }
          ],
          "heatmapgl": [
           {
            "colorbar": {
             "outlinewidth": 0,
             "ticks": ""
            },
            "colorscale": [
             [
              0,
              "#0d0887"
             ],
             [
              0.1111111111111111,
              "#46039f"
             ],
             [
              0.2222222222222222,
              "#7201a8"
             ],
             [
              0.3333333333333333,
              "#9c179e"
             ],
             [
              0.4444444444444444,
              "#bd3786"
             ],
             [
              0.5555555555555556,
              "#d8576b"
             ],
             [
              0.6666666666666666,
              "#ed7953"
             ],
             [
              0.7777777777777778,
              "#fb9f3a"
             ],
             [
              0.8888888888888888,
              "#fdca26"
             ],
             [
              1,
              "#f0f921"
             ]
            ],
            "type": "heatmapgl"
           }
          ],
          "histogram": [
           {
            "marker": {
             "colorbar": {
              "outlinewidth": 0,
              "ticks": ""
             }
            },
            "type": "histogram"
           }
          ],
          "histogram2d": [
           {
            "colorbar": {
             "outlinewidth": 0,
             "ticks": ""
            },
            "colorscale": [
             [
              0,
              "#0d0887"
             ],
             [
              0.1111111111111111,
              "#46039f"
             ],
             [
              0.2222222222222222,
              "#7201a8"
             ],
             [
              0.3333333333333333,
              "#9c179e"
             ],
             [
              0.4444444444444444,
              "#bd3786"
             ],
             [
              0.5555555555555556,
              "#d8576b"
             ],
             [
              0.6666666666666666,
              "#ed7953"
             ],
             [
              0.7777777777777778,
              "#fb9f3a"
             ],
             [
              0.8888888888888888,
              "#fdca26"
             ],
             [
              1,
              "#f0f921"
             ]
            ],
            "type": "histogram2d"
           }
          ],
          "histogram2dcontour": [
           {
            "colorbar": {
             "outlinewidth": 0,
             "ticks": ""
            },
            "colorscale": [
             [
              0,
              "#0d0887"
             ],
             [
              0.1111111111111111,
              "#46039f"
             ],
             [
              0.2222222222222222,
              "#7201a8"
             ],
             [
              0.3333333333333333,
              "#9c179e"
             ],
             [
              0.4444444444444444,
              "#bd3786"
             ],
             [
              0.5555555555555556,
              "#d8576b"
             ],
             [
              0.6666666666666666,
              "#ed7953"
             ],
             [
              0.7777777777777778,
              "#fb9f3a"
             ],
             [
              0.8888888888888888,
              "#fdca26"
             ],
             [
              1,
              "#f0f921"
             ]
            ],
            "type": "histogram2dcontour"
           }
          ],
          "mesh3d": [
           {
            "colorbar": {
             "outlinewidth": 0,
             "ticks": ""
            },
            "type": "mesh3d"
           }
          ],
          "parcoords": [
           {
            "line": {
             "colorbar": {
              "outlinewidth": 0,
              "ticks": ""
             }
            },
            "type": "parcoords"
           }
          ],
          "pie": [
           {
            "automargin": true,
            "type": "pie"
           }
          ],
          "scatter": [
           {
            "marker": {
             "colorbar": {
              "outlinewidth": 0,
              "ticks": ""
             }
            },
            "type": "scatter"
           }
          ],
          "scatter3d": [
           {
            "line": {
             "colorbar": {
              "outlinewidth": 0,
              "ticks": ""
             }
            },
            "marker": {
             "colorbar": {
              "outlinewidth": 0,
              "ticks": ""
             }
            },
            "type": "scatter3d"
           }
          ],
          "scattercarpet": [
           {
            "marker": {
             "colorbar": {
              "outlinewidth": 0,
              "ticks": ""
             }
            },
            "type": "scattercarpet"
           }
          ],
          "scattergeo": [
           {
            "marker": {
             "colorbar": {
              "outlinewidth": 0,
              "ticks": ""
             }
            },
            "type": "scattergeo"
           }
          ],
          "scattergl": [
           {
            "marker": {
             "colorbar": {
              "outlinewidth": 0,
              "ticks": ""
             }
            },
            "type": "scattergl"
           }
          ],
          "scattermapbox": [
           {
            "marker": {
             "colorbar": {
              "outlinewidth": 0,
              "ticks": ""
             }
            },
            "type": "scattermapbox"
           }
          ],
          "scatterpolar": [
           {
            "marker": {
             "colorbar": {
              "outlinewidth": 0,
              "ticks": ""
             }
            },
            "type": "scatterpolar"
           }
          ],
          "scatterpolargl": [
           {
            "marker": {
             "colorbar": {
              "outlinewidth": 0,
              "ticks": ""
             }
            },
            "type": "scatterpolargl"
           }
          ],
          "scatterternary": [
           {
            "marker": {
             "colorbar": {
              "outlinewidth": 0,
              "ticks": ""
             }
            },
            "type": "scatterternary"
           }
          ],
          "surface": [
           {
            "colorbar": {
             "outlinewidth": 0,
             "ticks": ""
            },
            "colorscale": [
             [
              0,
              "#0d0887"
             ],
             [
              0.1111111111111111,
              "#46039f"
             ],
             [
              0.2222222222222222,
              "#7201a8"
             ],
             [
              0.3333333333333333,
              "#9c179e"
             ],
             [
              0.4444444444444444,
              "#bd3786"
             ],
             [
              0.5555555555555556,
              "#d8576b"
             ],
             [
              0.6666666666666666,
              "#ed7953"
             ],
             [
              0.7777777777777778,
              "#fb9f3a"
             ],
             [
              0.8888888888888888,
              "#fdca26"
             ],
             [
              1,
              "#f0f921"
             ]
            ],
            "type": "surface"
           }
          ],
          "table": [
           {
            "cells": {
             "fill": {
              "color": "#EBF0F8"
             },
             "line": {
              "color": "white"
             }
            },
            "header": {
             "fill": {
              "color": "#C8D4E3"
             },
             "line": {
              "color": "white"
             }
            },
            "type": "table"
           }
          ]
         },
         "layout": {
          "annotationdefaults": {
           "arrowcolor": "#2a3f5f",
           "arrowhead": 0,
           "arrowwidth": 1
          },
          "coloraxis": {
           "colorbar": {
            "outlinewidth": 0,
            "ticks": ""
           }
          },
          "colorscale": {
           "diverging": [
            [
             0,
             "#8e0152"
            ],
            [
             0.1,
             "#c51b7d"
            ],
            [
             0.2,
             "#de77ae"
            ],
            [
             0.3,
             "#f1b6da"
            ],
            [
             0.4,
             "#fde0ef"
            ],
            [
             0.5,
             "#f7f7f7"
            ],
            [
             0.6,
             "#e6f5d0"
            ],
            [
             0.7,
             "#b8e186"
            ],
            [
             0.8,
             "#7fbc41"
            ],
            [
             0.9,
             "#4d9221"
            ],
            [
             1,
             "#276419"
            ]
           ],
           "sequential": [
            [
             0,
             "#0d0887"
            ],
            [
             0.1111111111111111,
             "#46039f"
            ],
            [
             0.2222222222222222,
             "#7201a8"
            ],
            [
             0.3333333333333333,
             "#9c179e"
            ],
            [
             0.4444444444444444,
             "#bd3786"
            ],
            [
             0.5555555555555556,
             "#d8576b"
            ],
            [
             0.6666666666666666,
             "#ed7953"
            ],
            [
             0.7777777777777778,
             "#fb9f3a"
            ],
            [
             0.8888888888888888,
             "#fdca26"
            ],
            [
             1,
             "#f0f921"
            ]
           ],
           "sequentialminus": [
            [
             0,
             "#0d0887"
            ],
            [
             0.1111111111111111,
             "#46039f"
            ],
            [
             0.2222222222222222,
             "#7201a8"
            ],
            [
             0.3333333333333333,
             "#9c179e"
            ],
            [
             0.4444444444444444,
             "#bd3786"
            ],
            [
             0.5555555555555556,
             "#d8576b"
            ],
            [
             0.6666666666666666,
             "#ed7953"
            ],
            [
             0.7777777777777778,
             "#fb9f3a"
            ],
            [
             0.8888888888888888,
             "#fdca26"
            ],
            [
             1,
             "#f0f921"
            ]
           ]
          },
          "colorway": [
           "#636efa",
           "#EF553B",
           "#00cc96",
           "#ab63fa",
           "#FFA15A",
           "#19d3f3",
           "#FF6692",
           "#B6E880",
           "#FF97FF",
           "#FECB52"
          ],
          "font": {
           "color": "#2a3f5f"
          },
          "geo": {
           "bgcolor": "white",
           "lakecolor": "white",
           "landcolor": "#E5ECF6",
           "showlakes": true,
           "showland": true,
           "subunitcolor": "white"
          },
          "hoverlabel": {
           "align": "left"
          },
          "hovermode": "closest",
          "mapbox": {
           "style": "light"
          },
          "paper_bgcolor": "white",
          "plot_bgcolor": "#E5ECF6",
          "polar": {
           "angularaxis": {
            "gridcolor": "white",
            "linecolor": "white",
            "ticks": ""
           },
           "bgcolor": "#E5ECF6",
           "radialaxis": {
            "gridcolor": "white",
            "linecolor": "white",
            "ticks": ""
           }
          },
          "scene": {
           "xaxis": {
            "backgroundcolor": "#E5ECF6",
            "gridcolor": "white",
            "gridwidth": 2,
            "linecolor": "white",
            "showbackground": true,
            "ticks": "",
            "zerolinecolor": "white"
           },
           "yaxis": {
            "backgroundcolor": "#E5ECF6",
            "gridcolor": "white",
            "gridwidth": 2,
            "linecolor": "white",
            "showbackground": true,
            "ticks": "",
            "zerolinecolor": "white"
           },
           "zaxis": {
            "backgroundcolor": "#E5ECF6",
            "gridcolor": "white",
            "gridwidth": 2,
            "linecolor": "white",
            "showbackground": true,
            "ticks": "",
            "zerolinecolor": "white"
           }
          },
          "shapedefaults": {
           "line": {
            "color": "#2a3f5f"
           }
          },
          "ternary": {
           "aaxis": {
            "gridcolor": "white",
            "linecolor": "white",
            "ticks": ""
           },
           "baxis": {
            "gridcolor": "white",
            "linecolor": "white",
            "ticks": ""
           },
           "bgcolor": "#E5ECF6",
           "caxis": {
            "gridcolor": "white",
            "linecolor": "white",
            "ticks": ""
           }
          },
          "title": {
           "x": 0.05
          },
          "xaxis": {
           "automargin": true,
           "gridcolor": "white",
           "linecolor": "white",
           "ticks": "",
           "title": {
            "standoff": 15
           },
           "zerolinecolor": "white",
           "zerolinewidth": 2
          },
          "yaxis": {
           "automargin": true,
           "gridcolor": "white",
           "linecolor": "white",
           "ticks": "",
           "title": {
            "standoff": 15
           },
           "zerolinecolor": "white",
           "zerolinewidth": 2
          }
         }
        },
        "title": {
         "text": "Confirmed Cases by Province"
        },
        "updatemenus": [
         {
          "active": 0,
          "buttons": [
           {
            "args": [
             {
              "visible": [
               true,
               true,
               true,
               true,
               true,
               true,
               true,
               true,
               true,
               true,
               true,
               true
              ]
             },
             {
              "title": "Cumulative Confirmed Cases: Eastern Cape"
             }
            ],
            "label": "ALL",
            "method": "update"
           },
           {
            "args": [
             {
              "visible": [
               true,
               true,
               true,
               false,
               false,
               false,
               false,
               false,
               false,
               false,
               false,
               false
              ]
             },
             {
              "title": "Cumulative Confirmed Cases: Eastern Cape"
             }
            ],
            "label": "EC",
            "method": "update"
           },
           {
            "args": [
             {
              "visible": [
               true,
               true,
               false,
               true,
               false,
               false,
               false,
               false,
               false,
               false,
               false,
               false
              ]
             },
             {
              "title": "Cumulative Confirmed Cases: Western Cape"
             }
            ],
            "label": "WC",
            "method": "update"
           },
           {
            "args": [
             {
              "visible": [
               true,
               true,
               false,
               false,
               true,
               false,
               false,
               false,
               false,
               false,
               false,
               false
              ]
             },
             {
              "title": "Cumulative Confirmed Cases: Free State"
             }
            ],
            "label": "FS",
            "method": "update"
           },
           {
            "args": [
             {
              "visible": [
               true,
               true,
               false,
               false,
               false,
               true,
               false,
               false,
               false,
               false,
               false,
               false
              ]
             },
             {
              "title": "Cumulative Confirmed Cases: Gauteng"
             }
            ],
            "label": "GP",
            "method": "update"
           },
           {
            "args": [
             {
              "visible": [
               true,
               true,
               false,
               false,
               false,
               false,
               true,
               false,
               false,
               false,
               false,
               false
              ]
             },
             {
              "title": "Cumulative Confirmed Cases: Kwa Zulu Natal"
             }
            ],
            "label": "KZN",
            "method": "update"
           },
           {
            "args": [
             {
              "visible": [
               true,
               true,
               false,
               false,
               false,
               false,
               false,
               true,
               false,
               false,
               false,
               false
              ]
             },
             {
              "title": "Cumulative Confirmed Cases: North West"
             }
            ],
            "label": "NW",
            "method": "update"
           },
           {
            "args": [
             {
              "visible": [
               true,
               true,
               false,
               false,
               false,
               false,
               false,
               false,
               true,
               false,
               false,
               false
              ]
             },
             {
              "title": "Cumulative Confirmed Cases: Limpopo"
             }
            ],
            "label": "LP",
            "method": "update"
           },
           {
            "args": [
             {
              "visible": [
               true,
               true,
               false,
               false,
               false,
               false,
               false,
               false,
               false,
               true,
               false,
               false
              ]
             },
             {
              "title": "Cumulative Confirmed Cases: Mpumalanga"
             }
            ],
            "label": "MP",
            "method": "update"
           },
           {
            "args": [
             {
              "visible": [
               true,
               true,
               false,
               false,
               false,
               false,
               false,
               false,
               false,
               false,
               true,
               false
              ]
             },
             {
              "title": "Cumulative Confirmed Cases: Northern Cape"
             }
            ],
            "label": "NC",
            "method": "update"
           },
           {
            "args": [
             {
              "visible": [
               true,
               true,
               false,
               false,
               false,
               false,
               false,
               false,
               false,
               false,
               false,
               true
              ]
             },
             {
              "title": "Unlocated"
             }
            ],
            "label": "Cumulative Confirmed Cases: UNKWNOWN",
            "method": "update"
           }
          ]
         }
        ],
        "xaxis": {
         "title": {
          "text": "Days since the first confirmed case"
         }
        },
        "yaxis": {
         "title": {
          "text": "Log"
         }
        }
       }
      },
      "text/html": [
       "<div>\n",
       "        \n",
       "        \n",
       "            <div id=\"77cbc862-b453-4b67-b4d8-107937c34250\" class=\"plotly-graph-div\" style=\"height:525px; width:100%;\"></div>\n",
       "            <script type=\"text/javascript\">\n",
       "                require([\"plotly\"], function(Plotly) {\n",
       "                    window.PLOTLYENV=window.PLOTLYENV || {};\n",
       "                    \n",
       "                if (document.getElementById(\"77cbc862-b453-4b67-b4d8-107937c34250\")) {\n",
       "                    Plotly.newPlot(\n",
       "                        '77cbc862-b453-4b67-b4d8-107937c34250',\n",
       "                        [{\"line\": {\"color\": \"grey\", \"dash\": \"dot\", \"width\": 4}, \"name\": \"lockdown\", \"type\": \"scatter\", \"x\": [18, 18], \"y\": [0, 800]}, {\"line\": {\"color\": \"grey\", \"dash\": \"dot\", \"width\": 4}, \"name\": \"level_4\", \"type\": \"scatter\", \"x\": [55, 55], \"y\": [0, 800]}, {\"name\": \"EC\", \"type\": \"scatter\", \"x\": [0, 1, 2, 3, 4, 5, 6, 7, 8, 9, 10, 11, 12, 13, 14, 15, 16, 17, 18, 19, 20, 21, 22, 23, 24, 25, 26, 27, 28, 29, 30, 31, 32, 33, 34, 35, 36, 37, 38, 39, 40, 41, 42, 43, 44, 45, 46, 47, 48, 49, 50, 51, 52, 53, 54, 55, 56, 57, 58, 59, 60, 61, 62, 63, 64, 65, 66, 67, 68, 69, 70, 71, 72], \"y\": [0.0, 0.0, 0.0, 0.0, 0.0, 0.0, 0.0, 0.0, 0.0, 0.0, 0.0, 0.0, 0.0, 1.0, 1.0, 0.0, 0.0, 0.0, 3.0, 0.0, 5.0, 2.0, 0.0, 0.0, 3.0, 2.0, 4.0, 4.0, 6.0, 1.0, 0.0, 13.0, 16.0, 7.0, 1.0, 19.0, 16.0, 70.0, 25.0, 21.0, 26.0, 24.0, 23.0, 17.0, 35.0, 32.0, 40.0, 63.0, 8.0, 47.0, 53.0, 28.0, 14.0, 17.0, 44.0, 41.0, 42.0, 40.0, 24.0, 11.0, 80.0, 60.0, 89.0, 140.0, 138.0, 148.0, 30.0, 35.0, 93.0, 150.0, 124.0, 116.0, 83.0]}, {\"name\": \"WC\", \"type\": \"scatter\", \"x\": [0, 1, 2, 3, 4, 5, 6, 7, 8, 9, 10, 11, 12, 13, 14, 15, 16, 17, 18, 19, 20, 21, 22, 23, 24, 25, 26, 27, 28, 29, 30, 31, 32, 33, 34, 35, 36, 37, 38, 39, 40, 41, 42, 43, 44, 45, 46, 47, 48, 49, 50, 51, 52, 53, 54, 55, 56, 57, 58, 59, 60, 61, 62, 63, 64, 65, 66, 67, 68, 69, 70, 71, 72], \"y\": [0.0, 0.0, 0.0, 1.0, 0.0, 2.0, 6.0, 5.0, 2.0, 5.0, 10.0, 15.0, 11.0, 18.0, 14.0, 11.0, 13.0, 70.0, 46.0, 0.0, 42.0, 39.0, 14.0, 1.0, 1.0, 27.0, 21.0, 59.0, 21.0, 8.0, 0.0, 33.0, 20.0, 26.0, 5.0, 41.0, 30.0, 26.0, 14.0, 18.0, 42.0, 119.0, 32.0, 72.0, 70.0, 69.0, 200.0, 134.0, 101.0, 94.0, 129.0, 133.0, 265.0, 207.0, 165.0, 193.0, 344.0, 318.0, 247.0, 151.0, 234.0, 503.0, 312.0, 359.0, 453.0, 484.0, 608.0, 522.0, 563.0, 606.0, 890.0, 741.0, 604.0]}, {\"name\": \"FS\", \"type\": \"scatter\", \"x\": [0, 1, 2, 3, 4, 5, 6, 7, 8, 9, 10, 11, 12, 13, 14, 15, 16, 17, 18, 19, 20, 21, 22, 23, 24, 25, 26, 27, 28, 29, 30, 31, 32, 33, 34, 35, 36, 37, 38, 39, 40, 41, 42, 43, 44, 45, 46, 47, 48, 49, 50, 51, 52, 53, 54, 55, 56, 57, 58, 59, 60, 61, 62, 63, 64, 65, 66, 67, 68, 69, 70, 71, 72], \"y\": [0.0, 0.0, 0.0, 0.0, 0.0, 0.0, 0.0, 0.0, 0.0, 0.0, 0.0, 0.0, 7.0, 0.0, 2.0, 4.0, 5.0, 12.0, 19.0, 0.0, 19.0, 4.0, 0.0, 2.0, 2.0, 8.0, 0.0, 1.0, 2.0, 2.0, 0.0, -1.0, 5.0, 1.0, 0.0, 2.0, 0.0, 2.0, -1.0, 1.0, 2.0, 0.0, 0.0, 5.0, 1.0, 0.0, 0.0, 5.0, 0.0, -1.0, 1.0, 2.0, 0.0, 3.0, 2.0, 3.0, 1.0, 3.0, 3.0, 2.0, 4.0, -1.0, 1.0, 1.0, 0.0, 0.0, 3.0, 7.0, 6.0, 2.0, 5.0, 5.0, 5.0]}, {\"name\": \"GP\", \"type\": \"scatter\", \"x\": [0, 1, 2, 3, 4, 5, 6, 7, 8, 9, 10, 11, 12, 13, 14, 15, 16, 17, 18, 19, 20, 21, 22, 23, 24, 25, 26, 27, 28, 29, 30, 31, 32, 33, 34, 35, 36, 37, 38, 39, 40, 41, 42, 43, 44, 45, 46, 47, 48, 49, 50, 51, 52, 53, 54, 55, 56, 57, 58, 59, 60, 61, 62, 63, 64, 65, 66, 67, 68, 69, 70, 71, 72], \"y\": [1.0, 0.0, 0.0, 4.0, 1.0, 4.0, 7.0, 7.0, 7.0, 14.0, 16.0, 15.0, 33.0, 16.0, 7.0, 75.0, 95.0, 17.0, 90.0, 0.0, 124.0, 51.0, 34.0, 15.0, 12.0, 18.0, 9.0, 21.0, 11.0, 9.0, 0.0, 69.0, 13.0, 6.0, 12.0, 52.0, 25.0, 19.0, 21.0, 39.0, 49.0, 83.0, 47.0, 22.0, 29.0, 25.0, 28.0, 29.0, 23.0, 27.0, 22.0, 24.0, 31.0, 38.0, 61.0, 91.0, 26.0, 27.0, 46.0, 23.0, 84.0, 47.0, 59.0, 42.0, 19.0, 43.0, 60.0, 61.0, 75.0, 52.0, 67.0, 14.0, 18.0]}, {\"name\": \"KZN\", \"type\": \"scatter\", \"x\": [0, 1, 2, 3, 4, 5, 6, 7, 8, 9, 10, 11, 12, 13, 14, 15, 16, 17, 18, 19, 20, 21, 22, 23, 24, 25, 26, 27, 28, 29, 30, 31, 32, 33, 34, 35, 36, 37, 38, 39, 40, 41, 42, 43, 44, 45, 46, 47, 48, 49, 50, 51, 52, 53, 54, 55, 56, 57, 58, 59, 60, 61, 62, 63, 64, 65, 66, 67, 68, 69, 70, 71, 72], \"y\": [0.0, 1.0, 4.0, 1.0, 1.0, 2.0, 1.0, 1.0, 0.0, 4.0, 3.0, 3.0, 1.0, 3.0, 9.0, 25.0, 20.0, 11.0, 43.0, 0.0, 22.0, 11.0, 4.0, 8.0, 7.0, 20.0, 9.0, 17.0, 14.0, 11.0, 0.0, 97.0, 33.0, 25.0, 6.0, 25.0, 22.0, 24.0, 30.0, 20.0, 52.0, 13.0, 13.0, 22.0, 32.0, 87.0, 49.0, 34.0, 0.0, 22.0, 39.0, 17.0, 37.0, 24.0, 26.0, 45.0, 25.0, 30.0, 36.0, 7.0, 55.0, 49.0, 55.0, 45.0, 19.0, 22.0, 19.0, 31.0, 38.0, 16.0, 45.0, 24.0, 49.0]}, {\"name\": \"NW\", \"type\": \"scatter\", \"x\": [0, 1, 2, 3, 4, 5, 6, 7, 8, 9, 10, 11, 12, 13, 14, 15, 16, 17, 18, 19, 20, 21, 22, 23, 24, 25, 26, 27, 28, 29, 30, 31, 32, 33, 34, 35, 36, 37, 38, 39, 40, 41, 42, 43, 44, 45, 46, 47, 48, 49, 50, 51, 52, 53, 54, 55, 56, 57, 58, 59, 60, 61, 62, 63, 64, 65, 66, 67, 68, 69, 70, 71, 72], \"y\": [0.0, 0.0, 0.0, 0.0, 0.0, 0.0, 0.0, 0.0, 0.0, 0.0, 0.0, 0.0, 0.0, 0.0, 0.0, 4.0, 1.0, 0.0, 0.0, 0.0, 1.0, 0.0, 2.0, 0.0, 1.0, 0.0, 0.0, 2.0, 0.0, 0.0, 0.0, 4.0, 0.0, 3.0, 1.0, 0.0, 3.0, 0.0, 1.0, 1.0, 0.0, 0.0, 0.0, 1.0, -1.0, 0.0, 1.0, 0.0, 3.0, 0.0, 3.0, -2.0, 0.0, 2.0, 4.0, 0.0, 1.0, -1.0, 0.0, 2.0, 3.0, 2.0, -1.0, 4.0, 5.0, 1.0, 1.0, 6.0, 5.0, 1.0, 6.0, 2.0, 0.0]}, {\"name\": \"LP\", \"type\": \"scatter\", \"x\": [0, 1, 2, 3, 4, 5, 6, 7, 8, 9, 10, 11, 12, 13, 14, 15, 16, 17, 18, 19, 20, 21, 22, 23, 24, 25, 26, 27, 28, 29, 30, 31, 32, 33, 34, 35, 36, 37, 38, 39, 40, 41, 42, 43, 44, 45, 46, 47, 48, 49, 50, 51, 52, 53, 54, 55, 56, 57, 58, 59, 60, 61, 62, 63, 64, 65, 66, 67, 68, 69, 70, 71, 72], \"y\": [0.0, 0.0, 0.0, 0.0, 0.0, 0.0, 0.0, 0.0, 1.0, 0.0, 0.0, 0.0, 0.0, 0.0, 1.0, 2.0, 0.0, 0.0, 2.0, 0.0, 5.0, 1.0, -1.0, 3.0, 0.0, 2.0, 0.0, 2.0, 1.0, 0.0, 0.0, 2.0, 1.0, 2.0, -1.0, 0.0, 0.0, 1.0, 1.0, 1.0, 0.0, 0.0, 1.0, 0.0, 0.0, 0.0, 0.0, 2.0, 1.0, 1.0, 0.0, 0.0, 0.0, 1.0, 2.0, 2.0, 1.0, 2.0, 1.0, 0.0, 1.0, 2.0, 8.0, 3.0, 0.0, 0.0, 0.0, 1.0, 2.0, 2.0, 18.0, 11.0, 6.0]}, {\"name\": \"MP\", \"type\": \"scatter\", \"x\": [0, 1, 2, 3, 4, 5, 6, 7, 8, 9, 10, 11, 12, 13, 14, 15, 16, 17, 18, 19, 20, 21, 22, 23, 24, 25, 26, 27, 28, 29, 30, 31, 32, 33, 34, 35, 36, 37, 38, 39, 40, 41, 42, 43, 44, 45, 46, 47, 48, 49, 50, 51, 52, 53, 54, 55, 56, 57, 58, 59, 60, 61, 62, 63, 64, 65, 66, 67, 68, 69, 70, 71, 72], \"y\": [0.0, 0.0, 0.0, 0.0, 1.0, 0.0, 0.0, 0.0, 1.0, 0.0, 2.0, 1.0, 0.0, 0.0, 0.0, 4.0, 0.0, -1.0, 1.0, 0.0, 1.0, 1.0, 0.0, 1.0, 0.0, 1.0, 0.0, 5.0, 0.0, 0.0, 0.0, 3.0, -1.0, 0.0, 0.0, 1.0, 1.0, 0.0, 0.0, 0.0, 1.0, 2.0, -2.0, 0.0, 1.0, -1.0, 0.0, 1.0, -1.0, 0.0, 3.0, 0.0, 5.0, 5.0, -1.0, 5.0, 6.0, 7.0, 4.0, 0.0, 2.0, 1.0, 1.0, 0.0, 2.0, 0.0, 3.0, 1.0, 0.0, 1.0, 3.0, 5.0, 2.0]}, {\"name\": \"NC\", \"type\": \"scatter\", \"x\": [0, 1, 2, 3, 4, 5, 6, 7, 8, 9, 10, 11, 12, 13, 14, 15, 16, 17, 18, 19, 20, 21, 22, 23, 24, 25, 26, 27, 28, 29, 30, 31, 32, 33, 34, 35, 36, 37, 38, 39, 40, 41, 42, 43, 44, 45, 46, 47, 48, 49, 50, 51, 52, 53, 54, 55, 56, 57, 58, 59, 60, 61, 62, 63, 64, 65, 66, 67, 68, 69, 70, 71, 72], \"y\": [0.0, 0.0, 0.0, 0.0, 0.0, 0.0, 0.0, 0.0, 0.0, 0.0, 0.0, 0.0, 0.0, 0.0, 0.0, 2.0, 0.0, 0.0, 0.0, 0.0, 3.0, 1.0, -3.0, 3.0, 1.0, 0.0, 0.0, 0.0, 1.0, 0.0, 0.0, 5.0, 2.0, 0.0, 1.0, 0.0, 0.0, 0.0, 0.0, 0.0, 0.0, 0.0, 0.0, 2.0, -2.0, 0.0, 0.0, 0.0, 0.0, 1.0, 0.0, 0.0, 0.0, 0.0, 1.0, 5.0, 1.0, 1.0, 1.0, 0.0, 1.0, 0.0, 1.0, 1.0, 1.0, 0.0, 0.0, 1.0, 3.0, 1.0, 2.0, 0.0, 0.0]}],\n",
       "                        {\"annotations\": [{\"text\": \"Lockdown starts\", \"x\": 18, \"y\": 400}, {\"text\": \"Level 4\", \"x\": 55, \"y\": 500}], \"template\": {\"data\": {\"bar\": [{\"error_x\": {\"color\": \"#2a3f5f\"}, \"error_y\": {\"color\": \"#2a3f5f\"}, \"marker\": {\"line\": {\"color\": \"#E5ECF6\", \"width\": 0.5}}, \"type\": \"bar\"}], \"barpolar\": [{\"marker\": {\"line\": {\"color\": \"#E5ECF6\", \"width\": 0.5}}, \"type\": \"barpolar\"}], \"carpet\": [{\"aaxis\": {\"endlinecolor\": \"#2a3f5f\", \"gridcolor\": \"white\", \"linecolor\": \"white\", \"minorgridcolor\": \"white\", \"startlinecolor\": \"#2a3f5f\"}, \"baxis\": {\"endlinecolor\": \"#2a3f5f\", \"gridcolor\": \"white\", \"linecolor\": \"white\", \"minorgridcolor\": \"white\", \"startlinecolor\": \"#2a3f5f\"}, \"type\": \"carpet\"}], \"choropleth\": [{\"colorbar\": {\"outlinewidth\": 0, \"ticks\": \"\"}, \"type\": \"choropleth\"}], \"contour\": [{\"colorbar\": {\"outlinewidth\": 0, \"ticks\": \"\"}, \"colorscale\": [[0.0, \"#0d0887\"], [0.1111111111111111, \"#46039f\"], [0.2222222222222222, \"#7201a8\"], [0.3333333333333333, \"#9c179e\"], [0.4444444444444444, \"#bd3786\"], [0.5555555555555556, \"#d8576b\"], [0.6666666666666666, \"#ed7953\"], [0.7777777777777778, \"#fb9f3a\"], [0.8888888888888888, \"#fdca26\"], [1.0, \"#f0f921\"]], \"type\": \"contour\"}], \"contourcarpet\": [{\"colorbar\": {\"outlinewidth\": 0, \"ticks\": \"\"}, \"type\": \"contourcarpet\"}], \"heatmap\": [{\"colorbar\": {\"outlinewidth\": 0, \"ticks\": \"\"}, \"colorscale\": [[0.0, \"#0d0887\"], [0.1111111111111111, \"#46039f\"], [0.2222222222222222, \"#7201a8\"], [0.3333333333333333, \"#9c179e\"], [0.4444444444444444, \"#bd3786\"], [0.5555555555555556, \"#d8576b\"], [0.6666666666666666, \"#ed7953\"], [0.7777777777777778, \"#fb9f3a\"], [0.8888888888888888, \"#fdca26\"], [1.0, \"#f0f921\"]], \"type\": \"heatmap\"}], \"heatmapgl\": [{\"colorbar\": {\"outlinewidth\": 0, \"ticks\": \"\"}, \"colorscale\": [[0.0, \"#0d0887\"], [0.1111111111111111, \"#46039f\"], [0.2222222222222222, \"#7201a8\"], [0.3333333333333333, \"#9c179e\"], [0.4444444444444444, \"#bd3786\"], [0.5555555555555556, \"#d8576b\"], [0.6666666666666666, \"#ed7953\"], [0.7777777777777778, \"#fb9f3a\"], [0.8888888888888888, \"#fdca26\"], [1.0, \"#f0f921\"]], \"type\": \"heatmapgl\"}], \"histogram\": [{\"marker\": {\"colorbar\": {\"outlinewidth\": 0, \"ticks\": \"\"}}, \"type\": \"histogram\"}], \"histogram2d\": [{\"colorbar\": {\"outlinewidth\": 0, \"ticks\": \"\"}, \"colorscale\": [[0.0, \"#0d0887\"], [0.1111111111111111, \"#46039f\"], [0.2222222222222222, \"#7201a8\"], [0.3333333333333333, \"#9c179e\"], [0.4444444444444444, \"#bd3786\"], [0.5555555555555556, \"#d8576b\"], [0.6666666666666666, \"#ed7953\"], [0.7777777777777778, \"#fb9f3a\"], [0.8888888888888888, \"#fdca26\"], [1.0, \"#f0f921\"]], \"type\": \"histogram2d\"}], \"histogram2dcontour\": [{\"colorbar\": {\"outlinewidth\": 0, \"ticks\": \"\"}, \"colorscale\": [[0.0, \"#0d0887\"], [0.1111111111111111, \"#46039f\"], [0.2222222222222222, \"#7201a8\"], [0.3333333333333333, \"#9c179e\"], [0.4444444444444444, \"#bd3786\"], [0.5555555555555556, \"#d8576b\"], [0.6666666666666666, \"#ed7953\"], [0.7777777777777778, \"#fb9f3a\"], [0.8888888888888888, \"#fdca26\"], [1.0, \"#f0f921\"]], \"type\": \"histogram2dcontour\"}], \"mesh3d\": [{\"colorbar\": {\"outlinewidth\": 0, \"ticks\": \"\"}, \"type\": \"mesh3d\"}], \"parcoords\": [{\"line\": {\"colorbar\": {\"outlinewidth\": 0, \"ticks\": \"\"}}, \"type\": \"parcoords\"}], \"pie\": [{\"automargin\": true, \"type\": \"pie\"}], \"scatter\": [{\"marker\": {\"colorbar\": {\"outlinewidth\": 0, \"ticks\": \"\"}}, \"type\": \"scatter\"}], \"scatter3d\": [{\"line\": {\"colorbar\": {\"outlinewidth\": 0, \"ticks\": \"\"}}, \"marker\": {\"colorbar\": {\"outlinewidth\": 0, \"ticks\": \"\"}}, \"type\": \"scatter3d\"}], \"scattercarpet\": [{\"marker\": {\"colorbar\": {\"outlinewidth\": 0, \"ticks\": \"\"}}, \"type\": \"scattercarpet\"}], \"scattergeo\": [{\"marker\": {\"colorbar\": {\"outlinewidth\": 0, \"ticks\": \"\"}}, \"type\": \"scattergeo\"}], \"scattergl\": [{\"marker\": {\"colorbar\": {\"outlinewidth\": 0, \"ticks\": \"\"}}, \"type\": \"scattergl\"}], \"scattermapbox\": [{\"marker\": {\"colorbar\": {\"outlinewidth\": 0, \"ticks\": \"\"}}, \"type\": \"scattermapbox\"}], \"scatterpolar\": [{\"marker\": {\"colorbar\": {\"outlinewidth\": 0, \"ticks\": \"\"}}, \"type\": \"scatterpolar\"}], \"scatterpolargl\": [{\"marker\": {\"colorbar\": {\"outlinewidth\": 0, \"ticks\": \"\"}}, \"type\": \"scatterpolargl\"}], \"scatterternary\": [{\"marker\": {\"colorbar\": {\"outlinewidth\": 0, \"ticks\": \"\"}}, \"type\": \"scatterternary\"}], \"surface\": [{\"colorbar\": {\"outlinewidth\": 0, \"ticks\": \"\"}, \"colorscale\": [[0.0, \"#0d0887\"], [0.1111111111111111, \"#46039f\"], [0.2222222222222222, \"#7201a8\"], [0.3333333333333333, \"#9c179e\"], [0.4444444444444444, \"#bd3786\"], [0.5555555555555556, \"#d8576b\"], [0.6666666666666666, \"#ed7953\"], [0.7777777777777778, \"#fb9f3a\"], [0.8888888888888888, \"#fdca26\"], [1.0, \"#f0f921\"]], \"type\": \"surface\"}], \"table\": [{\"cells\": {\"fill\": {\"color\": \"#EBF0F8\"}, \"line\": {\"color\": \"white\"}}, \"header\": {\"fill\": {\"color\": \"#C8D4E3\"}, \"line\": {\"color\": \"white\"}}, \"type\": \"table\"}]}, \"layout\": {\"annotationdefaults\": {\"arrowcolor\": \"#2a3f5f\", \"arrowhead\": 0, \"arrowwidth\": 1}, \"coloraxis\": {\"colorbar\": {\"outlinewidth\": 0, \"ticks\": \"\"}}, \"colorscale\": {\"diverging\": [[0, \"#8e0152\"], [0.1, \"#c51b7d\"], [0.2, \"#de77ae\"], [0.3, \"#f1b6da\"], [0.4, \"#fde0ef\"], [0.5, \"#f7f7f7\"], [0.6, \"#e6f5d0\"], [0.7, \"#b8e186\"], [0.8, \"#7fbc41\"], [0.9, \"#4d9221\"], [1, \"#276419\"]], \"sequential\": [[0.0, \"#0d0887\"], [0.1111111111111111, \"#46039f\"], [0.2222222222222222, \"#7201a8\"], [0.3333333333333333, \"#9c179e\"], [0.4444444444444444, \"#bd3786\"], [0.5555555555555556, \"#d8576b\"], [0.6666666666666666, \"#ed7953\"], [0.7777777777777778, \"#fb9f3a\"], [0.8888888888888888, \"#fdca26\"], [1.0, \"#f0f921\"]], \"sequentialminus\": [[0.0, \"#0d0887\"], [0.1111111111111111, \"#46039f\"], [0.2222222222222222, \"#7201a8\"], [0.3333333333333333, \"#9c179e\"], [0.4444444444444444, \"#bd3786\"], [0.5555555555555556, \"#d8576b\"], [0.6666666666666666, \"#ed7953\"], [0.7777777777777778, \"#fb9f3a\"], [0.8888888888888888, \"#fdca26\"], [1.0, \"#f0f921\"]]}, \"colorway\": [\"#636efa\", \"#EF553B\", \"#00cc96\", \"#ab63fa\", \"#FFA15A\", \"#19d3f3\", \"#FF6692\", \"#B6E880\", \"#FF97FF\", \"#FECB52\"], \"font\": {\"color\": \"#2a3f5f\"}, \"geo\": {\"bgcolor\": \"white\", \"lakecolor\": \"white\", \"landcolor\": \"#E5ECF6\", \"showlakes\": true, \"showland\": true, \"subunitcolor\": \"white\"}, \"hoverlabel\": {\"align\": \"left\"}, \"hovermode\": \"closest\", \"mapbox\": {\"style\": \"light\"}, \"paper_bgcolor\": \"white\", \"plot_bgcolor\": \"#E5ECF6\", \"polar\": {\"angularaxis\": {\"gridcolor\": \"white\", \"linecolor\": \"white\", \"ticks\": \"\"}, \"bgcolor\": \"#E5ECF6\", \"radialaxis\": {\"gridcolor\": \"white\", \"linecolor\": \"white\", \"ticks\": \"\"}}, \"scene\": {\"xaxis\": {\"backgroundcolor\": \"#E5ECF6\", \"gridcolor\": \"white\", \"gridwidth\": 2, \"linecolor\": \"white\", \"showbackground\": true, \"ticks\": \"\", \"zerolinecolor\": \"white\"}, \"yaxis\": {\"backgroundcolor\": \"#E5ECF6\", \"gridcolor\": \"white\", \"gridwidth\": 2, \"linecolor\": \"white\", \"showbackground\": true, \"ticks\": \"\", \"zerolinecolor\": \"white\"}, \"zaxis\": {\"backgroundcolor\": \"#E5ECF6\", \"gridcolor\": \"white\", \"gridwidth\": 2, \"linecolor\": \"white\", \"showbackground\": true, \"ticks\": \"\", \"zerolinecolor\": \"white\"}}, \"shapedefaults\": {\"line\": {\"color\": \"#2a3f5f\"}}, \"ternary\": {\"aaxis\": {\"gridcolor\": \"white\", \"linecolor\": \"white\", \"ticks\": \"\"}, \"baxis\": {\"gridcolor\": \"white\", \"linecolor\": \"white\", \"ticks\": \"\"}, \"bgcolor\": \"#E5ECF6\", \"caxis\": {\"gridcolor\": \"white\", \"linecolor\": \"white\", \"ticks\": \"\"}}, \"title\": {\"x\": 0.05}, \"xaxis\": {\"automargin\": true, \"gridcolor\": \"white\", \"linecolor\": \"white\", \"ticks\": \"\", \"title\": {\"standoff\": 15}, \"zerolinecolor\": \"white\", \"zerolinewidth\": 2}, \"yaxis\": {\"automargin\": true, \"gridcolor\": \"white\", \"linecolor\": \"white\", \"ticks\": \"\", \"title\": {\"standoff\": 15}, \"zerolinecolor\": \"white\", \"zerolinewidth\": 2}}}, \"title\": {\"text\": \"Confirmed Cases by Province\"}, \"updatemenus\": [{\"active\": 0, \"buttons\": [{\"args\": [{\"visible\": [true, true, true, true, true, true, true, true, true, true, true, true]}, {\"title\": \"Cumulative Confirmed Cases: Eastern Cape\"}], \"label\": \"ALL\", \"method\": \"update\"}, {\"args\": [{\"visible\": [true, true, true, false, false, false, false, false, false, false, false, false]}, {\"title\": \"Cumulative Confirmed Cases: Eastern Cape\"}], \"label\": \"EC\", \"method\": \"update\"}, {\"args\": [{\"visible\": [true, true, false, true, false, false, false, false, false, false, false, false]}, {\"title\": \"Cumulative Confirmed Cases: Western Cape\"}], \"label\": \"WC\", \"method\": \"update\"}, {\"args\": [{\"visible\": [true, true, false, false, true, false, false, false, false, false, false, false]}, {\"title\": \"Cumulative Confirmed Cases: Free State\"}], \"label\": \"FS\", \"method\": \"update\"}, {\"args\": [{\"visible\": [true, true, false, false, false, true, false, false, false, false, false, false]}, {\"title\": \"Cumulative Confirmed Cases: Gauteng\"}], \"label\": \"GP\", \"method\": \"update\"}, {\"args\": [{\"visible\": [true, true, false, false, false, false, true, false, false, false, false, false]}, {\"title\": \"Cumulative Confirmed Cases: Kwa Zulu Natal\"}], \"label\": \"KZN\", \"method\": \"update\"}, {\"args\": [{\"visible\": [true, true, false, false, false, false, false, true, false, false, false, false]}, {\"title\": \"Cumulative Confirmed Cases: North West\"}], \"label\": \"NW\", \"method\": \"update\"}, {\"args\": [{\"visible\": [true, true, false, false, false, false, false, false, true, false, false, false]}, {\"title\": \"Cumulative Confirmed Cases: Limpopo\"}], \"label\": \"LP\", \"method\": \"update\"}, {\"args\": [{\"visible\": [true, true, false, false, false, false, false, false, false, true, false, false]}, {\"title\": \"Cumulative Confirmed Cases: Mpumalanga\"}], \"label\": \"MP\", \"method\": \"update\"}, {\"args\": [{\"visible\": [true, true, false, false, false, false, false, false, false, false, true, false]}, {\"title\": \"Cumulative Confirmed Cases: Northern Cape\"}], \"label\": \"NC\", \"method\": \"update\"}, {\"args\": [{\"visible\": [true, true, false, false, false, false, false, false, false, false, false, true]}, {\"title\": \"Unlocated\"}], \"label\": \"Cumulative Confirmed Cases: UNKWNOWN\", \"method\": \"update\"}]}], \"xaxis\": {\"title\": {\"text\": \"Days since the first confirmed case\"}}, \"yaxis\": {\"title\": {\"text\": \"Log\"}}},\n",
       "                        {\"responsive\": true}\n",
       "                    ).then(function(){\n",
       "                            \n",
       "var gd = document.getElementById('77cbc862-b453-4b67-b4d8-107937c34250');\n",
       "var x = new MutationObserver(function (mutations, observer) {{\n",
       "        var display = window.getComputedStyle(gd).display;\n",
       "        if (!display || display === 'none') {{\n",
       "            console.log([gd, 'removed!']);\n",
       "            Plotly.purge(gd);\n",
       "            observer.disconnect();\n",
       "        }}\n",
       "}});\n",
       "\n",
       "// Listen for the removal of the full notebook cells\n",
       "var notebookContainer = gd.closest('#notebook-container');\n",
       "if (notebookContainer) {{\n",
       "    x.observe(notebookContainer, {childList: true});\n",
       "}}\n",
       "\n",
       "// Listen for the clearing of the current output cell\n",
       "var outputEl = gd.closest('.output');\n",
       "if (outputEl) {{\n",
       "    x.observe(outputEl, {childList: true});\n",
       "}}\n",
       "\n",
       "                        })\n",
       "                };\n",
       "                });\n",
       "            </script>\n",
       "        </div>"
      ]
     },
     "metadata": {},
     "output_type": "display_data"
    }
   ],
   "source": [
    "a = df_day.set_index('date')\n",
    "a = a.diff()\n",
    "a = a.dropna()\n",
    "a = a.reset_index()\n",
    "df_day = a\n",
    "\n",
    "# Initialize figure\n",
    "fig_flat = go.Figure()\n",
    "\n",
    "# Add Traces\n",
    "\n",
    "fig_flat.add_trace(\n",
    "    go.Scatter(\n",
    "        y=[0,800],\n",
    "        x=[18,18],\n",
    "        line=dict(color='grey',\n",
    "                  width=4, dash='dot'),\n",
    "        name = 'lockdown'\n",
    "     \n",
    "    ))\n",
    "fig_flat.add_trace(\n",
    "    go.Scatter(\n",
    "        y=[0,800],\n",
    "        x=[55,55],\n",
    "        line=dict(color='grey',\n",
    "                  width=4, dash='dot'),\n",
    "        name = 'level_4'\n",
    "     \n",
    "    ))\n",
    "\n",
    "\n",
    "fig_flat.add_annotation(\n",
    "            x=18,\n",
    "            y=400,\n",
    "            text=\"Lockdown starts\",\n",
    "          \n",
    ")\n",
    "fig_flat.add_annotation(\n",
    "            x=55,\n",
    "            y=500,\n",
    "            text=\"Level 4\",\n",
    "          \n",
    ")\n",
    "\n",
    "\n",
    "          \n",
    "\n",
    "\n",
    "fig_flat.add_trace(\n",
    "    go.Scatter(\n",
    "        y=df_day['EC'],\n",
    "        x=df_day.index,\n",
    "        name= 'EC'\n",
    "    ))\n",
    "fig_flat.add_trace(\n",
    "    go.Scatter(\n",
    "        y=df_day['WC'],\n",
    "        x=df_day.index,\n",
    "        name= 'WC'\n",
    "    ))\n",
    "fig_flat.add_trace(\n",
    "    go.Scatter(\n",
    "        y=df_day['FS'],\n",
    "        x=df_day.index,\n",
    "        name= 'FS'\n",
    "    ))\n",
    "fig_flat.add_trace(\n",
    "    go.Scatter(\n",
    "        y=df_day['GP'],\n",
    "        x=df_day.index,\n",
    "        name= 'GP'\n",
    "    ))\n",
    "fig_flat.add_trace(\n",
    "    go.Scatter(\n",
    "        y=df_day['KZN'],\n",
    "        x=df_day.index,\n",
    "        name= \"KZN\"\n",
    "    ))\n",
    "fig_flat.add_trace(\n",
    "    go.Scatter(\n",
    "        y=df_day['NW'],\n",
    "        x=df_day.index,\n",
    "        name= 'NW'\n",
    "    ))\n",
    "fig_flat.add_trace(\n",
    "    go.Scatter(\n",
    "        y=df_day['LP'],\n",
    "        x=df_day.index,\n",
    "        name= 'LP'\n",
    "    ))\n",
    "fig_flat.add_trace(\n",
    "    go.Scatter(\n",
    "        y=df_day['MP'],\n",
    "        x=df_day.index,\n",
    "        name= 'MP'\n",
    "    ))\n",
    "fig_flat.add_trace(\n",
    "    go.Scatter(\n",
    "        y=df_day['NC'],\n",
    "        x=df_day.index,\n",
    "        name= 'NC'\n",
    "    ))\n",
    "# fig.add_trace(\n",
    "#     go.Scatter(\n",
    "#         y=df_day['UNKNOWN'],\n",
    "#         x=df_day.index,\n",
    "#         name='Unlocated'\n",
    "#     ))\n",
    "\n",
    "\n",
    "\n",
    "fig_flat.update_layout(\n",
    "    updatemenus=[\n",
    "        dict(\n",
    "            active=0,\n",
    "            buttons=list([\n",
    "                dict(label=\"ALL\",\n",
    "                     method=\"update\",\n",
    "                     args=[{\"visible\": [True,True,True,True,True,True,True,True,True,True,True,True,]},\n",
    "                           {\"title\": \"Cumulative Confirmed Cases: Eastern Cape\",\n",
    "                            }]),\n",
    "                dict(label=\"EC\",\n",
    "                     method=\"update\",\n",
    "                     args=[{\"visible\": [True,True,True, False, False, False,False, False, False,False, False, False]},\n",
    "                           {\"title\": \"Cumulative Confirmed Cases: Eastern Cape\",\n",
    "                            }]),\n",
    "                dict(label=\"WC\",\n",
    "                     method=\"update\",\n",
    "                     args=[{\"visible\": [True,True,False,True,False,False,False,False,False,False,False,False]},\n",
    "                           {\"title\": \"Cumulative Confirmed Cases: Western Cape\",\n",
    "                          }]),\n",
    "                dict(label=\"FS\",\n",
    "                     method=\"update\",\n",
    "                     args=[{\"visible\": [True,True,False,False,True,False,False,False,False,False,False,False]},\n",
    "                           {\"title\": \"Cumulative Confirmed Cases: Free State\",\n",
    "                          }]),\n",
    "                dict(label=\"GP\",\n",
    "                     method=\"update\",\n",
    "                     args=[{\"visible\": [True,True,False,False,False,True,False,False,False,False,False,False]},\n",
    "                           {\"title\": \"Cumulative Confirmed Cases: Gauteng\",\n",
    "                          }]),\n",
    "                dict(label=\"KZN\",\n",
    "                     method=\"update\",\n",
    "                     args=[{\"visible\": [True,True,False,False,False,False,True, False,False,False, False, False]},\n",
    "                           {\"title\": \"Cumulative Confirmed Cases: Kwa Zulu Natal\",\n",
    "                          }]),\n",
    "                dict(label=\"NW\",\n",
    "                     method=\"update\",\n",
    "                     args=[{\"visible\": [True,True,False,False,False,False,False,True,False,False, False, False]},\n",
    "                           {\"title\": \"Cumulative Confirmed Cases: North West\",\n",
    "                          }]),\n",
    "                dict(label=\"LP\",\n",
    "                     method=\"update\",\n",
    "                     args=[{\"visible\": [True,True,False, False,False,False,False, False,True, False, False, False]},\n",
    "                           {\"title\": \"Cumulative Confirmed Cases: Limpopo\",\n",
    "                          }]),\n",
    "                dict(label=\"MP\",\n",
    "                     method=\"update\",\n",
    "                     args=[{\"visible\": [True,True,False, False,False,False,False, False,False,True,  False, False]},\n",
    "                           {\"title\": \"Cumulative Confirmed Cases: Mpumalanga\",\n",
    "                          }]),\n",
    "                dict(label=\"NC\",\n",
    "                     method=\"update\",\n",
    "                     args=[{\"visible\": [True,True,False, False,False,False,False, False,False,  False,True, False]},\n",
    "                           {\"title\": \"Cumulative Confirmed Cases: Northern Cape\",\n",
    "                          }]),\n",
    "                 dict(label=\"Cumulative Confirmed Cases: UNKWNOWN\",\n",
    "                     method=\"update\",\n",
    "                     args=[{\"visible\": [True,True,False, False,False,False,False, False,False,False, False,True]},\n",
    "                           {\"title\": \"Unlocated\",\n",
    "                          }]),\n",
    "            ]),\n",
    "        )\n",
    "    ])\n",
    "\n",
    "# Set title\n",
    "fig_flat.update_layout(title_text=\"Confirmed Cases by Province\",\n",
    "                 xaxis_title=\"Days since the first confirmed case\",\n",
    "                 yaxis_title=\"Log\",\n",
    "                 )\n",
    "\n",
    "fig_flat.show()\n",
    "\n"
   ]
  },
  {
   "cell_type": "code",
   "execution_count": 19,
   "metadata": {},
   "outputs": [
    {
     "data": {
      "text/html": [
       "<div>\n",
       "<style scoped>\n",
       "    .dataframe tbody tr th:only-of-type {\n",
       "        vertical-align: middle;\n",
       "    }\n",
       "\n",
       "    .dataframe tbody tr th {\n",
       "        vertical-align: top;\n",
       "    }\n",
       "\n",
       "    .dataframe thead th {\n",
       "        text-align: right;\n",
       "    }\n",
       "</style>\n",
       "<table border=\"1\" class=\"dataframe\">\n",
       "  <thead>\n",
       "    <tr style=\"text-align: right;\">\n",
       "      <th></th>\n",
       "      <th>date</th>\n",
       "      <th>EC</th>\n",
       "      <th>FS</th>\n",
       "      <th>GP</th>\n",
       "      <th>KZN</th>\n",
       "      <th>LP</th>\n",
       "      <th>MP</th>\n",
       "      <th>NC</th>\n",
       "      <th>NW</th>\n",
       "      <th>WC</th>\n",
       "      <th>UNKNOWN</th>\n",
       "      <th>total</th>\n",
       "    </tr>\n",
       "  </thead>\n",
       "  <tbody>\n",
       "    <tr>\n",
       "      <th>0</th>\n",
       "      <td>07-03-2020</td>\n",
       "      <td>0.0</td>\n",
       "      <td>0.0</td>\n",
       "      <td>1.0</td>\n",
       "      <td>0.0</td>\n",
       "      <td>0.0</td>\n",
       "      <td>0.0</td>\n",
       "      <td>0.0</td>\n",
       "      <td>0.0</td>\n",
       "      <td>0.0</td>\n",
       "      <td>0.0</td>\n",
       "      <td>1.0</td>\n",
       "    </tr>\n",
       "    <tr>\n",
       "      <th>1</th>\n",
       "      <td>08-03-2020</td>\n",
       "      <td>0.0</td>\n",
       "      <td>0.0</td>\n",
       "      <td>0.0</td>\n",
       "      <td>1.0</td>\n",
       "      <td>0.0</td>\n",
       "      <td>0.0</td>\n",
       "      <td>0.0</td>\n",
       "      <td>0.0</td>\n",
       "      <td>0.0</td>\n",
       "      <td>0.0</td>\n",
       "      <td>1.0</td>\n",
       "    </tr>\n",
       "    <tr>\n",
       "      <th>2</th>\n",
       "      <td>09-03-2020</td>\n",
       "      <td>0.0</td>\n",
       "      <td>0.0</td>\n",
       "      <td>0.0</td>\n",
       "      <td>4.0</td>\n",
       "      <td>0.0</td>\n",
       "      <td>0.0</td>\n",
       "      <td>0.0</td>\n",
       "      <td>0.0</td>\n",
       "      <td>0.0</td>\n",
       "      <td>0.0</td>\n",
       "      <td>4.0</td>\n",
       "    </tr>\n",
       "    <tr>\n",
       "      <th>3</th>\n",
       "      <td>11-03-2020</td>\n",
       "      <td>0.0</td>\n",
       "      <td>0.0</td>\n",
       "      <td>4.0</td>\n",
       "      <td>1.0</td>\n",
       "      <td>0.0</td>\n",
       "      <td>0.0</td>\n",
       "      <td>0.0</td>\n",
       "      <td>0.0</td>\n",
       "      <td>1.0</td>\n",
       "      <td>0.0</td>\n",
       "      <td>6.0</td>\n",
       "    </tr>\n",
       "    <tr>\n",
       "      <th>4</th>\n",
       "      <td>12-03-2020</td>\n",
       "      <td>0.0</td>\n",
       "      <td>0.0</td>\n",
       "      <td>1.0</td>\n",
       "      <td>1.0</td>\n",
       "      <td>0.0</td>\n",
       "      <td>1.0</td>\n",
       "      <td>0.0</td>\n",
       "      <td>0.0</td>\n",
       "      <td>0.0</td>\n",
       "      <td>0.0</td>\n",
       "      <td>3.0</td>\n",
       "    </tr>\n",
       "    <tr>\n",
       "      <th>...</th>\n",
       "      <td>...</td>\n",
       "      <td>...</td>\n",
       "      <td>...</td>\n",
       "      <td>...</td>\n",
       "      <td>...</td>\n",
       "      <td>...</td>\n",
       "      <td>...</td>\n",
       "      <td>...</td>\n",
       "      <td>...</td>\n",
       "      <td>...</td>\n",
       "      <td>...</td>\n",
       "      <td>...</td>\n",
       "    </tr>\n",
       "    <tr>\n",
       "      <th>68</th>\n",
       "      <td>15-05-2020</td>\n",
       "      <td>93.0</td>\n",
       "      <td>6.0</td>\n",
       "      <td>75.0</td>\n",
       "      <td>38.0</td>\n",
       "      <td>2.0</td>\n",
       "      <td>0.0</td>\n",
       "      <td>3.0</td>\n",
       "      <td>5.0</td>\n",
       "      <td>563.0</td>\n",
       "      <td>0.0</td>\n",
       "      <td>785.0</td>\n",
       "    </tr>\n",
       "    <tr>\n",
       "      <th>69</th>\n",
       "      <td>16-05-2020</td>\n",
       "      <td>150.0</td>\n",
       "      <td>2.0</td>\n",
       "      <td>52.0</td>\n",
       "      <td>16.0</td>\n",
       "      <td>2.0</td>\n",
       "      <td>1.0</td>\n",
       "      <td>1.0</td>\n",
       "      <td>1.0</td>\n",
       "      <td>606.0</td>\n",
       "      <td>0.0</td>\n",
       "      <td>831.0</td>\n",
       "    </tr>\n",
       "    <tr>\n",
       "      <th>70</th>\n",
       "      <td>17-05-2020</td>\n",
       "      <td>124.0</td>\n",
       "      <td>5.0</td>\n",
       "      <td>67.0</td>\n",
       "      <td>45.0</td>\n",
       "      <td>18.0</td>\n",
       "      <td>3.0</td>\n",
       "      <td>2.0</td>\n",
       "      <td>6.0</td>\n",
       "      <td>890.0</td>\n",
       "      <td>0.0</td>\n",
       "      <td>1160.0</td>\n",
       "    </tr>\n",
       "    <tr>\n",
       "      <th>71</th>\n",
       "      <td>18-05-2020</td>\n",
       "      <td>116.0</td>\n",
       "      <td>5.0</td>\n",
       "      <td>14.0</td>\n",
       "      <td>24.0</td>\n",
       "      <td>11.0</td>\n",
       "      <td>5.0</td>\n",
       "      <td>0.0</td>\n",
       "      <td>2.0</td>\n",
       "      <td>741.0</td>\n",
       "      <td>0.0</td>\n",
       "      <td>918.0</td>\n",
       "    </tr>\n",
       "    <tr>\n",
       "      <th>72</th>\n",
       "      <td>19-05-2020</td>\n",
       "      <td>83.0</td>\n",
       "      <td>5.0</td>\n",
       "      <td>18.0</td>\n",
       "      <td>49.0</td>\n",
       "      <td>6.0</td>\n",
       "      <td>2.0</td>\n",
       "      <td>0.0</td>\n",
       "      <td>0.0</td>\n",
       "      <td>604.0</td>\n",
       "      <td>0.0</td>\n",
       "      <td>767.0</td>\n",
       "    </tr>\n",
       "  </tbody>\n",
       "</table>\n",
       "<p>73 rows × 12 columns</p>\n",
       "</div>"
      ],
      "text/plain": [
       "          date     EC   FS    GP   KZN    LP   MP   NC   NW     WC  UNKNOWN  \\\n",
       "0   07-03-2020    0.0  0.0   1.0   0.0   0.0  0.0  0.0  0.0    0.0      0.0   \n",
       "1   08-03-2020    0.0  0.0   0.0   1.0   0.0  0.0  0.0  0.0    0.0      0.0   \n",
       "2   09-03-2020    0.0  0.0   0.0   4.0   0.0  0.0  0.0  0.0    0.0      0.0   \n",
       "3   11-03-2020    0.0  0.0   4.0   1.0   0.0  0.0  0.0  0.0    1.0      0.0   \n",
       "4   12-03-2020    0.0  0.0   1.0   1.0   0.0  1.0  0.0  0.0    0.0      0.0   \n",
       "..         ...    ...  ...   ...   ...   ...  ...  ...  ...    ...      ...   \n",
       "68  15-05-2020   93.0  6.0  75.0  38.0   2.0  0.0  3.0  5.0  563.0      0.0   \n",
       "69  16-05-2020  150.0  2.0  52.0  16.0   2.0  1.0  1.0  1.0  606.0      0.0   \n",
       "70  17-05-2020  124.0  5.0  67.0  45.0  18.0  3.0  2.0  6.0  890.0      0.0   \n",
       "71  18-05-2020  116.0  5.0  14.0  24.0  11.0  5.0  0.0  2.0  741.0      0.0   \n",
       "72  19-05-2020   83.0  5.0  18.0  49.0   6.0  2.0  0.0  0.0  604.0      0.0   \n",
       "\n",
       "     total  \n",
       "0      1.0  \n",
       "1      1.0  \n",
       "2      4.0  \n",
       "3      6.0  \n",
       "4      3.0  \n",
       "..     ...  \n",
       "68   785.0  \n",
       "69   831.0  \n",
       "70  1160.0  \n",
       "71   918.0  \n",
       "72   767.0  \n",
       "\n",
       "[73 rows x 12 columns]"
      ]
     },
     "execution_count": 19,
     "metadata": {},
     "output_type": "execute_result"
    }
   ],
   "source": [
    "a"
   ]
  },
  {
   "cell_type": "code",
   "execution_count": null,
   "metadata": {},
   "outputs": [],
   "source": []
  },
  {
   "cell_type": "code",
   "execution_count": 20,
   "metadata": {},
   "outputs": [],
   "source": [
    "#Style sheet\n",
    "external_stylesheets = ['https://codepen.io/chriddyp/pen/bWLwgP.css']\n",
    "\n",
    "# ------------- App -------------------------------\n",
    "app = dash.Dash(__name__, external_stylesheets=external_stylesheets)\n",
    "app.config['suppress_callback_exceptions'] = True\n",
    "app.layout = html.Div(children=[\n",
    "        #header\n",
    "    \n",
    "    html.Div([\n",
    "        html.Div([\n",
    "           \n",
    "        ], className=\"four columns\"),\n",
    "        \n",
    "\n",
    "        html.Div([\n",
    "            html.H3('Latest Covid 19 Update', style={\n",
    "                                'fontFamily': 'Open Sans',\n",
    "                                'textAlign': 'center',\n",
    "                            }),\n",
    "             \n",
    "        ], className=\"four columns\"),\n",
    "        \n",
    "        html.Div([\n",
    "            html.H3('#StayAtHome', style={\n",
    "                                'fontFamily': 'Open Sans',\n",
    "                                'textAlign': 'right',\n",
    "                            }),\n",
    "            \n",
    "            \n",
    "        ], className=\"four columns\")\n",
    "    ], className=\"row\"),\n",
    "    \n",
    "    dcc.Tabs(id='tabs-global', value='tab', children=[\n",
    "        dcc.Tab(label='Global Map', value='tab-1'),\n",
    "        dcc.Tab(label='South African cases', value='tab-2'),\n",
    "        dcc.Tab(label='African cases', value='tab-3'),\n",
    "    ]),\n",
    "    html.Div(id='tabs-global-content')\n",
    "])"
   ]
  },
  {
   "cell_type": "code",
   "execution_count": 21,
   "metadata": {},
   "outputs": [],
   "source": [
    "\n",
    "#----------- Main tab call back ----\n",
    "@app.callback(Output('tabs-global-content', 'children'),\n",
    "              [Input('tabs-global', 'value')])\n",
    "def render_content(tab):\n",
    "\n",
    "    if tab == 'tab-1':\n",
    "        return html.Div([\n",
    "            html.Div([\n",
    "\n",
    "                # VISUALISATIONS\n",
    "\n",
    "                html.Div([\n",
    "                      dcc.Graph(\n",
    "                          id='tot_cases',\n",
    "                            figure=go.Figure(fig1)\n",
    "                          \n",
    "                        ),\n",
    "                html.Div([\n",
    "                    dash_table.DataTable(\n",
    "                            id='country_cases',\n",
    "                            data=df_tot_cases.to_dict(\"rows\"),\n",
    "                            columns=[{\"name\": i, \"id\": i}\n",
    "                                     for i in df_tot_cases.columns],\n",
    "                            style_table=style_table,\n",
    "                            style_cell=style_cell,\n",
    "                            style_data_conditional=style_data_conditional,\n",
    "                            style_header=style_header,\n",
    "                            style_cell_conditional=style_cell_conditional,\n",
    "                            filter_action=\"native\"\n",
    "                        )\n",
    "                ])\n",
    "                    \n",
    "            ], className=\"row\"),\n",
    "\n",
    "                ], className=\"three columns\"),\n",
    "            \n",
    "            html.Div([\n",
    "                    dcc.Graph(\n",
    "                          id='sa_cases',\n",
    "                            figure=go.Figure(fig2)\n",
    "                        ),\n",
    "                    html.Div([\n",
    "                        dcc.Tabs(id='tabs-globals', value='tabs', children=[\n",
    "                            dcc.Tab(label='Total Cases', value='tab-1.'),\n",
    "                            dcc.Tab(label='Active Cases', value='tab-2.'),\n",
    "                            dcc.Tab(label='Solved Cases', value='tab-3.'),\n",
    "                            dcc.Tab(label='Recovery Rate', value='tab-4.'),\n",
    "                            dcc.Tab(label='Case Fatality Rate', value='tab-5.')\n",
    "                        ], colors={\n",
    "                                \"border\": \"white\",\n",
    "                                \"primary\": \"gold\",\n",
    "                                \"background\": \"cornsilk\"\n",
    "                            }),\n",
    "                     html.Div(id='tabs-globals-contents'),\n",
    "            ], className=\"row\"),\n",
    "                ], className=\"six columns\"),\n",
    "\n",
    "                html.Div([\n",
    "                     dcc.Graph(\n",
    "                          id='indicator_tot_death',\n",
    "                            figure=go.Figure(fig3)\n",
    "                        ),\n",
    "\n",
    "\n",
    "                    html.Div([\n",
    "                        dcc.Graph(\n",
    "                          id='sa_active',\n",
    "                            figure=go.Figure(fig_line)\n",
    "                        ),\n",
    "                            \n",
    "                       \n",
    "            ], className=\"row\")\n",
    "\n",
    "                ], className=\"three columns\"),\n",
    "            ], className=\"row\")\n",
    "\n",
    "            # fOOTER\n",
    "        html.Div([\n",
    "                html.Div([\n",
    "                    html.H3('Footer'),\n",
    "\n",
    "                ], className=\"six columns\"),\n",
    "\n",
    "                html.Div([\n",
    "                    html.H3('Footer'),\n",
    "\n",
    "                ], className=\"six columns\"),\n",
    "            ], className=\"row\")\n",
    "  \n",
    "\n",
    "    elif tab == 'tab-2':\n",
    "        return html.Div([\n",
    "            \n",
    "            dcc.Graph(\n",
    "                id='figure',\n",
    "                figure=go.Figure(fig_prov_stacked)\n",
    "            ),html.Div([\n",
    "                dcc.Graph(\n",
    "                    id='figure',\n",
    "                    figure=go.Figure(fig_prov_log)\n",
    "                ),html.Div([\n",
    "                dcc.Graph(\n",
    "                    id='figure',\n",
    "                    figure=go.Figure(fig_flat)\n",
    "                ),            \n",
    "            ], className=\"row\"),\n",
    "                ], className=\"twelve columns\")])\n",
    "    else:\n",
    "        return html.H1('African cases!!!')\n",
    "    \n",
    "#---- Small tab call back -----\n",
    "\n",
    "@app.callback(Output('tabs-globals-contents', 'children'),\n",
    "              [Input('tabs-globals', 'value')])\n",
    "def render_content(tabs):\n",
    "    \n",
    "    if tabs == 'tab-1.':\n",
    "        return dcc.Graph(\n",
    "\n",
    "            id='figure',\n",
    "            figure=\n",
    "              go.Figure(fig)\n",
    "            )\n",
    "    elif tabs == 'tab-2.':   \n",
    "        return dcc.Graph(\n",
    "\n",
    "            id='figure',\n",
    "            figure=\n",
    "              go.Figure(fig1_)\n",
    "            )\n",
    "           \n",
    "    elif tabs == 'tab-3.':   \n",
    "        return dcc.Graph(\n",
    "\n",
    "            id='figure',\n",
    "            figure=\n",
    "              go.Figure(fig2_)\n",
    "            )\n",
    "    elif tabs == 'tab-4.':\n",
    "         return dcc.Graph(\n",
    "             id='figure',\n",
    "             figure=go.Figure(fig3_)\n",
    "            )\n",
    "    else:\n",
    "        return dcc.Graph(\n",
    "\n",
    "            id='figure',\n",
    "            figure=\n",
    "              go.Figure(fig4_)\n",
    "            )\n",
    "\n",
    "\n",
    "\n",
    "\n"
   ]
  },
  {
   "cell_type": "code",
   "execution_count": 22,
   "metadata": {},
   "outputs": [],
   "source": [
    "# if __name__ == '__main__':\n",
    "#     app.run_server()"
   ]
  },
  {
   "cell_type": "code",
   "execution_count": 23,
   "metadata": {},
   "outputs": [
    {
     "data": {
      "text/html": [
       "<div>\n",
       "<style scoped>\n",
       "    .dataframe tbody tr th:only-of-type {\n",
       "        vertical-align: middle;\n",
       "    }\n",
       "\n",
       "    .dataframe tbody tr th {\n",
       "        vertical-align: top;\n",
       "    }\n",
       "\n",
       "    .dataframe thead th {\n",
       "        text-align: right;\n",
       "    }\n",
       "</style>\n",
       "<table border=\"1\" class=\"dataframe\">\n",
       "  <thead>\n",
       "    <tr style=\"text-align: right;\">\n",
       "      <th></th>\n",
       "      <th>Unnamed: 0</th>\n",
       "      <th>Country</th>\n",
       "      <th>CountryCode</th>\n",
       "      <th>Province</th>\n",
       "      <th>City</th>\n",
       "      <th>CityCode</th>\n",
       "      <th>Lat</th>\n",
       "      <th>Lon</th>\n",
       "      <th>Confirmed</th>\n",
       "      <th>Deaths</th>\n",
       "      <th>Recovered</th>\n",
       "      <th>Active</th>\n",
       "      <th>Date</th>\n",
       "    </tr>\n",
       "  </thead>\n",
       "  <tbody>\n",
       "    <tr>\n",
       "      <th>0</th>\n",
       "      <td>0</td>\n",
       "      <td>South Africa</td>\n",
       "      <td>ZA</td>\n",
       "      <td>NaN</td>\n",
       "      <td>NaN</td>\n",
       "      <td>NaN</td>\n",
       "      <td>-30.56</td>\n",
       "      <td>22.94</td>\n",
       "      <td>2173</td>\n",
       "      <td>25</td>\n",
       "      <td>410</td>\n",
       "      <td>1738</td>\n",
       "      <td>2020-04-13 00:00:00+00:00</td>\n",
       "    </tr>\n",
       "    <tr>\n",
       "      <th>1</th>\n",
       "      <td>1</td>\n",
       "      <td>South Africa</td>\n",
       "      <td>ZA</td>\n",
       "      <td>NaN</td>\n",
       "      <td>NaN</td>\n",
       "      <td>NaN</td>\n",
       "      <td>-30.56</td>\n",
       "      <td>22.94</td>\n",
       "      <td>2272</td>\n",
       "      <td>27</td>\n",
       "      <td>410</td>\n",
       "      <td>1835</td>\n",
       "      <td>2020-04-14 00:00:00+00:00</td>\n",
       "    </tr>\n",
       "    <tr>\n",
       "      <th>2</th>\n",
       "      <td>2</td>\n",
       "      <td>South Africa</td>\n",
       "      <td>ZA</td>\n",
       "      <td>NaN</td>\n",
       "      <td>NaN</td>\n",
       "      <td>NaN</td>\n",
       "      <td>-30.56</td>\n",
       "      <td>22.94</td>\n",
       "      <td>2415</td>\n",
       "      <td>27</td>\n",
       "      <td>410</td>\n",
       "      <td>1978</td>\n",
       "      <td>2020-04-15 00:00:00+00:00</td>\n",
       "    </tr>\n",
       "    <tr>\n",
       "      <th>3</th>\n",
       "      <td>3</td>\n",
       "      <td>South Africa</td>\n",
       "      <td>ZA</td>\n",
       "      <td>NaN</td>\n",
       "      <td>NaN</td>\n",
       "      <td>NaN</td>\n",
       "      <td>-30.56</td>\n",
       "      <td>22.94</td>\n",
       "      <td>2506</td>\n",
       "      <td>34</td>\n",
       "      <td>410</td>\n",
       "      <td>2062</td>\n",
       "      <td>2020-04-16 00:00:00+00:00</td>\n",
       "    </tr>\n",
       "    <tr>\n",
       "      <th>4</th>\n",
       "      <td>4</td>\n",
       "      <td>South Africa</td>\n",
       "      <td>ZA</td>\n",
       "      <td>NaN</td>\n",
       "      <td>NaN</td>\n",
       "      <td>NaN</td>\n",
       "      <td>-30.56</td>\n",
       "      <td>22.94</td>\n",
       "      <td>2605</td>\n",
       "      <td>48</td>\n",
       "      <td>903</td>\n",
       "      <td>1654</td>\n",
       "      <td>2020-04-17 00:00:00+00:00</td>\n",
       "    </tr>\n",
       "    <tr>\n",
       "      <th>5</th>\n",
       "      <td>5</td>\n",
       "      <td>South Africa</td>\n",
       "      <td>ZA</td>\n",
       "      <td>NaN</td>\n",
       "      <td>NaN</td>\n",
       "      <td>NaN</td>\n",
       "      <td>-30.56</td>\n",
       "      <td>22.94</td>\n",
       "      <td>2783</td>\n",
       "      <td>50</td>\n",
       "      <td>903</td>\n",
       "      <td>1830</td>\n",
       "      <td>2020-04-18 00:00:00+00:00</td>\n",
       "    </tr>\n",
       "    <tr>\n",
       "      <th>6</th>\n",
       "      <td>6</td>\n",
       "      <td>South Africa</td>\n",
       "      <td>ZA</td>\n",
       "      <td>NaN</td>\n",
       "      <td>NaN</td>\n",
       "      <td>NaN</td>\n",
       "      <td>-30.56</td>\n",
       "      <td>22.94</td>\n",
       "      <td>3034</td>\n",
       "      <td>52</td>\n",
       "      <td>903</td>\n",
       "      <td>2079</td>\n",
       "      <td>2020-04-19 00:00:00+00:00</td>\n",
       "    </tr>\n",
       "    <tr>\n",
       "      <th>7</th>\n",
       "      <td>7</td>\n",
       "      <td>South Africa</td>\n",
       "      <td>ZA</td>\n",
       "      <td>NaN</td>\n",
       "      <td>NaN</td>\n",
       "      <td>NaN</td>\n",
       "      <td>-30.56</td>\n",
       "      <td>22.94</td>\n",
       "      <td>3158</td>\n",
       "      <td>54</td>\n",
       "      <td>903</td>\n",
       "      <td>2201</td>\n",
       "      <td>2020-04-20 00:00:00+00:00</td>\n",
       "    </tr>\n",
       "    <tr>\n",
       "      <th>8</th>\n",
       "      <td>8</td>\n",
       "      <td>South Africa</td>\n",
       "      <td>ZA</td>\n",
       "      <td>NaN</td>\n",
       "      <td>NaN</td>\n",
       "      <td>NaN</td>\n",
       "      <td>-30.56</td>\n",
       "      <td>22.94</td>\n",
       "      <td>3300</td>\n",
       "      <td>58</td>\n",
       "      <td>1055</td>\n",
       "      <td>2187</td>\n",
       "      <td>2020-04-21 00:00:00+00:00</td>\n",
       "    </tr>\n",
       "    <tr>\n",
       "      <th>9</th>\n",
       "      <td>9</td>\n",
       "      <td>South Africa</td>\n",
       "      <td>ZA</td>\n",
       "      <td>NaN</td>\n",
       "      <td>NaN</td>\n",
       "      <td>NaN</td>\n",
       "      <td>-30.56</td>\n",
       "      <td>22.94</td>\n",
       "      <td>3465</td>\n",
       "      <td>58</td>\n",
       "      <td>1055</td>\n",
       "      <td>2352</td>\n",
       "      <td>2020-04-22 00:00:00+00:00</td>\n",
       "    </tr>\n",
       "    <tr>\n",
       "      <th>10</th>\n",
       "      <td>10</td>\n",
       "      <td>South Africa</td>\n",
       "      <td>ZA</td>\n",
       "      <td>NaN</td>\n",
       "      <td>NaN</td>\n",
       "      <td>NaN</td>\n",
       "      <td>-30.56</td>\n",
       "      <td>22.94</td>\n",
       "      <td>3635</td>\n",
       "      <td>65</td>\n",
       "      <td>1055</td>\n",
       "      <td>2515</td>\n",
       "      <td>2020-04-23 00:00:00+00:00</td>\n",
       "    </tr>\n",
       "    <tr>\n",
       "      <th>11</th>\n",
       "      <td>11</td>\n",
       "      <td>South Africa</td>\n",
       "      <td>ZA</td>\n",
       "      <td>NaN</td>\n",
       "      <td>NaN</td>\n",
       "      <td>NaN</td>\n",
       "      <td>-30.56</td>\n",
       "      <td>22.94</td>\n",
       "      <td>3953</td>\n",
       "      <td>75</td>\n",
       "      <td>1473</td>\n",
       "      <td>2405</td>\n",
       "      <td>2020-04-24 00:00:00+00:00</td>\n",
       "    </tr>\n",
       "    <tr>\n",
       "      <th>12</th>\n",
       "      <td>12</td>\n",
       "      <td>South Africa</td>\n",
       "      <td>ZA</td>\n",
       "      <td>NaN</td>\n",
       "      <td>NaN</td>\n",
       "      <td>NaN</td>\n",
       "      <td>-30.56</td>\n",
       "      <td>22.94</td>\n",
       "      <td>4220</td>\n",
       "      <td>79</td>\n",
       "      <td>1473</td>\n",
       "      <td>2668</td>\n",
       "      <td>2020-04-25 00:00:00+00:00</td>\n",
       "    </tr>\n",
       "    <tr>\n",
       "      <th>13</th>\n",
       "      <td>13</td>\n",
       "      <td>South Africa</td>\n",
       "      <td>ZA</td>\n",
       "      <td>NaN</td>\n",
       "      <td>NaN</td>\n",
       "      <td>NaN</td>\n",
       "      <td>-30.56</td>\n",
       "      <td>22.94</td>\n",
       "      <td>4361</td>\n",
       "      <td>86</td>\n",
       "      <td>1473</td>\n",
       "      <td>2802</td>\n",
       "      <td>2020-04-26 00:00:00+00:00</td>\n",
       "    </tr>\n",
       "    <tr>\n",
       "      <th>14</th>\n",
       "      <td>14</td>\n",
       "      <td>South Africa</td>\n",
       "      <td>ZA</td>\n",
       "      <td>NaN</td>\n",
       "      <td>NaN</td>\n",
       "      <td>NaN</td>\n",
       "      <td>-30.56</td>\n",
       "      <td>22.94</td>\n",
       "      <td>4546</td>\n",
       "      <td>87</td>\n",
       "      <td>1473</td>\n",
       "      <td>2986</td>\n",
       "      <td>2020-04-27 00:00:00+00:00</td>\n",
       "    </tr>\n",
       "    <tr>\n",
       "      <th>15</th>\n",
       "      <td>15</td>\n",
       "      <td>South Africa</td>\n",
       "      <td>ZA</td>\n",
       "      <td>NaN</td>\n",
       "      <td>NaN</td>\n",
       "      <td>NaN</td>\n",
       "      <td>-30.56</td>\n",
       "      <td>22.94</td>\n",
       "      <td>4793</td>\n",
       "      <td>90</td>\n",
       "      <td>1473</td>\n",
       "      <td>3230</td>\n",
       "      <td>2020-04-28 00:00:00+00:00</td>\n",
       "    </tr>\n",
       "    <tr>\n",
       "      <th>16</th>\n",
       "      <td>16</td>\n",
       "      <td>South Africa</td>\n",
       "      <td>ZA</td>\n",
       "      <td>NaN</td>\n",
       "      <td>NaN</td>\n",
       "      <td>NaN</td>\n",
       "      <td>-30.56</td>\n",
       "      <td>22.94</td>\n",
       "      <td>6783</td>\n",
       "      <td>131</td>\n",
       "      <td>2549</td>\n",
       "      <td>4103</td>\n",
       "      <td>2020-05-04 00:00:00+00:00</td>\n",
       "    </tr>\n",
       "    <tr>\n",
       "      <th>17</th>\n",
       "      <td>17</td>\n",
       "      <td>South Africa</td>\n",
       "      <td>ZA</td>\n",
       "      <td>NaN</td>\n",
       "      <td>NaN</td>\n",
       "      <td>NaN</td>\n",
       "      <td>-30.56</td>\n",
       "      <td>22.94</td>\n",
       "      <td>7220</td>\n",
       "      <td>138</td>\n",
       "      <td>2746</td>\n",
       "      <td>4336</td>\n",
       "      <td>2020-05-05 00:00:00+00:00</td>\n",
       "    </tr>\n",
       "    <tr>\n",
       "      <th>18</th>\n",
       "      <td>18</td>\n",
       "      <td>South Africa</td>\n",
       "      <td>ZA</td>\n",
       "      <td>NaN</td>\n",
       "      <td>NaN</td>\n",
       "      <td>NaN</td>\n",
       "      <td>-30.56</td>\n",
       "      <td>22.94</td>\n",
       "      <td>7572</td>\n",
       "      <td>148</td>\n",
       "      <td>2746</td>\n",
       "      <td>4678</td>\n",
       "      <td>2020-05-06 00:00:00+00:00</td>\n",
       "    </tr>\n",
       "  </tbody>\n",
       "</table>\n",
       "</div>"
      ],
      "text/plain": [
       "    Unnamed: 0       Country CountryCode  Province  City  CityCode    Lat  \\\n",
       "0            0  South Africa          ZA       NaN   NaN       NaN -30.56   \n",
       "1            1  South Africa          ZA       NaN   NaN       NaN -30.56   \n",
       "2            2  South Africa          ZA       NaN   NaN       NaN -30.56   \n",
       "3            3  South Africa          ZA       NaN   NaN       NaN -30.56   \n",
       "4            4  South Africa          ZA       NaN   NaN       NaN -30.56   \n",
       "5            5  South Africa          ZA       NaN   NaN       NaN -30.56   \n",
       "6            6  South Africa          ZA       NaN   NaN       NaN -30.56   \n",
       "7            7  South Africa          ZA       NaN   NaN       NaN -30.56   \n",
       "8            8  South Africa          ZA       NaN   NaN       NaN -30.56   \n",
       "9            9  South Africa          ZA       NaN   NaN       NaN -30.56   \n",
       "10          10  South Africa          ZA       NaN   NaN       NaN -30.56   \n",
       "11          11  South Africa          ZA       NaN   NaN       NaN -30.56   \n",
       "12          12  South Africa          ZA       NaN   NaN       NaN -30.56   \n",
       "13          13  South Africa          ZA       NaN   NaN       NaN -30.56   \n",
       "14          14  South Africa          ZA       NaN   NaN       NaN -30.56   \n",
       "15          15  South Africa          ZA       NaN   NaN       NaN -30.56   \n",
       "16          16  South Africa          ZA       NaN   NaN       NaN -30.56   \n",
       "17          17  South Africa          ZA       NaN   NaN       NaN -30.56   \n",
       "18          18  South Africa          ZA       NaN   NaN       NaN -30.56   \n",
       "\n",
       "      Lon  Confirmed  Deaths  Recovered  Active                       Date  \n",
       "0   22.94       2173      25        410    1738  2020-04-13 00:00:00+00:00  \n",
       "1   22.94       2272      27        410    1835  2020-04-14 00:00:00+00:00  \n",
       "2   22.94       2415      27        410    1978  2020-04-15 00:00:00+00:00  \n",
       "3   22.94       2506      34        410    2062  2020-04-16 00:00:00+00:00  \n",
       "4   22.94       2605      48        903    1654  2020-04-17 00:00:00+00:00  \n",
       "5   22.94       2783      50        903    1830  2020-04-18 00:00:00+00:00  \n",
       "6   22.94       3034      52        903    2079  2020-04-19 00:00:00+00:00  \n",
       "7   22.94       3158      54        903    2201  2020-04-20 00:00:00+00:00  \n",
       "8   22.94       3300      58       1055    2187  2020-04-21 00:00:00+00:00  \n",
       "9   22.94       3465      58       1055    2352  2020-04-22 00:00:00+00:00  \n",
       "10  22.94       3635      65       1055    2515  2020-04-23 00:00:00+00:00  \n",
       "11  22.94       3953      75       1473    2405  2020-04-24 00:00:00+00:00  \n",
       "12  22.94       4220      79       1473    2668  2020-04-25 00:00:00+00:00  \n",
       "13  22.94       4361      86       1473    2802  2020-04-26 00:00:00+00:00  \n",
       "14  22.94       4546      87       1473    2986  2020-04-27 00:00:00+00:00  \n",
       "15  22.94       4793      90       1473    3230  2020-04-28 00:00:00+00:00  \n",
       "16  22.94       6783     131       2549    4103  2020-05-04 00:00:00+00:00  \n",
       "17  22.94       7220     138       2746    4336  2020-05-05 00:00:00+00:00  \n",
       "18  22.94       7572     148       2746    4678  2020-05-06 00:00:00+00:00  "
      ]
     },
     "execution_count": 23,
     "metadata": {},
     "output_type": "execute_result"
    }
   ],
   "source": [
    "df1"
   ]
  },
  {
   "cell_type": "code",
   "execution_count": null,
   "metadata": {},
   "outputs": [],
   "source": []
  }
 ],
 "metadata": {
  "kernelspec": {
   "display_name": "Python 3",
   "language": "python",
   "name": "python3"
  },
  "language_info": {
   "codemirror_mode": {
    "name": "ipython",
    "version": 3
   },
   "file_extension": ".py",
   "mimetype": "text/x-python",
   "name": "python",
   "nbconvert_exporter": "python",
   "pygments_lexer": "ipython3",
   "version": "3.6.9"
  }
 },
 "nbformat": 4,
 "nbformat_minor": 4
}
