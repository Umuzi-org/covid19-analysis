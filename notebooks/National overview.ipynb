{
 "cells": [
  {
   "cell_type": "markdown",
   "metadata": {},
   "source": [
    "## 1. Importing libraries"
   ]
  },
  {
   "cell_type": "code",
   "execution_count": 1,
   "metadata": {},
   "outputs": [],
   "source": [
    "#importing required libraries\n",
    "import pandas as pd\n",
    "import numpy as np\n",
    "import seaborn as sns\n",
    "import matplotlib.pyplot as plt\n",
    "import plotly.express as px\n",
    "import plotly.graph_objects as go\n",
    "import requests\n",
    "from pandas.io.json import json_normalize"
   ]
  },
  {
   "cell_type": "markdown",
   "metadata": {},
   "source": [
    "## 2. Importing datasets"
   ]
  },
  {
   "cell_type": "code",
   "execution_count": 2,
   "metadata": {},
   "outputs": [],
   "source": [
    "#Reading in data \n",
    "## Testing data\n",
    "\n",
    "#Total tests conducted\n",
    "df4 = pd.read_csv('./../data/raw/full-list-total-tests-for-covid-19.csv')\n",
    "sa_tot=df4[df4['Entity'] == 'South Africa']\n",
    "\n",
    "#Confirmed provincial cummulative  tests         \n",
    "df5 = pd.read_csv('./../data/raw/owid-covid-data.csv', sep= ',')\n",
    "sa_cumm=df5[df5['location'] == 'South Africa']\n",
    "\n",
    "#Confirmed national cummulative confirmed positive tests         \n",
    "df6 = pd.read_csv('./../data/raw/time_series_covid19_confirmed_global.csv', sep= ',')\n",
    "sa_con=df6[df6['Country/Region'] == 'South Africa']\n",
    "\n",
    "#Confirmed national cummulative confirmed deaths         \n",
    "df7 = pd.read_csv('./../data/raw/time_series_covid19_deaths_global.csv', sep= ',')\n",
    "sa_death=df7[df7['Country/Region'] == 'South Africa']\n",
    "\n",
    "#Confirmed national cummulative confirmed revovered tests         \n",
    "df8 = pd.read_csv('./../data/raw/time_series_covid19_recovered_global.csv', sep= ',')\n",
    "sa_recovd=df8[df8['Country/Region'] == 'South Africa']\n",
    "\n",
    "#National density\n",
    "sa_dens = pd.read_csv('./../data/raw/data.csv')\n",
    "sa_dens=sa_dens[sa_dens['name'] == 'South Africa']\n",
    "\n",
    "#Number of hospital beds per province\n",
    "hosp_beds = pd.read_csv('./../data/raw/hospital_beds.csv', sep = ';')\n",
    "\n",
    "#List of hospitals in each povince\n",
    "hosp_list=pd.read_csv(\"./../data/raw/health_system_za_public_hospitals.csv\")\n",
    "\n",
    "#Government measures dataset\n",
    "excel_file = './../data/raw/acaps_covid19_government_measures_dataset.xlsx'\n",
    "df9 = pd.read_excel(excel_file, sheet_name='Database', index_col=0)\n",
    "sa_recovd=df9[df9['COUNTRY'] == 'South Africa']"
   ]
  },
  {
   "cell_type": "markdown",
   "metadata": {},
   "source": [
    "## 3.EDA"
   ]
  },
  {
   "cell_type": "code",
   "execution_count": 3,
   "metadata": {},
   "outputs": [
    {
     "ename": "KeyError",
     "evalue": "\"['Lat' 'Long' 'Province/State'] not found in axis\"",
     "output_type": "error",
     "traceback": [
      "\u001b[1;31m---------------------------------------------------------------------------\u001b[0m",
      "\u001b[1;31mKeyError\u001b[0m                                  Traceback (most recent call last)",
      "\u001b[1;32m<ipython-input-3-e9988d2d178f>\u001b[0m in \u001b[0;36m<module>\u001b[1;34m\u001b[0m\n\u001b[0;32m     20\u001b[0m \u001b[1;33m\u001b[0m\u001b[0m\n\u001b[0;32m     21\u001b[0m \u001b[1;31m#Confirmed national cummulative confirmed recovered\u001b[0m\u001b[1;33m\u001b[0m\u001b[1;33m\u001b[0m\u001b[1;33m\u001b[0m\u001b[0m\n\u001b[1;32m---> 22\u001b[1;33m \u001b[0msa_recovd\u001b[0m \u001b[1;33m=\u001b[0m \u001b[0msa_recovd\u001b[0m\u001b[1;33m.\u001b[0m\u001b[0mdrop\u001b[0m\u001b[1;33m(\u001b[0m\u001b[1;33m[\u001b[0m\u001b[1;34m'Lat'\u001b[0m\u001b[1;33m,\u001b[0m \u001b[1;34m'Long'\u001b[0m\u001b[1;33m,\u001b[0m\u001b[1;34m'Province/State'\u001b[0m\u001b[1;33m]\u001b[0m\u001b[1;33m,\u001b[0m \u001b[0maxis\u001b[0m\u001b[1;33m=\u001b[0m\u001b[1;36m1\u001b[0m\u001b[1;33m)\u001b[0m\u001b[1;33m\u001b[0m\u001b[1;33m\u001b[0m\u001b[0m\n\u001b[0m\u001b[0;32m     23\u001b[0m \u001b[1;33m\u001b[0m\u001b[0m\n\u001b[0;32m     24\u001b[0m \u001b[1;33m\u001b[0m\u001b[0m\n",
      "\u001b[1;32m~\\Anaconda3\\lib\\site-packages\\pandas\\core\\frame.py\u001b[0m in \u001b[0;36mdrop\u001b[1;34m(self, labels, axis, index, columns, level, inplace, errors)\u001b[0m\n\u001b[0;32m   3938\u001b[0m                                            \u001b[0mindex\u001b[0m\u001b[1;33m=\u001b[0m\u001b[0mindex\u001b[0m\u001b[1;33m,\u001b[0m \u001b[0mcolumns\u001b[0m\u001b[1;33m=\u001b[0m\u001b[0mcolumns\u001b[0m\u001b[1;33m,\u001b[0m\u001b[1;33m\u001b[0m\u001b[1;33m\u001b[0m\u001b[0m\n\u001b[0;32m   3939\u001b[0m                                            \u001b[0mlevel\u001b[0m\u001b[1;33m=\u001b[0m\u001b[0mlevel\u001b[0m\u001b[1;33m,\u001b[0m \u001b[0minplace\u001b[0m\u001b[1;33m=\u001b[0m\u001b[0minplace\u001b[0m\u001b[1;33m,\u001b[0m\u001b[1;33m\u001b[0m\u001b[1;33m\u001b[0m\u001b[0m\n\u001b[1;32m-> 3940\u001b[1;33m                                            errors=errors)\n\u001b[0m\u001b[0;32m   3941\u001b[0m \u001b[1;33m\u001b[0m\u001b[0m\n\u001b[0;32m   3942\u001b[0m     @rewrite_axis_style_signature('mapper', [('copy', True),\n",
      "\u001b[1;32m~\\Anaconda3\\lib\\site-packages\\pandas\\core\\generic.py\u001b[0m in \u001b[0;36mdrop\u001b[1;34m(self, labels, axis, index, columns, level, inplace, errors)\u001b[0m\n\u001b[0;32m   3778\u001b[0m         \u001b[1;32mfor\u001b[0m \u001b[0maxis\u001b[0m\u001b[1;33m,\u001b[0m \u001b[0mlabels\u001b[0m \u001b[1;32min\u001b[0m \u001b[0maxes\u001b[0m\u001b[1;33m.\u001b[0m\u001b[0mitems\u001b[0m\u001b[1;33m(\u001b[0m\u001b[1;33m)\u001b[0m\u001b[1;33m:\u001b[0m\u001b[1;33m\u001b[0m\u001b[1;33m\u001b[0m\u001b[0m\n\u001b[0;32m   3779\u001b[0m             \u001b[1;32mif\u001b[0m \u001b[0mlabels\u001b[0m \u001b[1;32mis\u001b[0m \u001b[1;32mnot\u001b[0m \u001b[1;32mNone\u001b[0m\u001b[1;33m:\u001b[0m\u001b[1;33m\u001b[0m\u001b[1;33m\u001b[0m\u001b[0m\n\u001b[1;32m-> 3780\u001b[1;33m                 \u001b[0mobj\u001b[0m \u001b[1;33m=\u001b[0m \u001b[0mobj\u001b[0m\u001b[1;33m.\u001b[0m\u001b[0m_drop_axis\u001b[0m\u001b[1;33m(\u001b[0m\u001b[0mlabels\u001b[0m\u001b[1;33m,\u001b[0m \u001b[0maxis\u001b[0m\u001b[1;33m,\u001b[0m \u001b[0mlevel\u001b[0m\u001b[1;33m=\u001b[0m\u001b[0mlevel\u001b[0m\u001b[1;33m,\u001b[0m \u001b[0merrors\u001b[0m\u001b[1;33m=\u001b[0m\u001b[0merrors\u001b[0m\u001b[1;33m)\u001b[0m\u001b[1;33m\u001b[0m\u001b[1;33m\u001b[0m\u001b[0m\n\u001b[0m\u001b[0;32m   3781\u001b[0m \u001b[1;33m\u001b[0m\u001b[0m\n\u001b[0;32m   3782\u001b[0m         \u001b[1;32mif\u001b[0m \u001b[0minplace\u001b[0m\u001b[1;33m:\u001b[0m\u001b[1;33m\u001b[0m\u001b[1;33m\u001b[0m\u001b[0m\n",
      "\u001b[1;32m~\\Anaconda3\\lib\\site-packages\\pandas\\core\\generic.py\u001b[0m in \u001b[0;36m_drop_axis\u001b[1;34m(self, labels, axis, level, errors)\u001b[0m\n\u001b[0;32m   3810\u001b[0m                 \u001b[0mnew_axis\u001b[0m \u001b[1;33m=\u001b[0m \u001b[0maxis\u001b[0m\u001b[1;33m.\u001b[0m\u001b[0mdrop\u001b[0m\u001b[1;33m(\u001b[0m\u001b[0mlabels\u001b[0m\u001b[1;33m,\u001b[0m \u001b[0mlevel\u001b[0m\u001b[1;33m=\u001b[0m\u001b[0mlevel\u001b[0m\u001b[1;33m,\u001b[0m \u001b[0merrors\u001b[0m\u001b[1;33m=\u001b[0m\u001b[0merrors\u001b[0m\u001b[1;33m)\u001b[0m\u001b[1;33m\u001b[0m\u001b[1;33m\u001b[0m\u001b[0m\n\u001b[0;32m   3811\u001b[0m             \u001b[1;32melse\u001b[0m\u001b[1;33m:\u001b[0m\u001b[1;33m\u001b[0m\u001b[1;33m\u001b[0m\u001b[0m\n\u001b[1;32m-> 3812\u001b[1;33m                 \u001b[0mnew_axis\u001b[0m \u001b[1;33m=\u001b[0m \u001b[0maxis\u001b[0m\u001b[1;33m.\u001b[0m\u001b[0mdrop\u001b[0m\u001b[1;33m(\u001b[0m\u001b[0mlabels\u001b[0m\u001b[1;33m,\u001b[0m \u001b[0merrors\u001b[0m\u001b[1;33m=\u001b[0m\u001b[0merrors\u001b[0m\u001b[1;33m)\u001b[0m\u001b[1;33m\u001b[0m\u001b[1;33m\u001b[0m\u001b[0m\n\u001b[0m\u001b[0;32m   3813\u001b[0m             \u001b[0mresult\u001b[0m \u001b[1;33m=\u001b[0m \u001b[0mself\u001b[0m\u001b[1;33m.\u001b[0m\u001b[0mreindex\u001b[0m\u001b[1;33m(\u001b[0m\u001b[1;33m**\u001b[0m\u001b[1;33m{\u001b[0m\u001b[0maxis_name\u001b[0m\u001b[1;33m:\u001b[0m \u001b[0mnew_axis\u001b[0m\u001b[1;33m}\u001b[0m\u001b[1;33m)\u001b[0m\u001b[1;33m\u001b[0m\u001b[1;33m\u001b[0m\u001b[0m\n\u001b[0;32m   3814\u001b[0m \u001b[1;33m\u001b[0m\u001b[0m\n",
      "\u001b[1;32m~\\Anaconda3\\lib\\site-packages\\pandas\\core\\indexes\\base.py\u001b[0m in \u001b[0;36mdrop\u001b[1;34m(self, labels, errors)\u001b[0m\n\u001b[0;32m   4963\u001b[0m             \u001b[1;32mif\u001b[0m \u001b[0merrors\u001b[0m \u001b[1;33m!=\u001b[0m \u001b[1;34m'ignore'\u001b[0m\u001b[1;33m:\u001b[0m\u001b[1;33m\u001b[0m\u001b[1;33m\u001b[0m\u001b[0m\n\u001b[0;32m   4964\u001b[0m                 raise KeyError(\n\u001b[1;32m-> 4965\u001b[1;33m                     '{} not found in axis'.format(labels[mask]))\n\u001b[0m\u001b[0;32m   4966\u001b[0m             \u001b[0mindexer\u001b[0m \u001b[1;33m=\u001b[0m \u001b[0mindexer\u001b[0m\u001b[1;33m[\u001b[0m\u001b[1;33m~\u001b[0m\u001b[0mmask\u001b[0m\u001b[1;33m]\u001b[0m\u001b[1;33m\u001b[0m\u001b[1;33m\u001b[0m\u001b[0m\n\u001b[0;32m   4967\u001b[0m         \u001b[1;32mreturn\u001b[0m \u001b[0mself\u001b[0m\u001b[1;33m.\u001b[0m\u001b[0mdelete\u001b[0m\u001b[1;33m(\u001b[0m\u001b[0mindexer\u001b[0m\u001b[1;33m)\u001b[0m\u001b[1;33m\u001b[0m\u001b[1;33m\u001b[0m\u001b[0m\n",
      "\u001b[1;31mKeyError\u001b[0m: \"['Lat' 'Long' 'Province/State'] not found in axis\""
     ]
    }
   ],
   "source": [
    "#Dropping unwanted columns\n",
    "\n",
    "#Confirmed national cummulative tests conducted\n",
    "sa_tot = sa_tot.drop(['Code'], axis=1)\n",
    "\n",
    "#Confirmed national cummulative tests conducted\n",
    "sa_dens = sa_dens.drop(['rank'], axis=1)\n",
    "\n",
    "#List of hospitals\n",
    "hosp_list = hosp_list.drop(['ID','Lat', 'Long','district','district_estimated_population','subdistrict', 'service_offered_by_hospital', 'size_hospital','number_of_beds','number_of_practitioners','webpage','geo_subdivision'], axis=1)\n",
    "\n",
    "#Confirmed national cummulative tests conducted\n",
    "sa_cumm = sa_cumm.drop(['iso_code'], axis=1)\n",
    "\n",
    "#Confirmed national cummulative confirmed positive tests \n",
    "sa_con = sa_con.drop(['Lat', 'Long','Province/State'], axis=1)\n",
    "\n",
    "#Confirmed national cummulative confirmed deaths \n",
    "sa_death = sa_death.drop(['Lat', 'Long','Province/State'], axis=1)\n",
    "\n",
    "#Confirmed national cummulative confirmed recovered\n",
    "sa_recovd = sa_recovd.drop(['Lat', 'Long','Province/State'], axis=1)\n",
    "\n",
    "\n",
    "# Extracting relevant columns\n",
    "sa_cumm= sa_cumm[['date','new_cases','new_deaths']]"
   ]
  },
  {
   "cell_type": "code",
   "execution_count": null,
   "metadata": {},
   "outputs": [],
   "source": [
    "#Cleaning up columns\n",
    "\n",
    "#Creating date column for sa_con dataframe\n",
    "dfc1 = sa_con.melt(id_vars=[\"Country/Region\"], \n",
    "                    var_name=\"Date\",\n",
    "                    value_name=\"cases\")\n",
    "dfc1 = dfc1.rename({'Country/Region': 'country', 'Date': 'date'}, axis=1)\n",
    "sa_con = dfc1\n",
    "sa_con['date'] = pd.to_datetime(sa_con['date'])\n",
    "\n",
    "#Creating date column for sa_death dataframe\n",
    "dfc2 = sa_death.melt(id_vars=[\"Country/Region\"], \n",
    "                    var_name=\"Date\",\n",
    "                    value_name=\"cases\")\n",
    "dfc2 = dfc2.rename({'Country/Region': 'country', 'Date': 'date'}, axis=1)\n",
    "sa_death = dfc2\n",
    "sa_death['date'] = pd.to_datetime(sa_death['date'])\n",
    "\n",
    "#Creating date column for sa_recovd dataframe\n",
    "dfc3 = sa_recovd.melt(id_vars=[\"Country/Region\"], \n",
    "                    var_name=\"Date\",\n",
    "                    value_name=\"cases\")\n",
    "dfc3 = dfc3.rename({'Country/Region': 'country', 'Date': 'date'}, axis=1)\n",
    "sa_recovd = dfc3\n",
    "\n",
    "#converting to datetime\n",
    "sa_recovd['date'] = pd.to_datetime(sa_recovd['date'])\n",
    "sa_cumm['date'] = pd.to_datetime(sa_cumm['date'])\n",
    "sa_tot['Date'] = pd.to_datetime(sa_tot['Date'])\n",
    "\n",
    "\n",
    "#converting all nan values to 0\n",
    "sa_cumm = sa_cumm.fillna(0)\n",
    "sa_tot = sa_tot.fillna(0)"
   ]
  },
  {
   "cell_type": "code",
   "execution_count": null,
   "metadata": {},
   "outputs": [],
   "source": [
    "#Renaming testing columns \n",
    "\n",
    "sa_tot.rename(columns={'Total tests':' Total_cases'}, inplace=True)\n",
    "sa_con.rename(columns={'cases':'confirmed_cases'}, inplace=True)\n",
    "sa_death.rename(columns={'cases':'death_cases'}, inplace=True)\n",
    "sa_recovd.rename(columns={'cases':'recovered_cases'}, inplace=True)"
   ]
  },
  {
   "cell_type": "code",
   "execution_count": null,
   "metadata": {},
   "outputs": [],
   "source": [
    "#Merging South Africa's confirmed, death, recovered cases and new cases for each\n",
    "\n",
    "sa_testing=pd.merge(sa_con, sa_death, how='left')\n",
    "sa_testing=pd.merge(sa_testing, sa_recovd, how='left')\n",
    "sa_testing=pd.merge(sa_testing, sa_cumm, how='left')\n",
    "sa_testing=pd.merge(sa_testing, sa_tot, how='left')\n",
    "\n",
    "# Removing nans in dataframe\n",
    "sa_testing= sa_testing.fillna(0)"
   ]
  },
  {
   "cell_type": "code",
   "execution_count": null,
   "metadata": {},
   "outputs": [],
   "source": [
    "#Dropping days whereby they have 0 confirmed cases\n",
    "sa_testing = sa_testing[sa_testing.confirmed_cases != 0]"
   ]
  },
  {
   "cell_type": "code",
   "execution_count": null,
   "metadata": {},
   "outputs": [],
   "source": [
    "#resetting index\n",
    "sa_testing = sa_testing.reset_index(drop=True)"
   ]
  },
  {
   "cell_type": "markdown",
   "metadata": {},
   "source": [
    "##  4.  Statistical analysis\n",
    "\n",
    "### 4.1 Testing dataset"
   ]
  },
  {
   "cell_type": "code",
   "execution_count": null,
   "metadata": {},
   "outputs": [],
   "source": [
    "#Looking closely into the national testing dataframe\n",
    "\n",
    "# display of latest figures\n",
    "totl_test = sa_testing['Total_cases'].iloc[-1]\n",
    "totl_con = sa_testing['confirmed_cases'].iloc[-1]\n",
    "totl_death = sa_testing['death_cases'].iloc[-1]\n",
    "totl_recovd = sa_testing['recovered_cases'].iloc[-1]\n",
    "new_case = sa_testing['new_cases'].iloc[-1]\n",
    "new_deaths = sa_testing['new_deaths'].iloc[-1]\n",
    "date = sa_testing['date'].iloc[-1]\n",
    "\n",
    "print('Date:{} TOTAL TESTED:{} TOTAL CASES:{} TOTAL DEATH:{} TOTAL RECOVERED:{} NEW CASES:{}' .format(date,totl_test,totl_con,totl_death,totl_recovd,new_case), sep='nl')\n"
   ]
  },
  {
   "cell_type": "code",
   "execution_count": null,
   "metadata": {},
   "outputs": [],
   "source": [
    "#Moving averages for total tests cases\n",
    "sa_testing['testing_MA'] = sa_testing.Total_cases.rolling(3).mean()\n",
    "\n",
    "#Moving averages for confirmed cases\n",
    "sa_testing['confirmed_MA'] = sa_testing.confirmed_cases.rolling(3).mean()\n",
    "\n",
    "#Moving averages for death cases\n",
    "sa_testing['death_MA'] = sa_testing.death_cases.rolling(3).mean()\n",
    "\n",
    "#Moving averages for recovered cases\n",
    "sa_testing['recoverd_MA'] = sa_testing.recovered_cases.rolling(3).mean()\n",
    "\n",
    "# Removing nans in dataframe\n",
    "sa_testing= sa_testing.fillna(0)\n",
    "sa_testing.head()"
   ]
  },
  {
   "cell_type": "code",
   "execution_count": null,
   "metadata": {},
   "outputs": [],
   "source": [
    "#Rate calculating confirmed cases\n",
    "sa_testing['positive_rate'] = sa_testing['confirmed_cases'] / sa_testing['Total_cases']\n",
    "\n",
    "ax = sa_testing.plot(y='confirmed_cases', grid=True, figsize=(12, 6), marker='o', title='Positive case Rate within South Africa')\n",
    "plt.gca().set_yticklabels(['{:.1f}%'.format(x*100) for x in plt.gca().get_yticks()]) \n",
    "plt.show()\n",
    "\n",
    "#Rate calculating death cases\n",
    "sa_testing['mortality_rate'] = sa_testing['death_cases'] / sa_testing['Total_cases']\n",
    "\n",
    "ax = sa_testing.plot(y='death_cases', grid=True, figsize=(12, 6), marker='o', title='Mortality Rate within South Africa')\n",
    "plt.gca().set_yticklabels(['{:.1f}%'.format(x*100) for x in plt.gca().get_yticks()]) \n",
    "plt.show()\n",
    "\n",
    "#Rate calculating recovered cases\n",
    "sa_testing['recovery_rate'] = sa_testing['recovered_cases'] / sa_testing['Total_cases']\n",
    "\n",
    "ax = sa_testing.plot(y='recovered_cases', grid=True, figsize=(12, 6), marker='o', title='Recovery Rate within South Africa')\n",
    "plt.gca().set_yticklabels(['{:.1f}%'.format(x*100) for x in plt.gca().get_yticks()]) \n",
    "plt.show()"
   ]
  },
  {
   "cell_type": "code",
   "execution_count": null,
   "metadata": {},
   "outputs": [],
   "source": [
    "#Confirmed cases\n",
    "fig = go.Figure(data=go.Scatter(x=sa_testing['date'],\n",
    "                                y=sa_testing['confirmed_MA'],\n",
    "                                mode='markers',\n",
    "                                marker_color=sa_testing['confirmed_MA'],\n",
    "                                text=sa_testing['country'])) # hover text goes here\n",
    "\n",
    "fig.update_layout(title_text=\"National confirmed cases\",\n",
    "                 xaxis_title=\"Days\",\n",
    "                 yaxis_title=\"Number of cases\",\n",
    "                 )\n",
    "fig.show()"
   ]
  },
  {
   "cell_type": "code",
   "execution_count": null,
   "metadata": {},
   "outputs": [],
   "source": [
    "#Confirmed cases\n",
    "fig = go.Figure(data=go.Scatter(x=sa_testing['date'],\n",
    "                                y=sa_testing['death_MA'],\n",
    "                                mode='markers',\n",
    "                                marker_color=sa_testing['death_MA'],\n",
    "                                text=sa_testing['country'])) # hover text goes here\n",
    "\n",
    "fig.update_layout(title_text=\"National death cases\",\n",
    "                 xaxis_title=\"Days\",\n",
    "                 yaxis_title=\"Number of cases\",\n",
    "                 )\n",
    "fig.show()"
   ]
  },
  {
   "cell_type": "code",
   "execution_count": null,
   "metadata": {},
   "outputs": [],
   "source": [
    "#Confirmed cases\n",
    "fig = go.Figure(data=go.Scatter(x=sa_testing['date'],\n",
    "                                y=sa_testing['recoverd_MA'],\n",
    "                                mode='markers',\n",
    "                                marker_color=sa_testing['recoverd_MA'],\n",
    "                                text=sa_testing['country'])) # hover text goes here\n",
    "\n",
    "fig.update_layout(title_text=\"National recovered cases\",\n",
    "                 xaxis_title=\"Days\",\n",
    "                 yaxis_title=\"Number of cases\",\n",
    "                 )\n",
    "fig.show()"
   ]
  },
  {
   "cell_type": "code",
   "execution_count": null,
   "metadata": {},
   "outputs": [],
   "source": [
    "#Looking closely into the national hospital dataframe\n",
    "\n",
    "data = px.data.gapminder()\n",
    "\n",
    "fig = px.bar(hosp_beds, x='Province', y='Total no of beds',\n",
    "             hover_data=['No of public hospitals', 'No of private hospitals'],\n",
    "             labels={'Number of hospital beds nationally'}, height=400)\n",
    "fig.show()"
   ]
  },
  {
   "cell_type": "code",
   "execution_count": null,
   "metadata": {},
   "outputs": [],
   "source": [
    "#Looking closely into the national density dataframe\n",
    "\n",
    "# display of latest figures\n",
    "density = sa_dens['density'].iloc[-1]\n",
    "dens_mi = sa_dens['densityMi'].iloc[-1]\n",
    "pop_2020 = sa_dens['pop2020'].iloc[-1]\n",
    "area = sa_dens['area'].iloc[-1]\n",
    "\n",
    "print('Population density:{} Population:{} Area(km2):{} ' .format(density,pop_2020,area), sep='nl')\n"
   ]
  }
 ],
 "metadata": {
  "kernelspec": {
   "display_name": "Python 3",
   "language": "python",
   "name": "python3"
  },
  "language_info": {
   "codemirror_mode": {
    "name": "ipython",
    "version": 3
   },
   "file_extension": ".py",
   "mimetype": "text/x-python",
   "name": "python",
   "nbconvert_exporter": "python",
   "pygments_lexer": "ipython3",
   "version": "3.7.3"
  }
 },
 "nbformat": 4,
 "nbformat_minor": 4
}
