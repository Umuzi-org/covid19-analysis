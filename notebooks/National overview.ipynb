{
 "cells": [
  {
   "cell_type": "markdown",
   "metadata": {},
   "source": [
    "## 1. Importing libraries"
   ]
  },
  {
   "cell_type": "code",
   "execution_count": 15,
   "metadata": {},
   "outputs": [],
   "source": [
    "#importing required libraries\n",
    "import pandas as pd\n",
    "import numpy as np\n",
    "import seaborn as sns\n",
    "import matplotlib.pyplot as plt\n"
   ]
  },
  {
   "cell_type": "markdown",
   "metadata": {},
   "source": [
    "## 2. Importing datasets"
   ]
  },
  {
   "cell_type": "code",
   "execution_count": 16,
   "metadata": {},
   "outputs": [],
   "source": [
    "#Reading in data \n",
    "## Testing data\n",
    "\n",
    "#Confirmed provincial cummulative  tests         \n",
    "df5 = pd.read_csv('./../data/raw/owid-covid-data.csv', sep= ',')\n",
    "sa_cumm=df5[df5['location'] == 'South Africa']\n",
    "\n",
    "#Confirmed national cummulative confirmed positive tests         \n",
    "df6 = pd.read_csv('./../data/raw/time_series_covid19_confirmed_global.csv', sep= ',')\n",
    "sa_con=df6[df6['Country/Region'] == 'South Africa']\n",
    "\n",
    "#Confirmed national cummulative confirmed deaths         \n",
    "df7 = pd.read_csv('./../data/raw/time_series_covid19_deaths_global.csv', sep= ',')\n",
    "sa_death=df7[df7['Country/Region'] == 'South Africa']\n",
    "\n",
    "#Confirmed national cummulative confirmed revovered tests         \n",
    "df8 = pd.read_csv('./../data/raw/time_series_covid19_recovered_global.csv', sep= ',')\n",
    "sa_recovd=df8[df8['Country/Region'] == 'South Africa']\n",
    "\n",
    "\n",
    "## Hospital data\n",
    "\n",
    "#Number of hospital beds per province\n",
    "hosp_beds = pd.read_csv('./../data/raw/hospital_beds.csv')\n",
    "\n",
    "#List of hospitals in each povince\n",
    "url=\"https://raw.githubusercontent.com/dsfsi/covid19za/master/data/health_system_za_public_hospitals.csv\"\n",
    "hosp_list=pd.read_csv(url)"
   ]
  },
  {
   "cell_type": "markdown",
   "metadata": {},
   "source": [
    "## 3.EDA"
   ]
  },
  {
   "cell_type": "code",
   "execution_count": 17,
   "metadata": {},
   "outputs": [],
   "source": [
    "#Dropping unwanted columns\n",
    "\n",
    "#List of hospitals\n",
    "hosp_list = hosp_list.drop(['ID','Lat', 'Long','district','district_estimated_population','subdistrict', 'service_offered_by_hospital', 'size_hospital','number_of_beds','number_of_practitioners','webpage','geo_subdivision'], axis=1)\n",
    "\n",
    "#Confirmed national cummulative tests conducted\n",
    "sa_cumm = sa_cumm.drop(['iso_code'], axis=1)\n",
    "\n",
    "#Confirmed national cummulative confirmed positive tests \n",
    "sa_con = sa_con.drop(['Lat', 'Long','Province/State'], axis=1)\n",
    "\n",
    "#Confirmed national cummulative confirmed deaths \n",
    "sa_death = sa_death.drop(['Lat', 'Long','Province/State'], axis=1)\n",
    "\n",
    "#Confirmed national cummulative confirmed recovered\n",
    "sa_recovd = sa_recovd.drop(['Lat', 'Long','Province/State'], axis=1)"
   ]
  },
  {
   "cell_type": "code",
   "execution_count": 18,
   "metadata": {},
   "outputs": [],
   "source": [
    "#Cleaning up columns\n",
    "\n",
    "#Creating date column for sa_con dataframe\n",
    "dfc1 = sa_con.melt(id_vars=[\"Country/Region\"], \n",
    "                    var_name=\"Date\",\n",
    "                    value_name=\"cases\")\n",
    "dfc1 = dfc1.rename({'Country/Region': 'country', 'Date': 'date'}, axis=1)\n",
    "sa_con = dfc1\n",
    "sa_con['date'] = pd.to_datetime(sa_con['date'])\n",
    "\n",
    "#Creating date column for sa_death dataframe\n",
    "dfc2 = sa_death.melt(id_vars=[\"Country/Region\"], \n",
    "                    var_name=\"Date\",\n",
    "                    value_name=\"cases\")\n",
    "dfc2 = dfc2.rename({'Country/Region': 'country', 'Date': 'date'}, axis=1)\n",
    "sa_death = dfc2\n",
    "sa_death['date'] = pd.to_datetime(sa_death['date'])\n",
    "\n",
    "#Creating date column for sa_recovd dataframe\n",
    "dfc3 = sa_recovd.melt(id_vars=[\"Country/Region\"], \n",
    "                    var_name=\"Date\",\n",
    "                    value_name=\"cases\")\n",
    "dfc3 = dfc3.rename({'Country/Region': 'country', 'Date': 'date'}, axis=1)\n",
    "sa_recovd = dfc3\n",
    "sa_recovd['date'] = pd.to_datetime(sa_recovd['date'])\n"
   ]
  },
  {
   "cell_type": "code",
   "execution_count": 19,
   "metadata": {},
   "outputs": [],
   "source": [
    "#Renaming testing columns \n",
    "\n",
    "sa_con.rename(columns={'cases':'confirmed_cases'}, inplace=True)\n",
    "sa_death.rename(columns={'cases':'death_cases'}, inplace=True)\n",
    "sa_recovd.rename(columns={'cases':'recovered_cases'}, inplace=True)"
   ]
  },
  {
   "cell_type": "code",
   "execution_count": 20,
   "metadata": {},
   "outputs": [
    {
     "data": {
      "text/html": [
       "<div>\n",
       "<style scoped>\n",
       "    .dataframe tbody tr th:only-of-type {\n",
       "        vertical-align: middle;\n",
       "    }\n",
       "\n",
       "    .dataframe tbody tr th {\n",
       "        vertical-align: top;\n",
       "    }\n",
       "\n",
       "    .dataframe thead th {\n",
       "        text-align: right;\n",
       "    }\n",
       "</style>\n",
       "<table border=\"1\" class=\"dataframe\">\n",
       "  <thead>\n",
       "    <tr style=\"text-align: right;\">\n",
       "      <th></th>\n",
       "      <th>country</th>\n",
       "      <th>date</th>\n",
       "      <th>confirmed_cases</th>\n",
       "      <th>death_cases</th>\n",
       "      <th>recovered_cases</th>\n",
       "    </tr>\n",
       "  </thead>\n",
       "  <tbody>\n",
       "    <tr>\n",
       "      <th>0</th>\n",
       "      <td>South Africa</td>\n",
       "      <td>2020-01-22</td>\n",
       "      <td>0</td>\n",
       "      <td>0</td>\n",
       "      <td>0</td>\n",
       "    </tr>\n",
       "  </tbody>\n",
       "</table>\n",
       "</div>"
      ],
      "text/plain": [
       "        country       date  confirmed_cases  death_cases  recovered_cases\n",
       "0  South Africa 2020-01-22                0            0                0"
      ]
     },
     "execution_count": 20,
     "metadata": {},
     "output_type": "execute_result"
    }
   ],
   "source": [
    "#Merging South Africa's confirmed, death and recovered cases\n",
    "\n",
    "sa_testing=pd.merge(sa_con, sa_death, how='left')\n",
    "sa_testing=pd.merge(sa_testing, sa_recovd, how='left')\n",
    "sa_testing.head(1)"
   ]
  },
  {
   "cell_type": "markdown",
   "metadata": {},
   "source": [
    "##  4.  Statistical analysis\n",
    "\n",
    "### 4.1 Testing dataset"
   ]
  },
  {
   "cell_type": "code",
   "execution_count": 21,
   "metadata": {},
   "outputs": [
    {
     "name": "stdout",
     "output_type": "stream",
     "text": [
      "Date:2020-05-11 Total Cases:10015 Fatalities:595\n"
     ]
    }
   ],
   "source": [
    "#Looking closely into the Confirmed provincial cummulative dataset\n",
    "\n",
    "# display of latest figures\n",
    "totl_cases = sa_cumm['total_cases'].iloc[-1]\n",
    "tot_deaths = sa_cumm['new_cases'].iloc[-1]\n",
    "date = sa_cumm['date'].iloc[-1]\n",
    "\n",
    "print('Date:{} Total Cases:{} Fatalities:{}' .format(date,totl_cases,tot_deaths), sep='nl')\n",
    "\n",
    "\n",
    "#Display of the cummulative results\n"
   ]
  }
 ],
 "metadata": {
  "kernelspec": {
   "display_name": "Python 3",
   "language": "python",
   "name": "python3"
  },
  "language_info": {
   "codemirror_mode": {
    "name": "ipython",
    "version": 3
   },
   "file_extension": ".py",
   "mimetype": "text/x-python",
   "name": "python",
   "nbconvert_exporter": "python",
   "pygments_lexer": "ipython3",
   "version": "3.7.3"
  }
 },
 "nbformat": 4,
 "nbformat_minor": 4
}
